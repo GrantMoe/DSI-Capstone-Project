{
 "cells": [
  {
   "cell_type": "markdown",
   "id": "00b57a7d-0f35-4525-9536-de25fe314d16",
   "metadata": {
    "tags": []
   },
   "source": [
    "# DSI-830 Capstone Project : Autonomous Racer\n",
    "---\n",
    "Grant Moe"
   ]
  },
  {
   "cell_type": "markdown",
   "id": "8f3b9cd4-0e2e-40b2-a165-a7ff5dd3a897",
   "metadata": {},
   "source": [
    "## Project Parts\n",
    "Per the [course capstone project repository](https://git.generalassemb.ly/DSIR-830/capstone)"
   ]
  },
  {
   "cell_type": "markdown",
   "id": "c034c00d-282c-4dc8-8e92-19cdc504efa8",
   "metadata": {
    "jp-MarkdownHeadingCollapsed": true,
    "tags": []
   },
   "source": [
    "### 1: Topic Proposals\n",
    "\n",
    "Background: I started this course in part to learn the mechanics of self-driving car autonomy. I enjoyed the topic and building my cars, but when it came to programming I felt somewhat out of depth. As I looked into the subject I realized that I could benefit from a solid foundation in a data science and machine learning. Thus, when I was granted the freedom to choose my own topic for my capstone project, this is where I went.\n",
    "\n",
    "The first check-in took the form of a 3-5 minute lightning talk, in which I was to outline three ideas for my capstone. The three I chose were:\n",
    "1. Self-Driving Car (\"Real\")\n",
    "1. Self-Driving Car (Simulated)\n",
    "1. NHTSA Traffic Safety vs. State Policy\n",
    "\n",
    "\\#3 what not something I was particularly excited about, but I used it as a backup of sorts if the first two ideas were rejected. As it was, the course instructors were enthused about both \\#1 and \\#2, though they correctly pointed out that \\#1 would have been \"very very difficult\" given the time constraints of the course.\n",
    "\n",
    "As such, I decided to go with \\#2."
   ]
  },
  {
   "cell_type": "markdown",
   "id": "4f8ac5f6-c547-4d81-8b50-374b684565b6",
   "metadata": {
    "tags": []
   },
   "source": [
    "### 2: Problem Statement + Data\n",
    "\n",
    "* [X] Identify which of the three proposals you outlined in your lightning talk you have chosen  \n",
    "\n",
    "  I have chosen the simulated self-driving car project\n",
    " \n",
    "* [ ] Articulate the main goal of your project (your problem statement)  \n",
    "\n",
    "  I am not sure how \"in character\" the problem statement should be.\n",
    "  \n",
    "  The goal of my project is to construct at least one machine learning model capable of driving a simulated race car around a track autonomously.\n",
    "  \n",
    "* [X] Outline proposed methods and models  \n",
    "\n",
    "  1. Write a Python client to interact with a OpenAI gym environment.\n",
    "  1. Manually drive around the simulated track while recording camera data and control inputs\n",
    "  1. Create and tune Keras neural network models using recorded data\n",
    "  1. Stream camera data to those models to make real-time predictions for control inputs\n",
    "  1. Iterate on the above, evaluate, refleact on the above  \n",
    "    \n",
    "* [X] Define the risks & assumptions of your data\n",
    "\n",
    "  There is not much risk outside that of total failure or uninteresting output. I had previously written the Python client to interact with the gym environemnt for manual driving, and just needed to adapt it to collecting data in Pandas-friendly .CSV format, and to drive autonomously.\n",
    "  \n",
    "* [X] Revise initial goals & success criteria as needed\n",
    "\n",
    "* [ ] Document your data source\n",
    "\n",
    "* [ ] Perform & summarizes preliminary EDA of your data\n",
    "\n",
    "  Link to lap times, sensor data, perhaps\n"
   ]
  },
  {
   "cell_type": "markdown",
   "id": "91366038-7b50-48d4-9268-7c25ba33ee17",
   "metadata": {},
   "source": [
    "---"
   ]
  },
  {
   "cell_type": "markdown",
   "id": "09411c1e-601c-4a0b-ae4b-64a4dd1e4c1d",
   "metadata": {},
   "source": [
    "### 3: Progress Report + Preliminary Findings\n",
    "\n",
    " This was a Google Form check-in."
   ]
  },
  {
   "cell_type": "markdown",
   "id": "fc23c802-d573-4014-90bd-5fe7504fb18e",
   "metadata": {},
   "source": [
    "---"
   ]
  },
  {
   "cell_type": "markdown",
   "id": "8175b10c-cf01-404b-92d5-e9c70b207a3a",
   "metadata": {
    "tags": []
   },
   "source": [
    "### 4: Report Writeup + Technical Analysis\n",
    "\n",
    "#### 1. An executive summary:\n",
    "\n",
    "- [ ] What is your goal?\n",
    "\n",
    "> Use machine learning techniques to teach a simulated car how to race around a simulated track as quickly as possible\n",
    "\n",
    "- [ ] Where did you get your data?\n",
    "\n",
    "> Data was collected from an OpenAI gym wrapper created by Tawn Kramer\n",
    "\n",
    "[OpenAI Gym Environments for Donkey Car](https://github.com/tawnkramer/gym-donkeycar)  \n",
    "[Self Driving Car Sandbox](https://github.com/tawnkramer/sdsandbox)\n",
    "\n",
    "- [ ] What are your metrics?\n",
    "\n",
    "> Completion of \n",
    "> Laps without crashing\n",
    "> Lap time\n",
    "\n",
    "- [ ] What were your findings?\n",
    "\n",
    "> It's difficult thus far\n",
    "\n",
    "- [ ] What risks/limitations/assumptions affect these findings?\n",
    "\n",
    "> So much of the training depends on the training data, it's difficult to know if challenges that arise are doing so because of the model or because of the training data.\n",
    "\n",
    "---\n",
    "#### 2. Summarize your statistical analysis, including:\n",
    "\n",
    "- [ ] Implementation\n",
    "\n",
    "> CNN goes here. Originally built my own with a bunch of CNN into dense based on keras tuner. Turning to implementing the IMU data moved me away from keras tuner (or any tuning), to detriment.\n",
    "\n",
    "- [ ] Evaluation\n",
    "\n",
    "> Letting the car go at it.\n",
    "\n",
    "- [ ] Inference\n",
    "\n",
    "> Thus far, the basic linear structure seems to be sensitive to batch size; there's a sweet spot. Also, thus far, the performance seems to be better when the steering and throttle are predicted as one, instead of the separate predicting of both. This is because the handling of the car varies so much depending on speed.\n",
    "\n",
    "> Given the size of the course, with long straightaways, it seems to favor wide open throtte, to the detriment of turns.\n",
    "\n",
    "---\n",
    "#### 3. Clearly document and label each section of your notebook(s)\n",
    "\n",
    "- [ ] Logically organize your information in a persuasive, informative manner.\n",
    "\n",
    "> in progress\n",
    "\n",
    "- [ ] Include notebook headers and subheaders, as well as clearly formatted markdown for all written components.\n",
    "\n",
    "> in progress\n",
    "\n",
    "- [ ] Include graphs/plots/visualizations with clear labels.\n",
    "\n",
    "> Lap time histograms\n",
    "> Training metrics plots\n",
    "> Throttle output plot\n",
    "> Steering plot (-1 +1 horizontal vs time? per lap? average lap?)\n",
    "> Trajectory? Record position, graph somehow?\n",
    "\n",
    "- [ ] Comment and explain the purpose of each major section/subsection of your code.\n",
    "\n",
    "> in progress\n",
    "\n",
    "- [ ] Document your code for your future self, as if another person needed to replicate your approach.\n",
    "\n",
    "> in progress I guess.\n",
    "\n",
    "---\n",
    "#### 4. Clearly document all of your decision points in the relevant sections\n",
    "\n",
    "- [ ] How did you acquire your data?\n",
    "\n",
    "> I acquired my data by driving the car around the track under manual control. To do so I wrote a custom Python script to take input from an XBox controller, then send the commands to the sim, and to take back camera and telemetry data, bundle it up and save it.\n",
    "\n",
    "> First data was X records of 32x32.\n",
    "> Second set was Y records of 64x64\n",
    "> Third set was Z records of 120x160\n",
    "\n",
    "> Thus far, and perhaps unsurprisingly, the second is better. It also took two hours to record.\n",
    "\n",
    "- [ ] How did you transform or engineer your data? Why?\n",
    "\n",
    "> Took only the gray channel, not color, for reason of complexity. Scaled the IMU data because the accelometer, gyroscop, velocity, were all at massively different scales. Tried both minmax and standard scaler.\n",
    "\n",
    "- [ ] How did you select your model?\n",
    "\n",
    "> Knew the general form: CNN for image data, dense output, probably some hidden dense layers in between.\n",
    "\n",
    "- [ ] How did you optimize hyperparameters?\n",
    "\n",
    "> KerasTuner to begin with\n",
    "> Batch size by hand (loop, recording).\n",
    "\n",
    "#### 5. Host your notebook and any other materials in your own public Github Repository.\n",
    "\n",
    "- [ ] Your repo should have README file that guides us through the repository and links to important files.\n",
    "\n",
    "> TODO\n",
    "\n",
    "- [ ] Include links and explanations to any outside libraries or source code used.\n",
    "\n",
    "> TODO\n",
    "\n",
    "- [ ] Host a copy of your dataset or include a link to a remotely hosted version.\n",
    "\n",
    "> TODO"
   ]
  },
  {
   "cell_type": "markdown",
   "id": "935e53aa-7301-4b08-86c3-32e50cbf142b",
   "metadata": {},
   "source": [
    "---"
   ]
  },
  {
   "cell_type": "markdown",
   "id": "1b461b43-9320-4b3f-bf6f-07a7d67ec741",
   "metadata": {},
   "source": [
    "### 5: Presentation + Recommendations"
   ]
  },
  {
   "cell_type": "markdown",
   "id": "b3ebc55c-b0c4-48fa-b7ba-fbc3ede18cc5",
   "metadata": {},
   "source": [
    "> SLIDES"
   ]
  },
  {
   "cell_type": "markdown",
   "id": "fa008a33-6a28-414c-89b8-800f4cd04455",
   "metadata": {},
   "source": [
    "# Part 5\n",
    "\n",
    "## Congratulations!\n",
    "\n",
    "Welcome to the final day and final submission! It has been a long road and a challenging 3 months, but welcome to your final stop: the presentation!\n",
    "\n",
    "## Deliverable\n",
    "\n",
    "You will present your project and findings in a _15-minute presentation!_ You should expect the members of your audience to be non-technical in nature (or the audience identified as your stakeholders). Your presentation should provide a summary of your problem, your approach to modeling that problem, and your ultimate findings and recommendations. \n",
    "\n",
    "## Things to Keep in Mind\n",
    "\n",
    "- Make sure your presentation fits within the allotted time!  Check with your local instructor for exactly how much time you have.\n",
    "- Your presentation should focus on summarizing your problem statement, your approach, your findings, and how it might be used in the future.\n",
    "- You will not be able to present every facet of your work, so please do not try to do that! Instead, try and identify the most salient points of your project and show those off instead.\n",
    "- Particularly when presenting to a non-technical audience, remember that what and why can be much more interesting than how:\n",
    "  - What are you trying to predict?\n",
    "  - Why are you doing it?  Who cares?\n",
    "  - What are some predictions your model has made?  Where they any good?\n",
    "  - What will you use it for in the future?  Are there limitations or risks?\n",
    "  - Do not use technical terms unless you can clearly and succinctly define them.\n",
    "- Note, you will not need to go into _how_ you picked your model or _how_ you chose your hyperparameters (in fact, usually better to keep hyperparameters just to us data scientists!)\n",
    "- Try to craft a story/narrative around your project.  Don't just dump facts on your audience.\n",
    "- Have _fun_! This is a celebration of the 12 weeks of hard work that you have done!\n",
    "\n",
    "## Requirements\n",
    "\n",
    "One _15-minute presentation_ given to your fellow classmates and well-wishers.  This presentation should be geared for a *non-technical* audience (or the audience identified as your stakeholders).\n",
    "\n",
    "## Useful Resources\n",
    "\n",
    "- [Visual Analysis Best Practices](https://drive.google.com/file/d/0Bx2SHQGVqWasWUpNX28yMTVuS1U/view)\n",
    "- [Importance of Storytelling with Data](https://drive.google.com/file/d/0Bx2SHQGVqWasTmhYM1FHX3JfNEU/view)\n",
    "- [Sample Projects](https://gallery.generalassemb.ly/DS?metro=)\n"
   ]
  },
  {
   "cell_type": "code",
   "execution_count": null,
   "id": "a5fcc7f1-d74f-4620-a6f8-1a4f7b25e61c",
   "metadata": {},
   "outputs": [],
   "source": []
  }
 ],
 "metadata": {
  "kernelspec": {
   "display_name": "Python 3 (ipykernel)",
   "language": "python",
   "name": "python3"
  },
  "language_info": {
   "codemirror_mode": {
    "name": "ipython",
    "version": 3
   },
   "file_extension": ".py",
   "mimetype": "text/x-python",
   "name": "python",
   "nbconvert_exporter": "python",
   "pygments_lexer": "ipython3",
   "version": "3.9.7"
  }
 },
 "nbformat": 4,
 "nbformat_minor": 5
}
