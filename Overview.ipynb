{
 "cells": [
  {
   "cell_type": "markdown",
   "id": "00b57a7d-0f35-4525-9536-de25fe314d16",
   "metadata": {
    "tags": []
   },
   "source": [
    "# DSI-830 Capstone Project : Autonomous Racer\n",
    "---\n",
    "Grant Moe"
   ]
  },
  {
   "cell_type": "markdown",
   "id": "8f3b9cd4-0e2e-40b2-a165-a7ff5dd3a897",
   "metadata": {},
   "source": [
    "## Project Parts\n",
    "Per the [course capstone project repository](https://git.generalassemb.ly/DSIR-830/capstone)"
   ]
  },
  {
   "cell_type": "markdown",
   "id": "c034c00d-282c-4dc8-8e92-19cdc504efa8",
   "metadata": {
    "jp-MarkdownHeadingCollapsed": true,
    "tags": []
   },
   "source": [
    "### 1: Topic Proposals\n",
    "\n",
    "Background: I started this course in part to learn the mechanics of self-driving car autonomy. I enjoyed the topic and building my cars, but when it came to programming I felt somewhat out of depth. As I looked into the subject I realized that I could benefit from a solid foundation in a data science and machine learning. Thus, when I was granted the freedom to choose my own topic for my capstone project, this is where I went.\n",
    "\n",
    "The first check-in took the form of a 3-5 minute lightning talk, in which I was to outline three ideas for my capstone. The three I chose were:\n",
    "1. Self-Driving Car (\"Real\")\n",
    "1. Self-Driving Car (Simulated)\n",
    "1. NHTSA Traffic Safety vs. State Policy\n",
    "\n",
    "\\#3 what not something I was particularly excited about, but I used it as a backup of sorts if the first two ideas were rejected. As it was, the course instructors were enthused about both \\#1 and \\#2, though they correctly pointed out that \\#1 would have been \"very very difficult\" given the time constraints of the course.\n",
    "\n",
    "As such, I decided to go with \\#2."
   ]
  },
  {
   "cell_type": "markdown",
   "id": "4f8ac5f6-c547-4d81-8b50-374b684565b6",
   "metadata": {
    "jp-MarkdownHeadingCollapsed": true,
    "tags": []
   },
   "source": [
    "### 2: Problem Statement + Data\n",
    "\n",
    "* Identify which of the three proposals you outlined in your lightning talk you have chosen  \n",
    "\n",
    "  I have chosen the simulated self-driving car project\n",
    " \n",
    "* Articulate the main goal of your project (your problem statement)  \n",
    "\n",
    "  I am not sure how \"in character\" the problem statement should be.\n",
    "  \n",
    "  The goal of my project is to construct at least one machine learning model capable of driving a simulated race car around a track autonomously.\n",
    "  \n",
    "* Outline proposed methods and models  \n",
    "\n",
    "  1. Write a Python client to interact with a OpenAI gym environment.\n",
    "  1. Manually drive around the simulated track while recording camera data and control inputs\n",
    "  1. Create and tune Keras neural network models using recorded data\n",
    "  1. Stream camera data to those models to make real-time predictions for control inputs\n",
    "  1. Iterate on the above, evaluate, refleact on the above\n",
    "  \n",
    "* Define the risks & assumptions of your data\n",
    "\n",
    "  There is not much risk outside that of total failure or uninteresting output. I had previously written the Python client to interact with the gym environemnt for manual driving, and just needed to adapt it to collecting data in Pandas-friendly .CSV format, and to drive autonomously.\n",
    "  \n",
    "* Eevise initial goals & success criteria as needed\n",
    "\n",
    "* Document your data source\n",
    "\n",
    "* Performs & summarizes preliminary EDA of your data\n",
    "\n",
    "  Link to lap times, sensor data, perhaps\n"
   ]
  },
  {
   "cell_type": "markdown",
   "id": "09411c1e-601c-4a0b-ae4b-64a4dd1e4c1d",
   "metadata": {},
   "source": [
    "### 3: Progress Report + Preliminary Findings\n",
    "\n",
    " This was a Google Form check-in."
   ]
  },
  {
   "cell_type": "markdown",
   "id": "8175b10c-cf01-404b-92d5-e9c70b207a3a",
   "metadata": {},
   "source": [
    "### 4: Report Writeup + Technical Analysis\n",
    "\n",
    "\n",
    "\n",
    "    An executive summary:\n",
    "\n",
    "    What is your goal?\n",
    "    Where did you get your data?\n",
    "    What are your metrics?\n",
    "    What were your findings?\n",
    "    What risks/limitations/assumptions affect these findings?\n",
    "\n",
    "    Summarize your statistical analysis, including:\n",
    "\n",
    "    Implementation\n",
    "    Evaluation\n",
    "    Inference\n",
    "\n",
    "    Clearly document and label each section of your notebook(s)\n",
    "\n",
    "    Logically organize your information in a persuasive, informative manner.\n",
    "    Include notebook headers and subheaders, as well as clearly formatted markdown for all written components.\n",
    "    Include graphs/plots/visualizations with clear labels.\n",
    "    Comment and explain the purpose of each major section/subsection of your code.\n",
    "    Document your code for your future self, as if another person needed to replicate your approach.\n",
    "\n",
    "    Clearly document all of your decision points in the relevant sections\n",
    "\n",
    "    How did you acquire your data?\n",
    "    How did you transform or engineer your data? Why?\n",
    "    How did you select your model?\n",
    "    How did you optimize hyperparameters?\n",
    "\n",
    "    Host your notebook and any other materials in your own public Github Repository.\n",
    "\n",
    "    Your repo should have README file that guides us through the repository and links to important files.\n",
    "    Include links and explanations to any outside libraries or source code used.\n",
    "    Host a copy of your dataset or include a link to a remotely hosted version.\n"
   ]
  },
  {
   "cell_type": "markdown",
   "id": "1b461b43-9320-4b3f-bf6f-07a7d67ec741",
   "metadata": {},
   "source": [
    "### 5: Presentation + Recommendations"
   ]
  },
  {
   "cell_type": "markdown",
   "id": "b3ebc55c-b0c4-48fa-b7ba-fbc3ede18cc5",
   "metadata": {},
   "source": []
  }
 ],
 "metadata": {
  "kernelspec": {
   "display_name": "Python 3 (ipykernel)",
   "language": "python",
   "name": "python3"
  },
  "language_info": {
   "codemirror_mode": {
    "name": "ipython",
    "version": 3
   },
   "file_extension": ".py",
   "mimetype": "text/x-python",
   "name": "python",
   "nbconvert_exporter": "python",
   "pygments_lexer": "ipython3",
   "version": "3.9.7"
  }
 },
 "nbformat": 4,
 "nbformat_minor": 5
}
