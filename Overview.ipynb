{
 "cells": [
  {
   "cell_type": "markdown",
   "id": "00b57a7d-0f35-4525-9536-de25fe314d16",
   "metadata": {
    "tags": []
   },
   "source": [
    "# DSI-830 Capstone Project : Autonomous Racer\n",
    "---\n",
    "Grant Moe"
   ]
  },
  {
   "cell_type": "markdown",
   "id": "8f3b9cd4-0e2e-40b2-a165-a7ff5dd3a897",
   "metadata": {},
   "source": [
    "## Project Parts\n",
    "Per the [course capstone project repository](https://git.generalassemb.ly/DSIR-830/capstone)"
   ]
  },
  {
   "cell_type": "markdown",
   "id": "c034c00d-282c-4dc8-8e92-19cdc504efa8",
   "metadata": {
    "jp-MarkdownHeadingCollapsed": true,
    "tags": []
   },
   "source": [
    "### 1: Topic Proposals\n",
    "\n",
    "Background: I started this course in part to learn the mechanics of self-driving car autonomy. I enjoyed the topic and building my cars, but when it came to programming I felt somewhat out of depth. As I looked into the subject I realized that I could benefit from a solid foundation in a data science and machine learning. Thus, when I was granted the freedom to choose my own topic for my capstone project, this is where I went.\n",
    "\n",
    "The first check-in took the form of a 3-5 minute lightning talk, in which I was to outline three ideas for my capstone. The three I chose were:\n",
    "1. Self-Driving Car (\"Real\")\n",
    "1. Self-Driving Car (Simulated)\n",
    "1. NHTSA Traffic Safety vs. State Policy\n",
    "\n",
    "\\#3 what not something I was particularly excited about, but I used it as a backup of sorts if the first two ideas were rejected. As it was, the course instructors were enthused about both \\#1 and \\#2, though they correctly pointed out that \\#1 would have been \"very very difficult\" given the time constraints of the course.\n",
    "\n",
    "As such, I decided to go with \\#2."
   ]
  },
  {
   "cell_type": "markdown",
   "id": "4f8ac5f6-c547-4d81-8b50-374b684565b6",
   "metadata": {},
   "source": [
    "### 2: Problem Statement + Data"
   ]
  },
  {
   "cell_type": "markdown",
   "id": "09411c1e-601c-4a0b-ae4b-64a4dd1e4c1d",
   "metadata": {},
   "source": [
    "### 3: Progress Report + Preliminary Findings"
   ]
  },
  {
   "cell_type": "markdown",
   "id": "8175b10c-cf01-404b-92d5-e9c70b207a3a",
   "metadata": {},
   "source": [
    "### 4: Report Writeup + Technical Analysis"
   ]
  },
  {
   "cell_type": "markdown",
   "id": "1b461b43-9320-4b3f-bf6f-07a7d67ec741",
   "metadata": {},
   "source": [
    "### 5: Presentation + Recommendations"
   ]
  },
  {
   "cell_type": "markdown",
   "id": "b3ebc55c-b0c4-48fa-b7ba-fbc3ede18cc5",
   "metadata": {},
   "source": []
  }
 ],
 "metadata": {
  "kernelspec": {
   "display_name": "Python 3 (ipykernel)",
   "language": "python",
   "name": "python3"
  },
  "language_info": {
   "codemirror_mode": {
    "name": "ipython",
    "version": 3
   },
   "file_extension": ".py",
   "mimetype": "text/x-python",
   "name": "python",
   "nbconvert_exporter": "python",
   "pygments_lexer": "ipython3",
   "version": "3.8.8"
  }
 },
 "nbformat": 4,
 "nbformat_minor": 5
}
