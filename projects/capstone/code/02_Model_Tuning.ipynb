{
 "cells": [
  {
   "cell_type": "markdown",
   "id": "1dabfb61-8e59-4b51-a5cb-b02d7f12b240",
   "metadata": {},
   "source": [
    "# Model Tuning\n",
    "\n",
    "Now that I have established that I can train a model to drive the car, I will start building a CNN that can successfully complete a lap.\n",
    "I have learned much from [this article by Jason Brownlee on the subject](https://machinelearningmastery.com/deep-learning-models-for-multi-output-regression/), which was linked to me by my DSI-830 instructor Patrick Waled-Dinian\n",
    "\n",
    "Plan:\n",
    "* Import numpy arrays X and y \n",
    "* Create train-test split\n",
    "* Assemble a Convolutional Neural Network\n",
    "* Use KerasTuner to find optimal hyperparameters\n",
    "* Fit and assess CNN\n",
    "* Save model to test driving"
   ]
  },
  {
   "cell_type": "code",
   "execution_count": 1,
   "id": "8a186988-1c64-48d0-984a-6c15b299587c",
   "metadata": {},
   "outputs": [
    {
     "name": "stderr",
     "output_type": "stream",
     "text": [
      "2021-11-09 18:36:02.995110: I tensorflow/stream_executor/platform/default/dso_loader.cc:49] Successfully opened dynamic library libcudart.so.10.1\n"
     ]
    }
   ],
   "source": [
    "## Imports\n",
    "import numpy as np\n",
    "import pandas as pd\n",
    "import matplotlib.pyplot as plt\n",
    "import tensorflow as tf\n",
    "import keras_tuner as kt\n",
    "import time\n",
    "\n",
    "import sklearn.metrics as metrics\n",
    "from sklearn.model_selection import train_test_split\n",
    "from keras_tuner import BayesianOptimization, Hyperband, HyperModel\n",
    "\n",
    "from os.path import exists\n",
    "\n",
    "from tensorflow import keras\n",
    "from tensorflow.keras.backend import concatenate\n",
    "from tensorflow.keras.callbacks import EarlyStopping\n",
    "from tensorflow.keras.layers import Input, Conv2D, Dense, Dropout, Flatten\n",
    "from tensorflow.keras.metrics import MAE, MSE\n",
    "from tensorflow.keras.models import Model\n",
    "from tensorflow.keras.optimizers import Adam"
   ]
  },
  {
   "cell_type": "code",
   "execution_count": 2,
   "id": "8953c0bd-f510-43e2-b185-23f500ccf8b2",
   "metadata": {},
   "outputs": [],
   "source": [
    "## Constants\n",
    "working_date = '11_08_2021'\n",
    "working_time = '22_04_06'\n",
    "\n",
    "model_history_file = '../models/model_history.csv'"
   ]
  },
  {
   "cell_type": "code",
   "execution_count": 3,
   "id": "eaf5dca8-b225-4c75-8f3b-a025877ff8f8",
   "metadata": {},
   "outputs": [],
   "source": [
    "## Directories\n",
    "data_directory = f'../data/{working_date}/{working_time}'\n",
    "model_directory = f'../models/{working_date}/{working_time}'\n",
    "\n",
    "## File paths\n",
    "input_dataset_file = f'{data_directory}/X.npy'\n",
    "target_dataset_file = f'{data_directory}/y.npy'"
   ]
  },
  {
   "cell_type": "code",
   "execution_count": 4,
   "id": "cb2e8db4-77b4-4a40-a04f-c3b8c1c77e6a",
   "metadata": {},
   "outputs": [],
   "source": [
    "## Make sure model history exists\n",
    "if not exists(model_history_file):\n",
    "    model_history = pd.DataFrame(columns=['model', 'history', \n",
    "                                          'r2_score', 'mae_score',\n",
    "                                          'mse_score', 'rmse_score'])\n",
    "else:\n",
    "    model_history = pd.read_csv(model_history_file, index_col=0)"
   ]
  },
  {
   "cell_type": "markdown",
   "id": "2395f538-7d20-41bd-ad43-903722c14353",
   "metadata": {},
   "source": [
    "## Data\n",
    "\n",
    "### Load Datasets"
   ]
  },
  {
   "cell_type": "code",
   "execution_count": 5,
   "id": "b8adc2f0-fb4f-47c1-b4da-c38bf4664187",
   "metadata": {},
   "outputs": [],
   "source": [
    "## Load the datasets\n",
    "X = np.load(input_dataset_file)\n",
    "y = np.load(target_dataset_file)"
   ]
  },
  {
   "cell_type": "markdown",
   "id": "fe94ac04-69de-4119-afc0-3b739a7d4c7c",
   "metadata": {},
   "source": [
    "### Create Train/Test Split"
   ]
  },
  {
   "cell_type": "code",
   "execution_count": 6,
   "id": "fe4aca8a-e81e-4bcb-a1ef-ca35510f1fff",
   "metadata": {},
   "outputs": [],
   "source": [
    "X_train, X_test, y_train, y_test = train_test_split(X, y, train_size=0.95, random_state=0)"
   ]
  },
  {
   "cell_type": "markdown",
   "id": "b51ada31-38b8-4741-8e56-6c0c8038777b",
   "metadata": {},
   "source": [
    "## Model"
   ]
  },
  {
   "cell_type": "markdown",
   "id": "3ede6018-a226-4dcd-949b-378c16c5ee48",
   "metadata": {},
   "source": [
    "sources: \n",
    "\n",
    "* [Introduction to the Keras Tuner](https://www.tensorflow.org/tutorials/keras/keras_tuner)\n",
    "* [Hands on hyperparameter tuning with Keras Tuner](https://www.sicara.ai/blog/hyperparameter-tuning-keras-tuner) by Julie Prost"
   ]
  },
  {
   "cell_type": "markdown",
   "id": "e9c1de53-ed0f-4630-afbc-44e7fcaac29e",
   "metadata": {},
   "source": [
    "Hyperparameters:\n",
    "* Number of convolutional layers\n",
    "* number of filters\n",
    "* size of filters\n",
    "* number of dense layers\n",
    "* units in dense layers\n",
    "* dropout values\n",
    "* adam learning rate"
   ]
  },
  {
   "cell_type": "markdown",
   "id": "a93d1a97-d274-44a6-af63-d4a31319598a",
   "metadata": {},
   "source": [
    "### Create Framework"
   ]
  },
  {
   "cell_type": "code",
   "execution_count": 11,
   "id": "d76bf26f-dd27-4a72-a38e-84d102dc1172",
   "metadata": {
    "tags": []
   },
   "outputs": [],
   "source": [
    "## Lesson 8.03\n",
    "## https://docs.donkeycar.com/dev_guide/model/\n",
    "\n",
    "class VIMUHyperModel(HyperModel):\n",
    "    \n",
    "    def __init__(self, input_shape):\n",
    "        self.input_shape = input_shape\n",
    "    \n",
    "    def build(self, hp):\n",
    "        kernels = [3, 5, 7,]\n",
    "        filters = [8, 16, 32, 64,]\n",
    "        units = [8, 16, 32, 64,]\n",
    "        drops = [0.0, 0.1, 0.2, 0.3]\n",
    "        strides = [1, 2]\n",
    "        \n",
    "        ## Image Model\n",
    "        inputs = Input(shape=img_shape, name='inputs')\n",
    "        \n",
    "        layers = Conv2D(\n",
    "                filters=hp.Choice(f'filters_0',values=filters), \n",
    "                kernel_size=hp.Choice(f'kernel_0', values=kernels),\n",
    "                strides=hp.Choice(f'stride_0', values=strides)\n",
    "            )(inputs)\n",
    "        \n",
    "        # Load convolutional models        \n",
    "        for n in range(1, 5):\n",
    "            # Add conv\n",
    "            layers = Conv2D(\n",
    "                filters=hp.Choice(f'filters_{n}',values=filters), \n",
    "                kernel_size=hp.Choice(f'kernel_{n}', values=kernels),\n",
    "                strides=hp.Choice(f'stride_{n}', values=strides)\n",
    "            )(layers)\n",
    "            # Add dropout\n",
    "            layers = Dropout(\n",
    "                rate=hp.Choice(f'drop_{n}', values=drops)\n",
    "            )(layers)\n",
    "            \n",
    "            \n",
    "        ## Flatten\n",
    "        layers.add(Flatten())\n",
    "        \n",
    "        ## First Dense Layer\n",
    "        layers = Dense(units=hp.Choice('units_5', values=units), \n",
    "                       activation='relu'\n",
    "                      )(layers)\n",
    "        layers = Dropout(rate=hp.Choice('drop_5', values=drops))(layers)\n",
    "\n",
    "        inputs.add(\n",
    "            Dense(\n",
    "                units=hp.Choice(\n",
    "                    'units_2',\n",
    "                    values=n_units\n",
    "                ),\n",
    "                activation='relu'\n",
    "            )\n",
    "        )\n",
    "        inputs.add(\n",
    "            Dropout(\n",
    "                rate=hp.Choice(\n",
    "                    'dense_dropout_2', \n",
    "                    values=dense_dropout_rates\n",
    "                )\n",
    "            )\n",
    "        )\n",
    "        \n",
    "        outputs = [\n",
    "            Dense(1, activation='linear', name='steering_out')(inputs)\n",
    "            \n",
    "            \n",
    "\n",
    "\n",
    "        ## Output Layer\n",
    "        model.add(Dense(2, activation='linear'))\n",
    "        \n",
    "        ## Compile Model\n",
    "        model.compile(\n",
    "            optimizer=Adam(\n",
    "                # hp.Float(\n",
    "                #     'learning_rate',\n",
    "                #     min_value=1e-4,\n",
    "                #     max_value=1e-2,\n",
    "                #     sampling='LOG',\n",
    "                # )\n",
    "            ),\n",
    "            loss=MAE,\n",
    "            # metrics=[MSE]\n",
    "            # loss=MSE,\n",
    "            # metrics=[MAE]\n",
    "        )\n",
    "        \n",
    "        return model"
   ]
  },
  {
   "cell_type": "code",
   "execution_count": 12,
   "id": "2ff16ad4-2750-4998-afa5-6c6c33ffee41",
   "metadata": {},
   "outputs": [],
   "source": [
    "input_shape = X_train[0].shape"
   ]
  },
  {
   "cell_type": "markdown",
   "id": "535a4467-ef4e-40bc-a1dc-ce1a92105c7a",
   "metadata": {},
   "source": [
    "### Create Tuner"
   ]
  },
  {
   "cell_type": "code",
   "execution_count": 13,
   "id": "7ceeedc3-c291-4332-83d0-5ab1d2b0bfdb",
   "metadata": {},
   "outputs": [
    {
     "name": "stderr",
     "output_type": "stream",
     "text": [
      "2021-11-09 18:36:06.076919: I tensorflow/compiler/jit/xla_cpu_device.cc:41] Not creating XLA devices, tf_xla_enable_xla_devices not set\n",
      "2021-11-09 18:36:06.077644: I tensorflow/stream_executor/platform/default/dso_loader.cc:49] Successfully opened dynamic library libcuda.so.1\n",
      "2021-11-09 18:36:06.111351: I tensorflow/stream_executor/cuda/cuda_gpu_executor.cc:941] successful NUMA node read from SysFS had negative value (-1), but there must be at least one NUMA node, so returning NUMA node zero\n",
      "2021-11-09 18:36:06.111599: I tensorflow/core/common_runtime/gpu/gpu_device.cc:1720] Found device 0 with properties: \n",
      "pciBusID: 0000:01:00.0 name: NVIDIA GeForce GTX 1060 6GB computeCapability: 6.1\n",
      "coreClock: 1.797GHz coreCount: 10 deviceMemorySize: 5.93GiB deviceMemoryBandwidth: 178.99GiB/s\n",
      "2021-11-09 18:36:06.111616: I tensorflow/stream_executor/platform/default/dso_loader.cc:49] Successfully opened dynamic library libcudart.so.10.1\n",
      "2021-11-09 18:36:06.112878: I tensorflow/stream_executor/platform/default/dso_loader.cc:49] Successfully opened dynamic library libcublas.so.10\n",
      "2021-11-09 18:36:06.112911: I tensorflow/stream_executor/platform/default/dso_loader.cc:49] Successfully opened dynamic library libcublasLt.so.10\n",
      "2021-11-09 18:36:06.114155: I tensorflow/stream_executor/platform/default/dso_loader.cc:49] Successfully opened dynamic library libcufft.so.10\n",
      "2021-11-09 18:36:06.114400: I tensorflow/stream_executor/platform/default/dso_loader.cc:49] Successfully opened dynamic library libcurand.so.10\n",
      "2021-11-09 18:36:06.115691: I tensorflow/stream_executor/platform/default/dso_loader.cc:49] Successfully opened dynamic library libcusolver.so.10\n",
      "2021-11-09 18:36:06.116492: I tensorflow/stream_executor/platform/default/dso_loader.cc:49] Successfully opened dynamic library libcusparse.so.10\n",
      "2021-11-09 18:36:06.119394: I tensorflow/stream_executor/platform/default/dso_loader.cc:49] Successfully opened dynamic library libcudnn.so.7\n",
      "2021-11-09 18:36:06.119537: I tensorflow/stream_executor/cuda/cuda_gpu_executor.cc:941] successful NUMA node read from SysFS had negative value (-1), but there must be at least one NUMA node, so returning NUMA node zero\n",
      "2021-11-09 18:36:06.119817: I tensorflow/stream_executor/cuda/cuda_gpu_executor.cc:941] successful NUMA node read from SysFS had negative value (-1), but there must be at least one NUMA node, so returning NUMA node zero\n",
      "2021-11-09 18:36:06.119933: I tensorflow/core/common_runtime/gpu/gpu_device.cc:1862] Adding visible gpu devices: 0\n",
      "2021-11-09 18:36:06.120534: I tensorflow/core/platform/cpu_feature_guard.cc:142] This TensorFlow binary is optimized with oneAPI Deep Neural Network Library (oneDNN) to use the following CPU instructions in performance-critical operations:  SSE4.1 SSE4.2 AVX AVX2 FMA\n",
      "To enable them in other operations, rebuild TensorFlow with the appropriate compiler flags.\n",
      "2021-11-09 18:36:06.120718: I tensorflow/compiler/jit/xla_gpu_device.cc:99] Not creating XLA devices, tf_xla_enable_xla_devices not set\n",
      "2021-11-09 18:36:06.120806: I tensorflow/stream_executor/cuda/cuda_gpu_executor.cc:941] successful NUMA node read from SysFS had negative value (-1), but there must be at least one NUMA node, so returning NUMA node zero\n",
      "2021-11-09 18:36:06.121044: I tensorflow/core/common_runtime/gpu/gpu_device.cc:1720] Found device 0 with properties: \n",
      "pciBusID: 0000:01:00.0 name: NVIDIA GeForce GTX 1060 6GB computeCapability: 6.1\n",
      "coreClock: 1.797GHz coreCount: 10 deviceMemorySize: 5.93GiB deviceMemoryBandwidth: 178.99GiB/s\n",
      "2021-11-09 18:36:06.121081: I tensorflow/stream_executor/platform/default/dso_loader.cc:49] Successfully opened dynamic library libcudart.so.10.1\n",
      "2021-11-09 18:36:06.121104: I tensorflow/stream_executor/platform/default/dso_loader.cc:49] Successfully opened dynamic library libcublas.so.10\n",
      "2021-11-09 18:36:06.121117: I tensorflow/stream_executor/platform/default/dso_loader.cc:49] Successfully opened dynamic library libcublasLt.so.10\n",
      "2021-11-09 18:36:06.121129: I tensorflow/stream_executor/platform/default/dso_loader.cc:49] Successfully opened dynamic library libcufft.so.10\n",
      "2021-11-09 18:36:06.121142: I tensorflow/stream_executor/platform/default/dso_loader.cc:49] Successfully opened dynamic library libcurand.so.10\n",
      "2021-11-09 18:36:06.121156: I tensorflow/stream_executor/platform/default/dso_loader.cc:49] Successfully opened dynamic library libcusolver.so.10\n",
      "2021-11-09 18:36:06.121169: I tensorflow/stream_executor/platform/default/dso_loader.cc:49] Successfully opened dynamic library libcusparse.so.10\n",
      "2021-11-09 18:36:06.121182: I tensorflow/stream_executor/platform/default/dso_loader.cc:49] Successfully opened dynamic library libcudnn.so.7\n",
      "2021-11-09 18:36:06.121231: I tensorflow/stream_executor/cuda/cuda_gpu_executor.cc:941] successful NUMA node read from SysFS had negative value (-1), but there must be at least one NUMA node, so returning NUMA node zero\n",
      "2021-11-09 18:36:06.121478: I tensorflow/stream_executor/cuda/cuda_gpu_executor.cc:941] successful NUMA node read from SysFS had negative value (-1), but there must be at least one NUMA node, so returning NUMA node zero\n",
      "2021-11-09 18:36:06.121729: I tensorflow/core/common_runtime/gpu/gpu_device.cc:1862] Adding visible gpu devices: 0\n",
      "2021-11-09 18:36:06.121753: I tensorflow/stream_executor/platform/default/dso_loader.cc:49] Successfully opened dynamic library libcudart.so.10.1\n",
      "2021-11-09 18:36:06.530227: I tensorflow/core/common_runtime/gpu/gpu_device.cc:1261] Device interconnect StreamExecutor with strength 1 edge matrix:\n",
      "2021-11-09 18:36:06.530253: I tensorflow/core/common_runtime/gpu/gpu_device.cc:1267]      0 \n",
      "2021-11-09 18:36:06.530261: I tensorflow/core/common_runtime/gpu/gpu_device.cc:1280] 0:   N \n",
      "2021-11-09 18:36:06.530442: I tensorflow/stream_executor/cuda/cuda_gpu_executor.cc:941] successful NUMA node read from SysFS had negative value (-1), but there must be at least one NUMA node, so returning NUMA node zero\n",
      "2021-11-09 18:36:06.530591: I tensorflow/stream_executor/cuda/cuda_gpu_executor.cc:941] successful NUMA node read from SysFS had negative value (-1), but there must be at least one NUMA node, so returning NUMA node zero\n",
      "2021-11-09 18:36:06.530717: I tensorflow/stream_executor/cuda/cuda_gpu_executor.cc:941] successful NUMA node read from SysFS had negative value (-1), but there must be at least one NUMA node, so returning NUMA node zero\n",
      "2021-11-09 18:36:06.530816: I tensorflow/core/common_runtime/gpu/gpu_device.cc:1406] Created TensorFlow device (/job:localhost/replica:0/task:0/device:GPU:0 with 4994 MB memory) -> physical GPU (device: 0, name: NVIDIA GeForce GTX 1060 6GB, pci bus id: 0000:01:00.0, compute capability: 6.1)\n"
     ]
    }
   ],
   "source": [
    "hypermodel = FixedLayersCNNHyperModel(input_shape)\n",
    "\n",
    "# tuner = BayesianOptimization(hypermodel, \n",
    "#                              objective='val_loss',\n",
    "#                              beta=2.7,\n",
    "#                              max_trials=100, \n",
    "#                              seed=0, overwrite=True)\n",
    "\n",
    "tuner = Hyperband(hypermodel, \n",
    "                  objective='val_loss',\n",
    "                  max_epochs=25,\n",
    "                  factor=3,\n",
    "                  hyperband_iterations=2, \n",
    "                  seed=0,\n",
    "                  overwrite=True,);"
   ]
  },
  {
   "cell_type": "markdown",
   "id": "c2494f07-fc9d-45ce-b9c8-884ad7852a68",
   "metadata": {
    "tags": []
   },
   "source": [
    "### Search"
   ]
  },
  {
   "cell_type": "code",
   "execution_count": 14,
   "id": "1be059d5-dc6d-49ce-881c-3262f5bfadbf",
   "metadata": {
    "tags": []
   },
   "outputs": [],
   "source": [
    "stop_early = EarlyStopping(patience=5)"
   ]
  },
  {
   "cell_type": "code",
   "execution_count": 15,
   "id": "883e1067-1a82-41fd-a96f-0805b52fc747",
   "metadata": {
    "tags": []
   },
   "outputs": [
    {
     "name": "stdout",
     "output_type": "stream",
     "text": [
      "Trial 60 Complete [00h 01m 28s]\n",
      "val_loss: 0.14088742434978485\n",
      "\n",
      "Best val_loss So Far: 0.07812678813934326\n",
      "Total elapsed time: 00h 41m 14s\n",
      "INFO:tensorflow:Oracle triggered exit\n"
     ]
    }
   ],
   "source": [
    "tuner.search(X_train, y_train, \n",
    "             validation_data=(X_test, y_test), \n",
    "             callbacks=[stop_early],\n",
    "             batch_size=32, \n",
    "             verbose=1)"
   ]
  },
  {
   "cell_type": "markdown",
   "id": "51895fa3-cc0a-4f87-8984-de874d95d90d",
   "metadata": {},
   "source": [
    "### Fit"
   ]
  },
  {
   "cell_type": "code",
   "execution_count": 32,
   "id": "183886b3-6929-49b7-b78a-7e7add761d15",
   "metadata": {},
   "outputs": [],
   "source": [
    "## https://www.tensorflow.org/tutorials/keras/keras_tuner\n",
    "best_hps = tuner.get_best_hyperparameters(1)[0]\n",
    "model = tuner.hypermodel.build(best_hps)"
   ]
  },
  {
   "cell_type": "code",
   "execution_count": 33,
   "id": "55b74eba-7185-42a1-9680-04499166c28c",
   "metadata": {},
   "outputs": [
    {
     "name": "stdout",
     "output_type": "stream",
     "text": [
      "Model: \"sequential\"\n",
      "_________________________________________________________________\n",
      "Layer (type)                 Output Shape              Param #   \n",
      "=================================================================\n",
      "conv2d (Conv2D)              (None, 76, 56, 64)        1664      \n",
      "_________________________________________________________________\n",
      "conv2d_1 (Conv2D)            (None, 68, 48, 16)        82960     \n",
      "_________________________________________________________________\n",
      "max_pooling2d (MaxPooling2D) (None, 34, 24, 16)        0         \n",
      "_________________________________________________________________\n",
      "dropout (Dropout)            (None, 34, 24, 16)        0         \n",
      "_________________________________________________________________\n",
      "conv2d_2 (Conv2D)            (None, 28, 18, 32)        25120     \n",
      "_________________________________________________________________\n",
      "conv2d_3 (Conv2D)            (None, 24, 14, 64)        51264     \n",
      "_________________________________________________________________\n",
      "max_pooling2d_1 (MaxPooling2 (None, 12, 7, 64)         0         \n",
      "_________________________________________________________________\n",
      "dropout_1 (Dropout)          (None, 12, 7, 64)         0         \n",
      "_________________________________________________________________\n",
      "flatten (Flatten)            (None, 5376)              0         \n",
      "_________________________________________________________________\n",
      "dense (Dense)                (None, 32)                172064    \n",
      "_________________________________________________________________\n",
      "dropout_2 (Dropout)          (None, 32)                0         \n",
      "_________________________________________________________________\n",
      "dense_1 (Dense)              (None, 8)                 264       \n",
      "_________________________________________________________________\n",
      "dropout_3 (Dropout)          (None, 8)                 0         \n",
      "_________________________________________________________________\n",
      "dense_2 (Dense)              (None, 2)                 18        \n",
      "=================================================================\n",
      "Total params: 333,354\n",
      "Trainable params: 333,354\n",
      "Non-trainable params: 0\n",
      "_________________________________________________________________\n"
     ]
    }
   ],
   "source": [
    "model.summary()"
   ]
  },
  {
   "cell_type": "code",
   "execution_count": 34,
   "id": "02c35f77-a56a-4a8a-beb6-1fbd0ded41f3",
   "metadata": {},
   "outputs": [
    {
     "name": "stdout",
     "output_type": "stream",
     "text": [
      "Epoch 1/500\n",
      "526/526 [==============================] - 8s 14ms/step - loss: 0.3054 - val_loss: 0.1785\n",
      "Epoch 2/500\n",
      "526/526 [==============================] - 7s 14ms/step - loss: 0.1928 - val_loss: 0.1202\n",
      "Epoch 3/500\n",
      "526/526 [==============================] - 7s 13ms/step - loss: 0.1656 - val_loss: 0.1262\n",
      "Epoch 4/500\n",
      "526/526 [==============================] - 7s 13ms/step - loss: 0.1492 - val_loss: 0.1314\n",
      "Epoch 5/500\n",
      "526/526 [==============================] - 7s 13ms/step - loss: 0.1360 - val_loss: 0.1140\n",
      "Epoch 6/500\n",
      "526/526 [==============================] - 7s 13ms/step - loss: 0.1282 - val_loss: 0.1196\n",
      "Epoch 7/500\n",
      "526/526 [==============================] - 7s 14ms/step - loss: 0.1238 - val_loss: 0.1220\n",
      "Epoch 8/500\n",
      "526/526 [==============================] - 7s 14ms/step - loss: 0.1157 - val_loss: 0.1213\n",
      "Epoch 9/500\n",
      "526/526 [==============================] - 7s 14ms/step - loss: 0.1062 - val_loss: 0.1034\n",
      "Epoch 10/500\n",
      "526/526 [==============================] - 7s 14ms/step - loss: 0.1045 - val_loss: 0.0982\n",
      "Epoch 11/500\n",
      "526/526 [==============================] - 7s 14ms/step - loss: 0.0995 - val_loss: 0.0926\n",
      "Epoch 12/500\n",
      "526/526 [==============================] - 7s 14ms/step - loss: 0.0949 - val_loss: 0.0962\n",
      "Epoch 13/500\n",
      "526/526 [==============================] - 7s 14ms/step - loss: 0.0928 - val_loss: 0.0953\n",
      "Epoch 14/500\n",
      "526/526 [==============================] - 7s 14ms/step - loss: 0.0937 - val_loss: 0.0857\n",
      "Epoch 15/500\n",
      "526/526 [==============================] - 7s 14ms/step - loss: 0.0864 - val_loss: 0.0898\n",
      "Epoch 16/500\n",
      "526/526 [==============================] - 7s 14ms/step - loss: 0.0887 - val_loss: 0.0842\n",
      "Epoch 17/500\n",
      "526/526 [==============================] - 7s 14ms/step - loss: 0.0846 - val_loss: 0.0824\n",
      "Epoch 18/500\n",
      "526/526 [==============================] - 7s 14ms/step - loss: 0.0810 - val_loss: 0.0856\n",
      "Epoch 19/500\n",
      "526/526 [==============================] - 7s 14ms/step - loss: 0.0831 - val_loss: 0.0826\n",
      "Epoch 20/500\n",
      "526/526 [==============================] - 7s 14ms/step - loss: 0.0788 - val_loss: 0.0853\n",
      "Epoch 21/500\n",
      "526/526 [==============================] - 7s 14ms/step - loss: 0.0790 - val_loss: 0.0828\n",
      "Epoch 22/500\n",
      "526/526 [==============================] - 7s 14ms/step - loss: 0.0827 - val_loss: 0.0845\n"
     ]
    }
   ],
   "source": [
    "##  \n",
    "results = model.fit(X_train, \n",
    "                    y_train, \n",
    "                    batch_size=16, \n",
    "                    epochs=500, \n",
    "                    validation_data=(X_test, y_test), \n",
    "                    callbacks=[stop_early])"
   ]
  },
  {
   "cell_type": "code",
   "execution_count": 19,
   "id": "45a8085a-7bec-4db9-b768-7a3c96b515f9",
   "metadata": {},
   "outputs": [
    {
     "name": "stdout",
     "output_type": "stream",
     "text": [
      "263/263 [==============================] - 1s 5ms/step - loss: 0.0923\n"
     ]
    },
    {
     "data": {
      "text/plain": [
       "0.09227794408798218"
      ]
     },
     "execution_count": 19,
     "metadata": {},
     "output_type": "execute_result"
    }
   ],
   "source": [
    "model.evaluate(X_train, y_train)"
   ]
  },
  {
   "cell_type": "code",
   "execution_count": 20,
   "id": "926f9495-5cd4-4eb0-a05d-c04e3cf74f8c",
   "metadata": {
    "tags": []
   },
   "outputs": [
    {
     "name": "stdout",
     "output_type": "stream",
     "text": [
      "14/14 [==============================] - 0s 5ms/step - loss: 0.1043\n"
     ]
    },
    {
     "data": {
      "text/plain": [
       "0.10427911579608917"
      ]
     },
     "execution_count": 20,
     "metadata": {},
     "output_type": "execute_result"
    }
   ],
   "source": [
    "model.evaluate(X_test, y_test)"
   ]
  },
  {
   "cell_type": "code",
   "execution_count": 21,
   "id": "4858a2d5-e491-4579-a351-d631d4423871",
   "metadata": {},
   "outputs": [
    {
     "data": {
      "text/plain": [
       "dict_keys(['loss', 'val_loss'])"
      ]
     },
     "execution_count": 21,
     "metadata": {},
     "output_type": "execute_result"
    }
   ],
   "source": [
    "results.history.keys()"
   ]
  },
  {
   "cell_type": "code",
   "execution_count": 22,
   "id": "96436595-6f98-4827-a0a6-1f8e27590514",
   "metadata": {},
   "outputs": [
    {
     "data": {
      "image/png": "[encoded data removed]",
      "text/plain": [
       "<Figure size 432x288 with 1 Axes>"
      ]
     },
     "metadata": {
      "needs_background": "light"
     },
     "output_type": "display_data"
    }
   ],
   "source": [
    "plt.plot(results.history['loss'], label = 'Training Loss')\n",
    "plt.plot(results.history['val_loss'], label = 'Testing Loss')\n",
    "plt.legend();"
   ]
  },
  {
   "cell_type": "code",
   "execution_count": 23,
   "id": "fc1701a1-c3ef-4564-95cd-5275f8ba1ae2",
   "metadata": {},
   "outputs": [],
   "source": [
    "# plt.plot(results.history['mean_absolute_error'], label = 'Training MAE')\n",
    "# plt.plot(results.history['val_mean_absolute_error'], label = 'Testing MAE')\n",
    "# plt.legend();"
   ]
  },
  {
   "cell_type": "code",
   "execution_count": 24,
   "id": "35c7e6a6-dd2a-4f53-928a-844976d47a7e",
   "metadata": {},
   "outputs": [],
   "source": [
    "preds = model.predict(X_test)"
   ]
  },
  {
   "cell_type": "code",
   "execution_count": 25,
   "id": "e8670f59-3e77-49c6-a59f-128b1704601d",
   "metadata": {},
   "outputs": [
    {
     "name": "stdout",
     "output_type": "stream",
     "text": [
      "Train R2: 0.8303425543600481\n",
      "Test R2: 0.7603535981448071\n"
     ]
    }
   ],
   "source": [
    "## r2 \n",
    "print(f'Train R2: {metrics.r2_score(y_train, model.predict(X_train))}')\n",
    "print(f'Test R2: {metrics.r2_score(y_test, preds)}')"
   ]
  },
  {
   "cell_type": "code",
   "execution_count": 26,
   "id": "e4c99929-2919-4b1b-a2e8-ce7526eaa7e6",
   "metadata": {},
   "outputs": [
    {
     "name": "stdout",
     "output_type": "stream",
     "text": [
      "Train MAE: 0.0922781378030777\n",
      "Test MAE: 0.10427909344434738\n"
     ]
    }
   ],
   "source": [
    "## MAE\n",
    "print(f'Train MAE: {metrics.mean_absolute_error(y_train, model.predict(X_train))}')\n",
    "print(f'Test MAE: {metrics.mean_absolute_error(y_test, preds)}')"
   ]
  },
  {
   "cell_type": "code",
   "execution_count": 27,
   "id": "0ee3539f-45a4-4ff3-8359-5bed75db8610",
   "metadata": {},
   "outputs": [
    {
     "name": "stdout",
     "output_type": "stream",
     "text": [
      "Train MSE: 0.025798149406909943\n",
      "Test MSE: 0.033954501152038574\n"
     ]
    }
   ],
   "source": [
    "## MSE\n",
    "print(f'Train MSE: {metrics.mean_squared_error(y_train, model.predict(X_train))}')\n",
    "print(f'Test MSE: {metrics.mean_squared_error(y_test, preds)}')"
   ]
  },
  {
   "cell_type": "code",
   "execution_count": 28,
   "id": "cd8eb54b-3392-445e-857a-8ab947c517ef",
   "metadata": {},
   "outputs": [
    {
     "name": "stdout",
     "output_type": "stream",
     "text": [
      "Train RMSE: 0.15965671837329865\n",
      "Test RMSE: 0.18092986941337585\n"
     ]
    }
   ],
   "source": [
    "## RMSE\n",
    "print(f'Train RMSE: {metrics.mean_squared_error(y_train, model.predict(X_train), squared=False)}')\n",
    "print(f'Test RMSE: {metrics.mean_squared_error(y_test, preds, squared=False)}')"
   ]
  },
  {
   "cell_type": "markdown",
   "id": "1cdcdfbd-a430-4081-8510-99968ab37188",
   "metadata": {},
   "source": [
    "## Save model"
   ]
  },
  {
   "cell_type": "code",
   "execution_count": 29,
   "id": "a6467968-7308-4cd8-9829-eda955a678a5",
   "metadata": {},
   "outputs": [
    {
     "data": {
      "text/html": [
       "<div>\n",
       "<style scoped>\n",
       "    .dataframe tbody tr th:only-of-type {\n",
       "        vertical-align: middle;\n",
       "    }\n",
       "\n",
       "    .dataframe tbody tr th {\n",
       "        vertical-align: top;\n",
       "    }\n",
       "\n",
       "    .dataframe thead th {\n",
       "        text-align: right;\n",
       "    }\n",
       "</style>\n",
       "<table border=\"1\" class=\"dataframe\">\n",
       "  <thead>\n",
       "    <tr style=\"text-align: right;\">\n",
       "      <th></th>\n",
       "      <th>model</th>\n",
       "      <th>history</th>\n",
       "      <th>mae_score</th>\n",
       "      <th>mse_score</th>\n",
       "      <th>r2_score</th>\n",
       "      <th>rmse_score</th>\n",
       "    </tr>\n",
       "  </thead>\n",
       "  <tbody>\n",
       "    <tr>\n",
       "      <th>20</th>\n",
       "      <td>../models/11_08_2021/22_04_06/model_20.h5</td>\n",
       "      <td>{'loss': [0.040462393313646317, 0.022811815142...</td>\n",
       "      <td>0.078037</td>\n",
       "      <td>0.014810</td>\n",
       "      <td>0.896010</td>\n",
       "      <td>0.119186</td>\n",
       "    </tr>\n",
       "    <tr>\n",
       "      <th>21</th>\n",
       "      <td>../models/11_08_2021/22_04_06/model_21.h5</td>\n",
       "      <td>{'loss': [0.10135098546743393, 0.0428961552679...</td>\n",
       "      <td>0.073959</td>\n",
       "      <td>0.013642</td>\n",
       "      <td>0.902857</td>\n",
       "      <td>0.115144</td>\n",
       "    </tr>\n",
       "    <tr>\n",
       "      <th>22</th>\n",
       "      <td>../models/11_08_2021/22_04_06/model_22.h5</td>\n",
       "      <td>{'loss': [0.30126410722732544, 0.1519710421562...</td>\n",
       "      <td>0.158894</td>\n",
       "      <td>0.043945</td>\n",
       "      <td>0.686996</td>\n",
       "      <td>0.206681</td>\n",
       "    </tr>\n",
       "    <tr>\n",
       "      <th>23</th>\n",
       "      <td>../models/11_08_2021/22_04_06/model_23.h5</td>\n",
       "      <td>{'loss': [0.19611622393131256, 0.1452387720346...</td>\n",
       "      <td>0.174809</td>\n",
       "      <td>0.086396</td>\n",
       "      <td>0.409337</td>\n",
       "      <td>0.283149</td>\n",
       "    </tr>\n",
       "    <tr>\n",
       "      <th>24</th>\n",
       "      <td>../models/11_08_2021/22_04_06/model_24.h5</td>\n",
       "      <td>{'loss': [0.27067601680755615, 0.1887831091880...</td>\n",
       "      <td>0.104279</td>\n",
       "      <td>0.033955</td>\n",
       "      <td>0.760354</td>\n",
       "      <td>0.180930</td>\n",
       "    </tr>\n",
       "  </tbody>\n",
       "</table>\n",
       "</div>"
      ],
      "text/plain": [
       "                                        model  \\\n",
       "20  ../models/11_08_2021/22_04_06/model_20.h5   \n",
       "21  ../models/11_08_2021/22_04_06/model_21.h5   \n",
       "22  ../models/11_08_2021/22_04_06/model_22.h5   \n",
       "23  ../models/11_08_2021/22_04_06/model_23.h5   \n",
       "24  ../models/11_08_2021/22_04_06/model_24.h5   \n",
       "\n",
       "                                              history  mae_score  mse_score  \\\n",
       "20  {'loss': [0.040462393313646317, 0.022811815142...   0.078037   0.014810   \n",
       "21  {'loss': [0.10135098546743393, 0.0428961552679...   0.073959   0.013642   \n",
       "22  {'loss': [0.30126410722732544, 0.1519710421562...   0.158894   0.043945   \n",
       "23  {'loss': [0.19611622393131256, 0.1452387720346...   0.174809   0.086396   \n",
       "24  {'loss': [0.27067601680755615, 0.1887831091880...   0.104279   0.033955   \n",
       "\n",
       "    r2_score  rmse_score  \n",
       "20  0.896010    0.119186  \n",
       "21  0.902857    0.115144  \n",
       "22  0.686996    0.206681  \n",
       "23  0.409337    0.283149  \n",
       "24  0.760354    0.180930  "
      ]
     },
     "execution_count": 29,
     "metadata": {},
     "output_type": "execute_result"
    }
   ],
   "source": [
    "model_index = max(0, model_history.index.max() + 1)\n",
    "model_path = f'{model_directory}/model_{model_index}.h5'\n",
    "\n",
    "history_dictionary = {\n",
    "    'model': model_path,\n",
    "    'history': results.history,\n",
    "    'r2_score': metrics.r2_score(y_test, preds),\n",
    "    'mae_score': metrics.mean_absolute_error(y_test, preds),\n",
    "    'mse_score': metrics.mean_squared_error(y_test, preds),\n",
    "    'rmse_score': metrics.mean_squared_error(y_test, preds, squared=False),\n",
    "}\n",
    "\n",
    "model_history = model_history.append(history_dictionary, ignore_index=True)\n",
    "model_history.tail()"
   ]
  },
  {
   "cell_type": "code",
   "execution_count": 30,
   "id": "871c66a1-e8c3-4c1b-bc39-39bb199a5994",
   "metadata": {},
   "outputs": [],
   "source": [
    "## Saving as h5 for backwards compatibility\n",
    "model.save(model_path, save_format='h5')\n",
    "model_history.to_csv(model_history_file)"
   ]
  },
  {
   "cell_type": "code",
   "execution_count": 31,
   "id": "324eca39-1ca1-43ec-b988-d1c32f8d016c",
   "metadata": {},
   "outputs": [
    {
     "data": {
      "text/plain": [
       "'../models/11_08_2021/22_04_06/model_24.h5'"
      ]
     },
     "execution_count": 31,
     "metadata": {},
     "output_type": "execute_result"
    }
   ],
   "source": [
    "model_path"
   ]
  },
  {
   "cell_type": "code",
   "execution_count": null,
   "id": "c156d52e-e3ed-4ab9-a91d-a991a9e2fa6a",
   "metadata": {},
   "outputs": [],
   "source": []
  }
 ],
 "metadata": {
  "kernelspec": {
   "display_name": "Python 3 (ipykernel)",
   "language": "python",
   "name": "python3"
  },
  "language_info": {
   "codemirror_mode": {
    "name": "ipython",
    "version": 3
   },
   "file_extension": ".py",
   "mimetype": "text/x-python",
   "name": "python",
   "nbconvert_exporter": "python",
   "pygments_lexer": "ipython3",
   "version": "3.9.7"
  }
 },
 "nbformat": 4,
 "nbformat_minor": 5
}
