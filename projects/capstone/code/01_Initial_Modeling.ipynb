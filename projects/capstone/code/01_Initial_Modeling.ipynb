{
 "cells": [
  {
   "cell_type": "markdown",
   "id": "1dabfb61-8e59-4b51-a5cb-b02d7f12b240",
   "metadata": {},
   "source": [
    "# Modeling: Initial\n",
    "Herein is my first attempt at creating a multi-ouput regression neural network.\n",
    "I have learned much from [this article by Jason Brownlee on the subject](https://machinelearningmastery.com/deep-learning-models-for-multi-output-regression/), which was linked to me by my DSI-830 instructor Patrick Waled-Dinian\n",
    "\n",
    "Plan:\n",
    "* Import numpy arrays X and y \n",
    "* Create train-test split\n",
    "* Assemble a Convolutional Neural Network\n",
    "* Fit and assess CNN"
   ]
  },
  {
   "cell_type": "code",
   "execution_count": 5,
   "id": "8a186988-1c64-48d0-984a-6c15b299587c",
   "metadata": {},
   "outputs": [],
   "source": [
    "## Imports\n",
    "import numpy as np\n",
    "import pandas as pd\n",
    "import matplotlib.pyplot as plt\n",
    "import tensorflow as tf\n",
    "\n",
    "from sklearn.model_selection import train_test_split\n",
    "\n",
    "from os.path import exists\n",
    "from tensorflow.keras.models import Sequential\n",
    "from tensorflow.keras.layers import Dense, Dropout, Flatten, Conv2D, MaxPool2D\n",
    "from tensorflow.keras.metrics import MAE"
   ]
  },
  {
   "cell_type": "code",
   "execution_count": 10,
   "id": "8953c0bd-f510-43e2-b185-23f500ccf8b2",
   "metadata": {},
   "outputs": [],
   "source": [
    "## Constants\n",
    "working_date = '11_06_2021'\n",
    "working_time = '16_31_26'\n",
    "\n",
    "model_history_file = '../models/model_history.csv'"
   ]
  },
  {
   "cell_type": "code",
   "execution_count": 11,
   "id": "eaf5dca8-b225-4c75-8f3b-a025877ff8f8",
   "metadata": {},
   "outputs": [],
   "source": [
    "## Directories\n",
    "data_directory = f'../data/{working_date}/{working_time}'\n",
    "model_directory = f'../models/{working_date}/{working_time}'\n",
    "\n",
    "## File paths\n",
    "input_dataset_file = f'{data_directory}/X.npy'\n",
    "target_dataset_file = f'{data_directory}/y.npy'"
   ]
  },
  {
   "cell_type": "code",
   "execution_count": 55,
   "id": "cb2e8db4-77b4-4a40-a04f-c3b8c1c77e6a",
   "metadata": {},
   "outputs": [],
   "source": [
    "## Make sure model history exists\n",
    "if not exists(model_history_file):\n",
    "    model_history = pd.DataFrame(columns=['model', 'history'])\n",
    "else:\n",
    "    model_history = pd.read_csv(model_history_file, index_col=0)"
   ]
  },
  {
   "cell_type": "markdown",
   "id": "2395f538-7d20-41bd-ad43-903722c14353",
   "metadata": {},
   "source": [
    "## Data\n",
    "\n",
    "### Load Datasets"
   ]
  },
  {
   "cell_type": "code",
   "execution_count": 13,
   "id": "b8adc2f0-fb4f-47c1-b4da-c38bf4664187",
   "metadata": {},
   "outputs": [],
   "source": [
    "## Load the datasets\n",
    "X = np.load(input_dataset_file)\n",
    "y = np.load(target_dataset_file)"
   ]
  },
  {
   "cell_type": "markdown",
   "id": "fe94ac04-69de-4119-afc0-3b739a7d4c7c",
   "metadata": {},
   "source": [
    "### Create Train/Test Split"
   ]
  },
  {
   "cell_type": "code",
   "execution_count": 14,
   "id": "fe4aca8a-e81e-4bcb-a1ef-ca35510f1fff",
   "metadata": {},
   "outputs": [],
   "source": [
    "X_train, X_test, y_train, y_test = train_test_split(X, y, random_state=0)"
   ]
  },
  {
   "cell_type": "markdown",
   "id": "b51ada31-38b8-4741-8e56-6c0c8038777b",
   "metadata": {},
   "source": [
    "## Model"
   ]
  },
  {
   "cell_type": "markdown",
   "id": "a93d1a97-d274-44a6-af63-d4a31319598a",
   "metadata": {},
   "source": [
    "### Create Framework"
   ]
  },
  {
   "cell_type": "code",
   "execution_count": 15,
   "id": "5a940ca6-925c-4e95-ab62-4ea62dee92fb",
   "metadata": {},
   "outputs": [],
   "source": [
    "## Lesson 8.03\n",
    "model = Sequential()\n",
    "model.add(Flatten(input_shape=(32,32,1)))\n",
    "model.add(Dense(128, activation='relu'))\n",
    "model.add(Dense(32, activation='relu'))\n",
    "model.add(Dense(2, activation='linear'))"
   ]
  },
  {
   "cell_type": "markdown",
   "id": "2a3d88d4-3af5-4295-99cd-9b48463989b2",
   "metadata": {},
   "source": [
    "### Compile"
   ]
  },
  {
   "cell_type": "code",
   "execution_count": 16,
   "id": "abd50f82-659a-46ef-87bc-d6f51ac7022e",
   "metadata": {},
   "outputs": [],
   "source": [
    "model.compile(loss='mse', optimizer='adam', metrics=[MAE])"
   ]
  },
  {
   "cell_type": "markdown",
   "id": "51895fa3-cc0a-4f87-8984-de874d95d90d",
   "metadata": {},
   "source": [
    "### Fit"
   ]
  },
  {
   "cell_type": "code",
   "execution_count": 17,
   "id": "940e971a-b7a5-443d-b327-81bb53384e69",
   "metadata": {},
   "outputs": [
    {
     "data": {
      "text/plain": [
       "(32, 32, 1)"
      ]
     },
     "execution_count": 17,
     "metadata": {},
     "output_type": "execute_result"
    }
   ],
   "source": [
    "X_train[0].shape"
   ]
  },
  {
   "cell_type": "code",
   "execution_count": 18,
   "id": "cdcd95c8-7e41-47bf-b45d-d7026eaba9ca",
   "metadata": {},
   "outputs": [],
   "source": [
    "results = model.fit(X_train, y_train, epochs=100, validation_data=(X_test, y_test), verbose=0)"
   ]
  },
  {
   "cell_type": "code",
   "execution_count": 19,
   "id": "4b4dba73-478d-43f2-b5ee-2b1d0a02d48b",
   "metadata": {},
   "outputs": [
    {
     "data": {
      "text/plain": [
       "0.007864867337048054"
      ]
     },
     "execution_count": 19,
     "metadata": {},
     "output_type": "execute_result"
    }
   ],
   "source": [
    "results.history['loss'][-1]"
   ]
  },
  {
   "cell_type": "code",
   "execution_count": 20,
   "id": "5f53baa0-6d29-48d5-a86a-4a57f6c8c384",
   "metadata": {},
   "outputs": [
    {
     "data": {
      "text/plain": [
       "0.05443267151713371"
      ]
     },
     "execution_count": 20,
     "metadata": {},
     "output_type": "execute_result"
    }
   ],
   "source": [
    "results.history['mean_absolute_error'][-1]"
   ]
  },
  {
   "cell_type": "code",
   "execution_count": 21,
   "id": "96436595-6f98-4827-a0a6-1f8e27590514",
   "metadata": {},
   "outputs": [
    {
     "data": {
      "image/png": "[encoded data removed]",
      "text/plain": [
       "<Figure size 432x288 with 1 Axes>"
      ]
     },
     "metadata": {
      "needs_background": "light"
     },
     "output_type": "display_data"
    }
   ],
   "source": [
    "plt.plot(results.history['loss'], label = 'Training Loss')\n",
    "plt.plot(results.history['val_loss'], label = 'Testing Loss')\n",
    "plt.legend();"
   ]
  },
  {
   "cell_type": "code",
   "execution_count": 22,
   "id": "fc1701a1-c3ef-4564-95cd-5275f8ba1ae2",
   "metadata": {},
   "outputs": [
    {
     "data": {
      "image/png": "[encoded data removed]",
      "text/plain": [
       "<Figure size 432x288 with 1 Axes>"
      ]
     },
     "metadata": {
      "needs_background": "light"
     },
     "output_type": "display_data"
    }
   ],
   "source": [
    "plt.plot(results.history['mean_absolute_error'], label = 'Training MAE')\n",
    "plt.plot(results.history['val_mean_absolute_error'], label = 'Testing MAE')\n",
    "plt.legend();"
   ]
  },
  {
   "cell_type": "code",
   "execution_count": 23,
   "id": "35c7e6a6-dd2a-4f53-928a-844976d47a7e",
   "metadata": {},
   "outputs": [],
   "source": [
    "preds = model.predict(X_test)"
   ]
  },
  {
   "cell_type": "code",
   "execution_count": 24,
   "id": "31618e79-8846-42d0-86fe-2f7ed6c723bb",
   "metadata": {},
   "outputs": [
    {
     "data": {
      "text/plain": [
       "array([[0.02152353, 1.0291115 ],\n",
       "       [0.58715653, 0.29073834],\n",
       "       [0.44118237, 0.9705342 ],\n",
       "       ...,\n",
       "       [0.07193129, 0.03642164],\n",
       "       [0.01563924, 0.9710234 ],\n",
       "       [0.4305348 , 0.97882867]], dtype=float32)"
      ]
     },
     "execution_count": 24,
     "metadata": {},
     "output_type": "execute_result"
    }
   ],
   "source": [
    "preds"
   ]
  },
  {
   "cell_type": "markdown",
   "id": "1cdcdfbd-a430-4081-8510-99968ab37188",
   "metadata": {},
   "source": [
    "## Save model"
   ]
  },
  {
   "cell_type": "code",
   "execution_count": 52,
   "id": "a6467968-7308-4cd8-9829-eda955a678a5",
   "metadata": {},
   "outputs": [
    {
     "data": {
      "text/html": [
       "<div>\n",
       "<style scoped>\n",
       "    .dataframe tbody tr th:only-of-type {\n",
       "        vertical-align: middle;\n",
       "    }\n",
       "\n",
       "    .dataframe tbody tr th {\n",
       "        vertical-align: top;\n",
       "    }\n",
       "\n",
       "    .dataframe thead th {\n",
       "        text-align: right;\n",
       "    }\n",
       "</style>\n",
       "<table border=\"1\" class=\"dataframe\">\n",
       "  <thead>\n",
       "    <tr style=\"text-align: right;\">\n",
       "      <th></th>\n",
       "      <th>model</th>\n",
       "      <th>history</th>\n",
       "    </tr>\n",
       "  </thead>\n",
       "  <tbody>\n",
       "    <tr>\n",
       "      <th>0</th>\n",
       "      <td>../models/11_06_2021/16_31_26/model_0.h5</td>\n",
       "      <td>{'loss': [0.11859388649463654, 0.0753109157085...</td>\n",
       "    </tr>\n",
       "  </tbody>\n",
       "</table>\n",
       "</div>"
      ],
      "text/plain": [
       "                                      model  \\\n",
       "0  ../models/11_06_2021/16_31_26/model_0.h5   \n",
       "\n",
       "                                             history  \n",
       "0  {'loss': [0.11859388649463654, 0.0753109157085...  "
      ]
     },
     "execution_count": 52,
     "metadata": {},
     "output_type": "execute_result"
    }
   ],
   "source": [
    "model_index = max(0, model_history.index.max() + 1)\n",
    "model_path = f'{model_directory}/model_{model_index}.h5'\n",
    "\n",
    "history_dictionary = {\n",
    "    'model': model_path,\n",
    "    'history': results.history\n",
    "}\n",
    "\n",
    "model_history = model_history.append(history_dictionary, ignore_index=True)\n",
    "model_history.tail(1)"
   ]
  },
  {
   "cell_type": "code",
   "execution_count": 54,
   "id": "871c66a1-e8c3-4c1b-bc39-39bb199a5994",
   "metadata": {},
   "outputs": [],
   "source": [
    "## Saving as h5 for backwards compatibility\n",
    "model.save(model_path, save_format='h5')\n",
    "model_history.to_csv(model_history_file)"
   ]
  }
 ],
 "metadata": {
  "kernelspec": {
   "display_name": "Python 3 (ipykernel)",
   "language": "python",
   "name": "python3"
  },
  "language_info": {
   "codemirror_mode": {
    "name": "ipython",
    "version": 3
   },
   "file_extension": ".py",
   "mimetype": "text/x-python",
   "name": "python",
   "nbconvert_exporter": "python",
   "pygments_lexer": "ipython3",
   "version": "3.9.7"
  }
 },
 "nbformat": 4,
 "nbformat_minor": 5
}
