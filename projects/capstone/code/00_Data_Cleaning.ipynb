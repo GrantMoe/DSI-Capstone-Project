{
 "cells": [
  {
   "cell_type": "markdown",
   "id": "da1de231-e9e8-4f0b-8758-b67011969f80",
   "metadata": {},
   "source": [
    "# Data Cleaning\n",
    "\n",
    "In this notebook I will import and inspect the image and telemetry data taken from Donkey Sim, and organize it for modeling steps.\n",
    "\n",
    "* Import telemetry .csv\n",
    "* Import image data\n",
    "* Convert image data\n",
    "* Create dataframe with: \n",
    "  * steering inputs, \n",
    "  * throttle inputs\n",
    "  * converted imageds\n",
    "* Save as a pickle format file for modeling"
   ]
  },
  {
   "cell_type": "code",
   "execution_count": 7,
   "id": "ca6f1792-6e54-4a32-9efb-e2052c199a6c",
   "metadata": {},
   "outputs": [],
   "source": [
    "## Imports\n",
    "import numpy as np\n",
    "import pandas as pd\n",
    "import os\n",
    "import sys\n",
    "import matplotlib.pyplot as plt\n",
    "\n",
    "# https://stackoverflow.com/questions/57318892/convert-base64-encoded-image-to-a-numpy-array\n",
    "# from PIL import Image\n",
    "# import PIL\n",
    "# import base64\n",
    "# import io\n",
    "\n",
    "# import tensorflow as tf\n",
    "from tensorflow.keras.utils import image_dataset_from_directory, img_to_array, load_img\n"
   ]
  },
  {
   "cell_type": "markdown",
   "id": "2c4c10aa-3aa2-4767-8af1-42f1ba88016e",
   "metadata": {
    "tags": []
   },
   "source": [
    "## Telemetry Data\n",
    "### TODO: ### \n",
    "* code up a way to get most recent?\n",
    "* **change this when it's time to submit**"
   ]
  },
  {
   "cell_type": "code",
   "execution_count": 8,
   "id": "257a4f0c-ab85-4ff1-9288-95bfe00ab6b6",
   "metadata": {},
   "outputs": [],
   "source": [
    "## Constants\n",
    "telemetry_filename = '/home/grant/projects/donkeysim-client/data/11_06_2021/16_31_26/data.csv'\n",
    "image_folder = '/home/grant/projects/donkeysim-client/data/11_06_2021/16_31_26/images/'"
   ]
  },
  {
   "cell_type": "markdown",
   "id": "1234522f-ccb4-4d3a-80b6-ae6c86b7d416",
   "metadata": {},
   "source": [
    "### Load CSV file as DataFrame"
   ]
  },
  {
   "cell_type": "code",
   "execution_count": 9,
   "id": "f8e7a448-e202-4ef7-a2d9-53f1a6f14cc3",
   "metadata": {},
   "outputs": [
    {
     "data": {
      "text/html": [
       "<div>\n",
       "<style scoped>\n",
       "    .dataframe tbody tr th:only-of-type {\n",
       "        vertical-align: middle;\n",
       "    }\n",
       "\n",
       "    .dataframe tbody tr th {\n",
       "        vertical-align: top;\n",
       "    }\n",
       "\n",
       "    .dataframe thead th {\n",
       "        text-align: right;\n",
       "    }\n",
       "</style>\n",
       "<table border=\"1\" class=\"dataframe\">\n",
       "  <thead>\n",
       "    <tr style=\"text-align: right;\">\n",
       "      <th></th>\n",
       "      <th>steering_angle</th>\n",
       "      <th>throttle</th>\n",
       "      <th>speed</th>\n",
       "      <th>image</th>\n",
       "      <th>hit</th>\n",
       "      <th>time</th>\n",
       "      <th>accel_x</th>\n",
       "      <th>accel_y</th>\n",
       "      <th>accel_z</th>\n",
       "      <th>gyro_x</th>\n",
       "      <th>...</th>\n",
       "      <th>totalNodes</th>\n",
       "      <th>pos_x</th>\n",
       "      <th>pos_y</th>\n",
       "      <th>pos_z</th>\n",
       "      <th>vel_x</th>\n",
       "      <th>vel_y</th>\n",
       "      <th>vel_z</th>\n",
       "      <th>on_road</th>\n",
       "      <th>progress_on_shortest_path</th>\n",
       "      <th>lap</th>\n",
       "    </tr>\n",
       "  </thead>\n",
       "  <tbody>\n",
       "    <tr>\n",
       "      <th>0</th>\n",
       "      <td>0.0</td>\n",
       "      <td>0.060606</td>\n",
       "      <td>0.014416</td>\n",
       "      <td>2_63297.png</td>\n",
       "      <td>none</td>\n",
       "      <td>2.632970</td>\n",
       "      <td>-0.008254</td>\n",
       "      <td>0.113567</td>\n",
       "      <td>-0.027561</td>\n",
       "      <td>-0.000144</td>\n",
       "      <td>...</td>\n",
       "      <td>307</td>\n",
       "      <td>14.03953</td>\n",
       "      <td>0.563753</td>\n",
       "      <td>-68.18574</td>\n",
       "      <td>0.000980</td>\n",
       "      <td>-0.010510</td>\n",
       "      <td>0.009818</td>\n",
       "      <td>0</td>\n",
       "      <td>0</td>\n",
       "      <td>0</td>\n",
       "    </tr>\n",
       "    <tr>\n",
       "      <th>1</th>\n",
       "      <td>0.0</td>\n",
       "      <td>0.397850</td>\n",
       "      <td>0.005633</td>\n",
       "      <td>2_682824.png</td>\n",
       "      <td>none</td>\n",
       "      <td>2.682824</td>\n",
       "      <td>-0.008932</td>\n",
       "      <td>0.125598</td>\n",
       "      <td>-1.216979</td>\n",
       "      <td>-0.000223</td>\n",
       "      <td>...</td>\n",
       "      <td>307</td>\n",
       "      <td>14.03894</td>\n",
       "      <td>0.563582</td>\n",
       "      <td>-68.18635</td>\n",
       "      <td>0.000712</td>\n",
       "      <td>-0.005540</td>\n",
       "      <td>0.000735</td>\n",
       "      <td>0</td>\n",
       "      <td>0</td>\n",
       "      <td>0</td>\n",
       "    </tr>\n",
       "    <tr>\n",
       "      <th>2</th>\n",
       "      <td>0.0</td>\n",
       "      <td>1.000000</td>\n",
       "      <td>0.121340</td>\n",
       "      <td>2_732961.png</td>\n",
       "      <td>none</td>\n",
       "      <td>2.732961</td>\n",
       "      <td>-0.008724</td>\n",
       "      <td>0.133860</td>\n",
       "      <td>2.346596</td>\n",
       "      <td>0.000915</td>\n",
       "      <td>...</td>\n",
       "      <td>307</td>\n",
       "      <td>14.03420</td>\n",
       "      <td>0.563059</td>\n",
       "      <td>-68.19118</td>\n",
       "      <td>0.000248</td>\n",
       "      <td>0.002305</td>\n",
       "      <td>0.121318</td>\n",
       "      <td>0</td>\n",
       "      <td>0</td>\n",
       "      <td>0</td>\n",
       "    </tr>\n",
       "    <tr>\n",
       "      <th>3</th>\n",
       "      <td>0.0</td>\n",
       "      <td>1.000000</td>\n",
       "      <td>0.257272</td>\n",
       "      <td>2_782386.png</td>\n",
       "      <td>none</td>\n",
       "      <td>2.782386</td>\n",
       "      <td>-0.018795</td>\n",
       "      <td>0.083559</td>\n",
       "      <td>3.245206</td>\n",
       "      <td>0.001853</td>\n",
       "      <td>...</td>\n",
       "      <td>307</td>\n",
       "      <td>14.02756</td>\n",
       "      <td>0.562652</td>\n",
       "      <td>-68.19820</td>\n",
       "      <td>-0.000440</td>\n",
       "      <td>0.006210</td>\n",
       "      <td>0.257197</td>\n",
       "      <td>0</td>\n",
       "      <td>0</td>\n",
       "      <td>0</td>\n",
       "    </tr>\n",
       "    <tr>\n",
       "      <th>4</th>\n",
       "      <td>0.0</td>\n",
       "      <td>1.000000</td>\n",
       "      <td>0.402505</td>\n",
       "      <td>2_832628.png</td>\n",
       "      <td>none</td>\n",
       "      <td>2.832628</td>\n",
       "      <td>-0.049414</td>\n",
       "      <td>0.023296</td>\n",
       "      <td>1.974267</td>\n",
       "      <td>0.001858</td>\n",
       "      <td>...</td>\n",
       "      <td>307</td>\n",
       "      <td>14.01181</td>\n",
       "      <td>0.562419</td>\n",
       "      <td>-68.21478</td>\n",
       "      <td>-0.001762</td>\n",
       "      <td>0.008644</td>\n",
       "      <td>0.402409</td>\n",
       "      <td>0</td>\n",
       "      <td>0</td>\n",
       "      <td>0</td>\n",
       "    </tr>\n",
       "  </tbody>\n",
       "</table>\n",
       "<p>5 rows × 28 columns</p>\n",
       "</div>"
      ],
      "text/plain": [
       "   steering_angle  throttle     speed         image   hit      time   accel_x  \\\n",
       "0             0.0  0.060606  0.014416   2_63297.png  none  2.632970 -0.008254   \n",
       "1             0.0  0.397850  0.005633  2_682824.png  none  2.682824 -0.008932   \n",
       "2             0.0  1.000000  0.121340  2_732961.png  none  2.732961 -0.008724   \n",
       "3             0.0  1.000000  0.257272  2_782386.png  none  2.782386 -0.018795   \n",
       "4             0.0  1.000000  0.402505  2_832628.png  none  2.832628 -0.049414   \n",
       "\n",
       "    accel_y   accel_z    gyro_x  ...  totalNodes     pos_x     pos_y  \\\n",
       "0  0.113567 -0.027561 -0.000144  ...         307  14.03953  0.563753   \n",
       "1  0.125598 -1.216979 -0.000223  ...         307  14.03894  0.563582   \n",
       "2  0.133860  2.346596  0.000915  ...         307  14.03420  0.563059   \n",
       "3  0.083559  3.245206  0.001853  ...         307  14.02756  0.562652   \n",
       "4  0.023296  1.974267  0.001858  ...         307  14.01181  0.562419   \n",
       "\n",
       "      pos_z     vel_x     vel_y     vel_z  on_road  progress_on_shortest_path  \\\n",
       "0 -68.18574  0.000980 -0.010510  0.009818        0                          0   \n",
       "1 -68.18635  0.000712 -0.005540  0.000735        0                          0   \n",
       "2 -68.19118  0.000248  0.002305  0.121318        0                          0   \n",
       "3 -68.19820 -0.000440  0.006210  0.257197        0                          0   \n",
       "4 -68.21478 -0.001762  0.008644  0.402409        0                          0   \n",
       "\n",
       "   lap  \n",
       "0    0  \n",
       "1    0  \n",
       "2    0  \n",
       "3    0  \n",
       "4    0  \n",
       "\n",
       "[5 rows x 28 columns]"
      ]
     },
     "execution_count": 9,
     "metadata": {},
     "output_type": "execute_result"
    }
   ],
   "source": [
    "df = pd.read_csv(telemetry_filename)\n",
    "df.head()"
   ]
  },
  {
   "cell_type": "code",
   "execution_count": 10,
   "id": "ddb46dff-dfe1-4585-a415-8fcf64effea8",
   "metadata": {},
   "outputs": [
    {
     "name": "stdout",
     "output_type": "stream",
     "text": [
      "<class 'pandas.core.frame.DataFrame'>\n",
      "RangeIndex: 7644 entries, 0 to 7643\n",
      "Data columns (total 28 columns):\n",
      " #   Column                     Non-Null Count  Dtype  \n",
      "---  ------                     --------------  -----  \n",
      " 0   steering_angle             7644 non-null   float64\n",
      " 1   throttle                   7644 non-null   float64\n",
      " 2   speed                      7644 non-null   float64\n",
      " 3   image                      7644 non-null   object \n",
      " 4   hit                        7644 non-null   object \n",
      " 5   time                       7644 non-null   float64\n",
      " 6   accel_x                    7644 non-null   float64\n",
      " 7   accel_y                    7644 non-null   float64\n",
      " 8   accel_z                    7644 non-null   float64\n",
      " 9   gyro_x                     7644 non-null   float64\n",
      " 10  gyro_y                     7644 non-null   float64\n",
      " 11  gyro_z                     7644 non-null   float64\n",
      " 12  gyro_w                     7644 non-null   float64\n",
      " 13  pitch                      7644 non-null   float64\n",
      " 14  yaw                        7644 non-null   float64\n",
      " 15  roll                       7644 non-null   float64\n",
      " 16  cte                        7644 non-null   float64\n",
      " 17  activeNode                 7644 non-null   int64  \n",
      " 18  totalNodes                 7644 non-null   int64  \n",
      " 19  pos_x                      7644 non-null   float64\n",
      " 20  pos_y                      7644 non-null   float64\n",
      " 21  pos_z                      7644 non-null   float64\n",
      " 22  vel_x                      7644 non-null   float64\n",
      " 23  vel_y                      7644 non-null   float64\n",
      " 24  vel_z                      7644 non-null   float64\n",
      " 25  on_road                    7644 non-null   int64  \n",
      " 26  progress_on_shortest_path  7644 non-null   int64  \n",
      " 27  lap                        7644 non-null   int64  \n",
      "dtypes: float64(21), int64(5), object(2)\n",
      "memory usage: 1.6+ MB\n"
     ]
    }
   ],
   "source": [
    "df.info()"
   ]
  },
  {
   "cell_type": "code",
   "execution_count": 11,
   "id": "88a93822-88f8-426b-a26b-38c39dafac57",
   "metadata": {},
   "outputs": [],
   "source": [
    "df.drop(columns=['speed','hit', 'time',\n",
    "       'accel_x', 'accel_y', 'accel_z', 'gyro_x', 'gyro_y', 'gyro_z', 'gyro_w',\n",
    "       'pitch', 'yaw', 'roll', 'cte', 'activeNode', 'totalNodes', 'pos_x',\n",
    "       'pos_y', 'pos_z', 'vel_x', 'vel_y', 'vel_z', 'on_road',\n",
    "       'progress_on_shortest_path',], inplace=True)"
   ]
  },
  {
   "cell_type": "code",
   "execution_count": 12,
   "id": "1c049d71-8c7e-4f62-95d3-9a8221b5c405",
   "metadata": {},
   "outputs": [
    {
     "data": {
      "text/plain": [
       "array([ 0,  1,  2,  3,  4,  5,  6,  7,  8,  9, 10])"
      ]
     },
     "execution_count": 12,
     "metadata": {},
     "output_type": "execute_result"
    }
   ],
   "source": [
    "df.lap.unique()"
   ]
  },
  {
   "cell_type": "code",
   "execution_count": 13,
   "id": "79615c87-732a-4000-aa7f-8bec981d7238",
   "metadata": {},
   "outputs": [
    {
     "data": {
      "text/plain": [
       "710165"
      ]
     },
     "execution_count": 13,
     "metadata": {},
     "output_type": "execute_result"
    }
   ],
   "source": [
    "sys.getsizeof(df)"
   ]
  },
  {
   "cell_type": "code",
   "execution_count": 14,
   "id": "5879b58e-2502-468c-bdd4-453db9176e63",
   "metadata": {},
   "outputs": [
    {
     "data": {
      "text/plain": [
       "steering_angle    float64\n",
       "throttle          float64\n",
       "image              object\n",
       "lap                 int64\n",
       "dtype: object"
      ]
     },
     "execution_count": 14,
     "metadata": {},
     "output_type": "execute_result"
    }
   ],
   "source": [
    "df.dtypes"
   ]
  },
  {
   "cell_type": "markdown",
   "id": "ed8f74da-ad72-498a-a051-bd54725e010c",
   "metadata": {},
   "source": [
    "### Convert datatypes (?)"
   ]
  },
  {
   "cell_type": "code",
   "execution_count": 15,
   "id": "44b528b7-3c0d-4cbd-a176-6ea14cbc4570",
   "metadata": {},
   "outputs": [
    {
     "data": {
      "text/plain": [
       "649013"
      ]
     },
     "execution_count": 15,
     "metadata": {},
     "output_type": "execute_result"
    }
   ],
   "source": [
    "df['steering_angle'] = pd.to_numeric(df['steering_angle'], downcast='float')\n",
    "df['throttle'] = pd.to_numeric(df['throttle'], downcast='float')\n",
    "sys.getsizeof(df)"
   ]
  },
  {
   "cell_type": "code",
   "execution_count": 16,
   "id": "b7dadc65-f231-442b-b408-346111e21ae0",
   "metadata": {},
   "outputs": [
    {
     "data": {
      "text/plain": [
       "steering_angle    float32\n",
       "throttle          float32\n",
       "image              object\n",
       "lap                 int64\n",
       "dtype: object"
      ]
     },
     "execution_count": 16,
     "metadata": {},
     "output_type": "execute_result"
    }
   ],
   "source": [
    "df.dtypes"
   ]
  },
  {
   "cell_type": "markdown",
   "id": "c85a27b4-ab12-45a7-ada9-19e4a834fff5",
   "metadata": {},
   "source": [
    "### Remove \"Extra\" Lap"
   ]
  },
  {
   "cell_type": "code",
   "execution_count": 17,
   "id": "47edf7e8-6057-41da-8443-9e33bc96e77e",
   "metadata": {},
   "outputs": [
    {
     "data": {
      "text/plain": [
       "1     865\n",
       "6     853\n",
       "8     848\n",
       "7     848\n",
       "9     831\n",
       "5     830\n",
       "3     829\n",
       "2     825\n",
       "4     822\n",
       "10     60\n",
       "0      33\n",
       "Name: lap, dtype: int64"
      ]
     },
     "execution_count": 17,
     "metadata": {},
     "output_type": "execute_result"
    }
   ],
   "source": [
    "df['lap'].value_counts()"
   ]
  },
  {
   "cell_type": "code",
   "execution_count": 18,
   "id": "4778fa13-4c2c-4a3b-a7a8-acba2b3dc462",
   "metadata": {},
   "outputs": [
    {
     "data": {
      "text/html": [
       "<div>\n",
       "<style scoped>\n",
       "    .dataframe tbody tr th:only-of-type {\n",
       "        vertical-align: middle;\n",
       "    }\n",
       "\n",
       "    .dataframe tbody tr th {\n",
       "        vertical-align: top;\n",
       "    }\n",
       "\n",
       "    .dataframe thead th {\n",
       "        text-align: right;\n",
       "    }\n",
       "</style>\n",
       "<table border=\"1\" class=\"dataframe\">\n",
       "  <thead>\n",
       "    <tr style=\"text-align: right;\">\n",
       "      <th></th>\n",
       "      <th>steering_angle</th>\n",
       "      <th>throttle</th>\n",
       "      <th>image</th>\n",
       "    </tr>\n",
       "  </thead>\n",
       "  <tbody>\n",
       "    <tr>\n",
       "      <th>0</th>\n",
       "      <td>0.0</td>\n",
       "      <td>0.060606</td>\n",
       "      <td>2_63297.png</td>\n",
       "    </tr>\n",
       "    <tr>\n",
       "      <th>1</th>\n",
       "      <td>0.0</td>\n",
       "      <td>0.397850</td>\n",
       "      <td>2_682824.png</td>\n",
       "    </tr>\n",
       "    <tr>\n",
       "      <th>2</th>\n",
       "      <td>0.0</td>\n",
       "      <td>1.000000</td>\n",
       "      <td>2_732961.png</td>\n",
       "    </tr>\n",
       "    <tr>\n",
       "      <th>3</th>\n",
       "      <td>0.0</td>\n",
       "      <td>1.000000</td>\n",
       "      <td>2_782386.png</td>\n",
       "    </tr>\n",
       "    <tr>\n",
       "      <th>4</th>\n",
       "      <td>0.0</td>\n",
       "      <td>1.000000</td>\n",
       "      <td>2_832628.png</td>\n",
       "    </tr>\n",
       "    <tr>\n",
       "      <th>...</th>\n",
       "      <td>...</td>\n",
       "      <td>...</td>\n",
       "      <td>...</td>\n",
       "    </tr>\n",
       "    <tr>\n",
       "      <th>7579</th>\n",
       "      <td>0.0</td>\n",
       "      <td>0.000000</td>\n",
       "      <td>381_5842.png</td>\n",
       "    </tr>\n",
       "    <tr>\n",
       "      <th>7580</th>\n",
       "      <td>0.0</td>\n",
       "      <td>0.000000</td>\n",
       "      <td>381_6345.png</td>\n",
       "    </tr>\n",
       "    <tr>\n",
       "      <th>7581</th>\n",
       "      <td>0.0</td>\n",
       "      <td>0.000000</td>\n",
       "      <td>381_6844.png</td>\n",
       "    </tr>\n",
       "    <tr>\n",
       "      <th>7582</th>\n",
       "      <td>0.0</td>\n",
       "      <td>0.000000</td>\n",
       "      <td>381_7345.png</td>\n",
       "    </tr>\n",
       "    <tr>\n",
       "      <th>7583</th>\n",
       "      <td>0.0</td>\n",
       "      <td>0.000000</td>\n",
       "      <td>381_7843.png</td>\n",
       "    </tr>\n",
       "  </tbody>\n",
       "</table>\n",
       "<p>7584 rows × 3 columns</p>\n",
       "</div>"
      ],
      "text/plain": [
       "      steering_angle  throttle         image\n",
       "0                0.0  0.060606   2_63297.png\n",
       "1                0.0  0.397850  2_682824.png\n",
       "2                0.0  1.000000  2_732961.png\n",
       "3                0.0  1.000000  2_782386.png\n",
       "4                0.0  1.000000  2_832628.png\n",
       "...              ...       ...           ...\n",
       "7579             0.0  0.000000  381_5842.png\n",
       "7580             0.0  0.000000  381_6345.png\n",
       "7581             0.0  0.000000  381_6844.png\n",
       "7582             0.0  0.000000  381_7345.png\n",
       "7583             0.0  0.000000  381_7843.png\n",
       "\n",
       "[7584 rows x 3 columns]"
      ]
     },
     "execution_count": 18,
     "metadata": {},
     "output_type": "execute_result"
    }
   ],
   "source": [
    "## Cut off the little bit after the end of the training session\n",
    "df_y = df.loc[df['lap'] < df['lap'].max(), ['steering_angle', 'throttle', 'image']]\n",
    "df_y"
   ]
  },
  {
   "cell_type": "markdown",
   "id": "58c7f1e7-6fba-4dd2-a05d-cbb011c9c123",
   "metadata": {},
   "source": [
    "## Image Data"
   ]
  },
  {
   "cell_type": "markdown",
   "id": "0f0fbca1-3f08-426e-9d1e-09d740aea3b0",
   "metadata": {},
   "source": [
    "### Verify Files"
   ]
  },
  {
   "cell_type": "code",
   "execution_count": 19,
   "id": "5d5e6efd-727f-4d33-9f2f-eb2a6ccc9bbc",
   "metadata": {},
   "outputs": [
    {
     "data": {
      "text/plain": [
       "['17_13449.png', '261_9896.png', '313_4438.png', '148_5905.png', '32_5345.png']"
      ]
     },
     "execution_count": 19,
     "metadata": {},
     "output_type": "execute_result"
    }
   ],
   "source": [
    "## Verify Files\n",
    "os.listdir(image_folder)[:5]"
   ]
  },
  {
   "cell_type": "markdown",
   "id": "e76833b4-bd2f-42b3-b6d1-113ad4be16ed",
   "metadata": {},
   "source": [
    "## Create Image Array"
   ]
  },
  {
   "cell_type": "code",
   "execution_count": null,
   "id": "f28f4d70-2abc-4b70-ba26-153c38bc5245",
   "metadata": {},
   "outputs": [],
   "source": []
  },
  {
   "cell_type": "code",
   "execution_count": null,
   "id": "72157d49-cf56-4a45-8962-2667039d747e",
   "metadata": {},
   "outputs": [],
   "source": []
  },
  {
   "cell_type": "code",
   "execution_count": 20,
   "id": "51150f73-c1ab-4b99-8fcc-a49b780d94dc",
   "metadata": {},
   "outputs": [],
   "source": [
    "## Using keras, load images as list, adding to a list\n",
    "img_array_list = []\n",
    "for img in df_y['image']:\n",
    "    img_array_list.append(img_to_array(load_img(f\"{image_folder}{img}\", color_mode='grayscale')))"
   ]
  },
  {
   "cell_type": "code",
   "execution_count": 21,
   "id": "017ec015-2676-4596-a8bd-a22e5eba096b",
   "metadata": {},
   "outputs": [],
   "source": [
    "## convert list of arrays into a numpy array (of arrays())\n",
    "X = np.array(img_array_list)"
   ]
  },
  {
   "cell_type": "markdown",
   "id": "a3b9c6dc-97b5-4118-b27c-ef73d1f107e7",
   "metadata": {},
   "source": [
    "## Create Datasets"
   ]
  },
  {
   "cell_type": "markdown",
   "id": "c962648f-409c-427a-8034-6faa9e086edb",
   "metadata": {},
   "source": [
    "### Create Targets"
   ]
  },
  {
   "cell_type": "code",
   "execution_count": 23,
   "id": "7fa02d0b-5894-4417-820c-9506d8c748b7",
   "metadata": {},
   "outputs": [
    {
     "name": "stdout",
     "output_type": "stream",
     "text": [
      "X.shape: (7584, 32, 32, 1)\n",
      "y.shape: (7584, 2)\n"
     ]
    }
   ],
   "source": [
    "## Target: throttle and steering data\n",
    "y = df_y.drop(columns=['image']).to_numpy().copy()\n",
    "\n",
    "## Verify size\n",
    "print(f'X.shape: {X.shape}')\n",
    "print(f'y.shape: {y.shape}')"
   ]
  },
  {
   "cell_type": "markdown",
   "id": "93aa01b0-c708-4e33-ade8-9a4e5a46df08",
   "metadata": {},
   "source": [
    "### Scale Image Data"
   ]
  },
  {
   "cell_type": "code",
   "execution_count": 24,
   "id": "7625abad-29d6-4be5-bc98-7af219827ed6",
   "metadata": {},
   "outputs": [],
   "source": [
    "X /= 255"
   ]
  },
  {
   "cell_type": "markdown",
   "id": "ce504a00-93ee-45d7-85d4-1b7e07f83f98",
   "metadata": {},
   "source": [
    "### Save Datasets\n",
    "### TODO: Remvoe Hardcode"
   ]
  },
  {
   "cell_type": "code",
   "execution_count": 38,
   "id": "92c3dde5-8447-42b0-a246-f2d2b384dd93",
   "metadata": {},
   "outputs": [],
   "source": [
    "## Save as binary NumPy .npy format\n",
    "with open(f'../data/X.npy', 'wb') as X_out:\n",
    "    np.save(file=X_out, arr=X)\n",
    "with open(f'../data/y.npy', 'wb') as y_out:\n",
    "    np.save(file=y_out, arr=y)"
   ]
  }
 ],
 "metadata": {
  "kernelspec": {
   "display_name": "Python 3",
   "language": "python",
   "name": "python3"
  },
  "language_info": {
   "codemirror_mode": {
    "name": "ipython",
    "version": 3
   },
   "file_extension": ".py",
   "mimetype": "text/x-python",
   "name": "python",
   "nbconvert_exporter": "python",
   "pygments_lexer": "ipython3",
   "version": "3.8.8"
  }
 },
 "nbformat": 4,
 "nbformat_minor": 5
}
