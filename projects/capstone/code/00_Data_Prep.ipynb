{
 "cells": [
  {
   "cell_type": "markdown",
   "id": "da1de231-e9e8-4f0b-8758-b67011969f80",
   "metadata": {},
   "source": [
    "# Data Prep\n",
    "\n",
    "In this notebook I will import and inspect the image and telemetry data taken from Donkey Sim, and organize it for modeling steps.\n",
    "\n",
    "* Import telemetry .csv\n",
    "* Import image data\n",
    "* Convert image data\n",
    "* Create dataframe with: \n",
    "  * steering inputs, \n",
    "  * throttle inputs\n",
    "  * converted imageds\n",
    "* Save as a pickle format file for modeling"
   ]
  },
  {
   "cell_type": "code",
   "execution_count": 1,
   "id": "ca6f1792-6e54-4a32-9efb-e2052c199a6c",
   "metadata": {},
   "outputs": [
    {
     "name": "stderr",
     "output_type": "stream",
     "text": [
      "2021-11-09 16:23:29.988106: I tensorflow/stream_executor/platform/default/dso_loader.cc:49] Successfully opened dynamic library libcudart.so.10.1\n"
     ]
    }
   ],
   "source": [
    "## Imports\n",
    "import numpy as np\n",
    "import pandas as pd\n",
    "import os\n",
    "import sys\n",
    "import matplotlib.pyplot as plt\n",
    "import time\n",
    "\n",
    "from tensorflow.keras.preprocessing.image import img_to_array, load_img"
   ]
  },
  {
   "cell_type": "markdown",
   "id": "2c4c10aa-3aa2-4767-8af1-42f1ba88016e",
   "metadata": {
    "tags": []
   },
   "source": [
    "## Telemetry Data\n",
    "\n",
    "Steps:\n",
    "* load simulation telemetry data csv\n",
    "* cut unneeded columns\n",
    "* cut incomplete last lap\n",
    "* import images as numpy arrays\n",
    "* create numpy array of image data arrays\n",
    "* scale image data to range \\[0, 1.0\\]\n",
    "* save images as input dataset X\n",
    "* save steering angle and throttle data in numpy array as target dataset y\n"
   ]
  },
  {
   "cell_type": "code",
   "execution_count": 2,
   "id": "c47db9fe-e9a3-4a25-a59c-3d8a690e76bc",
   "metadata": {},
   "outputs": [],
   "source": [
    "## Constants\n",
    "working_date = '11_08_2021'\n",
    "working_time = '22_04_06'\n",
    "local_project_path = '/home/grant/projects/donkeysim-client/data'"
   ]
  },
  {
   "cell_type": "code",
   "execution_count": 3,
   "id": "351de744-92e0-4111-b0a1-dd9f51d309ed",
   "metadata": {},
   "outputs": [],
   "source": [
    "## Directories\n",
    "local_data_directory = f'{local_project_path}/{working_date}/{working_time}'\n",
    "local_image_directory = f'{local_data_directory}/images'\n",
    "working_data_directory = f'../data/{working_date}/{working_time}'\n",
    "\n",
    "## File paths\n",
    "telemetry_csv = f'{local_data_directory}/data.csv'\n",
    "input_dataset_file = f'{working_data_directory}/X.npy'\n",
    "target_dataset_file = f'{working_data_directory}/y.npy'"
   ]
  },
  {
   "cell_type": "markdown",
   "id": "1234522f-ccb4-4d3a-80b6-ae6c86b7d416",
   "metadata": {},
   "source": [
    "### Load CSV file as DataFrame"
   ]
  },
  {
   "cell_type": "code",
   "execution_count": 4,
   "id": "f8e7a448-e202-4ef7-a2d9-53f1a6f14cc3",
   "metadata": {},
   "outputs": [
    {
     "data": {
      "text/html": [
       "<div>\n",
       "<style scoped>\n",
       "    .dataframe tbody tr th:only-of-type {\n",
       "        vertical-align: middle;\n",
       "    }\n",
       "\n",
       "    .dataframe tbody tr th {\n",
       "        vertical-align: top;\n",
       "    }\n",
       "\n",
       "    .dataframe thead th {\n",
       "        text-align: right;\n",
       "    }\n",
       "</style>\n",
       "<table border=\"1\" class=\"dataframe\">\n",
       "  <thead>\n",
       "    <tr style=\"text-align: right;\">\n",
       "      <th></th>\n",
       "      <th>steering_angle</th>\n",
       "      <th>throttle</th>\n",
       "      <th>speed</th>\n",
       "      <th>image</th>\n",
       "      <th>hit</th>\n",
       "      <th>time</th>\n",
       "      <th>accel_x</th>\n",
       "      <th>accel_y</th>\n",
       "      <th>accel_z</th>\n",
       "      <th>gyro_x</th>\n",
       "      <th>...</th>\n",
       "      <th>totalNodes</th>\n",
       "      <th>pos_x</th>\n",
       "      <th>pos_y</th>\n",
       "      <th>pos_z</th>\n",
       "      <th>vel_x</th>\n",
       "      <th>vel_y</th>\n",
       "      <th>vel_z</th>\n",
       "      <th>on_road</th>\n",
       "      <th>progress_on_shortest_path</th>\n",
       "      <th>lap</th>\n",
       "    </tr>\n",
       "  </thead>\n",
       "  <tbody>\n",
       "    <tr>\n",
       "      <th>0</th>\n",
       "      <td>0.0</td>\n",
       "      <td>0.189638</td>\n",
       "      <td>0.009831</td>\n",
       "      <td>2.993828.PNG</td>\n",
       "      <td>none</td>\n",
       "      <td>2.993828</td>\n",
       "      <td>0.004379</td>\n",
       "      <td>-0.046158</td>\n",
       "      <td>0.572317</td>\n",
       "      <td>0.000207</td>\n",
       "      <td>...</td>\n",
       "      <td>307</td>\n",
       "      <td>14.03998</td>\n",
       "      <td>0.565938</td>\n",
       "      <td>-68.18555</td>\n",
       "      <td>-0.000634</td>\n",
       "      <td>0.008615</td>\n",
       "      <td>0.004694</td>\n",
       "      <td>0</td>\n",
       "      <td>0</td>\n",
       "      <td>0</td>\n",
       "    </tr>\n",
       "    <tr>\n",
       "      <th>1</th>\n",
       "      <td>0.0</td>\n",
       "      <td>0.319648</td>\n",
       "      <td>0.009307</td>\n",
       "      <td>3.042857.PNG</td>\n",
       "      <td>none</td>\n",
       "      <td>3.042857</td>\n",
       "      <td>0.002191</td>\n",
       "      <td>-0.046821</td>\n",
       "      <td>-0.481078</td>\n",
       "      <td>0.000152</td>\n",
       "      <td>...</td>\n",
       "      <td>307</td>\n",
       "      <td>14.03964</td>\n",
       "      <td>0.566061</td>\n",
       "      <td>-68.18594</td>\n",
       "      <td>-0.000503</td>\n",
       "      <td>0.006545</td>\n",
       "      <td>0.006599</td>\n",
       "      <td>0</td>\n",
       "      <td>0</td>\n",
       "      <td>0</td>\n",
       "    </tr>\n",
       "    <tr>\n",
       "      <th>2</th>\n",
       "      <td>0.0</td>\n",
       "      <td>0.319648</td>\n",
       "      <td>0.077560</td>\n",
       "      <td>3.093997.PNG</td>\n",
       "      <td>none</td>\n",
       "      <td>3.093997</td>\n",
       "      <td>-0.000576</td>\n",
       "      <td>-0.058607</td>\n",
       "      <td>1.317935</td>\n",
       "      <td>0.000639</td>\n",
       "      <td>...</td>\n",
       "      <td>307</td>\n",
       "      <td>14.03693</td>\n",
       "      <td>0.565829</td>\n",
       "      <td>-68.18880</td>\n",
       "      <td>-0.000194</td>\n",
       "      <td>0.002986</td>\n",
       "      <td>0.077502</td>\n",
       "      <td>0</td>\n",
       "      <td>0</td>\n",
       "      <td>0</td>\n",
       "    </tr>\n",
       "    <tr>\n",
       "      <th>3</th>\n",
       "      <td>0.0</td>\n",
       "      <td>0.712610</td>\n",
       "      <td>0.096726</td>\n",
       "      <td>3.142711.PNG</td>\n",
       "      <td>none</td>\n",
       "      <td>3.142711</td>\n",
       "      <td>0.003198</td>\n",
       "      <td>-0.030822</td>\n",
       "      <td>-0.162779</td>\n",
       "      <td>0.000480</td>\n",
       "      <td>...</td>\n",
       "      <td>307</td>\n",
       "      <td>14.03389</td>\n",
       "      <td>0.565611</td>\n",
       "      <td>-68.19193</td>\n",
       "      <td>-0.000083</td>\n",
       "      <td>0.001250</td>\n",
       "      <td>0.096717</td>\n",
       "      <td>0</td>\n",
       "      <td>0</td>\n",
       "      <td>0</td>\n",
       "    </tr>\n",
       "    <tr>\n",
       "      <th>4</th>\n",
       "      <td>0.0</td>\n",
       "      <td>0.907136</td>\n",
       "      <td>0.228915</td>\n",
       "      <td>3.193358.PNG</td>\n",
       "      <td>none</td>\n",
       "      <td>3.193358</td>\n",
       "      <td>-0.030274</td>\n",
       "      <td>-0.049059</td>\n",
       "      <td>1.639316</td>\n",
       "      <td>0.001036</td>\n",
       "      <td>...</td>\n",
       "      <td>307</td>\n",
       "      <td>14.02505</td>\n",
       "      <td>0.564970</td>\n",
       "      <td>-68.20108</td>\n",
       "      <td>-0.000137</td>\n",
       "      <td>-0.002383</td>\n",
       "      <td>0.228903</td>\n",
       "      <td>0</td>\n",
       "      <td>0</td>\n",
       "      <td>0</td>\n",
       "    </tr>\n",
       "  </tbody>\n",
       "</table>\n",
       "<p>5 rows × 28 columns</p>\n",
       "</div>"
      ],
      "text/plain": [
       "   steering_angle  throttle     speed         image   hit      time   accel_x  \\\n",
       "0             0.0  0.189638  0.009831  2.993828.PNG  none  2.993828  0.004379   \n",
       "1             0.0  0.319648  0.009307  3.042857.PNG  none  3.042857  0.002191   \n",
       "2             0.0  0.319648  0.077560  3.093997.PNG  none  3.093997 -0.000576   \n",
       "3             0.0  0.712610  0.096726  3.142711.PNG  none  3.142711  0.003198   \n",
       "4             0.0  0.907136  0.228915  3.193358.PNG  none  3.193358 -0.030274   \n",
       "\n",
       "    accel_y   accel_z    gyro_x  ...  totalNodes     pos_x     pos_y  \\\n",
       "0 -0.046158  0.572317  0.000207  ...         307  14.03998  0.565938   \n",
       "1 -0.046821 -0.481078  0.000152  ...         307  14.03964  0.566061   \n",
       "2 -0.058607  1.317935  0.000639  ...         307  14.03693  0.565829   \n",
       "3 -0.030822 -0.162779  0.000480  ...         307  14.03389  0.565611   \n",
       "4 -0.049059  1.639316  0.001036  ...         307  14.02505  0.564970   \n",
       "\n",
       "      pos_z     vel_x     vel_y     vel_z  on_road  progress_on_shortest_path  \\\n",
       "0 -68.18555 -0.000634  0.008615  0.004694        0                          0   \n",
       "1 -68.18594 -0.000503  0.006545  0.006599        0                          0   \n",
       "2 -68.18880 -0.000194  0.002986  0.077502        0                          0   \n",
       "3 -68.19193 -0.000083  0.001250  0.096717        0                          0   \n",
       "4 -68.20108 -0.000137 -0.002383  0.228903        0                          0   \n",
       "\n",
       "   lap  \n",
       "0    0  \n",
       "1    0  \n",
       "2    0  \n",
       "3    0  \n",
       "4    0  \n",
       "\n",
       "[5 rows x 28 columns]"
      ]
     },
     "execution_count": 4,
     "metadata": {},
     "output_type": "execute_result"
    }
   ],
   "source": [
    "df = pd.read_csv(telemetry_csv)\n",
    "df.head()"
   ]
  },
  {
   "cell_type": "code",
   "execution_count": 5,
   "id": "ddb46dff-dfe1-4585-a415-8fcf64effea8",
   "metadata": {},
   "outputs": [
    {
     "name": "stdout",
     "output_type": "stream",
     "text": [
      "<class 'pandas.core.frame.DataFrame'>\n",
      "RangeIndex: 8986 entries, 0 to 8985\n",
      "Data columns (total 28 columns):\n",
      " #   Column                     Non-Null Count  Dtype  \n",
      "---  ------                     --------------  -----  \n",
      " 0   steering_angle             8986 non-null   float64\n",
      " 1   throttle                   8986 non-null   float64\n",
      " 2   speed                      8986 non-null   float64\n",
      " 3   image                      8986 non-null   object \n",
      " 4   hit                        8986 non-null   object \n",
      " 5   time                       8986 non-null   float64\n",
      " 6   accel_x                    8986 non-null   float64\n",
      " 7   accel_y                    8986 non-null   float64\n",
      " 8   accel_z                    8986 non-null   float64\n",
      " 9   gyro_x                     8986 non-null   float64\n",
      " 10  gyro_y                     8986 non-null   float64\n",
      " 11  gyro_z                     8986 non-null   float64\n",
      " 12  gyro_w                     8986 non-null   float64\n",
      " 13  pitch                      8986 non-null   float64\n",
      " 14  yaw                        8986 non-null   float64\n",
      " 15  roll                       8986 non-null   float64\n",
      " 16  cte                        8986 non-null   float64\n",
      " 17  activeNode                 8986 non-null   int64  \n",
      " 18  totalNodes                 8986 non-null   int64  \n",
      " 19  pos_x                      8986 non-null   float64\n",
      " 20  pos_y                      8986 non-null   float64\n",
      " 21  pos_z                      8986 non-null   float64\n",
      " 22  vel_x                      8986 non-null   float64\n",
      " 23  vel_y                      8986 non-null   float64\n",
      " 24  vel_z                      8986 non-null   float64\n",
      " 25  on_road                    8986 non-null   int64  \n",
      " 26  progress_on_shortest_path  8986 non-null   int64  \n",
      " 27  lap                        8986 non-null   int64  \n",
      "dtypes: float64(21), int64(5), object(2)\n",
      "memory usage: 1.9+ MB\n"
     ]
    }
   ],
   "source": [
    "df.info()"
   ]
  },
  {
   "cell_type": "code",
   "execution_count": 6,
   "id": "88a93822-88f8-426b-a26b-38c39dafac57",
   "metadata": {},
   "outputs": [],
   "source": [
    "df.drop(columns=['speed','hit', 'time', 'accel_x', 'accel_y', 'accel_z', \n",
    "                 'gyro_x', 'gyro_y', 'gyro_z', 'gyro_w', 'pitch', 'yaw', \n",
    "                 'roll', 'cte', 'activeNode', 'totalNodes', 'pos_x', \n",
    "                 'pos_y', 'pos_z', 'vel_x', 'vel_y', 'vel_z', 'on_road', \n",
    "                 'progress_on_shortest_path',], inplace=True)"
   ]
  },
  {
   "cell_type": "code",
   "execution_count": 7,
   "id": "1c049d71-8c7e-4f62-95d3-9a8221b5c405",
   "metadata": {},
   "outputs": [
    {
     "data": {
      "text/plain": [
       "array([ 0,  1,  2,  3,  4,  5,  6,  7,  8,  9, 10, 11])"
      ]
     },
     "execution_count": 7,
     "metadata": {},
     "output_type": "execute_result"
    }
   ],
   "source": [
    "df.lap.unique()"
   ]
  },
  {
   "cell_type": "code",
   "execution_count": 8,
   "id": "79615c87-732a-4000-aa7f-8bec981d7238",
   "metadata": {},
   "outputs": [
    {
     "data": {
      "text/plain": [
       "834840"
      ]
     },
     "execution_count": 8,
     "metadata": {},
     "output_type": "execute_result"
    }
   ],
   "source": [
    "sys.getsizeof(df)"
   ]
  },
  {
   "cell_type": "code",
   "execution_count": 9,
   "id": "5879b58e-2502-468c-bdd4-453db9176e63",
   "metadata": {
    "tags": []
   },
   "outputs": [
    {
     "data": {
      "text/plain": [
       "steering_angle    float64\n",
       "throttle          float64\n",
       "image              object\n",
       "lap                 int64\n",
       "dtype: object"
      ]
     },
     "execution_count": 9,
     "metadata": {},
     "output_type": "execute_result"
    }
   ],
   "source": [
    "df.dtypes"
   ]
  },
  {
   "cell_type": "markdown",
   "id": "6902fd35-c662-4204-871f-c9b3af51c25d",
   "metadata": {},
   "source": [
    "### Rename Steering Column to Match Throttle"
   ]
  },
  {
   "cell_type": "code",
   "execution_count": 10,
   "id": "b091a90e-7ae1-417c-ac8f-68781bb70c19",
   "metadata": {},
   "outputs": [],
   "source": [
    "df.rename(columns={'steering_angle': 'steering', 'throttle': 'throttle',\n",
    "                   'image': 'image', 'lap': 'lap'}, inplace=True)"
   ]
  },
  {
   "cell_type": "markdown",
   "id": "ed8f74da-ad72-498a-a051-bd54725e010c",
   "metadata": {},
   "source": [
    "### Convert datatypes (?)"
   ]
  },
  {
   "cell_type": "code",
   "execution_count": 11,
   "id": "44b528b7-3c0d-4cbd-a176-6ea14cbc4570",
   "metadata": {},
   "outputs": [
    {
     "data": {
      "text/plain": [
       "700050"
      ]
     },
     "execution_count": 11,
     "metadata": {},
     "output_type": "execute_result"
    }
   ],
   "source": [
    "df['steering'] = pd.to_numeric(df['steering'], downcast='float')\n",
    "df['throttle'] = pd.to_numeric(df['throttle'], downcast='float')\n",
    "df['lap'] = pd.to_numeric(df['lap'], downcast='unsigned')\n",
    "sys.getsizeof(df)"
   ]
  },
  {
   "cell_type": "code",
   "execution_count": 12,
   "id": "b7dadc65-f231-442b-b408-346111e21ae0",
   "metadata": {},
   "outputs": [
    {
     "data": {
      "text/plain": [
       "steering    float32\n",
       "throttle    float32\n",
       "image        object\n",
       "lap           uint8\n",
       "dtype: object"
      ]
     },
     "execution_count": 12,
     "metadata": {},
     "output_type": "execute_result"
    }
   ],
   "source": [
    "df.dtypes"
   ]
  },
  {
   "cell_type": "markdown",
   "id": "c85a27b4-ab12-45a7-ada9-19e4a834fff5",
   "metadata": {},
   "source": [
    "### Remove \"Extra\" Lap"
   ]
  },
  {
   "cell_type": "code",
   "execution_count": 13,
   "id": "47edf7e8-6057-41da-8443-9e33bc96e77e",
   "metadata": {},
   "outputs": [
    {
     "data": {
      "text/plain": [
       "1     1038\n",
       "3      971\n",
       "2      898\n",
       "5      856\n",
       "4      854\n",
       "7      852\n",
       "6      845\n",
       "8      844\n",
       "10     830\n",
       "9      821\n",
       "11     141\n",
       "0       36\n",
       "Name: lap, dtype: int64"
      ]
     },
     "execution_count": 13,
     "metadata": {},
     "output_type": "execute_result"
    }
   ],
   "source": [
    "df['lap'].value_counts()"
   ]
  },
  {
   "cell_type": "code",
   "execution_count": 14,
   "id": "4778fa13-4c2c-4a3b-a7a8-acba2b3dc462",
   "metadata": {},
   "outputs": [
    {
     "data": {
      "text/html": [
       "<div>\n",
       "<style scoped>\n",
       "    .dataframe tbody tr th:only-of-type {\n",
       "        vertical-align: middle;\n",
       "    }\n",
       "\n",
       "    .dataframe tbody tr th {\n",
       "        vertical-align: top;\n",
       "    }\n",
       "\n",
       "    .dataframe thead th {\n",
       "        text-align: right;\n",
       "    }\n",
       "</style>\n",
       "<table border=\"1\" class=\"dataframe\">\n",
       "  <thead>\n",
       "    <tr style=\"text-align: right;\">\n",
       "      <th></th>\n",
       "      <th>steering</th>\n",
       "      <th>throttle</th>\n",
       "      <th>image</th>\n",
       "    </tr>\n",
       "  </thead>\n",
       "  <tbody>\n",
       "    <tr>\n",
       "      <th>0</th>\n",
       "      <td>0.0</td>\n",
       "      <td>0.189638</td>\n",
       "      <td>2.993828.PNG</td>\n",
       "    </tr>\n",
       "    <tr>\n",
       "      <th>1</th>\n",
       "      <td>0.0</td>\n",
       "      <td>0.319648</td>\n",
       "      <td>3.042857.PNG</td>\n",
       "    </tr>\n",
       "    <tr>\n",
       "      <th>2</th>\n",
       "      <td>0.0</td>\n",
       "      <td>0.319648</td>\n",
       "      <td>3.093997.PNG</td>\n",
       "    </tr>\n",
       "    <tr>\n",
       "      <th>3</th>\n",
       "      <td>0.0</td>\n",
       "      <td>0.712610</td>\n",
       "      <td>3.142711.PNG</td>\n",
       "    </tr>\n",
       "    <tr>\n",
       "      <th>4</th>\n",
       "      <td>0.0</td>\n",
       "      <td>0.907136</td>\n",
       "      <td>3.193358.PNG</td>\n",
       "    </tr>\n",
       "    <tr>\n",
       "      <th>...</th>\n",
       "      <td>...</td>\n",
       "      <td>...</td>\n",
       "      <td>...</td>\n",
       "    </tr>\n",
       "    <tr>\n",
       "      <th>8840</th>\n",
       "      <td>0.0</td>\n",
       "      <td>1.000000</td>\n",
       "      <td>444.9851.PNG</td>\n",
       "    </tr>\n",
       "    <tr>\n",
       "      <th>8841</th>\n",
       "      <td>0.0</td>\n",
       "      <td>1.000000</td>\n",
       "      <td>445.0352.PNG</td>\n",
       "    </tr>\n",
       "    <tr>\n",
       "      <th>8842</th>\n",
       "      <td>0.0</td>\n",
       "      <td>1.000000</td>\n",
       "      <td>445.0849.PNG</td>\n",
       "    </tr>\n",
       "    <tr>\n",
       "      <th>8843</th>\n",
       "      <td>0.0</td>\n",
       "      <td>1.000000</td>\n",
       "      <td>445.1353.PNG</td>\n",
       "    </tr>\n",
       "    <tr>\n",
       "      <th>8844</th>\n",
       "      <td>0.0</td>\n",
       "      <td>1.000000</td>\n",
       "      <td>445.1848.PNG</td>\n",
       "    </tr>\n",
       "  </tbody>\n",
       "</table>\n",
       "<p>8845 rows × 3 columns</p>\n",
       "</div>"
      ],
      "text/plain": [
       "      steering  throttle         image\n",
       "0          0.0  0.189638  2.993828.PNG\n",
       "1          0.0  0.319648  3.042857.PNG\n",
       "2          0.0  0.319648  3.093997.PNG\n",
       "3          0.0  0.712610  3.142711.PNG\n",
       "4          0.0  0.907136  3.193358.PNG\n",
       "...        ...       ...           ...\n",
       "8840       0.0  1.000000  444.9851.PNG\n",
       "8841       0.0  1.000000  445.0352.PNG\n",
       "8842       0.0  1.000000  445.0849.PNG\n",
       "8843       0.0  1.000000  445.1353.PNG\n",
       "8844       0.0  1.000000  445.1848.PNG\n",
       "\n",
       "[8845 rows x 3 columns]"
      ]
     },
     "execution_count": 14,
     "metadata": {},
     "output_type": "execute_result"
    }
   ],
   "source": [
    "## Cut off the little bit after the end of the training session\n",
    "df_y = df.loc[df['lap'] < df['lap'].max(), :].drop(columns='lap')\n",
    "df_y"
   ]
  },
  {
   "cell_type": "markdown",
   "id": "58c7f1e7-6fba-4dd2-a05d-cbb011c9c123",
   "metadata": {},
   "source": [
    "## Image Data"
   ]
  },
  {
   "cell_type": "markdown",
   "id": "0f0fbca1-3f08-426e-9d1e-09d740aea3b0",
   "metadata": {},
   "source": [
    "### Verify Files"
   ]
  },
  {
   "cell_type": "code",
   "execution_count": 15,
   "id": "5d5e6efd-727f-4d33-9f2f-eb2a6ccc9bbc",
   "metadata": {},
   "outputs": [
    {
     "data": {
      "text/plain": [
       "['420.181.PNG', '238.385.PNG', '374.6413.PNG', '380.1419.PNG', '78.53777.PNG']"
      ]
     },
     "execution_count": 15,
     "metadata": {},
     "output_type": "execute_result"
    }
   ],
   "source": [
    "## Verify Files\n",
    "os.listdir(local_image_directory)[:5]"
   ]
  },
  {
   "cell_type": "markdown",
   "id": "e76833b4-bd2f-42b3-b6d1-113ad4be16ed",
   "metadata": {},
   "source": [
    "## Create Image Array"
   ]
  },
  {
   "cell_type": "code",
   "execution_count": 16,
   "id": "92ff1151-4fad-4e54-bde3-f8fe29535d9f",
   "metadata": {},
   "outputs": [],
   "source": [
    "# test_img = load_img(f\"{local_image_directory}/420.181.PNG\", color_mode='grayscale')"
   ]
  },
  {
   "cell_type": "code",
   "execution_count": 17,
   "id": "b04d3e17-55da-418e-a133-454fcf5bd4e0",
   "metadata": {},
   "outputs": [],
   "source": [
    "# test_img.size"
   ]
  },
  {
   "cell_type": "code",
   "execution_count": null,
   "id": "596b4c98-f852-4c94-9630-1840f5fe94e4",
   "metadata": {},
   "outputs": [],
   "source": []
  },
  {
   "cell_type": "code",
   "execution_count": 18,
   "id": "51150f73-c1ab-4b99-8fcc-a49b780d94dc",
   "metadata": {},
   "outputs": [],
   "source": [
    "## Using keras, load images as list, adding to a list\n",
    "img_array_list = []\n",
    "for img in df_y['image']:\n",
    "    img_array_list.append(img_to_array(load_img(f\"{local_image_directory}/{img}\", \n",
    "                                                color_mode='grayscale', \n",
    "                                                target_size=(80, 60))))"
   ]
  },
  {
   "cell_type": "code",
   "execution_count": 19,
   "id": "017ec015-2676-4596-a8bd-a22e5eba096b",
   "metadata": {},
   "outputs": [],
   "source": [
    "## convert list of arrays into a numpy array (of arrays())\n",
    "X = np.array(img_array_list)"
   ]
  },
  {
   "cell_type": "markdown",
   "id": "a3b9c6dc-97b5-4118-b27c-ef73d1f107e7",
   "metadata": {},
   "source": [
    "## Create Datasets"
   ]
  },
  {
   "cell_type": "markdown",
   "id": "c962648f-409c-427a-8034-6faa9e086edb",
   "metadata": {},
   "source": [
    "### Create Targets"
   ]
  },
  {
   "cell_type": "code",
   "execution_count": 20,
   "id": "7fa02d0b-5894-4417-820c-9506d8c748b7",
   "metadata": {},
   "outputs": [
    {
     "name": "stdout",
     "output_type": "stream",
     "text": [
      "X.shape: (8845, 80, 60, 1)\n",
      "y.shape: (8845, 2)\n"
     ]
    }
   ],
   "source": [
    "## Target: throttle and steering data\n",
    "y = df_y.drop(columns=['image']).to_numpy().copy()\n",
    "\n",
    "## Verify size\n",
    "print(f'X.shape: {X.shape}')\n",
    "print(f'y.shape: {y.shape}')"
   ]
  },
  {
   "cell_type": "markdown",
   "id": "93aa01b0-c708-4e33-ade8-9a4e5a46df08",
   "metadata": {},
   "source": [
    "### Scale Image Data"
   ]
  },
  {
   "cell_type": "code",
   "execution_count": 21,
   "id": "7625abad-29d6-4be5-bc98-7af219827ed6",
   "metadata": {},
   "outputs": [],
   "source": [
    "X /= 255"
   ]
  },
  {
   "cell_type": "markdown",
   "id": "ce504a00-93ee-45d7-85d4-1b7e07f83f98",
   "metadata": {},
   "source": [
    "### Save Datasets"
   ]
  },
  {
   "cell_type": "code",
   "execution_count": 22,
   "id": "92c3dde5-8447-42b0-a246-f2d2b384dd93",
   "metadata": {},
   "outputs": [],
   "source": [
    "## Make sure directoires exist\n",
    "os.makedirs(working_data_directory, exist_ok=True)\n",
    "\n",
    "## Save as binary NumPy .npy format\n",
    "with open(input_dataset_file, 'wb') as X_out:\n",
    "    np.save(file=X_out, arr=X)\n",
    "with open(target_dataset_file, 'wb') as y_out:\n",
    "    np.save(file=y_out, arr=y)"
   ]
  }
 ],
 "metadata": {
  "kernelspec": {
   "display_name": "Python 3 (ipykernel)",
   "language": "python",
   "name": "python3"
  },
  "language_info": {
   "codemirror_mode": {
    "name": "ipython",
    "version": 3
   },
   "file_extension": ".py",
   "mimetype": "text/x-python",
   "name": "python",
   "nbconvert_exporter": "python",
   "pygments_lexer": "ipython3",
   "version": "3.9.7"
  }
 },
 "nbformat": 4,
 "nbformat_minor": 5
}
