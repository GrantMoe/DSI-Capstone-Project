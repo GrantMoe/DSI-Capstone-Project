{
 "cells": [
  {
   "cell_type": "markdown",
   "id": "1dabfb61-8e59-4b51-a5cb-b02d7f12b240",
   "metadata": {},
   "source": [
    "# Model Tuning\n",
    "\n",
    "Now that I have established that I can train a model to drive the car, I will start building a CNN that can successfully complete a lap.\n",
    "I have learned much from [this article by Jason Brownlee on the subject](https://machinelearningmastery.com/deep-learning-models-for-multi-output-regression/), which was linked to me by my DSI-830 instructor Patrick Waled-Dinian\n",
    "\n",
    "Plan:\n",
    "* Import numpy arrays X and y \n",
    "* Create train-test split\n",
    "* Assemble a Convolutional Neural Network\n",
    "* Use KerasTuner to find optimal hyperparameters\n",
    "* Fit and assess CNN\n",
    "* Save model to test driving"
   ]
  },
  {
   "cell_type": "code",
   "execution_count": 1,
   "id": "8a186988-1c64-48d0-984a-6c15b299587c",
   "metadata": {},
   "outputs": [
    {
     "name": "stderr",
     "output_type": "stream",
     "text": [
      "2021-11-12 18:55:44.963369: I tensorflow/stream_executor/platform/default/dso_loader.cc:49] Successfully opened dynamic library libcudart.so.10.1\n"
     ]
    }
   ],
   "source": [
    "## Imports\n",
    "import numpy as np\n",
    "import pandas as pd\n",
    "import matplotlib.pyplot as plt\n",
    "import tensorflow as tf\n",
    "import keras_tuner as kt\n",
    "import time\n",
    "\n",
    "import sklearn.metrics as metrics\n",
    "from sklearn.model_selection import train_test_split\n",
    "from keras_tuner import BayesianOptimization, Hyperband, HyperModel\n",
    "\n",
    "from os.path import exists\n",
    "\n",
    "from tensorflow import keras\n",
    "from tensorflow.keras.backend import concatenate\n",
    "from tensorflow.keras.callbacks import EarlyStopping\n",
    "from tensorflow.keras.layers import Input, Conv2D, Dense, Dropout, Flatten\n",
    "from tensorflow.keras.metrics import MAE, MSE\n",
    "from tensorflow.keras.models import Model\n",
    "from tensorflow.keras.optimizers import Adam"
   ]
  },
  {
   "cell_type": "code",
   "execution_count": 6,
   "id": "8953c0bd-f510-43e2-b185-23f500ccf8b2",
   "metadata": {},
   "outputs": [],
   "source": [
    "## Constants\n",
    "working_date = '11_12_2021'\n",
    "working_time = '19_28_18'\n",
    "\n",
    "model_history_file = '../models/model_history.csv'"
   ]
  },
  {
   "cell_type": "code",
   "execution_count": 7,
   "id": "eaf5dca8-b225-4c75-8f3b-a025877ff8f8",
   "metadata": {},
   "outputs": [],
   "source": [
    "## Directories\n",
    "data_directory = f'../data/{working_date}/{working_time}'\n",
    "model_directory = f'../models/{working_date}/{working_time}'\n",
    "\n",
    "## File paths\n",
    "input_dataset_file = f'{data_directory}/X_img.npy'\n",
    "target_dataset_file = f'{data_directory}/y.npy'"
   ]
  },
  {
   "cell_type": "code",
   "execution_count": 8,
   "id": "cb2e8db4-77b4-4a40-a04f-c3b8c1c77e6a",
   "metadata": {},
   "outputs": [],
   "source": [
    "## Make sure model history exists\n",
    "if not exists(model_history_file):\n",
    "    model_history = pd.DataFrame(columns=['model', 'history', \n",
    "                                          'r2_score', 'mae_score',\n",
    "                                          'mse_score', 'rmse_score'])\n",
    "else:\n",
    "    model_history = pd.read_csv(model_history_file, index_col=0)"
   ]
  },
  {
   "cell_type": "markdown",
   "id": "2395f538-7d20-41bd-ad43-903722c14353",
   "metadata": {},
   "source": [
    "## Data\n",
    "\n",
    "### Load Datasets"
   ]
  },
  {
   "cell_type": "code",
   "execution_count": 9,
   "id": "b8adc2f0-fb4f-47c1-b4da-c38bf4664187",
   "metadata": {},
   "outputs": [],
   "source": [
    "## Load the datasets\n",
    "X = np.load(input_dataset_file)\n",
    "y = np.load(target_dataset_file)"
   ]
  },
  {
   "cell_type": "markdown",
   "id": "fe94ac04-69de-4119-afc0-3b739a7d4c7c",
   "metadata": {},
   "source": [
    "### Create Train/Test Split"
   ]
  },
  {
   "cell_type": "code",
   "execution_count": 10,
   "id": "fe4aca8a-e81e-4bcb-a1ef-ca35510f1fff",
   "metadata": {},
   "outputs": [],
   "source": [
    "X_train, X_test, y_train, y_test = train_test_split(X, y, train_size=0.95, random_state=0)"
   ]
  },
  {
   "cell_type": "markdown",
   "id": "b51ada31-38b8-4741-8e56-6c0c8038777b",
   "metadata": {},
   "source": [
    "## Model"
   ]
  },
  {
   "cell_type": "markdown",
   "id": "3ede6018-a226-4dcd-949b-378c16c5ee48",
   "metadata": {},
   "source": [
    "sources: \n",
    "\n",
    "* [Introduction to the Keras Tuner](https://www.tensorflow.org/tutorials/keras/keras_tuner)\n",
    "* [Hands on hyperparameter tuning with Keras Tuner](https://www.sicara.ai/blog/hyperparameter-tuning-keras-tuner) by Julie Prost"
   ]
  },
  {
   "cell_type": "markdown",
   "id": "e9c1de53-ed0f-4630-afbc-44e7fcaac29e",
   "metadata": {},
   "source": [
    "Hyperparameters:\n",
    "* Number of convolutional layers\n",
    "* number of filters\n",
    "* size of filters\n",
    "* number of dense layers\n",
    "* units in dense layers\n",
    "* dropout values\n",
    "* adam learning rate"
   ]
  },
  {
   "cell_type": "markdown",
   "id": "a93d1a97-d274-44a6-af63-d4a31319598a",
   "metadata": {},
   "source": [
    "### Create Framework"
   ]
  },
  {
   "cell_type": "code",
   "execution_count": 40,
   "id": "d76bf26f-dd27-4a72-a38e-84d102dc1172",
   "metadata": {
    "tags": []
   },
   "outputs": [],
   "source": [
    "# Lesson 8.03\n",
    "# https://docs.donkeycar.com/dev_guide/model/\n",
    "\n",
    "class ImgHyperModel(HyperModel):\n",
    "    \n",
    "    def __init__(self, input_shape):\n",
    "        self.input_shape = input_shape\n",
    "    \n",
    "    def build(self, hp):\n",
    "        kernels = [3, 5,]# 7,]\n",
    "        filters = [8, 16, 32,]# 64,]\n",
    "        units = [16, 32, 64, 128, 256]\n",
    "        drops = [0.0, 0.1, 0.2, 0.3, 0.4,]\n",
    "        strides = [1, 2]\n",
    "        \n",
    "        # Image Model\n",
    "        inputs = Input(shape=self.input_shape, name='inputs')\n",
    "        \n",
    "        # First Hidden Layer\n",
    "        layers = Conv2D(\n",
    "                filters=hp.Choice(f'c_filters_0',values=filters), \n",
    "                kernel_size=hp.Choice(f'kernel_0', values=kernels),\n",
    "                strides=hp.Choice(f'stride_0', values=strides)\n",
    "            )(inputs)\n",
    "        \n",
    "        # Add convolutional layers        \n",
    "        for i in range(1, 5):\n",
    "            layers = Conv2D(\n",
    "                padding='same',\n",
    "                filters=hp.Choice(f'c_filters_{i}',values=filters), \n",
    "                kernel_size=hp.Choice(f'kernel_{i}', values=kernels),\n",
    "                strides=hp.Choice(f'stride_{i}', values=strides)\n",
    "            )(layers)\n",
    "            # Add dropout\n",
    "            layers = Dropout(\n",
    "                rate=hp.Choice(f'c_drop_{i}', values=drops)\n",
    "            )(layers)\n",
    "            \n",
    "        ## Flatten\n",
    "        layers =Flatten()(layers)\n",
    "        \n",
    "        # Add dense layers\n",
    "        for j in range(4):\n",
    "            layers = Dense(units=hp.Choice(f'd_units_{j}', values=units), \n",
    "                           activation='relu'\n",
    "                          )(layers)\n",
    "            layers = Dropout(rate=hp.Choice(f'd_drop_{j}', values=drops))(layers)\n",
    "            \n",
    "        # Output Layer\n",
    "        output = Dense(2, activation='linear', name='outputs')(layers)\n",
    "        \n",
    "        # Create Model\n",
    "        model = Model(inputs=inputs, outputs=output)\n",
    "            \n",
    "        # Compile Model\n",
    "        model.compile(\n",
    "            optimizer=Adam(learning_rate=0.0001),\n",
    "            loss=MSE,\n",
    "            metrics=[MAE]\n",
    "        )\n",
    "        \n",
    "        return model"
   ]
  },
  {
   "cell_type": "code",
   "execution_count": 42,
   "id": "2ff16ad4-2750-4998-afa5-6c6c33ffee41",
   "metadata": {},
   "outputs": [
    {
     "data": {
      "text/plain": [
       "(60, 80, 1)"
      ]
     },
     "execution_count": 42,
     "metadata": {},
     "output_type": "execute_result"
    }
   ],
   "source": [
    "input_shape = X_train[0].shape\n",
    "input_shape"
   ]
  },
  {
   "cell_type": "markdown",
   "id": "535a4467-ef4e-40bc-a1dc-ce1a92105c7a",
   "metadata": {},
   "source": [
    "### Create Tuner"
   ]
  },
  {
   "cell_type": "code",
   "execution_count": 49,
   "id": "7ceeedc3-c291-4332-83d0-5ab1d2b0bfdb",
   "metadata": {},
   "outputs": [],
   "source": [
    "hypermodel = ImgHyperModel(input_shape)\n",
    "\n",
    "tuner = BayesianOptimization(hypermodel, \n",
    "                             objective='val_loss',\n",
    "                             beta=2.8,\n",
    "                             max_trials=100, \n",
    "                             seed=0, \n",
    "                             overwrite=True)\n",
    "\n",
    "# tuner = Hyperband(hypermodel, \n",
    "#                   objective='val_loss',\n",
    "#                   max_epochs=25,\n",
    "#                   factor=3,\n",
    "#                   hyperband_iterations=2, \n",
    "#                   seed=0,\n",
    "#                   overwrite=True,);"
   ]
  },
  {
   "cell_type": "markdown",
   "id": "c2494f07-fc9d-45ce-b9c8-884ad7852a68",
   "metadata": {
    "tags": []
   },
   "source": [
    "### Search"
   ]
  },
  {
   "cell_type": "code",
   "execution_count": 50,
   "id": "1be059d5-dc6d-49ce-881c-3262f5bfadbf",
   "metadata": {
    "tags": []
   },
   "outputs": [],
   "source": [
    "stop_early = EarlyStopping(patience=5)"
   ]
  },
  {
   "cell_type": "code",
   "execution_count": 51,
   "id": "883e1067-1a82-41fd-a96f-0805b52fc747",
   "metadata": {
    "tags": []
   },
   "outputs": [
    {
     "name": "stdout",
     "output_type": "stream",
     "text": [
      "Trial 100 Complete [00h 01m 28s]\n",
      "val_loss: 0.017206761986017227\n",
      "\n",
      "Best val_loss So Far: 0.01599992625415325\n",
      "Total elapsed time: 02h 37m 54s\n",
      "INFO:tensorflow:Oracle triggered exit\n"
     ]
    }
   ],
   "source": [
    "tuner.search(X_train, y_train, \n",
    "             validation_data=(X_test, y_test), \n",
    "             callbacks=[stop_early],\n",
    "             batch_size=32,\n",
    "             epochs=25,\n",
    "             verbose=1)"
   ]
  },
  {
   "cell_type": "markdown",
   "id": "51895fa3-cc0a-4f87-8984-de874d95d90d",
   "metadata": {},
   "source": [
    "### Fit"
   ]
  },
  {
   "cell_type": "code",
   "execution_count": 62,
   "id": "183886b3-6929-49b7-b78a-7e7add761d15",
   "metadata": {},
   "outputs": [],
   "source": [
    "## https://www.tensorflow.org/tutorials/keras/keras_tuner\n",
    "best_hps = tuner.get_best_hyperparameters(1)[0]\n",
    "model = tuner.hypermodel.build(best_hps)"
   ]
  },
  {
   "cell_type": "code",
   "execution_count": 63,
   "id": "b8ad9504-0324-4406-86f2-83343c9acdd8",
   "metadata": {},
   "outputs": [],
   "source": [
    "# best_hps.values"
   ]
  },
  {
   "cell_type": "code",
   "execution_count": 64,
   "id": "02c35f77-a56a-4a8a-beb6-1fbd0ded41f3",
   "metadata": {},
   "outputs": [
    {
     "name": "stdout",
     "output_type": "stream",
     "text": [
      "Epoch 1/500\n",
      "526/526 [==============================] - 26s 32ms/step - loss: 0.1457 - mean_absolute_error: 0.2934 - val_loss: 0.0434 - val_mean_absolute_error: 0.1457\n",
      "Epoch 2/500\n",
      "526/526 [==============================] - 5s 10ms/step - loss: 0.0505 - mean_absolute_error: 0.1553 - val_loss: 0.0303 - val_mean_absolute_error: 0.1173\n",
      "Epoch 3/500\n",
      "526/526 [==============================] - 5s 10ms/step - loss: 0.0367 - mean_absolute_error: 0.1304 - val_loss: 0.0258 - val_mean_absolute_error: 0.1075\n",
      "Epoch 4/500\n",
      "526/526 [==============================] - 5s 10ms/step - loss: 0.0328 - mean_absolute_error: 0.1214 - val_loss: 0.0240 - val_mean_absolute_error: 0.1030\n",
      "Epoch 5/500\n",
      "526/526 [==============================] - 5s 10ms/step - loss: 0.0291 - mean_absolute_error: 0.1133 - val_loss: 0.0273 - val_mean_absolute_error: 0.1085\n",
      "Epoch 6/500\n",
      "526/526 [==============================] - 5s 10ms/step - loss: 0.0277 - mean_absolute_error: 0.1107 - val_loss: 0.0230 - val_mean_absolute_error: 0.0946\n",
      "Epoch 7/500\n",
      "526/526 [==============================] - 5s 10ms/step - loss: 0.0260 - mean_absolute_error: 0.1072 - val_loss: 0.0208 - val_mean_absolute_error: 0.0964\n",
      "Epoch 8/500\n",
      "526/526 [==============================] - 5s 9ms/step - loss: 0.0240 - mean_absolute_error: 0.1008 - val_loss: 0.0218 - val_mean_absolute_error: 0.1019\n",
      "Epoch 9/500\n",
      "526/526 [==============================] - 5s 10ms/step - loss: 0.0236 - mean_absolute_error: 0.0993 - val_loss: 0.0213 - val_mean_absolute_error: 0.0976\n",
      "Epoch 10/500\n",
      "526/526 [==============================] - 5s 10ms/step - loss: 0.0210 - mean_absolute_error: 0.0947 - val_loss: 0.0212 - val_mean_absolute_error: 0.0948\n",
      "Epoch 11/500\n",
      "526/526 [==============================] - 5s 10ms/step - loss: 0.0204 - mean_absolute_error: 0.0924 - val_loss: 0.0198 - val_mean_absolute_error: 0.0899\n",
      "Epoch 12/500\n",
      "526/526 [==============================] - 5s 9ms/step - loss: 0.0202 - mean_absolute_error: 0.0925 - val_loss: 0.0217 - val_mean_absolute_error: 0.0972\n",
      "Epoch 13/500\n",
      "526/526 [==============================] - 5s 10ms/step - loss: 0.0186 - mean_absolute_error: 0.0890 - val_loss: 0.0186 - val_mean_absolute_error: 0.0880\n",
      "Epoch 14/500\n",
      "526/526 [==============================] - 5s 10ms/step - loss: 0.0185 - mean_absolute_error: 0.0884 - val_loss: 0.0181 - val_mean_absolute_error: 0.0851\n",
      "Epoch 15/500\n",
      "526/526 [==============================] - 5s 10ms/step - loss: 0.0172 - mean_absolute_error: 0.0853 - val_loss: 0.0192 - val_mean_absolute_error: 0.0856\n",
      "Epoch 16/500\n",
      "526/526 [==============================] - 5s 10ms/step - loss: 0.0162 - mean_absolute_error: 0.0814 - val_loss: 0.0201 - val_mean_absolute_error: 0.1007\n",
      "Epoch 17/500\n",
      "526/526 [==============================] - 5s 10ms/step - loss: 0.0170 - mean_absolute_error: 0.0831 - val_loss: 0.0174 - val_mean_absolute_error: 0.0812\n",
      "Epoch 18/500\n",
      "526/526 [==============================] - 5s 9ms/step - loss: 0.0159 - mean_absolute_error: 0.0805 - val_loss: 0.0195 - val_mean_absolute_error: 0.0933\n",
      "Epoch 19/500\n",
      "526/526 [==============================] - 5s 10ms/step - loss: 0.0147 - mean_absolute_error: 0.0785 - val_loss: 0.0212 - val_mean_absolute_error: 0.0899\n",
      "Epoch 20/500\n",
      "526/526 [==============================] - 5s 10ms/step - loss: 0.0137 - mean_absolute_error: 0.0776 - val_loss: 0.0176 - val_mean_absolute_error: 0.0836\n",
      "Epoch 21/500\n",
      "526/526 [==============================] - 5s 10ms/step - loss: 0.0142 - mean_absolute_error: 0.0770 - val_loss: 0.0187 - val_mean_absolute_error: 0.0877\n",
      "Epoch 22/500\n",
      "526/526 [==============================] - 5s 10ms/step - loss: 0.0138 - mean_absolute_error: 0.0778 - val_loss: 0.0174 - val_mean_absolute_error: 0.0836\n",
      "Epoch 23/500\n",
      "526/526 [==============================] - 5s 10ms/step - loss: 0.0126 - mean_absolute_error: 0.0731 - val_loss: 0.0205 - val_mean_absolute_error: 0.0870\n",
      "Epoch 24/500\n",
      "526/526 [==============================] - 5s 10ms/step - loss: 0.0123 - mean_absolute_error: 0.0731 - val_loss: 0.0168 - val_mean_absolute_error: 0.0808\n",
      "Epoch 25/500\n",
      "526/526 [==============================] - 5s 10ms/step - loss: 0.0116 - mean_absolute_error: 0.0709 - val_loss: 0.0181 - val_mean_absolute_error: 0.0803\n",
      "Epoch 26/500\n",
      "526/526 [==============================] - 5s 10ms/step - loss: 0.0117 - mean_absolute_error: 0.0711 - val_loss: 0.0189 - val_mean_absolute_error: 0.0929\n",
      "Epoch 27/500\n",
      "526/526 [==============================] - 5s 10ms/step - loss: 0.0115 - mean_absolute_error: 0.0705 - val_loss: 0.0174 - val_mean_absolute_error: 0.0822\n",
      "Epoch 28/500\n",
      "526/526 [==============================] - 5s 10ms/step - loss: 0.0112 - mean_absolute_error: 0.0692 - val_loss: 0.0175 - val_mean_absolute_error: 0.0793\n",
      "Epoch 29/500\n",
      "526/526 [==============================] - 5s 10ms/step - loss: 0.0104 - mean_absolute_error: 0.0675 - val_loss: 0.0176 - val_mean_absolute_error: 0.0814\n"
     ]
    }
   ],
   "source": [
    "## Fit the best model\n",
    "results = model.fit(X_train, \n",
    "                    y_train, \n",
    "                    batch_size=16, \n",
    "                    epochs=500, \n",
    "                    validation_data=(X_test, y_test), \n",
    "                   # verbose=0)\n",
    "                    callbacks=[stop_early])"
   ]
  },
  {
   "cell_type": "code",
   "execution_count": 24,
   "id": "45a8085a-7bec-4db9-b768-7a3c96b515f9",
   "metadata": {
    "tags": []
   },
   "outputs": [
    {
     "name": "stdout",
     "output_type": "stream",
     "text": [
      "263/263 [==============================] - 2s 8ms/step - loss: 0.0088 - mean_absolute_error: 0.0716\n"
     ]
    },
    {
     "data": {
      "text/plain": [
       "[0.008819726295769215, 0.07162034511566162]"
      ]
     },
     "execution_count": 24,
     "metadata": {},
     "output_type": "execute_result"
    }
   ],
   "source": [
    "model.evaluate(X_train, y_train)"
   ]
  },
  {
   "cell_type": "code",
   "execution_count": 25,
   "id": "926f9495-5cd4-4eb0-a05d-c04e3cf74f8c",
   "metadata": {
    "tags": []
   },
   "outputs": [
    {
     "name": "stdout",
     "output_type": "stream",
     "text": [
      "14/14 [==============================] - 0s 7ms/step - loss: 0.0218 - mean_absolute_error: 0.1023\n"
     ]
    },
    {
     "data": {
      "text/plain": [
       "[0.021828357130289078, 0.10228771716356277]"
      ]
     },
     "execution_count": 25,
     "metadata": {},
     "output_type": "execute_result"
    }
   ],
   "source": [
    "model.evaluate(X_test, y_test)"
   ]
  },
  {
   "cell_type": "code",
   "execution_count": 19,
   "id": "96436595-6f98-4827-a0a6-1f8e27590514",
   "metadata": {},
   "outputs": [
    {
     "data": {
      "image/png": "[encoded data removed]",
      "text/plain": [
       "<Figure size 432x288 with 1 Axes>"
      ]
     },
     "metadata": {
      "needs_background": "light"
     },
     "output_type": "display_data"
    }
   ],
   "source": [
    "plt.plot(results.history['loss'], label = 'Training Loss')\n",
    "plt.plot(results.history['val_loss'], label = 'Testing Loss')\n",
    "plt.legend();"
   ]
  },
  {
   "cell_type": "code",
   "execution_count": 52,
   "id": "fc1701a1-c3ef-4564-95cd-5275f8ba1ae2",
   "metadata": {},
   "outputs": [
    {
     "ename": "NameError",
     "evalue": "name 'results' is not defined",
     "output_type": "error",
     "traceback": [
      "\u001b[0;31m---------------------------------------------------------------------------\u001b[0m",
      "\u001b[0;31mNameError\u001b[0m                                 Traceback (most recent call last)",
      "\u001b[0;32m/tmp/ipykernel_252185/487921945.py\u001b[0m in \u001b[0;36m<module>\u001b[0;34m\u001b[0m\n\u001b[0;32m----> 1\u001b[0;31m \u001b[0mplt\u001b[0m\u001b[0;34m.\u001b[0m\u001b[0mplot\u001b[0m\u001b[0;34m(\u001b[0m\u001b[0mresults\u001b[0m\u001b[0;34m.\u001b[0m\u001b[0mhistory\u001b[0m\u001b[0;34m[\u001b[0m\u001b[0;34m'mean_absolute_error'\u001b[0m\u001b[0;34m]\u001b[0m\u001b[0;34m,\u001b[0m \u001b[0mlabel\u001b[0m \u001b[0;34m=\u001b[0m \u001b[0;34m'Training MAE'\u001b[0m\u001b[0;34m)\u001b[0m\u001b[0;34m\u001b[0m\u001b[0;34m\u001b[0m\u001b[0m\n\u001b[0m\u001b[1;32m      2\u001b[0m \u001b[0mplt\u001b[0m\u001b[0;34m.\u001b[0m\u001b[0mplot\u001b[0m\u001b[0;34m(\u001b[0m\u001b[0mresults\u001b[0m\u001b[0;34m.\u001b[0m\u001b[0mhistory\u001b[0m\u001b[0;34m[\u001b[0m\u001b[0;34m'val_mean_absolute_error'\u001b[0m\u001b[0;34m]\u001b[0m\u001b[0;34m,\u001b[0m \u001b[0mlabel\u001b[0m \u001b[0;34m=\u001b[0m \u001b[0;34m'Testing MAE'\u001b[0m\u001b[0;34m)\u001b[0m\u001b[0;34m\u001b[0m\u001b[0;34m\u001b[0m\u001b[0m\n\u001b[1;32m      3\u001b[0m \u001b[0mplt\u001b[0m\u001b[0;34m.\u001b[0m\u001b[0mlegend\u001b[0m\u001b[0;34m(\u001b[0m\u001b[0;34m)\u001b[0m\u001b[0;34m;\u001b[0m\u001b[0;34m\u001b[0m\u001b[0;34m\u001b[0m\u001b[0m\n",
      "\u001b[0;31mNameError\u001b[0m: name 'results' is not defined"
     ]
    }
   ],
   "source": [
    "plt.plot(results.history['mean_absolute_error'], label = 'Training MAE')\n",
    "plt.plot(results.history['val_mean_absolute_error'], label = 'Testing MAE')\n",
    "plt.legend();"
   ]
  },
  {
   "cell_type": "code",
   "execution_count": 166,
   "id": "35c7e6a6-dd2a-4f53-928a-844976d47a7e",
   "metadata": {
    "tags": []
   },
   "outputs": [],
   "source": [
    "preds = model.predict(X_test)"
   ]
  },
  {
   "cell_type": "code",
   "execution_count": 167,
   "id": "dc007239-cda8-45ff-ba81-d12af20d76f4",
   "metadata": {},
   "outputs": [
    {
     "name": "stdout",
     "output_type": "stream",
     "text": [
      "Test R2:     0.8938\n",
      "==================\n",
      "Test MAE:    0.0594\n",
      "===================\n",
      "Test MSE:    0.0153\n",
      "===================\n",
      "Test RMSE:   0.1204\n"
     ]
    }
   ],
   "source": [
    "## r2 \n",
    "# print(f'Train R2:   {metrics.r2_score(y_train, model.predict(X_train)): .4f}')\n",
    "print(f'Test R2:    {metrics.r2_score(y_test, preds): .4f}')\n",
    "print(\"==================\")\n",
    "## MAE\n",
    "# print(f'Train MAE:  {metrics.mean_absolute_error(y_train, model.predict(X_train)): .4f}')\n",
    "print(f'Test MAE:   {metrics.mean_absolute_error(y_test, preds): .4f}')\n",
    "print(\"===================\")\n",
    "## MSE\n",
    "# print(f'Train MSE:  {metrics.mean_squared_error(y_train, model.predict(X_train)): .4f}')\n",
    "print(f'Test MSE:   {metrics.mean_squared_error(y_test, preds): .4f}')\n",
    "print(\"===================\")\n",
    "## RMSE\n",
    "# print(f'Train RMSE: {metrics.mean_squared_error(y_train, model.predict(X_train), squared=False): .4f}')\n",
    "print(f'Test RMSE:  {metrics.mean_squared_error(y_test, preds, squared=False): .4f}')"
   ]
  },
  {
   "cell_type": "markdown",
   "id": "1cdcdfbd-a430-4081-8510-99968ab37188",
   "metadata": {},
   "source": [
    "## Save model"
   ]
  },
  {
   "cell_type": "code",
   "execution_count": 149,
   "id": "a6467968-7308-4cd8-9829-eda955a678a5",
   "metadata": {},
   "outputs": [
    {
     "data": {
      "text/html": [
       "<div>\n",
       "<style scoped>\n",
       "    .dataframe tbody tr th:only-of-type {\n",
       "        vertical-align: middle;\n",
       "    }\n",
       "\n",
       "    .dataframe tbody tr th {\n",
       "        vertical-align: top;\n",
       "    }\n",
       "\n",
       "    .dataframe thead th {\n",
       "        text-align: right;\n",
       "    }\n",
       "</style>\n",
       "<table border=\"1\" class=\"dataframe\">\n",
       "  <thead>\n",
       "    <tr style=\"text-align: right;\">\n",
       "      <th></th>\n",
       "      <th>model</th>\n",
       "      <th>history</th>\n",
       "      <th>mae_score</th>\n",
       "      <th>mse_score</th>\n",
       "      <th>r2_score</th>\n",
       "      <th>rmse_score</th>\n",
       "    </tr>\n",
       "  </thead>\n",
       "  <tbody>\n",
       "    <tr>\n",
       "      <th>25</th>\n",
       "      <td>../models/11_08_2021/22_04_06/model_25.h5</td>\n",
       "      <td>{'loss': [0.07831844687461853, 0.0440239384770...</td>\n",
       "      <td>0.101922</td>\n",
       "      <td>0.023065</td>\n",
       "      <td>0.837876</td>\n",
       "      <td>0.148818</td>\n",
       "    </tr>\n",
       "    <tr>\n",
       "      <th>26</th>\n",
       "      <td>../models/11_08_2021/22_04_06/model_26.h5</td>\n",
       "      <td>{'loss': [0.30734896659851074, 0.1347967237234...</td>\n",
       "      <td>0.093897</td>\n",
       "      <td>0.020349</td>\n",
       "      <td>0.856093</td>\n",
       "      <td>0.140199</td>\n",
       "    </tr>\n",
       "    <tr>\n",
       "      <th>27</th>\n",
       "      <td>../models/11_08_2021/22_04_06/model_27.h5</td>\n",
       "      <td>{'loss': [0.48574620485305786, 0.2133759558200...</td>\n",
       "      <td>0.093619</td>\n",
       "      <td>0.018737</td>\n",
       "      <td>0.866533</td>\n",
       "      <td>0.134962</td>\n",
       "    </tr>\n",
       "    <tr>\n",
       "      <th>28</th>\n",
       "      <td>../models/11_08_2021/22_04_06/model_28.h5</td>\n",
       "      <td>{'loss': [0.26421430706977844, 0.1779259294271...</td>\n",
       "      <td>0.093748</td>\n",
       "      <td>0.017361</td>\n",
       "      <td>0.878052</td>\n",
       "      <td>0.129068</td>\n",
       "    </tr>\n",
       "    <tr>\n",
       "      <th>29</th>\n",
       "      <td>../models/11_08_2021/22_04_06/model_29.h5</td>\n",
       "      <td>{'loss': [0.30777809023857117, 0.1796961575746...</td>\n",
       "      <td>0.059195</td>\n",
       "      <td>0.012069</td>\n",
       "      <td>0.913797</td>\n",
       "      <td>0.108437</td>\n",
       "    </tr>\n",
       "  </tbody>\n",
       "</table>\n",
       "</div>"
      ],
      "text/plain": [
       "                                        model  \\\n",
       "25  ../models/11_08_2021/22_04_06/model_25.h5   \n",
       "26  ../models/11_08_2021/22_04_06/model_26.h5   \n",
       "27  ../models/11_08_2021/22_04_06/model_27.h5   \n",
       "28  ../models/11_08_2021/22_04_06/model_28.h5   \n",
       "29  ../models/11_08_2021/22_04_06/model_29.h5   \n",
       "\n",
       "                                              history  mae_score  mse_score  \\\n",
       "25  {'loss': [0.07831844687461853, 0.0440239384770...   0.101922   0.023065   \n",
       "26  {'loss': [0.30734896659851074, 0.1347967237234...   0.093897   0.020349   \n",
       "27  {'loss': [0.48574620485305786, 0.2133759558200...   0.093619   0.018737   \n",
       "28  {'loss': [0.26421430706977844, 0.1779259294271...   0.093748   0.017361   \n",
       "29  {'loss': [0.30777809023857117, 0.1796961575746...   0.059195   0.012069   \n",
       "\n",
       "    r2_score  rmse_score  \n",
       "25  0.837876    0.148818  \n",
       "26  0.856093    0.140199  \n",
       "27  0.866533    0.134962  \n",
       "28  0.878052    0.129068  \n",
       "29  0.913797    0.108437  "
      ]
     },
     "execution_count": 149,
     "metadata": {},
     "output_type": "execute_result"
    }
   ],
   "source": [
    "model_index = max(0, model_history.index.max() + 1)\n",
    "model_path = f'{model_directory}/model_{model_index}.h5'\n",
    "\n",
    "history_dictionary = {\n",
    "    'model': model_path,\n",
    "    'history': results.history,\n",
    "    'r2_score': metrics.r2_score(y_test, preds),\n",
    "    'mae_score': metrics.mean_absolute_error(y_test, preds),\n",
    "    'mse_score': metrics.mean_squared_error(y_test, preds),\n",
    "    'rmse_score': metrics.mean_squared_error(y_test, preds, squared=False),\n",
    "}\n",
    "\n",
    "model_history = model_history.append(history_dictionary, ignore_index=True)\n",
    "model_history.tail()"
   ]
  },
  {
   "cell_type": "code",
   "execution_count": 150,
   "id": "871c66a1-e8c3-4c1b-bc39-39bb199a5994",
   "metadata": {},
   "outputs": [],
   "source": [
    "## Saving as h5 for backwards compatibility\n",
    "model.save(model_path, save_format='h5')\n",
    "model_history.to_csv(model_history_file)"
   ]
  },
  {
   "cell_type": "code",
   "execution_count": 151,
   "id": "324eca39-1ca1-43ec-b988-d1c32f8d016c",
   "metadata": {},
   "outputs": [
    {
     "data": {
      "text/plain": [
       "'../models/11_08_2021/22_04_06/model_29.h5'"
      ]
     },
     "execution_count": 151,
     "metadata": {},
     "output_type": "execute_result"
    }
   ],
   "source": [
    "model_path"
   ]
  }
 ],
 "metadata": {
  "kernelspec": {
   "display_name": "Python 3 (ipykernel)",
   "language": "python",
   "name": "python3"
  },
  "language_info": {
   "codemirror_mode": {
    "name": "ipython",
    "version": 3
   },
   "file_extension": ".py",
   "mimetype": "text/x-python",
   "name": "python",
   "nbconvert_exporter": "python",
   "pygments_lexer": "ipython3",
   "version": "3.9.7"
  }
 },
 "nbformat": 4,
 "nbformat_minor": 5
}
