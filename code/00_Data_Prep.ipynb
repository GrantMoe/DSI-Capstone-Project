{
 "cells": [
  {
   "cell_type": "markdown",
   "id": "da1de231-e9e8-4f0b-8758-b67011969f80",
   "metadata": {},
   "source": [
    "# Data Prep\n",
    "\n",
    "In this notebook I will import and inspect the image and telemetry data taken from Donkey Sim, and organize it for modeling steps.\n",
    "\n",
    "* Import telemetry .csv\n",
    "* Import image data\n",
    "* Convert image data\n",
    "* Create dataframe with: \n",
    "  * steering inputs, \n",
    "  * throttle inputs\n",
    "  * converted imageds\n",
    "* Save as a pickle format file for modeling"
   ]
  },
  {
   "cell_type": "code",
   "execution_count": 1,
   "id": "ca6f1792-6e54-4a32-9efb-e2052c199a6c",
   "metadata": {},
   "outputs": [
    {
     "name": "stderr",
     "output_type": "stream",
     "text": [
      "2021-11-17 11:36:59.480381: I tensorflow/stream_executor/platform/default/dso_loader.cc:49] Successfully opened dynamic library libcudart.so.10.1\n"
     ]
    }
   ],
   "source": [
    "## Imports\n",
    "import numpy as np\n",
    "import pandas as pd\n",
    "import os\n",
    "import sys\n",
    "import matplotlib.pyplot as plt\n",
    "import seaborn as sns\n",
    "import time\n",
    "import pickle\n",
    "\n",
    "from tensorflow.keras.preprocessing.image import img_to_array, load_img"
   ]
  },
  {
   "cell_type": "markdown",
   "id": "2c4c10aa-3aa2-4767-8af1-42f1ba88016e",
   "metadata": {
    "tags": []
   },
   "source": [
    "## Telemetry Data\n",
    "\n",
    "Steps:\n",
    "* load simulation telemetry data csv\n",
    "* cut unneeded columns\n",
    "* cut incomplete last lap\n",
    "* import images as numpy arrays\n",
    "* create numpy array of image data arrays\n",
    "* save images as input dataset X\n",
    "* save steering angle and throttle data in numpy array as target dataset y\n"
   ]
  },
  {
   "cell_type": "code",
   "execution_count": 2,
   "id": "c47db9fe-e9a3-4a25-a59c-3d8a690e76bc",
   "metadata": {},
   "outputs": [],
   "source": [
    "## Constants\n",
    "working_date = '11_12_2021'\n",
    "working_time = '19_28_18'\n",
    "local_project_path = '/home/grant/projects/donkeysim-client/data'\n",
    "\n",
    "\n",
    "# telemetry_columns = ['speed','pitch', 'yaw', 'roll', 'activeNode'] \n",
    "telemetry_columns = ['accel_x', 'accel_y', 'accel_z', 'gyro_x', 'gyro_y', \n",
    "               'gyro_z', 'vel_x', 'vel_y', 'vel_z',]"
   ]
  },
  {
   "cell_type": "code",
   "execution_count": 3,
   "id": "351de744-92e0-4111-b0a1-dd9f51d309ed",
   "metadata": {},
   "outputs": [],
   "source": [
    "## Directories\n",
    "local_data_directory = f'{local_project_path}/{working_date}/{working_time}'\n",
    "local_image_directory = f'{local_data_directory}/images'\n",
    "working_data_directory = f'../data/{working_date}/{working_time}'\n",
    "\n",
    "## File paths\n",
    "telemetry_csv = f'{local_data_directory}/data.csv'\n",
    "input_image_dataset_file = f'{working_data_directory}/X_img.npy'\n",
    "input_telem_dataset_file = f'{working_data_directory}/X_telem.pkl'\n",
    "target_dataset_file = f'{working_data_directory}/y.npy'"
   ]
  },
  {
   "cell_type": "code",
   "execution_count": 4,
   "id": "986e8118-6a87-4856-9382-9f17297ddf50",
   "metadata": {},
   "outputs": [],
   "source": [
    "## Make sure directoires exist\n",
    "os.makedirs(working_data_directory, exist_ok=True)"
   ]
  },
  {
   "cell_type": "markdown",
   "id": "1234522f-ccb4-4d3a-80b6-ae6c86b7d416",
   "metadata": {},
   "source": [
    "### Load CSV file as DataFrame"
   ]
  },
  {
   "cell_type": "code",
   "execution_count": 5,
   "id": "f8e7a448-e202-4ef7-a2d9-53f1a6f14cc3",
   "metadata": {},
   "outputs": [
    {
     "data": {
      "text/html": [
       "<div>\n",
       "<style scoped>\n",
       "    .dataframe tbody tr th:only-of-type {\n",
       "        vertical-align: middle;\n",
       "    }\n",
       "\n",
       "    .dataframe tbody tr th {\n",
       "        vertical-align: top;\n",
       "    }\n",
       "\n",
       "    .dataframe thead th {\n",
       "        text-align: right;\n",
       "    }\n",
       "</style>\n",
       "<table border=\"1\" class=\"dataframe\">\n",
       "  <thead>\n",
       "    <tr style=\"text-align: right;\">\n",
       "      <th></th>\n",
       "      <th>steering_angle</th>\n",
       "      <th>throttle</th>\n",
       "      <th>speed</th>\n",
       "      <th>image</th>\n",
       "      <th>hit</th>\n",
       "      <th>time</th>\n",
       "      <th>accel_x</th>\n",
       "      <th>accel_y</th>\n",
       "      <th>accel_z</th>\n",
       "      <th>gyro_x</th>\n",
       "      <th>...</th>\n",
       "      <th>totalNodes</th>\n",
       "      <th>pos_x</th>\n",
       "      <th>pos_y</th>\n",
       "      <th>pos_z</th>\n",
       "      <th>vel_x</th>\n",
       "      <th>vel_y</th>\n",
       "      <th>vel_z</th>\n",
       "      <th>on_road</th>\n",
       "      <th>progress_on_shortest_path</th>\n",
       "      <th>lap</th>\n",
       "    </tr>\n",
       "  </thead>\n",
       "  <tbody>\n",
       "    <tr>\n",
       "      <th>telemetry</th>\n",
       "      <td>0.0</td>\n",
       "      <td>0.016618</td>\n",
       "      <td>0.011107</td>\n",
       "      <td>2.62795.PNG</td>\n",
       "      <td>none</td>\n",
       "      <td>2.627950</td>\n",
       "      <td>-0.003734</td>\n",
       "      <td>0.114744</td>\n",
       "      <td>-0.343430</td>\n",
       "      <td>-0.000218</td>\n",
       "      <td>...</td>\n",
       "      <td>307</td>\n",
       "      <td>14.03957</td>\n",
       "      <td>0.563760</td>\n",
       "      <td>-68.18569</td>\n",
       "      <td>0.001070</td>\n",
       "      <td>-0.010486</td>\n",
       "      <td>0.003501</td>\n",
       "      <td>0</td>\n",
       "      <td>0</td>\n",
       "      <td>0</td>\n",
       "    </tr>\n",
       "    <tr>\n",
       "      <th>telemetry</th>\n",
       "      <td>0.0</td>\n",
       "      <td>0.054741</td>\n",
       "      <td>0.027851</td>\n",
       "      <td>2.678543.PNG</td>\n",
       "      <td>none</td>\n",
       "      <td>2.678543</td>\n",
       "      <td>-0.008975</td>\n",
       "      <td>0.123895</td>\n",
       "      <td>1.204847</td>\n",
       "      <td>0.000092</td>\n",
       "      <td>...</td>\n",
       "      <td>307</td>\n",
       "      <td>14.03902</td>\n",
       "      <td>0.563639</td>\n",
       "      <td>-68.18623</td>\n",
       "      <td>0.000550</td>\n",
       "      <td>-0.003081</td>\n",
       "      <td>0.027674</td>\n",
       "      <td>0</td>\n",
       "      <td>0</td>\n",
       "      <td>0</td>\n",
       "    </tr>\n",
       "    <tr>\n",
       "      <th>telemetry</th>\n",
       "      <td>0.0</td>\n",
       "      <td>0.094819</td>\n",
       "      <td>0.027349</td>\n",
       "      <td>2.727989.PNG</td>\n",
       "      <td>none</td>\n",
       "      <td>2.727989</td>\n",
       "      <td>-0.009076</td>\n",
       "      <td>0.117002</td>\n",
       "      <td>1.224393</td>\n",
       "      <td>0.000118</td>\n",
       "      <td>...</td>\n",
       "      <td>307</td>\n",
       "      <td>14.03850</td>\n",
       "      <td>0.563736</td>\n",
       "      <td>-68.18678</td>\n",
       "      <td>0.000188</td>\n",
       "      <td>0.001763</td>\n",
       "      <td>0.027292</td>\n",
       "      <td>0</td>\n",
       "      <td>0</td>\n",
       "      <td>0</td>\n",
       "    </tr>\n",
       "    <tr>\n",
       "      <th>telemetry</th>\n",
       "      <td>0.0</td>\n",
       "      <td>0.154448</td>\n",
       "      <td>0.035772</td>\n",
       "      <td>2.778249.PNG</td>\n",
       "      <td>none</td>\n",
       "      <td>2.778249</td>\n",
       "      <td>-0.008692</td>\n",
       "      <td>0.091593</td>\n",
       "      <td>0.638947</td>\n",
       "      <td>0.000203</td>\n",
       "      <td>...</td>\n",
       "      <td>307</td>\n",
       "      <td>14.03731</td>\n",
       "      <td>0.564071</td>\n",
       "      <td>-68.18811</td>\n",
       "      <td>-0.000317</td>\n",
       "      <td>0.007862</td>\n",
       "      <td>0.034896</td>\n",
       "      <td>0</td>\n",
       "      <td>0</td>\n",
       "      <td>0</td>\n",
       "    </tr>\n",
       "    <tr>\n",
       "      <th>telemetry</th>\n",
       "      <td>0.0</td>\n",
       "      <td>0.224829</td>\n",
       "      <td>0.054656</td>\n",
       "      <td>2.828085.PNG</td>\n",
       "      <td>none</td>\n",
       "      <td>2.828085</td>\n",
       "      <td>-0.001349</td>\n",
       "      <td>0.066614</td>\n",
       "      <td>0.582980</td>\n",
       "      <td>0.000339</td>\n",
       "      <td>...</td>\n",
       "      <td>307</td>\n",
       "      <td>14.03587</td>\n",
       "      <td>0.564352</td>\n",
       "      <td>-68.18963</td>\n",
       "      <td>-0.000429</td>\n",
       "      <td>0.010760</td>\n",
       "      <td>0.053585</td>\n",
       "      <td>0</td>\n",
       "      <td>0</td>\n",
       "      <td>0</td>\n",
       "    </tr>\n",
       "  </tbody>\n",
       "</table>\n",
       "<p>5 rows × 28 columns</p>\n",
       "</div>"
      ],
      "text/plain": [
       "           steering_angle  throttle     speed         image   hit      time  \\\n",
       "telemetry             0.0  0.016618  0.011107   2.62795.PNG  none  2.627950   \n",
       "telemetry             0.0  0.054741  0.027851  2.678543.PNG  none  2.678543   \n",
       "telemetry             0.0  0.094819  0.027349  2.727989.PNG  none  2.727989   \n",
       "telemetry             0.0  0.154448  0.035772  2.778249.PNG  none  2.778249   \n",
       "telemetry             0.0  0.224829  0.054656  2.828085.PNG  none  2.828085   \n",
       "\n",
       "            accel_x   accel_y   accel_z    gyro_x  ...  totalNodes     pos_x  \\\n",
       "telemetry -0.003734  0.114744 -0.343430 -0.000218  ...         307  14.03957   \n",
       "telemetry -0.008975  0.123895  1.204847  0.000092  ...         307  14.03902   \n",
       "telemetry -0.009076  0.117002  1.224393  0.000118  ...         307  14.03850   \n",
       "telemetry -0.008692  0.091593  0.638947  0.000203  ...         307  14.03731   \n",
       "telemetry -0.001349  0.066614  0.582980  0.000339  ...         307  14.03587   \n",
       "\n",
       "              pos_y     pos_z     vel_x     vel_y     vel_z  on_road  \\\n",
       "telemetry  0.563760 -68.18569  0.001070 -0.010486  0.003501        0   \n",
       "telemetry  0.563639 -68.18623  0.000550 -0.003081  0.027674        0   \n",
       "telemetry  0.563736 -68.18678  0.000188  0.001763  0.027292        0   \n",
       "telemetry  0.564071 -68.18811 -0.000317  0.007862  0.034896        0   \n",
       "telemetry  0.564352 -68.18963 -0.000429  0.010760  0.053585        0   \n",
       "\n",
       "           progress_on_shortest_path  lap  \n",
       "telemetry                          0    0  \n",
       "telemetry                          0    0  \n",
       "telemetry                          0    0  \n",
       "telemetry                          0    0  \n",
       "telemetry                          0    0  \n",
       "\n",
       "[5 rows x 28 columns]"
      ]
     },
     "execution_count": 5,
     "metadata": {},
     "output_type": "execute_result"
    }
   ],
   "source": [
    "df = pd.read_csv(telemetry_csv)\n",
    "df.head()"
   ]
  },
  {
   "cell_type": "markdown",
   "id": "6902fd35-c662-4204-871f-c9b3af51c25d",
   "metadata": {
    "tags": []
   },
   "source": [
    "### Rename Steering Column to Match Throttle"
   ]
  },
  {
   "cell_type": "code",
   "execution_count": 6,
   "id": "b091a90e-7ae1-417c-ac8f-68781bb70c19",
   "metadata": {
    "tags": []
   },
   "outputs": [
    {
     "data": {
      "text/plain": [
       "Index(['steering', 'throttle', 'speed', 'image', 'hit', 'time', 'accel_x',\n",
       "       'accel_y', 'accel_z', 'gyro_x', 'gyro_y', 'gyro_z', 'gyro_w', 'pitch',\n",
       "       'yaw', 'roll', 'cte', 'activeNode', 'totalNodes', 'pos_x', 'pos_y',\n",
       "       'pos_z', 'vel_x', 'vel_y', 'vel_z', 'on_road',\n",
       "       'progress_on_shortest_path', 'lap'],\n",
       "      dtype='object')"
      ]
     },
     "execution_count": 6,
     "metadata": {},
     "output_type": "execute_result"
    }
   ],
   "source": [
    "df.columns = ['steering' if col=='steering_angle' else col for col in df.columns]\n",
    "df.columns"
   ]
  },
  {
   "cell_type": "code",
   "execution_count": 7,
   "id": "a190b9d4-e6c4-4a54-89f2-0c5868fdabf1",
   "metadata": {},
   "outputs": [],
   "source": [
    "## drop message label column\n",
    "# df.reset_index(drop=True, inplace=True)"
   ]
  },
  {
   "cell_type": "code",
   "execution_count": 8,
   "id": "ddb46dff-dfe1-4585-a415-8fcf64effea8",
   "metadata": {},
   "outputs": [
    {
     "name": "stdout",
     "output_type": "stream",
     "text": [
      "<class 'pandas.core.frame.DataFrame'>\n",
      "Index: 125400 entries, telemetry to telemetry\n",
      "Data columns (total 28 columns):\n",
      " #   Column                     Non-Null Count   Dtype  \n",
      "---  ------                     --------------   -----  \n",
      " 0   steering                   125400 non-null  float64\n",
      " 1   throttle                   125400 non-null  float64\n",
      " 2   speed                      125400 non-null  float64\n",
      " 3   image                      125400 non-null  object \n",
      " 4   hit                        125400 non-null  object \n",
      " 5   time                       125400 non-null  float64\n",
      " 6   accel_x                    125400 non-null  float64\n",
      " 7   accel_y                    125400 non-null  float64\n",
      " 8   accel_z                    125400 non-null  float64\n",
      " 9   gyro_x                     125400 non-null  float64\n",
      " 10  gyro_y                     125400 non-null  float64\n",
      " 11  gyro_z                     125400 non-null  float64\n",
      " 12  gyro_w                     125400 non-null  float64\n",
      " 13  pitch                      125400 non-null  float64\n",
      " 14  yaw                        125400 non-null  float64\n",
      " 15  roll                       125400 non-null  float64\n",
      " 16  cte                        125400 non-null  float64\n",
      " 17  activeNode                 125400 non-null  int64  \n",
      " 18  totalNodes                 125400 non-null  int64  \n",
      " 19  pos_x                      125400 non-null  float64\n",
      " 20  pos_y                      125400 non-null  float64\n",
      " 21  pos_z                      125400 non-null  float64\n",
      " 22  vel_x                      125400 non-null  float64\n",
      " 23  vel_y                      125400 non-null  float64\n",
      " 24  vel_z                      125400 non-null  float64\n",
      " 25  on_road                    125400 non-null  int64  \n",
      " 26  progress_on_shortest_path  125400 non-null  int64  \n",
      " 27  lap                        125400 non-null  int64  \n",
      "dtypes: float64(21), int64(5), object(2)\n",
      "memory usage: 27.7+ MB\n"
     ]
    }
   ],
   "source": [
    "df.info()"
   ]
  },
  {
   "cell_type": "code",
   "execution_count": 9,
   "id": "d424d8fc-285e-4dc9-941c-c9d943c62d9b",
   "metadata": {},
   "outputs": [
    {
     "data": {
      "text/plain": [
       "Index(['steering', 'throttle', 'speed', 'image', 'hit', 'time', 'accel_x',\n",
       "       'accel_y', 'accel_z', 'gyro_x', 'gyro_y', 'gyro_z', 'gyro_w', 'pitch',\n",
       "       'yaw', 'roll', 'cte', 'activeNode', 'totalNodes', 'pos_x', 'pos_y',\n",
       "       'pos_z', 'vel_x', 'vel_y', 'vel_z', 'on_road',\n",
       "       'progress_on_shortest_path', 'lap'],\n",
       "      dtype='object')"
      ]
     },
     "execution_count": 9,
     "metadata": {},
     "output_type": "execute_result"
    }
   ],
   "source": [
    "df.columns"
   ]
  },
  {
   "cell_type": "markdown",
   "id": "e10bedf8-01b0-42c0-86b1-72d00ec8d371",
   "metadata": {},
   "source": [
    "### Pare Useless Columns"
   ]
  },
  {
   "cell_type": "code",
   "execution_count": 10,
   "id": "88a93822-88f8-426b-a26b-38c39dafac57",
   "metadata": {},
   "outputs": [],
   "source": [
    "drop_columns = ['hit', 'time', 'gyro_w', 'pitch', 'yaw', 'roll', \n",
    "                'totalNodes', 'pos_x', 'pos_y', 'pos_z', 'on_road',\n",
    "                'progress_on_shortest_path']"
   ]
  },
  {
   "cell_type": "code",
   "execution_count": 11,
   "id": "1c049d71-8c7e-4f62-95d3-9a8221b5c405",
   "metadata": {},
   "outputs": [
    {
     "data": {
      "text/plain": [
       "array([  0,   1,   2,   3,   4,   5,   6,   7,   8,   9,  10,  11,  12,\n",
       "        13,  14,  15,  16,  17,  18,  19,  20,  21,  22,  23,  24,  25,\n",
       "        26,  27,  28,  29,  30,  31,  32,  33,  34,  35,  36,  37,  38,\n",
       "        39,  40,  41,  42,  43,  44,  45,  46,  47,  48,  49,  50,  51,\n",
       "        52,  53,  54,  55,  56,  57,  58,  59,  60,  61,  62,  63,  64,\n",
       "        65,  66,  67,  68,  69,  70,  71,  72,  73,  74,  75,  76,  77,\n",
       "        78,  79,  80,  81,  82,  83,  84,  85,  86,  87,  88,  89,  90,\n",
       "        91,  92,  93,  94,  95,  96,  97,  98,  99, 100, 101, 102, 103,\n",
       "       104, 105, 106, 107, 108, 109, 110, 111, 112, 113, 114, 115, 116,\n",
       "       117, 118, 119, 120, 121, 122, 123, 124, 125, 126, 127, 128, 129,\n",
       "       130, 131, 132, 133, 134, 135, 136, 137, 138, 139, 140, 141, 142,\n",
       "       143, 144, 145, 146, 147, 148, 149, 150, 151])"
      ]
     },
     "execution_count": 11,
     "metadata": {},
     "output_type": "execute_result"
    }
   ],
   "source": [
    "df['lap'].unique()"
   ]
  },
  {
   "cell_type": "code",
   "execution_count": 12,
   "id": "79615c87-732a-4000-aa7f-8bec981d7238",
   "metadata": {},
   "outputs": [
    {
     "data": {
      "text/plain": [
       "50649068"
      ]
     },
     "execution_count": 12,
     "metadata": {},
     "output_type": "execute_result"
    }
   ],
   "source": [
    "sys.getsizeof(df)"
   ]
  },
  {
   "cell_type": "code",
   "execution_count": 13,
   "id": "5879b58e-2502-468c-bdd4-453db9176e63",
   "metadata": {
    "tags": []
   },
   "outputs": [
    {
     "data": {
      "text/plain": [
       "steering                     float64\n",
       "throttle                     float64\n",
       "speed                        float64\n",
       "image                         object\n",
       "hit                           object\n",
       "time                         float64\n",
       "accel_x                      float64\n",
       "accel_y                      float64\n",
       "accel_z                      float64\n",
       "gyro_x                       float64\n",
       "gyro_y                       float64\n",
       "gyro_z                       float64\n",
       "gyro_w                       float64\n",
       "pitch                        float64\n",
       "yaw                          float64\n",
       "roll                         float64\n",
       "cte                          float64\n",
       "activeNode                     int64\n",
       "totalNodes                     int64\n",
       "pos_x                        float64\n",
       "pos_y                        float64\n",
       "pos_z                        float64\n",
       "vel_x                        float64\n",
       "vel_y                        float64\n",
       "vel_z                        float64\n",
       "on_road                        int64\n",
       "progress_on_shortest_path      int64\n",
       "lap                            int64\n",
       "dtype: object"
      ]
     },
     "execution_count": 13,
     "metadata": {},
     "output_type": "execute_result"
    }
   ],
   "source": [
    "df.dtypes"
   ]
  },
  {
   "cell_type": "markdown",
   "id": "ed8f74da-ad72-498a-a051-bd54725e010c",
   "metadata": {},
   "source": [
    "### Convert datatypes (?)"
   ]
  },
  {
   "cell_type": "code",
   "execution_count": 14,
   "id": "32467124-892c-4697-8c07-8579327c36ef",
   "metadata": {},
   "outputs": [],
   "source": [
    "for col in df.columns:\n",
    "    if df[col].dtype == 'float':\n",
    "        df[col] = pd.to_numeric(df[col], downcast='float')"
   ]
  },
  {
   "cell_type": "code",
   "execution_count": 15,
   "id": "323b5f66-7a65-4893-a5e1-552391c04e21",
   "metadata": {},
   "outputs": [
    {
     "data": {
      "text/plain": [
       "40115468"
      ]
     },
     "execution_count": 15,
     "metadata": {},
     "output_type": "execute_result"
    }
   ],
   "source": [
    "sys.getsizeof(df)"
   ]
  },
  {
   "cell_type": "markdown",
   "id": "c85a27b4-ab12-45a7-ada9-19e4a834fff5",
   "metadata": {},
   "source": [
    "### Remove \"Extra\" Laps"
   ]
  },
  {
   "cell_type": "code",
   "execution_count": 16,
   "id": "4778fa13-4c2c-4a3b-a7a8-acba2b3dc462",
   "metadata": {},
   "outputs": [
    {
     "data": {
      "text/plain": [
       "array([  1,   2,   3,   4,   5,   6,   7,   8,   9,  10,  11,  12,  13,\n",
       "        14,  15,  16,  17,  18,  19,  20,  21,  22,  23,  24,  25,  26,\n",
       "        27,  28,  29,  30,  31,  32,  33,  34,  35,  36,  37,  38,  39,\n",
       "        40,  41,  42,  43,  44,  45,  46,  47,  48,  49,  50,  51,  52,\n",
       "        53,  54,  55,  56,  57,  58,  59,  60,  61,  62,  63,  64,  65,\n",
       "        66,  67,  68,  69,  70,  71,  72,  73,  74,  75,  76,  77,  78,\n",
       "        79,  80,  81,  82,  83,  84,  85,  86,  87,  88,  89,  90,  91,\n",
       "        92,  93,  94,  95,  96,  97,  98,  99, 100, 101, 102, 103, 104,\n",
       "       105, 106, 107, 108, 109, 110, 111, 112, 113, 114, 115, 116, 117,\n",
       "       118, 119, 120, 121, 122, 123, 124, 125, 126, 127, 128, 129, 130,\n",
       "       131, 132, 133, 134, 135, 136, 137, 138, 139, 140, 141, 142, 143,\n",
       "       144, 145, 146, 147, 148, 149, 150])"
      ]
     },
     "execution_count": 16,
     "metadata": {},
     "output_type": "execute_result"
    }
   ],
   "source": [
    "## Cut off the little bit after the end of the training session\n",
    "df = df.loc[(df['lap'] > 0) & (df['lap'] < df['lap'].max()), :] #.drop(columns='lap')\n",
    "df['lap'].unique()"
   ]
  },
  {
   "cell_type": "markdown",
   "id": "bafcd95f-8cd1-44a4-93ef-38c43063ac68",
   "metadata": {},
   "source": [
    "### Convert lap to category"
   ]
  },
  {
   "cell_type": "code",
   "execution_count": 17,
   "id": "215dd1d3-ad92-4ac9-b055-9f51d77a1cdb",
   "metadata": {},
   "outputs": [],
   "source": [
    "df.loc[:, 'lap'] = df.loc[:, 'lap'].astype('category')"
   ]
  },
  {
   "cell_type": "code",
   "execution_count": 18,
   "id": "1a66b318-2d12-4fda-a171-deee4c130284",
   "metadata": {},
   "outputs": [
    {
     "data": {
      "text/plain": [
       "39329854"
      ]
     },
     "execution_count": 18,
     "metadata": {},
     "output_type": "execute_result"
    }
   ],
   "source": [
    "sys.getsizeof(df)"
   ]
  },
  {
   "cell_type": "markdown",
   "id": "0329f4a7-96cd-43dc-ae4b-4d31ed11eb2e",
   "metadata": {},
   "source": [
    "### Create lap time df"
   ]
  },
  {
   "cell_type": "code",
   "execution_count": 19,
   "id": "075b1743-b4ea-4080-915f-4b48d9a5c16f",
   "metadata": {},
   "outputs": [
    {
     "data": {
      "text/html": [
       "<div>\n",
       "<style scoped>\n",
       "    .dataframe tbody tr th:only-of-type {\n",
       "        vertical-align: middle;\n",
       "    }\n",
       "\n",
       "    .dataframe tbody tr th {\n",
       "        vertical-align: top;\n",
       "    }\n",
       "\n",
       "    .dataframe thead th {\n",
       "        text-align: right;\n",
       "    }\n",
       "</style>\n",
       "<table border=\"1\" class=\"dataframe\">\n",
       "  <thead>\n",
       "    <tr style=\"text-align: right;\">\n",
       "      <th></th>\n",
       "      <th>max</th>\n",
       "      <th>min</th>\n",
       "    </tr>\n",
       "    <tr>\n",
       "      <th>lap</th>\n",
       "      <th></th>\n",
       "      <th></th>\n",
       "    </tr>\n",
       "  </thead>\n",
       "  <tbody>\n",
       "    <tr>\n",
       "      <th>1</th>\n",
       "      <td>48.882130</td>\n",
       "      <td>4.478246</td>\n",
       "    </tr>\n",
       "    <tr>\n",
       "      <th>2</th>\n",
       "      <td>90.987473</td>\n",
       "      <td>48.931431</td>\n",
       "    </tr>\n",
       "    <tr>\n",
       "      <th>3</th>\n",
       "      <td>132.791306</td>\n",
       "      <td>91.038071</td>\n",
       "    </tr>\n",
       "    <tr>\n",
       "      <th>4</th>\n",
       "      <td>173.981293</td>\n",
       "      <td>132.841904</td>\n",
       "    </tr>\n",
       "    <tr>\n",
       "      <th>5</th>\n",
       "      <td>216.135895</td>\n",
       "      <td>174.031006</td>\n",
       "    </tr>\n",
       "  </tbody>\n",
       "</table>\n",
       "</div>"
      ],
      "text/plain": [
       "            max         min\n",
       "lap                        \n",
       "1     48.882130    4.478246\n",
       "2     90.987473   48.931431\n",
       "3    132.791306   91.038071\n",
       "4    173.981293  132.841904\n",
       "5    216.135895  174.031006"
      ]
     },
     "execution_count": 19,
     "metadata": {},
     "output_type": "execute_result"
    }
   ],
   "source": [
    "laps = pd.DataFrame(df.groupby(by='lap')['time'].describe()[['max', 'min']])\n",
    "laps.head()"
   ]
  },
  {
   "cell_type": "code",
   "execution_count": 20,
   "id": "62e97abe-0e14-488c-8078-0ea7e456bffd",
   "metadata": {},
   "outputs": [
    {
     "data": {
      "text/plain": [
       "count    150.000000\n",
       "mean      41.709079\n",
       "std        1.468404\n",
       "min       40.206055\n",
       "25%       41.014893\n",
       "50%       41.378601\n",
       "75%       41.854782\n",
       "max       48.190918\n",
       "Name: lap_time, dtype: float64"
      ]
     },
     "execution_count": 20,
     "metadata": {},
     "output_type": "execute_result"
    }
   ],
   "source": [
    "laps['lap_time'] = laps['max'] - laps['min']\n",
    "laps['lap_time'].describe()"
   ]
  },
  {
   "cell_type": "code",
   "execution_count": 21,
   "id": "cadc2c77-cea6-4b5c-9b42-d1795b26df65",
   "metadata": {},
   "outputs": [
    {
     "data": {
      "image/png": "[encoded data removed]",
      "text/plain": [
       "<Figure size 720x720 with 2 Axes>"
      ]
     },
     "metadata": {
      "needs_background": "light"
     },
     "output_type": "display_data"
    }
   ],
   "source": [
    "fig, ax = plt.subplots(2, 1, figsize=(10,10))\n",
    "plt.suptitle('Distribution of Lap Times in Seconds', size=15)\n",
    "ax[0] = sns.histplot(x='lap_time', data=laps, bins=50, ax=ax[0])\n",
    "ax[0].set_xlabel('Lap Time (Seconds)', size=12)\n",
    "ax[1] = sns.boxplot(x='lap_time', data=laps, ax=ax[1])\n",
    "ax[1].set_xlabel('Lap Time (Seconds)', size=12)\n",
    "plt.tight_layout();"
   ]
  },
  {
   "cell_type": "code",
   "execution_count": 22,
   "id": "7e5f22ea-0cee-43b3-a0ca-8bd19fbe7aaa",
   "metadata": {},
   "outputs": [
    {
     "data": {
      "text/plain": [
       "11"
      ]
     },
     "execution_count": 22,
     "metadata": {},
     "output_type": "execute_result"
    }
   ],
   "source": [
    "len(laps[laps['lap_time']>43])"
   ]
  },
  {
   "cell_type": "markdown",
   "id": "39c227af-d0fa-477e-bde8-db67b96604e7",
   "metadata": {},
   "source": [
    "### Add lap times to df to make sorting easier"
   ]
  },
  {
   "cell_type": "code",
   "execution_count": 23,
   "id": "ee53e9ef-758e-41f5-8457-501845068272",
   "metadata": {},
   "outputs": [],
   "source": [
    "df = pd.merge(left=df, right=laps['lap_time'], left_on='lap', right_index=True).copy()"
   ]
  },
  {
   "cell_type": "markdown",
   "id": "521fb563-8080-4179-bf97-ca89f096cfcd",
   "metadata": {
    "tags": []
   },
   "source": [
    "### Cut laps longer than 43 seconds"
   ]
  },
  {
   "cell_type": "code",
   "execution_count": 24,
   "id": "451d371a-efbc-446e-b187-9a4fa25207de",
   "metadata": {},
   "outputs": [
    {
     "data": {
      "text/plain": [
       "(115052, 27)"
      ]
     },
     "execution_count": 24,
     "metadata": {},
     "output_type": "execute_result"
    }
   ],
   "source": [
    "df = df.loc[df['lap_time'] < 43, :].copy()\n",
    "df.drop(columns=['lap', 'time'], inplace=True)\n",
    "df.shape"
   ]
  },
  {
   "cell_type": "code",
   "execution_count": 25,
   "id": "f4186d04-64b6-4a1c-a0e2-a70128d1b17c",
   "metadata": {},
   "outputs": [
    {
     "data": {
      "image/png": "[encoded data removed]",
      "text/plain": [
       "<Figure size 720x720 with 2 Axes>"
      ]
     },
     "metadata": {
      "needs_background": "light"
     },
     "output_type": "display_data"
    }
   ],
   "source": [
    "fig, ax = plt.subplots(2, 1, figsize=(10,10))\n",
    "plt.suptitle('Distribution of Lap Times in Seconds', size=15)\n",
    "ax[0] = sns.histplot(x='lap_time', data=laps.loc[laps['lap_time'] < 43], bins=50, ax=ax[0])\n",
    "ax[0].set_xlabel('Lap Time (Seconds)', size=12)\n",
    "ax[1] = sns.boxplot(x='lap_time', data=laps.loc[laps['lap_time'] < 43], ax=ax[1])\n",
    "ax[1].set_xlabel('Lap Time (Seconds)', size=12)\n",
    "plt.tight_layout();"
   ]
  },
  {
   "cell_type": "code",
   "execution_count": 26,
   "id": "b7e3df23-e03d-4c6b-a14b-00995419822f",
   "metadata": {},
   "outputs": [],
   "source": [
    "laps = laps.loc[laps['lap_time'] < 43]"
   ]
  },
  {
   "cell_type": "code",
   "execution_count": 27,
   "id": "4dca7a55-9e41-43b4-a4c6-5652b87d879a",
   "metadata": {},
   "outputs": [
    {
     "data": {
      "text/plain": [
       "count    139.000000\n",
       "mean      41.335628\n",
       "std        0.536196\n",
       "min       40.206055\n",
       "25%       40.985352\n",
       "50%       41.291016\n",
       "75%       41.723145\n",
       "max       42.755127\n",
       "Name: lap_time, dtype: float64"
      ]
     },
     "execution_count": 27,
     "metadata": {},
     "output_type": "execute_result"
    }
   ],
   "source": [
    "laps['lap_time'].describe()"
   ]
  },
  {
   "cell_type": "markdown",
   "id": "c61a6aa8-0367-42e7-b13f-cdb2de41ebbd",
   "metadata": {},
   "source": [
    "*Try cutting anything lower than 42 then train again*"
   ]
  },
  {
   "cell_type": "code",
   "execution_count": 28,
   "id": "d54e2fd1-0f1d-419c-9c0a-d0971d3a43a3",
   "metadata": {},
   "outputs": [
    {
     "data": {
      "text/plain": [
       "(102368, 26)"
      ]
     },
     "execution_count": 28,
     "metadata": {},
     "output_type": "execute_result"
    }
   ],
   "source": [
    "df = df.loc[df['lap_time'] < 42, :].copy()\n",
    "df.drop(columns=['lap_time'], inplace=True)\n",
    "df.shape"
   ]
  },
  {
   "cell_type": "markdown",
   "id": "b98284f6-c33a-422a-a93e-ddcacd57eb08",
   "metadata": {},
   "source": [
    "### After paring laps take telemetry data"
   ]
  },
  {
   "cell_type": "markdown",
   "id": "999f2a80-ccf2-4f07-8c75-b5e966f735fd",
   "metadata": {},
   "source": [
    "### Save Telemetry Data\n",
    "\n",
    "Doing so after cutting laps."
   ]
  },
  {
   "cell_type": "code",
   "execution_count": 29,
   "id": "9aa184d7-4647-417b-8352-d875bcd99e35",
   "metadata": {},
   "outputs": [
    {
     "data": {
      "text/html": [
       "<div>\n",
       "<style scoped>\n",
       "    .dataframe tbody tr th:only-of-type {\n",
       "        vertical-align: middle;\n",
       "    }\n",
       "\n",
       "    .dataframe tbody tr th {\n",
       "        vertical-align: top;\n",
       "    }\n",
       "\n",
       "    .dataframe thead th {\n",
       "        text-align: right;\n",
       "    }\n",
       "</style>\n",
       "<table border=\"1\" class=\"dataframe\">\n",
       "  <thead>\n",
       "    <tr style=\"text-align: right;\">\n",
       "      <th></th>\n",
       "      <th>accel_x</th>\n",
       "      <th>accel_y</th>\n",
       "      <th>accel_z</th>\n",
       "      <th>gyro_x</th>\n",
       "      <th>gyro_y</th>\n",
       "      <th>gyro_z</th>\n",
       "      <th>vel_x</th>\n",
       "      <th>vel_y</th>\n",
       "      <th>vel_z</th>\n",
       "    </tr>\n",
       "  </thead>\n",
       "  <tbody>\n",
       "    <tr>\n",
       "      <th>count</th>\n",
       "      <td>102368.000000</td>\n",
       "      <td>102368.000000</td>\n",
       "      <td>102368.000000</td>\n",
       "      <td>102368.000000</td>\n",
       "      <td>102368.000000</td>\n",
       "      <td>1.023680e+05</td>\n",
       "      <td>102368.000000</td>\n",
       "      <td>102368.000000</td>\n",
       "      <td>102368.000000</td>\n",
       "    </tr>\n",
       "    <tr>\n",
       "      <th>mean</th>\n",
       "      <td>0.001435</td>\n",
       "      <td>-0.001101</td>\n",
       "      <td>-0.001413</td>\n",
       "      <td>0.000017</td>\n",
       "      <td>0.001520</td>\n",
       "      <td>-2.093377e-05</td>\n",
       "      <td>-0.359973</td>\n",
       "      <td>-0.124030</td>\n",
       "      <td>12.731518</td>\n",
       "    </tr>\n",
       "    <tr>\n",
       "      <th>std</th>\n",
       "      <td>2.697425</td>\n",
       "      <td>1.535470</td>\n",
       "      <td>3.965701</td>\n",
       "      <td>0.001362</td>\n",
       "      <td>0.005414</td>\n",
       "      <td>1.492871e-03</td>\n",
       "      <td>0.922008</td>\n",
       "      <td>0.271760</td>\n",
       "      <td>2.399441</td>\n",
       "    </tr>\n",
       "    <tr>\n",
       "      <th>min</th>\n",
       "      <td>-84.802498</td>\n",
       "      <td>-12.386760</td>\n",
       "      <td>-49.572800</td>\n",
       "      <td>-0.023662</td>\n",
       "      <td>-0.032501</td>\n",
       "      <td>-1.670798e-02</td>\n",
       "      <td>-8.900988</td>\n",
       "      <td>-1.339154</td>\n",
       "      <td>6.074970</td>\n",
       "    </tr>\n",
       "    <tr>\n",
       "      <th>25%</th>\n",
       "      <td>-1.223680</td>\n",
       "      <td>-0.964905</td>\n",
       "      <td>-2.443123</td>\n",
       "      <td>-0.000643</td>\n",
       "      <td>-0.000722</td>\n",
       "      <td>-7.206347e-04</td>\n",
       "      <td>-0.889829</td>\n",
       "      <td>-0.383769</td>\n",
       "      <td>10.832932</td>\n",
       "    </tr>\n",
       "    <tr>\n",
       "      <th>50%</th>\n",
       "      <td>0.019419</td>\n",
       "      <td>-0.053080</td>\n",
       "      <td>0.442290</td>\n",
       "      <td>0.000009</td>\n",
       "      <td>0.001529</td>\n",
       "      <td>-1.605889e-08</td>\n",
       "      <td>-0.284971</td>\n",
       "      <td>-0.028645</td>\n",
       "      <td>12.707540</td>\n",
       "    </tr>\n",
       "    <tr>\n",
       "      <th>75%</th>\n",
       "      <td>1.273894</td>\n",
       "      <td>0.882434</td>\n",
       "      <td>2.850235</td>\n",
       "      <td>0.000673</td>\n",
       "      <td>0.005762</td>\n",
       "      <td>6.942443e-04</td>\n",
       "      <td>0.039434</td>\n",
       "      <td>0.070044</td>\n",
       "      <td>14.260202</td>\n",
       "    </tr>\n",
       "    <tr>\n",
       "      <th>max</th>\n",
       "      <td>94.708817</td>\n",
       "      <td>53.589142</td>\n",
       "      <td>10.457180</td>\n",
       "      <td>0.013699</td>\n",
       "      <td>0.040941</td>\n",
       "      <td>3.330157e-02</td>\n",
       "      <td>5.964907</td>\n",
       "      <td>1.289006</td>\n",
       "      <td>18.467470</td>\n",
       "    </tr>\n",
       "  </tbody>\n",
       "</table>\n",
       "</div>"
      ],
      "text/plain": [
       "             accel_x        accel_y        accel_z         gyro_x  \\\n",
       "count  102368.000000  102368.000000  102368.000000  102368.000000   \n",
       "mean        0.001435      -0.001101      -0.001413       0.000017   \n",
       "std         2.697425       1.535470       3.965701       0.001362   \n",
       "min       -84.802498     -12.386760     -49.572800      -0.023662   \n",
       "25%        -1.223680      -0.964905      -2.443123      -0.000643   \n",
       "50%         0.019419      -0.053080       0.442290       0.000009   \n",
       "75%         1.273894       0.882434       2.850235       0.000673   \n",
       "max        94.708817      53.589142      10.457180       0.013699   \n",
       "\n",
       "              gyro_y        gyro_z          vel_x          vel_y  \\\n",
       "count  102368.000000  1.023680e+05  102368.000000  102368.000000   \n",
       "mean        0.001520 -2.093377e-05      -0.359973      -0.124030   \n",
       "std         0.005414  1.492871e-03       0.922008       0.271760   \n",
       "min        -0.032501 -1.670798e-02      -8.900988      -1.339154   \n",
       "25%        -0.000722 -7.206347e-04      -0.889829      -0.383769   \n",
       "50%         0.001529 -1.605889e-08      -0.284971      -0.028645   \n",
       "75%         0.005762  6.942443e-04       0.039434       0.070044   \n",
       "max         0.040941  3.330157e-02       5.964907       1.289006   \n",
       "\n",
       "               vel_z  \n",
       "count  102368.000000  \n",
       "mean       12.731518  \n",
       "std         2.399441  \n",
       "min         6.074970  \n",
       "25%        10.832932  \n",
       "50%        12.707540  \n",
       "75%        14.260202  \n",
       "max        18.467470  "
      ]
     },
     "execution_count": 29,
     "metadata": {},
     "output_type": "execute_result"
    }
   ],
   "source": [
    "X_telem = df[telemetry_columns]\n",
    "X_telem.describe()"
   ]
  },
  {
   "cell_type": "code",
   "execution_count": 30,
   "id": "fe83d2a6-c735-4c18-a828-10fab5a412f0",
   "metadata": {},
   "outputs": [],
   "source": [
    "## Save as pickle\n",
    "X_telem.to_pickle(input_telem_dataset_file)"
   ]
  },
  {
   "cell_type": "markdown",
   "id": "58c7f1e7-6fba-4dd2-a05d-cbb011c9c123",
   "metadata": {},
   "source": [
    "## Image Data"
   ]
  },
  {
   "cell_type": "code",
   "execution_count": 31,
   "id": "ec8520e0-50ad-4cd7-b7f1-3ba0002f7a9c",
   "metadata": {},
   "outputs": [],
   "source": [
    "df = df[['steering', 'throttle', 'image', ]]"
   ]
  },
  {
   "cell_type": "markdown",
   "id": "0f0fbca1-3f08-426e-9d1e-09d740aea3b0",
   "metadata": {},
   "source": [
    "### Verify Files"
   ]
  },
  {
   "cell_type": "code",
   "execution_count": 32,
   "id": "5d5e6efd-727f-4d33-9f2f-eb2a6ccc9bbc",
   "metadata": {},
   "outputs": [
    {
     "data": {
      "text/plain": [
       "['2777.586.PNG',\n",
       " '896.3273.PNG',\n",
       " '1769.436.PNG',\n",
       " '4331.179.PNG',\n",
       " '4090.235.PNG']"
      ]
     },
     "execution_count": 32,
     "metadata": {},
     "output_type": "execute_result"
    }
   ],
   "source": [
    "## Verify Files\n",
    "os.listdir(local_image_directory)[:5]"
   ]
  },
  {
   "cell_type": "markdown",
   "id": "e76833b4-bd2f-42b3-b6d1-113ad4be16ed",
   "metadata": {},
   "source": [
    "## Create Image Array"
   ]
  },
  {
   "cell_type": "code",
   "execution_count": 33,
   "id": "51150f73-c1ab-4b99-8fcc-a49b780d94dc",
   "metadata": {},
   "outputs": [],
   "source": [
    "## Using keras, load images as list, adding to a list\n",
    "img_array_list = []\n",
    "for img in df['image']:\n",
    "    img_array_list.append(img_to_array(load_img(f\"{local_image_directory}/{img}\", \n",
    "                                                color_mode='grayscale',))) \n",
    "                                                # target_size=(60, 80))))"
   ]
  },
  {
   "cell_type": "code",
   "execution_count": 34,
   "id": "017ec015-2676-4596-a8bd-a22e5eba096b",
   "metadata": {},
   "outputs": [],
   "source": [
    "## convert list of arrays into a numpy array (of arrays())\n",
    "X_img = np.array(img_array_list)"
   ]
  },
  {
   "cell_type": "markdown",
   "id": "93aa01b0-c708-4e33-ade8-9a4e5a46df08",
   "metadata": {},
   "source": [
    "### Scale Image Data"
   ]
  },
  {
   "cell_type": "code",
   "execution_count": 35,
   "id": "7625abad-29d6-4be5-bc98-7af219827ed6",
   "metadata": {},
   "outputs": [],
   "source": [
    "X_img /= 255"
   ]
  },
  {
   "cell_type": "markdown",
   "id": "a3b9c6dc-97b5-4118-b27c-ef73d1f107e7",
   "metadata": {},
   "source": [
    "## Create Datasets"
   ]
  },
  {
   "cell_type": "markdown",
   "id": "c962648f-409c-427a-8034-6faa9e086edb",
   "metadata": {},
   "source": [
    "### Create Targets"
   ]
  },
  {
   "cell_type": "code",
   "execution_count": 36,
   "id": "7fa02d0b-5894-4417-820c-9506d8c748b7",
   "metadata": {},
   "outputs": [
    {
     "name": "stdout",
     "output_type": "stream",
     "text": [
      "X.shape: (102368, 64, 64, 1)\n",
      "y.shape: (102368, 2)\n"
     ]
    }
   ],
   "source": [
    "## Target: throttle and steering data\n",
    "y = df.loc[:, ['steering', 'throttle']].to_numpy().copy()\n",
    "\n",
    "## Verify size\n",
    "print(f'X.shape: {X_img.shape}')\n",
    "print(f'y.shape: {y.shape}')"
   ]
  },
  {
   "cell_type": "markdown",
   "id": "ce504a00-93ee-45d7-85d4-1b7e07f83f98",
   "metadata": {},
   "source": [
    "### Save Datasets"
   ]
  },
  {
   "cell_type": "code",
   "execution_count": 37,
   "id": "92c3dde5-8447-42b0-a246-f2d2b384dd93",
   "metadata": {},
   "outputs": [],
   "source": [
    "## Save as binary NumPy .npy format\n",
    "with open(input_image_dataset_file, 'wb') as X_out:\n",
    "    np.save(file=X_out, arr=X_img)\n",
    "with open(target_dataset_file, 'wb') as y_out:\n",
    "    np.save(file=y_out, arr=y)"
   ]
  }
 ],
 "metadata": {
  "kernelspec": {
   "display_name": "Python 3 (ipykernel)",
   "language": "python",
   "name": "python3"
  },
  "language_info": {
   "codemirror_mode": {
    "name": "ipython",
    "version": 3
   },
   "file_extension": ".py",
   "mimetype": "text/x-python",
   "name": "python",
   "nbconvert_exporter": "python",
   "pygments_lexer": "ipython3",
   "version": "3.9.7"
  }
 },
 "nbformat": 4,
 "nbformat_minor": 5
}
