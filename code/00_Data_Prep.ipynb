{
 "cells": [
  {
   "cell_type": "markdown",
   "id": "da1de231-e9e8-4f0b-8758-b67011969f80",
   "metadata": {},
   "source": [
    "# Data Prep\n",
    "\n",
    "In this notebook I will import and inspect the image and telemetry data taken from Donkey Sim, and organize it for modeling steps.\n",
    "\n",
    "* Import telemetry .csv\n",
    "* Import image data\n",
    "* Convert image data\n",
    "* Create dataframe with: \n",
    "  * steering inputs, \n",
    "  * throttle inputs\n",
    "  * converted imageds\n",
    "* Save as a pickle format file for modeling"
   ]
  },
  {
   "cell_type": "code",
   "execution_count": 1,
   "id": "ca6f1792-6e54-4a32-9efb-e2052c199a6c",
   "metadata": {},
   "outputs": [
    {
     "name": "stderr",
     "output_type": "stream",
     "text": [
      "2021-11-15 10:20:03.070103: I tensorflow/stream_executor/platform/default/dso_loader.cc:49] Successfully opened dynamic library libcudart.so.10.1\n"
     ]
    }
   ],
   "source": [
    "## Imports\n",
    "import numpy as np\n",
    "import pandas as pd\n",
    "import os\n",
    "import sys\n",
    "import matplotlib.pyplot as plt\n",
    "import seaborn as sns\n",
    "import time\n",
    "import pickle\n",
    "\n",
    "from tensorflow.keras.preprocessing.image import img_to_array, load_img"
   ]
  },
  {
   "cell_type": "markdown",
   "id": "2c4c10aa-3aa2-4767-8af1-42f1ba88016e",
   "metadata": {
    "tags": []
   },
   "source": [
    "## Telemetry Data\n",
    "\n",
    "Steps:\n",
    "* load simulation telemetry data csv\n",
    "* cut unneeded columns\n",
    "* cut incomplete last lap\n",
    "* import images as numpy arrays\n",
    "* create numpy array of image data arrays\n",
    "* save images as input dataset X\n",
    "* save steering angle and throttle data in numpy array as target dataset y\n"
   ]
  },
  {
   "cell_type": "code",
   "execution_count": 2,
   "id": "c47db9fe-e9a3-4a25-a59c-3d8a690e76bc",
   "metadata": {},
   "outputs": [],
   "source": [
    "## Constants\n",
    "working_date = '11_14_2021'\n",
    "working_time = '19_32_37'\n",
    "local_project_path = '/home/grant/projects/donkeysim-client/data'"
   ]
  },
  {
   "cell_type": "code",
   "execution_count": 3,
   "id": "351de744-92e0-4111-b0a1-dd9f51d309ed",
   "metadata": {},
   "outputs": [],
   "source": [
    "## Directories\n",
    "local_data_directory = f'{local_project_path}/{working_date}/{working_time}'\n",
    "local_image_directory = f'{local_data_directory}/images'\n",
    "working_data_directory = f'../data/{working_date}/{working_time}'\n",
    "\n",
    "## File paths\n",
    "telemetry_csv = f'{local_data_directory}/data.csv'\n",
    "input_image_dataset_file = f'{working_data_directory}/X_img.npy'\n",
    "input_imu_dataset_file = f'{working_data_directory}/X_imu.pkl'\n",
    "target_dataset_file = f'{working_data_directory}/y.npy'"
   ]
  },
  {
   "cell_type": "code",
   "execution_count": 4,
   "id": "986e8118-6a87-4856-9382-9f17297ddf50",
   "metadata": {},
   "outputs": [],
   "source": [
    "## Make sure directoires exist\n",
    "os.makedirs(working_data_directory, exist_ok=True)"
   ]
  },
  {
   "cell_type": "markdown",
   "id": "1234522f-ccb4-4d3a-80b6-ae6c86b7d416",
   "metadata": {},
   "source": [
    "### Load CSV file as DataFrame"
   ]
  },
  {
   "cell_type": "code",
   "execution_count": 5,
   "id": "f8e7a448-e202-4ef7-a2d9-53f1a6f14cc3",
   "metadata": {},
   "outputs": [
    {
     "data": {
      "text/html": [
       "<div>\n",
       "<style scoped>\n",
       "    .dataframe tbody tr th:only-of-type {\n",
       "        vertical-align: middle;\n",
       "    }\n",
       "\n",
       "    .dataframe tbody tr th {\n",
       "        vertical-align: top;\n",
       "    }\n",
       "\n",
       "    .dataframe thead th {\n",
       "        text-align: right;\n",
       "    }\n",
       "</style>\n",
       "<table border=\"1\" class=\"dataframe\">\n",
       "  <thead>\n",
       "    <tr style=\"text-align: right;\">\n",
       "      <th></th>\n",
       "      <th>steering_angle</th>\n",
       "      <th>throttle</th>\n",
       "      <th>speed</th>\n",
       "      <th>image</th>\n",
       "      <th>hit</th>\n",
       "      <th>time</th>\n",
       "      <th>accel_x</th>\n",
       "      <th>accel_y</th>\n",
       "      <th>accel_z</th>\n",
       "      <th>gyro_x</th>\n",
       "      <th>...</th>\n",
       "      <th>totalNodes</th>\n",
       "      <th>pos_x</th>\n",
       "      <th>pos_y</th>\n",
       "      <th>pos_z</th>\n",
       "      <th>vel_x</th>\n",
       "      <th>vel_y</th>\n",
       "      <th>vel_z</th>\n",
       "      <th>on_road</th>\n",
       "      <th>progress_on_shortest_path</th>\n",
       "      <th>lap</th>\n",
       "    </tr>\n",
       "  </thead>\n",
       "  <tbody>\n",
       "    <tr>\n",
       "      <th>0</th>\n",
       "      <td>0.0</td>\n",
       "      <td>0.227762</td>\n",
       "      <td>0.017316</td>\n",
       "      <td>4.992752.PNG</td>\n",
       "      <td>none</td>\n",
       "      <td>4.992752</td>\n",
       "      <td>0.000239</td>\n",
       "      <td>0.000895</td>\n",
       "      <td>1.195430</td>\n",
       "      <td>0.000175</td>\n",
       "      <td>...</td>\n",
       "      <td>307</td>\n",
       "      <td>14.03981</td>\n",
       "      <td>0.565237</td>\n",
       "      <td>-68.18562</td>\n",
       "      <td>0.000084</td>\n",
       "      <td>-0.000800</td>\n",
       "      <td>0.017297</td>\n",
       "      <td>0</td>\n",
       "      <td>0</td>\n",
       "      <td>0</td>\n",
       "    </tr>\n",
       "    <tr>\n",
       "      <th>1</th>\n",
       "      <td>0.0</td>\n",
       "      <td>0.238514</td>\n",
       "      <td>0.040147</td>\n",
       "      <td>5.025918.PNG</td>\n",
       "      <td>none</td>\n",
       "      <td>5.025918</td>\n",
       "      <td>-0.003935</td>\n",
       "      <td>0.013784</td>\n",
       "      <td>0.995404</td>\n",
       "      <td>0.000349</td>\n",
       "      <td>...</td>\n",
       "      <td>307</td>\n",
       "      <td>14.03861</td>\n",
       "      <td>0.565034</td>\n",
       "      <td>-68.18688</td>\n",
       "      <td>0.000108</td>\n",
       "      <td>-0.000333</td>\n",
       "      <td>0.040146</td>\n",
       "      <td>0</td>\n",
       "      <td>0</td>\n",
       "      <td>0</td>\n",
       "    </tr>\n",
       "    <tr>\n",
       "      <th>2</th>\n",
       "      <td>0.0</td>\n",
       "      <td>0.240469</td>\n",
       "      <td>0.079855</td>\n",
       "      <td>5.092834.PNG</td>\n",
       "      <td>none</td>\n",
       "      <td>5.092834</td>\n",
       "      <td>-0.009481</td>\n",
       "      <td>0.023776</td>\n",
       "      <td>0.936873</td>\n",
       "      <td>0.000470</td>\n",
       "      <td>...</td>\n",
       "      <td>307</td>\n",
       "      <td>14.03587</td>\n",
       "      <td>0.564835</td>\n",
       "      <td>-68.18987</td>\n",
       "      <td>-0.000094</td>\n",
       "      <td>0.001050</td>\n",
       "      <td>0.079848</td>\n",
       "      <td>0</td>\n",
       "      <td>0</td>\n",
       "      <td>0</td>\n",
       "    </tr>\n",
       "    <tr>\n",
       "      <th>3</th>\n",
       "      <td>0.0</td>\n",
       "      <td>0.240469</td>\n",
       "      <td>0.100219</td>\n",
       "      <td>5.143176.PNG</td>\n",
       "      <td>none</td>\n",
       "      <td>5.143176</td>\n",
       "      <td>0.001526</td>\n",
       "      <td>0.022555</td>\n",
       "      <td>0.894351</td>\n",
       "      <td>0.000387</td>\n",
       "      <td>...</td>\n",
       "      <td>307</td>\n",
       "      <td>14.03312</td>\n",
       "      <td>0.564787</td>\n",
       "      <td>-68.19279</td>\n",
       "      <td>-0.000051</td>\n",
       "      <td>0.002099</td>\n",
       "      <td>0.100197</td>\n",
       "      <td>0</td>\n",
       "      <td>0</td>\n",
       "      <td>0</td>\n",
       "    </tr>\n",
       "    <tr>\n",
       "      <th>4</th>\n",
       "      <td>0.0</td>\n",
       "      <td>0.227762</td>\n",
       "      <td>0.128075</td>\n",
       "      <td>5.175912.PNG</td>\n",
       "      <td>none</td>\n",
       "      <td>5.175912</td>\n",
       "      <td>0.009088</td>\n",
       "      <td>0.018956</td>\n",
       "      <td>0.764733</td>\n",
       "      <td>0.000321</td>\n",
       "      <td>...</td>\n",
       "      <td>307</td>\n",
       "      <td>14.02952</td>\n",
       "      <td>0.564822</td>\n",
       "      <td>-68.19651</td>\n",
       "      <td>-0.000011</td>\n",
       "      <td>0.002954</td>\n",
       "      <td>0.128041</td>\n",
       "      <td>0</td>\n",
       "      <td>0</td>\n",
       "      <td>0</td>\n",
       "    </tr>\n",
       "  </tbody>\n",
       "</table>\n",
       "<p>5 rows × 28 columns</p>\n",
       "</div>"
      ],
      "text/plain": [
       "   steering_angle  throttle     speed         image   hit      time   accel_x  \\\n",
       "0             0.0  0.227762  0.017316  4.992752.PNG  none  4.992752  0.000239   \n",
       "1             0.0  0.238514  0.040147  5.025918.PNG  none  5.025918 -0.003935   \n",
       "2             0.0  0.240469  0.079855  5.092834.PNG  none  5.092834 -0.009481   \n",
       "3             0.0  0.240469  0.100219  5.143176.PNG  none  5.143176  0.001526   \n",
       "4             0.0  0.227762  0.128075  5.175912.PNG  none  5.175912  0.009088   \n",
       "\n",
       "    accel_y   accel_z    gyro_x  ...  totalNodes     pos_x     pos_y  \\\n",
       "0  0.000895  1.195430  0.000175  ...         307  14.03981  0.565237   \n",
       "1  0.013784  0.995404  0.000349  ...         307  14.03861  0.565034   \n",
       "2  0.023776  0.936873  0.000470  ...         307  14.03587  0.564835   \n",
       "3  0.022555  0.894351  0.000387  ...         307  14.03312  0.564787   \n",
       "4  0.018956  0.764733  0.000321  ...         307  14.02952  0.564822   \n",
       "\n",
       "      pos_z     vel_x     vel_y     vel_z  on_road  progress_on_shortest_path  \\\n",
       "0 -68.18562  0.000084 -0.000800  0.017297        0                          0   \n",
       "1 -68.18688  0.000108 -0.000333  0.040146        0                          0   \n",
       "2 -68.18987 -0.000094  0.001050  0.079848        0                          0   \n",
       "3 -68.19279 -0.000051  0.002099  0.100197        0                          0   \n",
       "4 -68.19651 -0.000011  0.002954  0.128041        0                          0   \n",
       "\n",
       "   lap  \n",
       "0    0  \n",
       "1    0  \n",
       "2    0  \n",
       "3    0  \n",
       "4    0  \n",
       "\n",
       "[5 rows x 28 columns]"
      ]
     },
     "execution_count": 5,
     "metadata": {},
     "output_type": "execute_result"
    }
   ],
   "source": [
    "df = pd.read_csv(telemetry_csv)\n",
    "df.head()"
   ]
  },
  {
   "cell_type": "code",
   "execution_count": 6,
   "id": "a190b9d4-e6c4-4a54-89f2-0c5868fdabf1",
   "metadata": {},
   "outputs": [],
   "source": [
    "## drop telemetry column\n",
    "df.reset_index(drop=True, inplace=True)"
   ]
  },
  {
   "cell_type": "code",
   "execution_count": 7,
   "id": "ddb46dff-dfe1-4585-a415-8fcf64effea8",
   "metadata": {},
   "outputs": [
    {
     "name": "stdout",
     "output_type": "stream",
     "text": [
      "<class 'pandas.core.frame.DataFrame'>\n",
      "RangeIndex: 16898 entries, 0 to 16897\n",
      "Data columns (total 28 columns):\n",
      " #   Column                     Non-Null Count  Dtype  \n",
      "---  ------                     --------------  -----  \n",
      " 0   steering_angle             16898 non-null  float64\n",
      " 1   throttle                   16898 non-null  float64\n",
      " 2   speed                      16898 non-null  float64\n",
      " 3   image                      16898 non-null  object \n",
      " 4   hit                        16898 non-null  object \n",
      " 5   time                       16898 non-null  float64\n",
      " 6   accel_x                    16898 non-null  float64\n",
      " 7   accel_y                    16898 non-null  float64\n",
      " 8   accel_z                    16898 non-null  float64\n",
      " 9   gyro_x                     16898 non-null  float64\n",
      " 10  gyro_y                     16898 non-null  float64\n",
      " 11  gyro_z                     16898 non-null  float64\n",
      " 12  gyro_w                     16898 non-null  float64\n",
      " 13  pitch                      16898 non-null  float64\n",
      " 14  yaw                        16898 non-null  float64\n",
      " 15  roll                       16898 non-null  float64\n",
      " 16  cte                        16898 non-null  float64\n",
      " 17  activeNode                 16898 non-null  int64  \n",
      " 18  totalNodes                 16898 non-null  int64  \n",
      " 19  pos_x                      16898 non-null  float64\n",
      " 20  pos_y                      16898 non-null  float64\n",
      " 21  pos_z                      16898 non-null  float64\n",
      " 22  vel_x                      16898 non-null  float64\n",
      " 23  vel_y                      16898 non-null  float64\n",
      " 24  vel_z                      16898 non-null  float64\n",
      " 25  on_road                    16898 non-null  int64  \n",
      " 26  progress_on_shortest_path  16898 non-null  int64  \n",
      " 27  lap                        16898 non-null  int64  \n",
      "dtypes: float64(21), int64(5), object(2)\n",
      "memory usage: 3.6+ MB\n"
     ]
    }
   ],
   "source": [
    "df.info()"
   ]
  },
  {
   "cell_type": "code",
   "execution_count": 8,
   "id": "d424d8fc-285e-4dc9-941c-c9d943c62d9b",
   "metadata": {},
   "outputs": [
    {
     "data": {
      "text/plain": [
       "Index(['steering_angle', 'throttle', 'speed', 'image', 'hit', 'time',\n",
       "       'accel_x', 'accel_y', 'accel_z', 'gyro_x', 'gyro_y', 'gyro_z', 'gyro_w',\n",
       "       'pitch', 'yaw', 'roll', 'cte', 'activeNode', 'totalNodes', 'pos_x',\n",
       "       'pos_y', 'pos_z', 'vel_x', 'vel_y', 'vel_z', 'on_road',\n",
       "       'progress_on_shortest_path', 'lap'],\n",
       "      dtype='object')"
      ]
     },
     "execution_count": 8,
     "metadata": {},
     "output_type": "execute_result"
    }
   ],
   "source": [
    "df.columns"
   ]
  },
  {
   "cell_type": "code",
   "execution_count": 9,
   "id": "88a93822-88f8-426b-a26b-38c39dafac57",
   "metadata": {},
   "outputs": [],
   "source": [
    "df.drop(columns=['speed','hit', 'pitch', 'yaw', 'roll', 'cte', \n",
    "                 'activeNode', 'totalNodes', 'pos_x', 'pos_y', 'pos_z', \n",
    "                 'on_road', 'progress_on_shortest_path',], inplace=True)"
   ]
  },
  {
   "cell_type": "code",
   "execution_count": 10,
   "id": "1c049d71-8c7e-4f62-95d3-9a8221b5c405",
   "metadata": {},
   "outputs": [
    {
     "data": {
      "text/plain": [
       "array([ 0,  1,  2,  3,  4,  5,  6,  7,  8,  9, 10, 11, 12, 13, 14, 15, 16,\n",
       "       17, 18, 19, 20, 21])"
      ]
     },
     "execution_count": 10,
     "metadata": {},
     "output_type": "execute_result"
    }
   ],
   "source": [
    "df.lap.unique()"
   ]
  },
  {
   "cell_type": "code",
   "execution_count": 11,
   "id": "79615c87-732a-4000-aa7f-8bec981d7238",
   "metadata": {},
   "outputs": [
    {
     "data": {
      "text/plain": [
       "3056623"
      ]
     },
     "execution_count": 11,
     "metadata": {},
     "output_type": "execute_result"
    }
   ],
   "source": [
    "sys.getsizeof(df)"
   ]
  },
  {
   "cell_type": "code",
   "execution_count": 12,
   "id": "5879b58e-2502-468c-bdd4-453db9176e63",
   "metadata": {
    "tags": []
   },
   "outputs": [
    {
     "data": {
      "text/plain": [
       "steering_angle    float64\n",
       "throttle          float64\n",
       "image              object\n",
       "time              float64\n",
       "accel_x           float64\n",
       "accel_y           float64\n",
       "accel_z           float64\n",
       "gyro_x            float64\n",
       "gyro_y            float64\n",
       "gyro_z            float64\n",
       "gyro_w            float64\n",
       "vel_x             float64\n",
       "vel_y             float64\n",
       "vel_z             float64\n",
       "lap                 int64\n",
       "dtype: object"
      ]
     },
     "execution_count": 12,
     "metadata": {},
     "output_type": "execute_result"
    }
   ],
   "source": [
    "df.dtypes"
   ]
  },
  {
   "cell_type": "markdown",
   "id": "ed8f74da-ad72-498a-a051-bd54725e010c",
   "metadata": {},
   "source": [
    "### Convert datatypes (?)"
   ]
  },
  {
   "cell_type": "code",
   "execution_count": 13,
   "id": "32467124-892c-4697-8c07-8579327c36ef",
   "metadata": {},
   "outputs": [],
   "source": [
    "for col in df.columns:\n",
    "    if df[col].dtype == 'float':\n",
    "        df[col] = pd.to_numeric(df[col], downcast='float')"
   ]
  },
  {
   "cell_type": "code",
   "execution_count": 14,
   "id": "323b5f66-7a65-4893-a5e1-552391c04e21",
   "metadata": {},
   "outputs": [
    {
     "data": {
      "text/plain": [
       "2177927"
      ]
     },
     "execution_count": 14,
     "metadata": {},
     "output_type": "execute_result"
    }
   ],
   "source": [
    "sys.getsizeof(df)"
   ]
  },
  {
   "cell_type": "markdown",
   "id": "c85a27b4-ab12-45a7-ada9-19e4a834fff5",
   "metadata": {},
   "source": [
    "### Remove \"Extra\" Laps"
   ]
  },
  {
   "cell_type": "code",
   "execution_count": 15,
   "id": "4778fa13-4c2c-4a3b-a7a8-acba2b3dc462",
   "metadata": {},
   "outputs": [
    {
     "data": {
      "text/plain": [
       "array([ 1,  2,  3,  4,  5,  6,  7,  8,  9, 10, 11, 12, 13, 14, 15, 16, 17,\n",
       "       18, 19, 20])"
      ]
     },
     "execution_count": 15,
     "metadata": {},
     "output_type": "execute_result"
    }
   ],
   "source": [
    "## Cut off the little bit after the end of the training session\n",
    "df = df.loc[(df['lap'] > 0) & (df['lap'] < df['lap'].max()), :] #.drop(columns='lap')\n",
    "df['lap'].unique()"
   ]
  },
  {
   "cell_type": "markdown",
   "id": "bafcd95f-8cd1-44a4-93ef-38c43063ac68",
   "metadata": {},
   "source": [
    "### Convert lap to category"
   ]
  },
  {
   "cell_type": "code",
   "execution_count": 16,
   "id": "215dd1d3-ad92-4ac9-b055-9f51d77a1cdb",
   "metadata": {},
   "outputs": [],
   "source": [
    "df.loc[:, 'lap'] = df.loc[:, 'lap'].astype('category')"
   ]
  },
  {
   "cell_type": "code",
   "execution_count": 17,
   "id": "1a66b318-2d12-4fda-a171-deee4c130284",
   "metadata": {},
   "outputs": [
    {
     "data": {
      "text/plain": [
       "2178259"
      ]
     },
     "execution_count": 17,
     "metadata": {},
     "output_type": "execute_result"
    }
   ],
   "source": [
    "sys.getsizeof(df)"
   ]
  },
  {
   "cell_type": "markdown",
   "id": "0329f4a7-96cd-43dc-ae4b-4d31ed11eb2e",
   "metadata": {},
   "source": [
    "### Create lap time df"
   ]
  },
  {
   "cell_type": "code",
   "execution_count": 18,
   "id": "075b1743-b4ea-4080-915f-4b48d9a5c16f",
   "metadata": {},
   "outputs": [
    {
     "data": {
      "text/html": [
       "<div>\n",
       "<style scoped>\n",
       "    .dataframe tbody tr th:only-of-type {\n",
       "        vertical-align: middle;\n",
       "    }\n",
       "\n",
       "    .dataframe tbody tr th {\n",
       "        vertical-align: top;\n",
       "    }\n",
       "\n",
       "    .dataframe thead th {\n",
       "        text-align: right;\n",
       "    }\n",
       "</style>\n",
       "<table border=\"1\" class=\"dataframe\">\n",
       "  <thead>\n",
       "    <tr style=\"text-align: right;\">\n",
       "      <th></th>\n",
       "      <th>max</th>\n",
       "      <th>min</th>\n",
       "    </tr>\n",
       "    <tr>\n",
       "      <th>lap</th>\n",
       "      <th></th>\n",
       "      <th></th>\n",
       "    </tr>\n",
       "  </thead>\n",
       "  <tbody>\n",
       "    <tr>\n",
       "      <th>1</th>\n",
       "      <td>53.530800</td>\n",
       "      <td>7.192870</td>\n",
       "    </tr>\n",
       "    <tr>\n",
       "      <th>2</th>\n",
       "      <td>96.338257</td>\n",
       "      <td>53.581081</td>\n",
       "    </tr>\n",
       "    <tr>\n",
       "      <th>3</th>\n",
       "      <td>137.778198</td>\n",
       "      <td>96.388573</td>\n",
       "    </tr>\n",
       "    <tr>\n",
       "      <th>4</th>\n",
       "      <td>178.981995</td>\n",
       "      <td>137.828506</td>\n",
       "    </tr>\n",
       "    <tr>\n",
       "      <th>5</th>\n",
       "      <td>219.734604</td>\n",
       "      <td>179.031799</td>\n",
       "    </tr>\n",
       "  </tbody>\n",
       "</table>\n",
       "</div>"
      ],
      "text/plain": [
       "            max         min\n",
       "lap                        \n",
       "1     53.530800    7.192870\n",
       "2     96.338257   53.581081\n",
       "3    137.778198   96.388573\n",
       "4    178.981995  137.828506\n",
       "5    219.734604  179.031799"
      ]
     },
     "execution_count": 18,
     "metadata": {},
     "output_type": "execute_result"
    }
   ],
   "source": [
    "laps = pd.DataFrame(df.groupby(by='lap')['time'].describe()[['max', 'min']])\n",
    "laps.head()"
   ]
  },
  {
   "cell_type": "code",
   "execution_count": 19,
   "id": "62e97abe-0e14-488c-8078-0ea7e456bffd",
   "metadata": {},
   "outputs": [
    {
     "data": {
      "text/plain": [
       "count    20.000000\n",
       "mean     41.865237\n",
       "std       1.235858\n",
       "min      40.702805\n",
       "25%      41.156338\n",
       "50%      41.441013\n",
       "75%      42.366119\n",
       "max      46.337930\n",
       "Name: lap_time, dtype: float64"
      ]
     },
     "execution_count": 19,
     "metadata": {},
     "output_type": "execute_result"
    }
   ],
   "source": [
    "laps['lap_time'] = laps['max'] - laps['min']\n",
    "laps['lap_time'].describe()"
   ]
  },
  {
   "cell_type": "markdown",
   "id": "5674768d-9356-40cb-9a2e-d78bda81959b",
   "metadata": {},
   "source": [
    "*analysis*: The slowest lap took 48.2 seconds, the shortest 40.2, with the mean being somewhere around 41.3. This suggests to me that the value might lie less in emphasizing the fastest laps than in cutting the slowest ones."
   ]
  },
  {
   "cell_type": "code",
   "execution_count": 20,
   "id": "cadc2c77-cea6-4b5c-9b42-d1795b26df65",
   "metadata": {},
   "outputs": [
    {
     "data": {
      "image/png": "[encoded data removed]",
      "text/plain": [
       "<Figure size 720x720 with 2 Axes>"
      ]
     },
     "metadata": {
      "needs_background": "light"
     },
     "output_type": "display_data"
    }
   ],
   "source": [
    "fig, ax = plt.subplots(2, 1, figsize=(10,10))\n",
    "plt.suptitle('Distribution of Lap Times in Seconds', size=15)\n",
    "ax[0] = sns.histplot(x='lap_time', data=laps, bins=50, ax=ax[0])\n",
    "ax[0].set_xlabel('Lap Time (Seconds)', size=12)\n",
    "ax[1] = sns.boxplot(x='lap_time', data=laps, ax=ax[1])\n",
    "ax[1].set_xlabel('Lap Time (Seconds)', size=12)\n",
    "plt.tight_layout();"
   ]
  },
  {
   "cell_type": "code",
   "execution_count": 21,
   "id": "7e5f22ea-0cee-43b3-a0ca-8bd19fbe7aaa",
   "metadata": {},
   "outputs": [
    {
     "data": {
      "text/plain": [
       "1"
      ]
     },
     "execution_count": 21,
     "metadata": {},
     "output_type": "execute_result"
    }
   ],
   "source": [
    "len(laps[laps['lap_time']>43])"
   ]
  },
  {
   "cell_type": "markdown",
   "id": "39c227af-d0fa-477e-bde8-db67b96604e7",
   "metadata": {},
   "source": [
    "### Add lap times to df to make sorting easier"
   ]
  },
  {
   "cell_type": "code",
   "execution_count": 22,
   "id": "ee53e9ef-758e-41f5-8457-501845068272",
   "metadata": {},
   "outputs": [],
   "source": [
    "df = pd.merge(left=df, right=laps['lap_time'], left_on='lap', right_index=True).copy()"
   ]
  },
  {
   "cell_type": "markdown",
   "id": "521fb563-8080-4179-bf97-ca89f096cfcd",
   "metadata": {
    "tags": []
   },
   "source": [
    "### Cut laps longer than 43 seconds"
   ]
  },
  {
   "cell_type": "code",
   "execution_count": 23,
   "id": "451d371a-efbc-446e-b187-9a4fa25207de",
   "metadata": {},
   "outputs": [
    {
     "data": {
      "text/plain": [
       "(15838, 13)"
      ]
     },
     "execution_count": 23,
     "metadata": {},
     "output_type": "execute_result"
    }
   ],
   "source": [
    "df = df.loc[df['lap_time'] < 43, :].copy()\n",
    "df.drop(columns=['lap', 'time', 'lap_time'], inplace=True)\n",
    "df.shape"
   ]
  },
  {
   "cell_type": "code",
   "execution_count": 28,
   "id": "f4186d04-64b6-4a1c-a0e2-a70128d1b17c",
   "metadata": {},
   "outputs": [
    {
     "data": {
      "image/png": "[encoded data removed]",
      "text/plain": [
       "<Figure size 720x720 with 2 Axes>"
      ]
     },
     "metadata": {
      "needs_background": "light"
     },
     "output_type": "display_data"
    }
   ],
   "source": [
    "fig, ax = plt.subplots(2, 1, figsize=(10,10))\n",
    "plt.suptitle('Distribution of Lap Times in Seconds', size=15)\n",
    "ax[0] = sns.histplot(x='lap_time', data=laps.loc[laps['lap_time'] < 43], bins=50, ax=ax[0])\n",
    "ax[0].set_xlabel('Lap Time (Seconds)', size=12)\n",
    "ax[1] = sns.boxplot(x='lap_time', data=laps.loc[laps['lap_time'] < 43], ax=ax[1])\n",
    "ax[1].set_xlabel('Lap Time (Seconds)', size=12)\n",
    "plt.tight_layout();"
   ]
  },
  {
   "cell_type": "markdown",
   "id": "6902fd35-c662-4204-871f-c9b3af51c25d",
   "metadata": {
    "tags": []
   },
   "source": [
    "### Rename Steering Column to Match Throttle"
   ]
  },
  {
   "cell_type": "code",
   "execution_count": 29,
   "id": "b091a90e-7ae1-417c-ac8f-68781bb70c19",
   "metadata": {
    "tags": []
   },
   "outputs": [
    {
     "data": {
      "text/plain": [
       "Index(['steering', 'throttle', 'image', 'accel_x', 'accel_y', 'accel_z',\n",
       "       'gyro_x', 'gyro_y', 'gyro_z', 'gyro_w', 'vel_x', 'vel_y', 'vel_z'],\n",
       "      dtype='object')"
      ]
     },
     "execution_count": 29,
     "metadata": {},
     "output_type": "execute_result"
    }
   ],
   "source": [
    "df.columns = ['steering' if col=='steering_angle' else col for col in df.columns]\n",
    "df.columns"
   ]
  },
  {
   "cell_type": "markdown",
   "id": "a520de0e-bd53-45d1-85b4-4818cf0bf12f",
   "metadata": {},
   "source": [
    "### Examine IMU Data"
   ]
  },
  {
   "cell_type": "code",
   "execution_count": 32,
   "id": "0f911844-0c65-4b7f-8330-545069067cd2",
   "metadata": {},
   "outputs": [],
   "source": [
    "## IMU columns we are CURRENTLY INTERESTED IN\n",
    "## note that gyro_w is always 1.0 and of no use\n",
    "imu_columns = ['accel_x', 'accel_y', 'accel_z', 'gyro_x', 'gyro_y', \n",
    "               'gyro_z', 'vel_x', 'vel_y', 'vel_z',]"
   ]
  },
  {
   "cell_type": "code",
   "execution_count": 33,
   "id": "14ebacb7-dd8c-405d-8a6a-b5bdfd6ccf09",
   "metadata": {},
   "outputs": [
    {
     "data": {
      "text/plain": [
       "Index(['accel_x', 'accel_y', 'accel_z', 'gyro_x', 'gyro_y', 'gyro_z', 'vel_x',\n",
       "       'vel_y', 'vel_z'],\n",
       "      dtype='object')"
      ]
     },
     "execution_count": 33,
     "metadata": {},
     "output_type": "execute_result"
    }
   ],
   "source": [
    "X_imu = df[imu_columns]\n",
    "X_imu.columns"
   ]
  },
  {
   "cell_type": "code",
   "execution_count": 85,
   "id": "18b491ea-36ba-427b-aa68-09627f7e9a02",
   "metadata": {
    "tags": []
   },
   "outputs": [
    {
     "data": {
      "text/html": [
       "<div>\n",
       "<style scoped>\n",
       "    .dataframe tbody tr th:only-of-type {\n",
       "        vertical-align: middle;\n",
       "    }\n",
       "\n",
       "    .dataframe tbody tr th {\n",
       "        vertical-align: top;\n",
       "    }\n",
       "\n",
       "    .dataframe thead th {\n",
       "        text-align: right;\n",
       "    }\n",
       "</style>\n",
       "<table border=\"1\" class=\"dataframe\">\n",
       "  <thead>\n",
       "    <tr style=\"text-align: right;\">\n",
       "      <th></th>\n",
       "      <th>min</th>\n",
       "      <th>max</th>\n",
       "      <th>mean</th>\n",
       "      <th>abs_max</th>\n",
       "      <th>abs_min</th>\n",
       "      <th>max_mag</th>\n",
       "    </tr>\n",
       "  </thead>\n",
       "  <tbody>\n",
       "    <tr>\n",
       "      <th>accel_x</th>\n",
       "      <td>-84.802498</td>\n",
       "      <td>94.708817</td>\n",
       "      <td>0.000421</td>\n",
       "      <td>94.708817</td>\n",
       "      <td>84.802498</td>\n",
       "      <td>94.708817</td>\n",
       "    </tr>\n",
       "    <tr>\n",
       "      <th>accel_y</th>\n",
       "      <td>-12.386760</td>\n",
       "      <td>53.589142</td>\n",
       "      <td>-0.001007</td>\n",
       "      <td>53.589142</td>\n",
       "      <td>12.386760</td>\n",
       "      <td>53.589142</td>\n",
       "    </tr>\n",
       "    <tr>\n",
       "      <th>accel_z</th>\n",
       "      <td>-49.931122</td>\n",
       "      <td>10.457180</td>\n",
       "      <td>-0.003439</td>\n",
       "      <td>10.457180</td>\n",
       "      <td>49.931122</td>\n",
       "      <td>49.931122</td>\n",
       "    </tr>\n",
       "    <tr>\n",
       "      <th>gyro_x</th>\n",
       "      <td>-0.023662</td>\n",
       "      <td>0.015879</td>\n",
       "      <td>0.000018</td>\n",
       "      <td>0.015879</td>\n",
       "      <td>0.023662</td>\n",
       "      <td>0.023662</td>\n",
       "    </tr>\n",
       "    <tr>\n",
       "      <th>gyro_y</th>\n",
       "      <td>-0.032501</td>\n",
       "      <td>0.040941</td>\n",
       "      <td>0.001518</td>\n",
       "      <td>0.040941</td>\n",
       "      <td>0.032501</td>\n",
       "      <td>0.040941</td>\n",
       "    </tr>\n",
       "    <tr>\n",
       "      <th>gyro_z</th>\n",
       "      <td>-0.016708</td>\n",
       "      <td>0.033302</td>\n",
       "      <td>-0.000021</td>\n",
       "      <td>0.033302</td>\n",
       "      <td>0.016708</td>\n",
       "      <td>0.033302</td>\n",
       "    </tr>\n",
       "    <tr>\n",
       "      <th>vel_x</th>\n",
       "      <td>-8.900988</td>\n",
       "      <td>5.964907</td>\n",
       "      <td>-0.360510</td>\n",
       "      <td>5.964907</td>\n",
       "      <td>8.900988</td>\n",
       "      <td>8.900988</td>\n",
       "    </tr>\n",
       "    <tr>\n",
       "      <th>vel_y</th>\n",
       "      <td>-1.339154</td>\n",
       "      <td>1.289006</td>\n",
       "      <td>-0.124751</td>\n",
       "      <td>1.289006</td>\n",
       "      <td>1.339154</td>\n",
       "      <td>1.339154</td>\n",
       "    </tr>\n",
       "    <tr>\n",
       "      <th>vel_z</th>\n",
       "      <td>4.117527</td>\n",
       "      <td>18.467470</td>\n",
       "      <td>12.710043</td>\n",
       "      <td>18.467470</td>\n",
       "      <td>4.117527</td>\n",
       "      <td>18.467470</td>\n",
       "    </tr>\n",
       "  </tbody>\n",
       "</table>\n",
       "</div>"
      ],
      "text/plain": [
       "               min        max       mean    abs_max    abs_min    max_mag\n",
       "accel_x -84.802498  94.708817   0.000421  94.708817  84.802498  94.708817\n",
       "accel_y -12.386760  53.589142  -0.001007  53.589142  12.386760  53.589142\n",
       "accel_z -49.931122  10.457180  -0.003439  10.457180  49.931122  49.931122\n",
       "gyro_x   -0.023662   0.015879   0.000018   0.015879   0.023662   0.023662\n",
       "gyro_y   -0.032501   0.040941   0.001518   0.040941   0.032501   0.040941\n",
       "gyro_z   -0.016708   0.033302  -0.000021   0.033302   0.016708   0.033302\n",
       "vel_x    -8.900988   5.964907  -0.360510   5.964907   8.900988   8.900988\n",
       "vel_y    -1.339154   1.289006  -0.124751   1.289006   1.339154   1.339154\n",
       "vel_z     4.117527  18.467470  12.710043  18.467470   4.117527  18.467470"
      ]
     },
     "execution_count": 85,
     "metadata": {},
     "output_type": "execute_result"
    }
   ],
   "source": [
    "imu_stats = X_imu.describe().T[['min', 'max', 'mean']]\n",
    "\n",
    "imu_stats['abs_max'] = imu_stats['max'].abs()\n",
    "imu_stats['abs_min'] = imu_stats['min'].abs()\n",
    "imu_stats['max_mag'] = imu_stats.loc[:, ['abs_min', 'abs_max']].max(axis=1)\n",
    "imu_stats"
   ]
  },
  {
   "cell_type": "markdown",
   "id": "999f2a80-ccf2-4f07-8c75-b5e966f735fd",
   "metadata": {},
   "source": [
    "### Save IMU Data"
   ]
  },
  {
   "cell_type": "code",
   "execution_count": 34,
   "id": "fe83d2a6-c735-4c18-a828-10fab5a412f0",
   "metadata": {},
   "outputs": [],
   "source": [
    "## Make sure directoires exist\n",
    "os.makedirs(working_data_directory, exist_ok=True)\n",
    "\n",
    "## Save as pickle\n",
    "X_imu.to_pickle(input_imu_dataset_file)"
   ]
  },
  {
   "cell_type": "markdown",
   "id": "58c7f1e7-6fba-4dd2-a05d-cbb011c9c123",
   "metadata": {},
   "source": [
    "## Image Data"
   ]
  },
  {
   "cell_type": "markdown",
   "id": "0f0fbca1-3f08-426e-9d1e-09d740aea3b0",
   "metadata": {},
   "source": [
    "### Verify Files"
   ]
  },
  {
   "cell_type": "code",
   "execution_count": 35,
   "id": "5d5e6efd-727f-4d33-9f2f-eb2a6ccc9bbc",
   "metadata": {},
   "outputs": [
    {
     "data": {
      "text/plain": [
       "['687.1882.PNG', '769.528.PNG', '533.4342.PNG', '115.0398.PNG', '438.534.PNG']"
      ]
     },
     "execution_count": 35,
     "metadata": {},
     "output_type": "execute_result"
    }
   ],
   "source": [
    "## Verify Files\n",
    "os.listdir(local_image_directory)[:5]"
   ]
  },
  {
   "cell_type": "markdown",
   "id": "e76833b4-bd2f-42b3-b6d1-113ad4be16ed",
   "metadata": {},
   "source": [
    "## Create Image Array"
   ]
  },
  {
   "cell_type": "code",
   "execution_count": 36,
   "id": "51150f73-c1ab-4b99-8fcc-a49b780d94dc",
   "metadata": {},
   "outputs": [],
   "source": [
    "## Using keras, load images as list, adding to a list\n",
    "img_array_list = []\n",
    "for img in df['image']:\n",
    "    img_array_list.append(img_to_array(load_img(f\"{local_image_directory}/{img}\", \n",
    "                                                color_mode='grayscale',))) \n",
    "                                                # target_size=(60, 80))))"
   ]
  },
  {
   "cell_type": "code",
   "execution_count": 37,
   "id": "017ec015-2676-4596-a8bd-a22e5eba096b",
   "metadata": {},
   "outputs": [],
   "source": [
    "## convert list of arrays into a numpy array (of arrays())\n",
    "X_img = np.array(img_array_list)"
   ]
  },
  {
   "cell_type": "markdown",
   "id": "a3b9c6dc-97b5-4118-b27c-ef73d1f107e7",
   "metadata": {},
   "source": [
    "## Create Datasets"
   ]
  },
  {
   "cell_type": "markdown",
   "id": "c962648f-409c-427a-8034-6faa9e086edb",
   "metadata": {},
   "source": [
    "### Create Targets"
   ]
  },
  {
   "cell_type": "code",
   "execution_count": 38,
   "id": "7fa02d0b-5894-4417-820c-9506d8c748b7",
   "metadata": {},
   "outputs": [
    {
     "name": "stdout",
     "output_type": "stream",
     "text": [
      "X.shape: (15838, 120, 160, 1)\n",
      "y.shape: (15838, 2)\n"
     ]
    }
   ],
   "source": [
    "## Target: throttle and steering data\n",
    "# y = df.drop(columns=['image']).to_numpy().copy()\n",
    "y = df.loc[:, ['steering', 'throttle']].to_numpy().copy()\n",
    "\n",
    "## Verify size\n",
    "print(f'X.shape: {X_img.shape}')\n",
    "print(f'y.shape: {y.shape}')"
   ]
  },
  {
   "cell_type": "markdown",
   "id": "93aa01b0-c708-4e33-ade8-9a4e5a46df08",
   "metadata": {},
   "source": [
    "### Scale Image Data"
   ]
  },
  {
   "cell_type": "code",
   "execution_count": 39,
   "id": "7625abad-29d6-4be5-bc98-7af219827ed6",
   "metadata": {},
   "outputs": [],
   "source": [
    "X_img /= 255"
   ]
  },
  {
   "cell_type": "markdown",
   "id": "ce504a00-93ee-45d7-85d4-1b7e07f83f98",
   "metadata": {},
   "source": [
    "### Save Datasets"
   ]
  },
  {
   "cell_type": "code",
   "execution_count": 40,
   "id": "92c3dde5-8447-42b0-a246-f2d2b384dd93",
   "metadata": {},
   "outputs": [],
   "source": [
    "## Save as binary NumPy .npy format\n",
    "with open(input_image_dataset_file, 'wb') as X_out:\n",
    "    np.save(file=X_out, arr=X_img)\n",
    "with open(target_dataset_file, 'wb') as y_out:\n",
    "    np.save(file=y_out, arr=y)"
   ]
  }
 ],
 "metadata": {
  "kernelspec": {
   "display_name": "Python 3 (ipykernel)",
   "language": "python",
   "name": "python3"
  },
  "language_info": {
   "codemirror_mode": {
    "name": "ipython",
    "version": 3
   },
   "file_extension": ".py",
   "mimetype": "text/x-python",
   "name": "python",
   "nbconvert_exporter": "python",
   "pygments_lexer": "ipython3",
   "version": "3.9.7"
  }
 },
 "nbformat": 4,
 "nbformat_minor": 5
}
