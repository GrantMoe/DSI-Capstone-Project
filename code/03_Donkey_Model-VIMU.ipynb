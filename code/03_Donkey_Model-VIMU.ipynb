{
 "cells": [
  {
   "cell_type": "markdown",
   "id": "1dabfb61-8e59-4b51-a5cb-b02d7f12b240",
   "metadata": {},
   "source": [
    "# Donkey Car Attempt\n",
    "\n",
    "My attempts to build a CNN from scratch are hitting walls. I am going to try out a model suggested on the [Donkey Car Webpage](https://docs.donkeycar.com/dev_guide/model/), to see if it's any better."
   ]
  },
  {
   "cell_type": "code",
   "execution_count": 1,
   "id": "8a186988-1c64-48d0-984a-6c15b299587c",
   "metadata": {},
   "outputs": [
    {
     "name": "stderr",
     "output_type": "stream",
     "text": [
      "2021-11-15 10:36:25.315442: I tensorflow/stream_executor/platform/default/dso_loader.cc:49] Successfully opened dynamic library libcudart.so.10.1\n"
     ]
    }
   ],
   "source": [
    "## Imports\n",
    "import numpy as np\n",
    "import pandas as pd\n",
    "import matplotlib.pyplot as plt\n",
    "import tensorflow as tf\n",
    "import keras_tuner as kt\n",
    "import time\n",
    "import pickle\n",
    "\n",
    "import sklearn.metrics as metrics\n",
    "from sklearn.model_selection import train_test_split\n",
    "from sklearn.preprocessing import MinMaxScaler, StandardScaler\n",
    "from keras_tuner import BayesianOptimization, Hyperband, HyperModel\n",
    "\n",
    "from os.path import exists\n",
    "\n",
    "from tensorflow import keras\n",
    "from tensorflow.keras.backend import concatenate\n",
    "from tensorflow.keras.callbacks import EarlyStopping\n",
    "from tensorflow.keras.layers import Input, Conv2D, Dense, Dropout, Flatten, Convolution2D\n",
    "from tensorflow.keras.metrics import MAE, MSE, RootMeanSquaredError\n",
    "from tensorflow.keras.models import Model\n",
    "from tensorflow.keras.optimizers import Adam"
   ]
  },
  {
   "cell_type": "code",
   "execution_count": 2,
   "id": "8953c0bd-f510-43e2-b185-23f500ccf8b2",
   "metadata": {},
   "outputs": [],
   "source": [
    "## Constants\n",
    "working_date = '11_14_2021'\n",
    "working_time = '19_32_37'\n",
    "\n",
    "dual_outputs = True\n",
    "\n",
    "model_history_file = '../models/model_history.csv'"
   ]
  },
  {
   "cell_type": "code",
   "execution_count": 3,
   "id": "eaf5dca8-b225-4c75-8f3b-a025877ff8f8",
   "metadata": {},
   "outputs": [],
   "source": [
    "## Directories\n",
    "data_directory = f'../data/{working_date}/{working_time}'\n",
    "model_directory = f'../models/{working_date}/{working_time}'\n",
    "\n",
    "## File paths\n",
    "cam_input_dataset_file = f'{data_directory}/X_img.npy'\n",
    "imu_input_dataset_file = f'{data_directory}/X_imu.pkl'\n",
    "target_dataset_file = f'{data_directory}/y.npy'\n",
    "scaler_file = f'{data_directory}/sc.pkl'"
   ]
  },
  {
   "cell_type": "code",
   "execution_count": 4,
   "id": "cb2e8db4-77b4-4a40-a04f-c3b8c1c77e6a",
   "metadata": {},
   "outputs": [],
   "source": [
    "## Make sure model history exists\n",
    "if not exists(model_history_file):\n",
    "    model_history = pd.DataFrame(columns=['model', 'history', \n",
    "                                          'r2_score', 'mae_score',\n",
    "                                          'mse_score', 'rmse_score'])\n",
    "else:\n",
    "    model_history = pd.read_csv(model_history_file, index_col=0)"
   ]
  },
  {
   "cell_type": "markdown",
   "id": "2395f538-7d20-41bd-ad43-903722c14353",
   "metadata": {},
   "source": [
    "## Data\n",
    "\n",
    "### Load Datasets"
   ]
  },
  {
   "cell_type": "code",
   "execution_count": 5,
   "id": "b8adc2f0-fb4f-47c1-b4da-c38bf4664187",
   "metadata": {},
   "outputs": [],
   "source": [
    "## Load the datasets\n",
    "X_cam = np.load(cam_input_dataset_file)\n",
    "X_imu = pd.read_pickle(imu_input_dataset_file).to_numpy()\n",
    "y = np.load(target_dataset_file)"
   ]
  },
  {
   "cell_type": "code",
   "execution_count": 6,
   "id": "105a808b-e7ca-40d0-a5ee-2cf716c9405c",
   "metadata": {},
   "outputs": [],
   "source": [
    "## Split for dual output\n",
    "if dual_outputs:\n",
    "    y_steering = y[:, 0]\n",
    "    y_throttle = y[:, 1]"
   ]
  },
  {
   "cell_type": "code",
   "execution_count": 7,
   "id": "ba99877e-6246-4e87-962a-f8ef45de6048",
   "metadata": {},
   "outputs": [
    {
     "data": {
      "text/plain": [
       "(15838, 120, 160, 1)"
      ]
     },
     "execution_count": 7,
     "metadata": {},
     "output_type": "execute_result"
    }
   ],
   "source": [
    "X_cam.shape"
   ]
  },
  {
   "cell_type": "markdown",
   "id": "9024459d-2092-4448-b76b-1163bac9130b",
   "metadata": {},
   "source": [
    "### Train-Test Split"
   ]
  },
  {
   "cell_type": "code",
   "execution_count": 33,
   "id": "30558a03-f187-479b-9fea-eea61290f67f",
   "metadata": {},
   "outputs": [],
   "source": [
    "\n",
    "if dual_outputs:\n",
    "    datasets = train_test_split(X_cam, X_imu, y_steering, y_throttle, test_size=0.25, random_state=0)\n",
    "else:\n",
    "    datasets = train_test_split(X_cam, X_imu, y, test_size=0.25, random_state=0)\n",
    "    \n",
    "X_cam_train = datasets[0]\n",
    "X_cam_test = datasets[1]\n",
    "X_imu_train = datasets[2]\n",
    "X_imu_test = datasets[3]\n",
    "\n",
    "if dual_outputs:\n",
    "    y_st_train = datasets[4]\n",
    "    y_st_test = datasets[5]\n",
    "    y_th_train = datasets[6]\n",
    "    y_th_test = datasets[7]\n",
    "else:\n",
    "    y_train = datasets[4]\n",
    "    y_tests = datasets[5]"
   ]
  },
  {
   "cell_type": "markdown",
   "id": "001361f5-0f0a-496e-8e26-846e12c0be7e",
   "metadata": {
    "tags": []
   },
   "source": [
    "### Scale IMU Data"
   ]
  },
  {
   "cell_type": "code",
   "execution_count": 34,
   "id": "676b1e05-40e4-4cf0-986d-4b5094637c0b",
   "metadata": {},
   "outputs": [],
   "source": [
    "# ss = StandardScaler()\n",
    "ss = MinMaxScaler() # default range (0, 1)\n",
    "X_imu_train_sc = ss.fit_transform(X_imu_train)\n",
    "X_imu_test_sc = ss.transform(X_imu_test)"
   ]
  },
  {
   "cell_type": "markdown",
   "id": "86a507fa-f488-442a-bcc2-9943507140be",
   "metadata": {
    "tags": []
   },
   "source": [
    "### Save the StandardScaler for Predictions"
   ]
  },
  {
   "cell_type": "code",
   "execution_count": 35,
   "id": "e1cfb5cb-d6cc-43fc-be7c-74f21501e451",
   "metadata": {
    "tags": []
   },
   "outputs": [],
   "source": [
    "pickle.dump(ss, open(scaler_file, 'wb'))"
   ]
  },
  {
   "cell_type": "markdown",
   "id": "b51ada31-38b8-4741-8e56-6c0c8038777b",
   "metadata": {},
   "source": [
    "## Model"
   ]
  },
  {
   "cell_type": "markdown",
   "id": "a93d1a97-d274-44a6-af63-d4a31319598a",
   "metadata": {},
   "source": [
    "### Create Framework"
   ]
  },
  {
   "cell_type": "code",
   "execution_count": 36,
   "id": "eeb2c80e-97f5-4e96-9b3c-e9b799cd2e2d",
   "metadata": {
    "tags": []
   },
   "outputs": [],
   "source": [
    "# https://docs.donkeycar.com/dev_guide/model/\n",
    "# https://github.com/autorope/donkeycar/blob/dev/donkeycar/parts/keras.py\n",
    "\n",
    "def create_model(cam_input_shape, num_sensors):\n",
    "    drop = 0.2\n",
    "    img_in = Input(shape=cam_input_shape, name='img_in') \n",
    "    x = img_in\n",
    "    x = conv2d(24, 5, 2, 1)(x)\n",
    "    x = Dropout(drop)(x)\n",
    "    x = conv2d(32, 5, 2, 2)(x)\n",
    "    x = Dropout(drop)(x)\n",
    "    x = conv2d(64, 5, 2, 3)(x)\n",
    "    x = Dropout(drop)(x)\n",
    "    x = conv2d(64, 3, 1, 4)(x)\n",
    "    x = Dropout(drop)(x)\n",
    "    x = conv2d(64, 3, 1, 5)(x)\n",
    "    x = Dropout(drop)(x)\n",
    "    x = Flatten(name='flattened')(x)\n",
    "    x = Dense(100, activation='relu', name='dense_1')(x)\n",
    "    x = Dropout(drop)(x)\n",
    "    x = Dense(50, activation='relu', name='dense_2')(x)\n",
    "    x = Dropout(drop)(x)\n",
    "    # up to here, this is the standard linear model, now we add the\n",
    "    # sensor data to it\n",
    "    sensor_in = Input(num_sensors, name='sensor_in')\n",
    "    y = sensor_in\n",
    "    z = concatenate([x, y])\n",
    "    # here we add two more dense layers\n",
    "    z = Dense(50, activation='relu', name='dense_3')(z)\n",
    "    z = Dropout(drop)(z)\n",
    "    z = Dense(50, activation='relu', name='dense_4')(z)\n",
    "    z = Dropout(drop)(z)\n",
    "    \n",
    "    if dual_outputs:\n",
    "    # two outputs for angle and throttle\n",
    "        outputs = [\n",
    "            Dense(1, activation='linear', name='steering_outputs')(z),\n",
    "            Dense(1, activation='linear', name='throttle_outputs')(z)\n",
    "        ]\n",
    "    else:\n",
    "        # combined output\n",
    "        outputs = Dense(2, activation='linear', name='combined_outputs')(z)\n",
    "\n",
    "    # the model needs to specify the additional input here\n",
    "    model = Model(inputs=[img_in, sensor_in], outputs=outputs)\n",
    "    return model\n",
    "\n",
    "\n",
    "def conv2d(filters, kernel, strides, layer_num, activation='relu'):\n",
    "    \"\"\"\n",
    "    Helper function to create a standard valid-padded convolutional layer\n",
    "    with square kernel and strides and unified naming convention\n",
    "    :param filters:     channel dimension of the layer\n",
    "    :param kernel:      creates (kernel, kernel) kernel matrix dimension\n",
    "    :param strides:     creates (strides, strides) stride\n",
    "    :param layer_num:   used in labelling the layer\n",
    "    :param activation:  activation, defaults to relu\n",
    "    :return:            tf.keras Convolution2D layer\n",
    "    \"\"\"\n",
    "    return Convolution2D(filters=filters,\n",
    "                         kernel_size=(kernel, kernel),\n",
    "                         strides=(strides, strides),\n",
    "                         activation=activation,\n",
    "                         name='conv2d_' + str(layer_num))"
   ]
  },
  {
   "cell_type": "code",
   "execution_count": 37,
   "id": "2ff16ad4-2750-4998-afa5-6c6c33ffee41",
   "metadata": {},
   "outputs": [],
   "source": [
    "cam_input_shape = X_cam_train[0].shape\n",
    "num_imu_sensors = X_imu_train.shape[1]"
   ]
  },
  {
   "cell_type": "code",
   "execution_count": 38,
   "id": "62c3f13a-b143-4304-8f94-ff0bed12d576",
   "metadata": {},
   "outputs": [],
   "source": [
    "model = create_model(cam_input_shape, num_imu_sensors)\n",
    "model.compile(loss='mse', optimizer='adam', metrics=['mae', RootMeanSquaredError()])"
   ]
  },
  {
   "cell_type": "markdown",
   "id": "51895fa3-cc0a-4f87-8984-de874d95d90d",
   "metadata": {},
   "source": [
    "### Fit"
   ]
  },
  {
   "cell_type": "code",
   "execution_count": 39,
   "id": "522309bd-abc1-49e9-9257-f4d114db1b2c",
   "metadata": {
    "tags": []
   },
   "outputs": [],
   "source": [
    "stop_early = EarlyStopping(patience=5)"
   ]
  },
  {
   "cell_type": "code",
   "execution_count": 40,
   "id": "8ec208eb-0b94-4ad9-9c90-a98ec94e4ddc",
   "metadata": {},
   "outputs": [],
   "source": [
    "# # Separate Outputs\n",
    "if dual_outputs:\n",
    "    y_train = (y_st_train, y_th_train)\n",
    "    y_test = (y_st_test, y_th_test)\n",
    "else:\n",
    "    y_train = np.array((y_st_train, y_th_train)).T\n",
    "    y_test = np.array((y_st_test, y_th_test)).T"
   ]
  },
  {
   "cell_type": "code",
   "execution_count": 41,
   "id": "02c35f77-a56a-4a8a-beb6-1fbd0ded41f3",
   "metadata": {
    "tags": []
   },
   "outputs": [
    {
     "name": "stdout",
     "output_type": "stream",
     "text": [
      "Epoch 1/500\n",
      "372/372 [==============================] - 17s 44ms/step - loss: 0.5976 - steering_outputs_loss: 0.2640 - throttle_outputs_loss: 0.3336 - steering_outputs_mae: 0.3858 - steering_outputs_root_mean_squared_error: 0.4976 - throttle_outputs_mae: 0.4602 - throttle_outputs_root_mean_squared_error: 0.5725 - val_loss: 0.2301 - val_steering_outputs_loss: 0.0830 - val_throttle_outputs_loss: 0.1471 - val_steering_outputs_mae: 0.2076 - val_steering_outputs_root_mean_squared_error: 0.2881 - val_throttle_outputs_mae: 0.3501 - val_throttle_outputs_root_mean_squared_error: 0.3836\n",
      "Epoch 2/500\n",
      "372/372 [==============================] - 6s 16ms/step - loss: 0.2168 - steering_outputs_loss: 0.0789 - throttle_outputs_loss: 0.1379 - steering_outputs_mae: 0.2179 - steering_outputs_root_mean_squared_error: 0.2804 - throttle_outputs_mae: 0.2982 - throttle_outputs_root_mean_squared_error: 0.3704 - val_loss: 0.0794 - val_steering_outputs_loss: 0.0270 - val_throttle_outputs_loss: 0.0524 - val_steering_outputs_mae: 0.1253 - val_steering_outputs_root_mean_squared_error: 0.1642 - val_throttle_outputs_mae: 0.1915 - val_throttle_outputs_root_mean_squared_error: 0.2289\n",
      "Epoch 3/500\n",
      "372/372 [==============================] - 6s 16ms/step - loss: 0.1159 - steering_outputs_loss: 0.0445 - throttle_outputs_loss: 0.0715 - steering_outputs_mae: 0.1602 - steering_outputs_root_mean_squared_error: 0.2108 - throttle_outputs_mae: 0.2002 - throttle_outputs_root_mean_squared_error: 0.2672 - val_loss: 0.0616 - val_steering_outputs_loss: 0.0225 - val_throttle_outputs_loss: 0.0392 - val_steering_outputs_mae: 0.1114 - val_steering_outputs_root_mean_squared_error: 0.1498 - val_throttle_outputs_mae: 0.1601 - val_throttle_outputs_root_mean_squared_error: 0.1980\n",
      "Epoch 4/500\n",
      "372/372 [==============================] - 6s 16ms/step - loss: 0.0859 - steering_outputs_loss: 0.0328 - throttle_outputs_loss: 0.0531 - steering_outputs_mae: 0.1361 - steering_outputs_root_mean_squared_error: 0.1810 - throttle_outputs_mae: 0.1652 - throttle_outputs_root_mean_squared_error: 0.2303 - val_loss: 0.0490 - val_steering_outputs_loss: 0.0175 - val_throttle_outputs_loss: 0.0315 - val_steering_outputs_mae: 0.1003 - val_steering_outputs_root_mean_squared_error: 0.1323 - val_throttle_outputs_mae: 0.1273 - val_throttle_outputs_root_mean_squared_error: 0.1775\n",
      "Epoch 5/500\n",
      "372/372 [==============================] - 6s 16ms/step - loss: 0.0727 - steering_outputs_loss: 0.0274 - throttle_outputs_loss: 0.0453 - steering_outputs_mae: 0.1252 - steering_outputs_root_mean_squared_error: 0.1654 - throttle_outputs_mae: 0.1469 - throttle_outputs_root_mean_squared_error: 0.2127 - val_loss: 0.0387 - val_steering_outputs_loss: 0.0154 - val_throttle_outputs_loss: 0.0233 - val_steering_outputs_mae: 0.0932 - val_steering_outputs_root_mean_squared_error: 0.1239 - val_throttle_outputs_mae: 0.0992 - val_throttle_outputs_root_mean_squared_error: 0.1527\n",
      "Epoch 6/500\n",
      "372/372 [==============================] - 6s 16ms/step - loss: 0.0621 - steering_outputs_loss: 0.0251 - throttle_outputs_loss: 0.0370 - steering_outputs_mae: 0.1187 - steering_outputs_root_mean_squared_error: 0.1584 - throttle_outputs_mae: 0.1280 - throttle_outputs_root_mean_squared_error: 0.1923 - val_loss: 0.0365 - val_steering_outputs_loss: 0.0141 - val_throttle_outputs_loss: 0.0225 - val_steering_outputs_mae: 0.0893 - val_steering_outputs_root_mean_squared_error: 0.1186 - val_throttle_outputs_mae: 0.0852 - val_throttle_outputs_root_mean_squared_error: 0.1499\n",
      "Epoch 7/500\n",
      "372/372 [==============================] - 6s 16ms/step - loss: 0.0551 - steering_outputs_loss: 0.0226 - throttle_outputs_loss: 0.0325 - steering_outputs_mae: 0.1119 - steering_outputs_root_mean_squared_error: 0.1502 - throttle_outputs_mae: 0.1165 - throttle_outputs_root_mean_squared_error: 0.1802 - val_loss: 0.0370 - val_steering_outputs_loss: 0.0137 - val_throttle_outputs_loss: 0.0233 - val_steering_outputs_mae: 0.0891 - val_steering_outputs_root_mean_squared_error: 0.1172 - val_throttle_outputs_mae: 0.0877 - val_throttle_outputs_root_mean_squared_error: 0.1525\n",
      "Epoch 8/500\n",
      "372/372 [==============================] - 6s 16ms/step - loss: 0.0532 - steering_outputs_loss: 0.0213 - throttle_outputs_loss: 0.0319 - steering_outputs_mae: 0.1086 - steering_outputs_root_mean_squared_error: 0.1459 - throttle_outputs_mae: 0.1126 - throttle_outputs_root_mean_squared_error: 0.1783 - val_loss: 0.0307 - val_steering_outputs_loss: 0.0135 - val_throttle_outputs_loss: 0.0172 - val_steering_outputs_mae: 0.0876 - val_steering_outputs_root_mean_squared_error: 0.1162 - val_throttle_outputs_mae: 0.0662 - val_throttle_outputs_root_mean_squared_error: 0.1311\n",
      "Epoch 9/500\n",
      "372/372 [==============================] - 6s 16ms/step - loss: 0.0515 - steering_outputs_loss: 0.0201 - throttle_outputs_loss: 0.0313 - steering_outputs_mae: 0.1055 - steering_outputs_root_mean_squared_error: 0.1419 - throttle_outputs_mae: 0.1109 - throttle_outputs_root_mean_squared_error: 0.1768 - val_loss: 0.0308 - val_steering_outputs_loss: 0.0106 - val_throttle_outputs_loss: 0.0201 - val_steering_outputs_mae: 0.0772 - val_steering_outputs_root_mean_squared_error: 0.1031 - val_throttle_outputs_mae: 0.0643 - val_throttle_outputs_root_mean_squared_error: 0.1419\n",
      "Epoch 10/500\n",
      "372/372 [==============================] - 6s 16ms/step - loss: 0.0477 - steering_outputs_loss: 0.0191 - throttle_outputs_loss: 0.0286 - steering_outputs_mae: 0.1031 - steering_outputs_root_mean_squared_error: 0.1383 - throttle_outputs_mae: 0.1047 - throttle_outputs_root_mean_squared_error: 0.1689 - val_loss: 0.0308 - val_steering_outputs_loss: 0.0116 - val_throttle_outputs_loss: 0.0192 - val_steering_outputs_mae: 0.0799 - val_steering_outputs_root_mean_squared_error: 0.1075 - val_throttle_outputs_mae: 0.0704 - val_throttle_outputs_root_mean_squared_error: 0.1386\n",
      "Epoch 11/500\n",
      "372/372 [==============================] - 6s 16ms/step - loss: 0.0517 - steering_outputs_loss: 0.0188 - throttle_outputs_loss: 0.0329 - steering_outputs_mae: 0.1015 - steering_outputs_root_mean_squared_error: 0.1371 - throttle_outputs_mae: 0.1115 - throttle_outputs_root_mean_squared_error: 0.1810 - val_loss: 0.0313 - val_steering_outputs_loss: 0.0144 - val_throttle_outputs_loss: 0.0169 - val_steering_outputs_mae: 0.0868 - val_steering_outputs_root_mean_squared_error: 0.1200 - val_throttle_outputs_mae: 0.0642 - val_throttle_outputs_root_mean_squared_error: 0.1299\n",
      "Epoch 12/500\n",
      "372/372 [==============================] - 6s 16ms/step - loss: 0.0474 - steering_outputs_loss: 0.0187 - throttle_outputs_loss: 0.0287 - steering_outputs_mae: 0.1010 - steering_outputs_root_mean_squared_error: 0.1368 - throttle_outputs_mae: 0.1024 - throttle_outputs_root_mean_squared_error: 0.1691 - val_loss: 0.0277 - val_steering_outputs_loss: 0.0106 - val_throttle_outputs_loss: 0.0172 - val_steering_outputs_mae: 0.0734 - val_steering_outputs_root_mean_squared_error: 0.1028 - val_throttle_outputs_mae: 0.0549 - val_throttle_outputs_root_mean_squared_error: 0.1310\n",
      "Epoch 13/500\n",
      "372/372 [==============================] - 6s 15ms/step - loss: 0.0392 - steering_outputs_loss: 0.0166 - throttle_outputs_loss: 0.0226 - steering_outputs_mae: 0.0954 - steering_outputs_root_mean_squared_error: 0.1290 - throttle_outputs_mae: 0.0927 - throttle_outputs_root_mean_squared_error: 0.1501 - val_loss: 0.0252 - val_steering_outputs_loss: 0.0097 - val_throttle_outputs_loss: 0.0155 - val_steering_outputs_mae: 0.0704 - val_steering_outputs_root_mean_squared_error: 0.0985 - val_throttle_outputs_mae: 0.0571 - val_throttle_outputs_root_mean_squared_error: 0.1243\n",
      "Epoch 14/500\n",
      "372/372 [==============================] - 6s 16ms/step - loss: 0.0391 - steering_outputs_loss: 0.0156 - throttle_outputs_loss: 0.0235 - steering_outputs_mae: 0.0922 - steering_outputs_root_mean_squared_error: 0.1248 - throttle_outputs_mae: 0.0936 - throttle_outputs_root_mean_squared_error: 0.1533 - val_loss: 0.0268 - val_steering_outputs_loss: 0.0107 - val_throttle_outputs_loss: 0.0161 - val_steering_outputs_mae: 0.0762 - val_steering_outputs_root_mean_squared_error: 0.1036 - val_throttle_outputs_mae: 0.0537 - val_throttle_outputs_root_mean_squared_error: 0.1268\n",
      "Epoch 15/500\n",
      "372/372 [==============================] - 6s 16ms/step - loss: 0.0390 - steering_outputs_loss: 0.0160 - throttle_outputs_loss: 0.0230 - steering_outputs_mae: 0.0935 - steering_outputs_root_mean_squared_error: 0.1265 - throttle_outputs_mae: 0.0927 - throttle_outputs_root_mean_squared_error: 0.1515 - val_loss: 0.0245 - val_steering_outputs_loss: 0.0095 - val_throttle_outputs_loss: 0.0150 - val_steering_outputs_mae: 0.0692 - val_steering_outputs_root_mean_squared_error: 0.0977 - val_throttle_outputs_mae: 0.0540 - val_throttle_outputs_root_mean_squared_error: 0.1224\n",
      "Epoch 16/500\n",
      "372/372 [==============================] - 6s 16ms/step - loss: 0.0387 - steering_outputs_loss: 0.0156 - throttle_outputs_loss: 0.0231 - steering_outputs_mae: 0.0914 - steering_outputs_root_mean_squared_error: 0.1248 - throttle_outputs_mae: 0.0920 - throttle_outputs_root_mean_squared_error: 0.1519 - val_loss: 0.0242 - val_steering_outputs_loss: 0.0097 - val_throttle_outputs_loss: 0.0145 - val_steering_outputs_mae: 0.0716 - val_steering_outputs_root_mean_squared_error: 0.0983 - val_throttle_outputs_mae: 0.0484 - val_throttle_outputs_root_mean_squared_error: 0.1204\n",
      "Epoch 17/500\n",
      "372/372 [==============================] - 6s 16ms/step - loss: 0.0368 - steering_outputs_loss: 0.0153 - throttle_outputs_loss: 0.0215 - steering_outputs_mae: 0.0907 - steering_outputs_root_mean_squared_error: 0.1239 - throttle_outputs_mae: 0.0868 - throttle_outputs_root_mean_squared_error: 0.1464 - val_loss: 0.0245 - val_steering_outputs_loss: 0.0093 - val_throttle_outputs_loss: 0.0151 - val_steering_outputs_mae: 0.0716 - val_steering_outputs_root_mean_squared_error: 0.0967 - val_throttle_outputs_mae: 0.0516 - val_throttle_outputs_root_mean_squared_error: 0.1230\n",
      "Epoch 18/500\n",
      "372/372 [==============================] - 6s 16ms/step - loss: 0.0355 - steering_outputs_loss: 0.0149 - throttle_outputs_loss: 0.0206 - steering_outputs_mae: 0.0897 - steering_outputs_root_mean_squared_error: 0.1219 - throttle_outputs_mae: 0.0872 - throttle_outputs_root_mean_squared_error: 0.1436 - val_loss: 0.0257 - val_steering_outputs_loss: 0.0089 - val_throttle_outputs_loss: 0.0167 - val_steering_outputs_mae: 0.0663 - val_steering_outputs_root_mean_squared_error: 0.0944 - val_throttle_outputs_mae: 0.0573 - val_throttle_outputs_root_mean_squared_error: 0.1294\n",
      "Epoch 19/500\n",
      "372/372 [==============================] - 6s 16ms/step - loss: 0.0373 - steering_outputs_loss: 0.0150 - throttle_outputs_loss: 0.0223 - steering_outputs_mae: 0.0891 - steering_outputs_root_mean_squared_error: 0.1224 - throttle_outputs_mae: 0.0886 - throttle_outputs_root_mean_squared_error: 0.1490 - val_loss: 0.0245 - val_steering_outputs_loss: 0.0085 - val_throttle_outputs_loss: 0.0161 - val_steering_outputs_mae: 0.0620 - val_steering_outputs_root_mean_squared_error: 0.0920 - val_throttle_outputs_mae: 0.0529 - val_throttle_outputs_root_mean_squared_error: 0.1268\n",
      "Epoch 20/500\n",
      "372/372 [==============================] - 6s 16ms/step - loss: 0.0360 - steering_outputs_loss: 0.0152 - throttle_outputs_loss: 0.0208 - steering_outputs_mae: 0.0900 - steering_outputs_root_mean_squared_error: 0.1231 - throttle_outputs_mae: 0.0865 - throttle_outputs_root_mean_squared_error: 0.1441 - val_loss: 0.0235 - val_steering_outputs_loss: 0.0091 - val_throttle_outputs_loss: 0.0144 - val_steering_outputs_mae: 0.0692 - val_steering_outputs_root_mean_squared_error: 0.0956 - val_throttle_outputs_mae: 0.0501 - val_throttle_outputs_root_mean_squared_error: 0.1199\n",
      "Epoch 21/500\n",
      "372/372 [==============================] - 6s 16ms/step - loss: 0.0366 - steering_outputs_loss: 0.0149 - throttle_outputs_loss: 0.0217 - steering_outputs_mae: 0.0892 - steering_outputs_root_mean_squared_error: 0.1220 - throttle_outputs_mae: 0.0884 - throttle_outputs_root_mean_squared_error: 0.1474 - val_loss: 0.0262 - val_steering_outputs_loss: 0.0103 - val_throttle_outputs_loss: 0.0159 - val_steering_outputs_mae: 0.0710 - val_steering_outputs_root_mean_squared_error: 0.1014 - val_throttle_outputs_mae: 0.0484 - val_throttle_outputs_root_mean_squared_error: 0.1262\n",
      "Epoch 22/500\n",
      "372/372 [==============================] - 6s 16ms/step - loss: 0.0346 - steering_outputs_loss: 0.0145 - throttle_outputs_loss: 0.0201 - steering_outputs_mae: 0.0880 - steering_outputs_root_mean_squared_error: 0.1204 - throttle_outputs_mae: 0.0846 - throttle_outputs_root_mean_squared_error: 0.1416 - val_loss: 0.0235 - val_steering_outputs_loss: 0.0084 - val_throttle_outputs_loss: 0.0150 - val_steering_outputs_mae: 0.0650 - val_steering_outputs_root_mean_squared_error: 0.0918 - val_throttle_outputs_mae: 0.0583 - val_throttle_outputs_root_mean_squared_error: 0.1226\n",
      "Epoch 23/500\n",
      "372/372 [==============================] - 6s 16ms/step - loss: 0.0344 - steering_outputs_loss: 0.0144 - throttle_outputs_loss: 0.0200 - steering_outputs_mae: 0.0877 - steering_outputs_root_mean_squared_error: 0.1198 - throttle_outputs_mae: 0.0835 - throttle_outputs_root_mean_squared_error: 0.1413 - val_loss: 0.0254 - val_steering_outputs_loss: 0.0096 - val_throttle_outputs_loss: 0.0159 - val_steering_outputs_mae: 0.0691 - val_steering_outputs_root_mean_squared_error: 0.0979 - val_throttle_outputs_mae: 0.0544 - val_throttle_outputs_root_mean_squared_error: 0.1260\n",
      "Epoch 24/500\n",
      "372/372 [==============================] - 6s 16ms/step - loss: 0.0317 - steering_outputs_loss: 0.0138 - throttle_outputs_loss: 0.0180 - steering_outputs_mae: 0.0851 - steering_outputs_root_mean_squared_error: 0.1173 - throttle_outputs_mae: 0.0809 - throttle_outputs_root_mean_squared_error: 0.1339 - val_loss: 0.0218 - val_steering_outputs_loss: 0.0085 - val_throttle_outputs_loss: 0.0133 - val_steering_outputs_mae: 0.0633 - val_steering_outputs_root_mean_squared_error: 0.0922 - val_throttle_outputs_mae: 0.0490 - val_throttle_outputs_root_mean_squared_error: 0.1155\n",
      "Epoch 25/500\n",
      "372/372 [==============================] - 6s 15ms/step - loss: 0.0330 - steering_outputs_loss: 0.0137 - throttle_outputs_loss: 0.0193 - steering_outputs_mae: 0.0845 - steering_outputs_root_mean_squared_error: 0.1171 - throttle_outputs_mae: 0.0842 - throttle_outputs_root_mean_squared_error: 0.1390 - val_loss: 0.0222 - val_steering_outputs_loss: 0.0083 - val_throttle_outputs_loss: 0.0140 - val_steering_outputs_mae: 0.0634 - val_steering_outputs_root_mean_squared_error: 0.0909 - val_throttle_outputs_mae: 0.0454 - val_throttle_outputs_root_mean_squared_error: 0.1182\n",
      "Epoch 26/500\n",
      "372/372 [==============================] - 6s 16ms/step - loss: 0.0342 - steering_outputs_loss: 0.0141 - throttle_outputs_loss: 0.0201 - steering_outputs_mae: 0.0854 - steering_outputs_root_mean_squared_error: 0.1189 - throttle_outputs_mae: 0.0844 - throttle_outputs_root_mean_squared_error: 0.1415 - val_loss: 0.0240 - val_steering_outputs_loss: 0.0082 - val_throttle_outputs_loss: 0.0158 - val_steering_outputs_mae: 0.0598 - val_steering_outputs_root_mean_squared_error: 0.0904 - val_throttle_outputs_mae: 0.0593 - val_throttle_outputs_root_mean_squared_error: 0.1257\n",
      "Epoch 27/500\n",
      "372/372 [==============================] - 6s 16ms/step - loss: 0.0325 - steering_outputs_loss: 0.0141 - throttle_outputs_loss: 0.0185 - steering_outputs_mae: 0.0863 - steering_outputs_root_mean_squared_error: 0.1186 - throttle_outputs_mae: 0.0805 - throttle_outputs_root_mean_squared_error: 0.1359 - val_loss: 0.0235 - val_steering_outputs_loss: 0.0089 - val_throttle_outputs_loss: 0.0145 - val_steering_outputs_mae: 0.0695 - val_steering_outputs_root_mean_squared_error: 0.0945 - val_throttle_outputs_mae: 0.0478 - val_throttle_outputs_root_mean_squared_error: 0.1206\n",
      "Epoch 28/500\n",
      "372/372 [==============================] - 6s 15ms/step - loss: 0.0315 - steering_outputs_loss: 0.0131 - throttle_outputs_loss: 0.0184 - steering_outputs_mae: 0.0838 - steering_outputs_root_mean_squared_error: 0.1145 - throttle_outputs_mae: 0.0804 - throttle_outputs_root_mean_squared_error: 0.1355 - val_loss: 0.0226 - val_steering_outputs_loss: 0.0083 - val_throttle_outputs_loss: 0.0143 - val_steering_outputs_mae: 0.0639 - val_steering_outputs_root_mean_squared_error: 0.0913 - val_throttle_outputs_mae: 0.0470 - val_throttle_outputs_root_mean_squared_error: 0.1194\n",
      "Epoch 29/500\n",
      "372/372 [==============================] - 6s 16ms/step - loss: 0.0299 - steering_outputs_loss: 0.0131 - throttle_outputs_loss: 0.0168 - steering_outputs_mae: 0.0840 - steering_outputs_root_mean_squared_error: 0.1144 - throttle_outputs_mae: 0.0767 - throttle_outputs_root_mean_squared_error: 0.1297 - val_loss: 0.0239 - val_steering_outputs_loss: 0.0087 - val_throttle_outputs_loss: 0.0152 - val_steering_outputs_mae: 0.0658 - val_steering_outputs_root_mean_squared_error: 0.0932 - val_throttle_outputs_mae: 0.0570 - val_throttle_outputs_root_mean_squared_error: 0.1233\n"
     ]
    }
   ],
   "source": [
    "## Fit the best model\n",
    "results = model.fit(\n",
    "    x=[X_cam_train, X_imu_train],\n",
    "    # y=np.array([y_st_train, y_th_train]),\n",
    "    y=y_train,\n",
    "    batch_size=32, \n",
    "    epochs=500, \n",
    "    callbacks=[stop_early],\n",
    "    # validation_data=((X_cam_test, X_imu_test), y_test)\n",
    "    validation_data=((X_cam_test, X_imu_test), y_test)\n",
    ")"
   ]
  },
  {
   "cell_type": "code",
   "execution_count": null,
   "id": "96436595-6f98-4827-a0a6-1f8e27590514",
   "metadata": {
    "jupyter": {
     "source_hidden": true
    },
    "tags": []
   },
   "outputs": [],
   "source": [
    "# plt.plot(results.history['loss'], label = 'Training Loss')\n",
    "# plt.plot(results.history['val_loss'], label = 'Testing Loss')\n",
    "# plt.legend();"
   ]
  },
  {
   "cell_type": "code",
   "execution_count": 42,
   "id": "ebc86199-ac89-43d5-bfce-0faa0e42673c",
   "metadata": {},
   "outputs": [
    {
     "data": {
      "image/png": "[encoded data removed]",
      "text/plain": [
       "<Figure size 432x288 with 1 Axes>"
      ]
     },
     "metadata": {
      "needs_background": "light"
     },
     "output_type": "display_data"
    }
   ],
   "source": [
    "plt.plot(results.history['loss'], label = 'Loss')\n",
    "plt.plot(results.history['val_loss'], label = 'Val Loss')\n",
    "plt.plot(results.history['val_steering_outputs_loss'], label = 'Val Str Loss')\n",
    "plt.plot(results.history['val_throttle_outputs_loss'], label = 'Val Thr Loss')\n",
    "\n",
    "\n",
    "plt.legend();"
   ]
  },
  {
   "cell_type": "code",
   "execution_count": 43,
   "id": "13562b6f-bf20-4c42-aefa-db844ebe6bcd",
   "metadata": {},
   "outputs": [
    {
     "data": {
      "image/png": "[encoded data removed]",
      "text/plain": [
       "<Figure size 432x288 with 1 Axes>"
      ]
     },
     "metadata": {
      "needs_background": "light"
     },
     "output_type": "display_data"
    }
   ],
   "source": [
    "# plt.plot(results.history['mae'], label = 'MAE')\n",
    "# plt.plot(results.history['val_mae'], label = 'Val MAE')\n",
    "plt.plot(results.history['val_steering_outputs_mae'], label = 'Val Str MAE')\n",
    "plt.plot(results.history['val_throttle_outputs_mae'], label = 'Val Thr MAE')\n",
    "plt.legend();"
   ]
  },
  {
   "cell_type": "code",
   "execution_count": 44,
   "id": "81bd0ccd-f74d-45a2-b349-2693c01fd0e1",
   "metadata": {},
   "outputs": [
    {
     "data": {
      "image/png": "[encoded data removed]",
      "text/plain": [
       "<Figure size 432x288 with 1 Axes>"
      ]
     },
     "metadata": {
      "needs_background": "light"
     },
     "output_type": "display_data"
    }
   ],
   "source": [
    "# plt.plot(results.history['mae'], label = 'MAE')\n",
    "# plt.plot(results.history['val_mae'], label = 'Val MAE')\n",
    "plt.plot(results.history['val_steering_outputs_root_mean_squared_error'], label = 'Val Str RMSE')\n",
    "plt.plot(results.history['val_throttle_outputs_root_mean_squared_error'], label = 'Val Thr RMSE')\n",
    "plt.legend();"
   ]
  },
  {
   "cell_type": "markdown",
   "id": "1cdcdfbd-a430-4081-8510-99968ab37188",
   "metadata": {},
   "source": [
    "## Save model"
   ]
  },
  {
   "cell_type": "code",
   "execution_count": 45,
   "id": "a6467968-7308-4cd8-9829-eda955a678a5",
   "metadata": {},
   "outputs": [
    {
     "data": {
      "text/html": [
       "<div>\n",
       "<style scoped>\n",
       "    .dataframe tbody tr th:only-of-type {\n",
       "        vertical-align: middle;\n",
       "    }\n",
       "\n",
       "    .dataframe tbody tr th {\n",
       "        vertical-align: top;\n",
       "    }\n",
       "\n",
       "    .dataframe thead th {\n",
       "        text-align: right;\n",
       "    }\n",
       "</style>\n",
       "<table border=\"1\" class=\"dataframe\">\n",
       "  <thead>\n",
       "    <tr style=\"text-align: right;\">\n",
       "      <th></th>\n",
       "      <th>model</th>\n",
       "      <th>history</th>\n",
       "      <th>mae_score</th>\n",
       "      <th>mse_score</th>\n",
       "      <th>r2_score</th>\n",
       "      <th>rmse_score</th>\n",
       "      <th>rmae_score</th>\n",
       "    </tr>\n",
       "  </thead>\n",
       "  <tbody>\n",
       "    <tr>\n",
       "      <th>42</th>\n",
       "      <td>../models/11_12_2021/19_28_18/model_42.h5</td>\n",
       "      <td>{'loss': [0.111346036195755, 0.075226508080959...</td>\n",
       "      <td>NaN</td>\n",
       "      <td>NaN</td>\n",
       "      <td>NaN</td>\n",
       "      <td>NaN</td>\n",
       "      <td>NaN</td>\n",
       "    </tr>\n",
       "    <tr>\n",
       "      <th>43</th>\n",
       "      <td>../models/11_12_2021/19_28_18/model_43.h5</td>\n",
       "      <td>{'loss': [0.05872952938079834, 0.0580767504870...</td>\n",
       "      <td>NaN</td>\n",
       "      <td>NaN</td>\n",
       "      <td>NaN</td>\n",
       "      <td>NaN</td>\n",
       "      <td>NaN</td>\n",
       "    </tr>\n",
       "    <tr>\n",
       "      <th>44</th>\n",
       "      <td>../models/11_12_2021/19_28_18/model_44.h5</td>\n",
       "      <td>{'loss': [0.23582902550697327, 0.0859595313668...</td>\n",
       "      <td>(0.06614666432142258, 0.07380403578281403)</td>\n",
       "      <td>(0.011677457019686699, 0.03062039241194725)</td>\n",
       "      <td>NaN</td>\n",
       "      <td>(0.10806228220462799, 0.1749868392944336)</td>\n",
       "      <td>NaN</td>\n",
       "    </tr>\n",
       "    <tr>\n",
       "      <th>45</th>\n",
       "      <td>../models/11_14_2021/19_32_37/model_45.h5</td>\n",
       "      <td>{'loss': [0.41733863949775696, 0.1615110635757...</td>\n",
       "      <td>(0.06910999119281769, 0.052276939153671265)</td>\n",
       "      <td>(0.008770797401666641, 0.013953538611531258)</td>\n",
       "      <td>NaN</td>\n",
       "      <td>(0.09365253895521164, 0.11812509596347809)</td>\n",
       "      <td>NaN</td>\n",
       "    </tr>\n",
       "    <tr>\n",
       "      <th>46</th>\n",
       "      <td>../models/11_14_2021/19_32_37/model_46.h5</td>\n",
       "      <td>{'loss': [0.4122143089771271, 0.17622634768486...</td>\n",
       "      <td>(0.06584393233060837, 0.057005614042282104)</td>\n",
       "      <td>(0.008683931082487106, 0.015215171501040459)</td>\n",
       "      <td>NaN</td>\n",
       "      <td>(0.093187615275383, 0.12334979325532913)</td>\n",
       "      <td>NaN</td>\n",
       "    </tr>\n",
       "  </tbody>\n",
       "</table>\n",
       "</div>"
      ],
      "text/plain": [
       "                                        model  \\\n",
       "42  ../models/11_12_2021/19_28_18/model_42.h5   \n",
       "43  ../models/11_12_2021/19_28_18/model_43.h5   \n",
       "44  ../models/11_12_2021/19_28_18/model_44.h5   \n",
       "45  ../models/11_14_2021/19_32_37/model_45.h5   \n",
       "46  ../models/11_14_2021/19_32_37/model_46.h5   \n",
       "\n",
       "                                              history  \\\n",
       "42  {'loss': [0.111346036195755, 0.075226508080959...   \n",
       "43  {'loss': [0.05872952938079834, 0.0580767504870...   \n",
       "44  {'loss': [0.23582902550697327, 0.0859595313668...   \n",
       "45  {'loss': [0.41733863949775696, 0.1615110635757...   \n",
       "46  {'loss': [0.4122143089771271, 0.17622634768486...   \n",
       "\n",
       "                                      mae_score  \\\n",
       "42                                          NaN   \n",
       "43                                          NaN   \n",
       "44   (0.06614666432142258, 0.07380403578281403)   \n",
       "45  (0.06910999119281769, 0.052276939153671265)   \n",
       "46  (0.06584393233060837, 0.057005614042282104)   \n",
       "\n",
       "                                       mse_score  r2_score  \\\n",
       "42                                           NaN       NaN   \n",
       "43                                           NaN       NaN   \n",
       "44   (0.011677457019686699, 0.03062039241194725)       NaN   \n",
       "45  (0.008770797401666641, 0.013953538611531258)       NaN   \n",
       "46  (0.008683931082487106, 0.015215171501040459)       NaN   \n",
       "\n",
       "                                    rmse_score rmae_score  \n",
       "42                                         NaN        NaN  \n",
       "43                                         NaN        NaN  \n",
       "44   (0.10806228220462799, 0.1749868392944336)        NaN  \n",
       "45  (0.09365253895521164, 0.11812509596347809)        NaN  \n",
       "46    (0.093187615275383, 0.12334979325532913)        NaN  "
      ]
     },
     "execution_count": 45,
     "metadata": {},
     "output_type": "execute_result"
    }
   ],
   "source": [
    "model_index = max(0, model_history.index.max() + 1)\n",
    "model_path = f'{model_directory}/model_{model_index}.h5'\n",
    "\n",
    "history_dictionary = {\n",
    "    'model': model_path,\n",
    "    'history': results.history,\n",
    "}\n",
    "\n",
    "if dual_outputs:\n",
    "    history_dictionary['mae_score'] = (\n",
    "        results.history['val_steering_outputs_mae'][-1],\n",
    "        results.history['val_throttle_outputs_mae'][-1],\n",
    "    )\n",
    "    history_dictionary['mse_score'] = (\n",
    "        results.history['val_steering_outputs_loss'][-1],\n",
    "        results.history['val_throttle_outputs_loss'][-1]\n",
    "    )\n",
    "    history_dictionary['rmse_score'] = (\n",
    "        results.history['val_steering_outputs_root_mean_squared_error'][-1],\n",
    "        results.history['val_throttle_outputs_root_mean_squared_error'][-1] \n",
    "    )\n",
    "else:\n",
    "    history_dictionary['mae_score'] = (\n",
    "        results.history['val_mae'][-1],\n",
    "    )\n",
    "    history_dictionary['mse_score'] = (\n",
    "        results.history['val_loss'][-1],\n",
    "    )\n",
    "    history_dictionary['rmse_score'] = (\n",
    "        results.history['val_root_mean_squared_error'][-1],\n",
    "    )\n",
    "\n",
    "model_history = model_history.append(history_dictionary, ignore_index=True)\n",
    "model_history.tail()"
   ]
  },
  {
   "cell_type": "code",
   "execution_count": 46,
   "id": "871c66a1-e8c3-4c1b-bc39-39bb199a5994",
   "metadata": {},
   "outputs": [],
   "source": [
    "## Saving as h5 for backwards compatibility\n",
    "model.save(model_path, save_format='h5')\n",
    "model_history.to_csv(model_history_file)"
   ]
  },
  {
   "cell_type": "code",
   "execution_count": 47,
   "id": "d3fa8846-6001-497e-aee4-015991ea671d",
   "metadata": {},
   "outputs": [
    {
     "data": {
      "text/plain": [
       "'../models/11_14_2021/19_32_37/model_46.h5'"
      ]
     },
     "execution_count": 47,
     "metadata": {},
     "output_type": "execute_result"
    }
   ],
   "source": [
    "model_path"
   ]
  },
  {
   "cell_type": "code",
   "execution_count": null,
   "id": "4690227e-86ed-4db0-afea-a4e38065411a",
   "metadata": {},
   "outputs": [],
   "source": [
    "m = keras.models.load_model('../models/11_12_2021/19_28_18/model_38.h5')"
   ]
  },
  {
   "cell_type": "code",
   "execution_count": null,
   "id": "f609e65c-efa1-4927-b09f-325be18b7f8d",
   "metadata": {},
   "outputs": [],
   "source": [
    "preds = m.predict([X_cam_test, X_imu_test])"
   ]
  },
  {
   "cell_type": "code",
   "execution_count": null,
   "id": "f2331dae-74b5-478c-8080-ff810f87615f",
   "metadata": {},
   "outputs": [],
   "source": [
    "preds"
   ]
  },
  {
   "cell_type": "code",
   "execution_count": null,
   "id": "efaed6b6-f525-452b-bd1c-64e3d06adccc",
   "metadata": {},
   "outputs": [],
   "source": [
    "# plt.figure(figsize=(20,5))\n",
    "# plt.plot(preds[:50, :]);"
   ]
  },
  {
   "cell_type": "code",
   "execution_count": null,
   "id": "8616c789-dba5-403b-bb49-89f119ddb231",
   "metadata": {
    "tags": []
   },
   "outputs": [],
   "source": [
    "type(X_imu_train[0])"
   ]
  },
  {
   "cell_type": "code",
   "execution_count": null,
   "id": "933932b8-39a0-4cea-9956-74e2b674d265",
   "metadata": {},
   "outputs": [],
   "source": [
    "pred = m([X_cam_train[0].reshape((1,)+X_cam_train[0].shape), X_imu_train[0].reshape((1,)+X_imu_train[0].shape)])"
   ]
  },
  {
   "cell_type": "code",
   "execution_count": null,
   "id": "fef339d9-4aa3-4240-95c2-6e889cd4559d",
   "metadata": {},
   "outputs": [],
   "source": [
    "pred.numpy()[0][0]"
   ]
  },
  {
   "cell_type": "code",
   "execution_count": null,
   "id": "8ab12541-5d3f-43ee-ba3a-d006882c2b1b",
   "metadata": {},
   "outputs": [],
   "source": [
    "pred.numpy()[0][1]"
   ]
  },
  {
   "cell_type": "code",
   "execution_count": null,
   "id": "9f83ad46-c7aa-407b-a4d5-01f0f47f9b03",
   "metadata": {},
   "outputs": [],
   "source": [
    "pred = m([X_cam[0].reshape((1,)+X_cam[0].shape), X_imu[0].reshape((1,)+X_imu[0].shape)])"
   ]
  },
  {
   "cell_type": "code",
   "execution_count": null,
   "id": "f4d63741-6fd8-4163-a70f-3292249c41c7",
   "metadata": {},
   "outputs": [],
   "source": [
    "pred.numpy()[0][0]"
   ]
  },
  {
   "cell_type": "code",
   "execution_count": null,
   "id": "748d1462-afce-47d4-b89e-ac4678f1536c",
   "metadata": {},
   "outputs": [],
   "source": [
    "pred.numpy()[0][1]"
   ]
  },
  {
   "cell_type": "code",
   "execution_count": null,
   "id": "3169be52-7141-41df-82dc-38664834fd67",
   "metadata": {},
   "outputs": [],
   "source": []
  }
 ],
 "metadata": {
  "kernelspec": {
   "display_name": "Python 3 (ipykernel)",
   "language": "python",
   "name": "python3"
  },
  "language_info": {
   "codemirror_mode": {
    "name": "ipython",
    "version": 3
   },
   "file_extension": ".py",
   "mimetype": "text/x-python",
   "name": "python",
   "nbconvert_exporter": "python",
   "pygments_lexer": "ipython3",
   "version": "3.9.7"
  }
 },
 "nbformat": 4,
 "nbformat_minor": 5
}
