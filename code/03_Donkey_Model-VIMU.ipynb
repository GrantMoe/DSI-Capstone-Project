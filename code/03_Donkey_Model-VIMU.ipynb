{
 "cells": [
  {
   "cell_type": "markdown",
   "id": "1dabfb61-8e59-4b51-a5cb-b02d7f12b240",
   "metadata": {},
   "source": [
    "# Donkey Car Attempt\n",
    "\n",
    "My attempts to build a CNN from scratch are hitting walls. I am going to try out a model suggested on the [Donkey Car Webpage](https://docs.donkeycar.com/dev_guide/model/), to see if it's any better."
   ]
  },
  {
   "cell_type": "code",
   "execution_count": 1,
   "id": "8a186988-1c64-48d0-984a-6c15b299587c",
   "metadata": {},
   "outputs": [
    {
     "name": "stderr",
     "output_type": "stream",
     "text": [
      "2021-11-17 14:38:14.204946: I tensorflow/stream_executor/platform/default/dso_loader.cc:49] Successfully opened dynamic library libcudart.so.10.1\n"
     ]
    }
   ],
   "source": [
    "## Imports\n",
    "import numpy as np\n",
    "import pandas as pd\n",
    "import matplotlib.pyplot as plt\n",
    "import tensorflow as tf\n",
    "import keras_tuner as kt\n",
    "import time\n",
    "import pickle\n",
    "\n",
    "import sklearn.metrics as metrics\n",
    "from sklearn.model_selection import train_test_split\n",
    "from sklearn.preprocessing import MinMaxScaler, StandardScaler\n",
    "from keras_tuner import BayesianOptimization, Hyperband, HyperModel\n",
    "\n",
    "from os.path import exists\n",
    "\n",
    "from tensorflow import keras\n",
    "from tensorflow.keras.backend import concatenate\n",
    "from tensorflow.keras.callbacks import EarlyStopping\n",
    "from tensorflow.keras.layers import Input, Conv2D, Dense, Dropout, Flatten, Convolution2D\n",
    "from tensorflow.keras.metrics import MAE, MSE, RootMeanSquaredError\n",
    "from tensorflow.keras.models import Model\n",
    "from tensorflow.keras.optimizers import Adam"
   ]
  },
  {
   "cell_type": "code",
   "execution_count": 2,
   "id": "8953c0bd-f510-43e2-b185-23f500ccf8b2",
   "metadata": {},
   "outputs": [],
   "source": [
    "## Constants\n",
    "working_date = '11_12_2021'\n",
    "working_time = '19_28_18'\n",
    "\n",
    "model_history_file = '../models/model_history.csv'\n",
    "\n",
    "\n",
    "dual_outputs = False\n",
    "BATCH_SIZE = 128\n",
    "batch_sizes = [32, 64, 128, 256, 512, 1024, 2048]\n",
    "early_stop_patience = None # None for no stop\n",
    "epochs = 250"
   ]
  },
  {
   "cell_type": "code",
   "execution_count": 3,
   "id": "eaf5dca8-b225-4c75-8f3b-a025877ff8f8",
   "metadata": {},
   "outputs": [],
   "source": [
    "## Directories\n",
    "data_directory = f'../data/{working_date}/{working_time}'\n",
    "model_directory = f'../models/{working_date}/{working_time}'\n",
    "\n",
    "## File paths\n",
    "cam_input_dataset_file = f'{data_directory}/X_img.npy'\n",
    "telem_input_dataset_file = f'{data_directory}/X_telem.pkl'\n",
    "target_dataset_file = f'{data_directory}/y.npy'\n",
    "scaler_file = f'{data_directory}/sc.pkl'"
   ]
  },
  {
   "cell_type": "code",
   "execution_count": 4,
   "id": "cb2e8db4-77b4-4a40-a04f-c3b8c1c77e6a",
   "metadata": {},
   "outputs": [],
   "source": [
    "## Make sure model history exists\n",
    "if not exists(model_history_file):\n",
    "    model_history = pd.DataFrame(columns=['model', 'history', 'batch_size', \n",
    "                                          'r2_score', 'mae_score',\n",
    "                                          'mse_score', 'rmse_score'])\n",
    "else:\n",
    "    model_history = pd.read_csv(model_history_file, index_col=0)"
   ]
  },
  {
   "cell_type": "markdown",
   "id": "2395f538-7d20-41bd-ad43-903722c14353",
   "metadata": {},
   "source": [
    "## Data\n",
    "\n",
    "### Load Datasets"
   ]
  },
  {
   "cell_type": "code",
   "execution_count": 5,
   "id": "b8adc2f0-fb4f-47c1-b4da-c38bf4664187",
   "metadata": {},
   "outputs": [],
   "source": [
    "## Load the datasets\n",
    "X_cam = np.load(cam_input_dataset_file)\n",
    "X_telem = pd.read_pickle(telem_input_dataset_file).to_numpy()\n",
    "y = np.load(target_dataset_file)"
   ]
  },
  {
   "cell_type": "code",
   "execution_count": 6,
   "id": "105a808b-e7ca-40d0-a5ee-2cf716c9405c",
   "metadata": {},
   "outputs": [],
   "source": [
    "## Split for dual output\n",
    "if dual_outputs:\n",
    "    y_steering = y[:, 0]\n",
    "    y_throttle = y[:, 1]"
   ]
  },
  {
   "cell_type": "code",
   "execution_count": 7,
   "id": "ba99877e-6246-4e87-962a-f8ef45de6048",
   "metadata": {},
   "outputs": [
    {
     "data": {
      "text/plain": [
       "(102368, 64, 64, 1)"
      ]
     },
     "execution_count": 7,
     "metadata": {},
     "output_type": "execute_result"
    }
   ],
   "source": [
    "X_cam.shape"
   ]
  },
  {
   "cell_type": "markdown",
   "id": "9024459d-2092-4448-b76b-1163bac9130b",
   "metadata": {},
   "source": [
    "### Train-Test Split"
   ]
  },
  {
   "cell_type": "code",
   "execution_count": 8,
   "id": "30558a03-f187-479b-9fea-eea61290f67f",
   "metadata": {},
   "outputs": [],
   "source": [
    "\n",
    "if dual_outputs:\n",
    "    datasets = train_test_split(X_cam, X_telem, y_steering, y_throttle, test_size=0.1, random_state=0)\n",
    "else:\n",
    "    datasets = train_test_split(X_cam, X_telem, y, test_size=0.1, random_state=0)\n",
    "    \n",
    "X_cam_train = datasets[0]\n",
    "X_cam_test = datasets[1]\n",
    "X_telem_train = datasets[2]\n",
    "X_telem_test = datasets[3]\n",
    "y_train = datasets[4]\n",
    "y_test = datasets[5]\n",
    "    \n",
    "if dual_outputs:\n",
    "    y_st_train = datasets[4]\n",
    "    y_st_test = datasets[5]\n",
    "    y_th_train = datasets[6]\n",
    "    y_th_test = datasets[7]\n",
    "# else:\n",
    "#     y_train = datasets[4]\n",
    "#     y_test = datasets[5]"
   ]
  },
  {
   "cell_type": "markdown",
   "id": "001361f5-0f0a-496e-8e26-846e12c0be7e",
   "metadata": {
    "tags": []
   },
   "source": [
    "### Scale IMU Data"
   ]
  },
  {
   "cell_type": "code",
   "execution_count": 9,
   "id": "676b1e05-40e4-4cf0-986d-4b5094637c0b",
   "metadata": {},
   "outputs": [],
   "source": [
    "# ss = StandardScaler()\n",
    "ss = MinMaxScaler() # default range (0, 1)\n",
    "X_telem_train_sc = ss.fit_transform(X_telem_train)\n",
    "X_telem_test_sc = ss.transform(X_telem_test)"
   ]
  },
  {
   "cell_type": "markdown",
   "id": "86a507fa-f488-442a-bcc2-9943507140be",
   "metadata": {
    "tags": []
   },
   "source": [
    "### Save the Scaler for Predictions"
   ]
  },
  {
   "cell_type": "code",
   "execution_count": 10,
   "id": "e1cfb5cb-d6cc-43fc-be7c-74f21501e451",
   "metadata": {
    "tags": []
   },
   "outputs": [],
   "source": [
    "pickle.dump(ss, open(scaler_file, 'wb'))"
   ]
  },
  {
   "cell_type": "code",
   "execution_count": 11,
   "id": "2ff16ad4-2750-4998-afa5-6c6c33ffee41",
   "metadata": {},
   "outputs": [],
   "source": [
    "cam_input_shape = X_cam_train[0].shape\n",
    "telem_input_shape = X_telem_train_sc[0].shape"
   ]
  },
  {
   "cell_type": "code",
   "execution_count": 12,
   "id": "eeb2c80e-97f5-4e96-9b3c-e9b799cd2e2d",
   "metadata": {
    "tags": []
   },
   "outputs": [],
   "source": [
    "# https://docs.donkeycar.com/dev_guide/model/\n",
    "# https://github.com/autorope/donkeycar/blob/dev/donkeycar/parts/keras.py\n",
    "\n",
    "def create_model(cam_input_shape, telem_input_shape):\n",
    "    drop = 0.2\n",
    "    img_in = Input(shape=cam_input_shape, name='img_in') \n",
    "    x = img_in\n",
    "    x = conv2d(24, 5, 2, 1)(x)\n",
    "    x = Dropout(drop)(x)\n",
    "    x = conv2d(32, 5, 2, 2)(x)\n",
    "    x = Dropout(drop)(x)\n",
    "    x = conv2d(64, 5, 2, 3)(x)\n",
    "    x = Dropout(drop)(x)\n",
    "    x = conv2d(64, 3, 1, 4)(x)\n",
    "    x = Dropout(drop)(x)\n",
    "    x = conv2d(64, 3, 1, 5)(x)\n",
    "    x = Dropout(drop)(x)\n",
    "    x = Flatten(name='flattened')(x)\n",
    "    x = Dense(100, activation='relu', name='dense_1')(x)\n",
    "    x = Dropout(drop)(x)\n",
    "    x = Dense(50, activation='relu', name='dense_2')(x)\n",
    "    x = Dropout(drop)(x)\n",
    "    # up to here, this is the standard linear model, now we add the\n",
    "    # sensor data to it\n",
    "    telem_in = Input(telem_input_shape, name='telem_in')\n",
    "    y = telem_in\n",
    "    z = concatenate([x, y])\n",
    "    # here we add two more dense layers\n",
    "    z = Dense(50, activation='relu', name='dense_3')(z)\n",
    "    z = Dropout(drop)(z)\n",
    "    z = Dense(50, activation='relu', name='dense_4')(z)\n",
    "    z = Dropout(drop)(z)\n",
    "    \n",
    "    if dual_outputs:\n",
    "    # two outputs for angle and throttle\n",
    "        outputs = [\n",
    "            Dense(1, activation='linear', name='steering_outputs')(z),\n",
    "            Dense(1, activation='linear', name='throttle_outputs')(z)\n",
    "        ]\n",
    "    else:\n",
    "        # combined output\n",
    "        outputs = Dense(2, activation='linear', name='combined_outputs')(z)\n",
    "\n",
    "    # the model needs to specify the additional input here\n",
    "    model = Model(inputs=[img_in, telem_in], outputs=outputs)\n",
    "    return model\n",
    "\n",
    "\n",
    "def conv2d(filters, kernel, strides, layer_num, activation='relu'):\n",
    "    \"\"\"\n",
    "    Helper function to create a standard valid-padded convolutional layer\n",
    "    with square kernel and strides and unified naming convention\n",
    "    :param filters:     channel dimension of the layer\n",
    "    :param kernel:      creates (kernel, kernel) kernel matrix dimension\n",
    "    :param strides:     creates (strides, strides) stride\n",
    "    :param layer_num:   used in labelling the layer\n",
    "    :param activation:  activation, defaults to relu\n",
    "    :return:            tf.keras Convolution2D layer\n",
    "    \"\"\"\n",
    "    return Convolution2D(filters=filters,\n",
    "                         kernel_size=(kernel, kernel),\n",
    "                         strides=(strides, strides),\n",
    "                         activation=activation,\n",
    "                         name='conv2d_' + str(layer_num))"
   ]
  },
  {
   "cell_type": "code",
   "execution_count": 13,
   "id": "0aaeff90-76e5-43ee-8266-9587725b3070",
   "metadata": {},
   "outputs": [],
   "source": [
    "def run_model(model, batch_size, epochs=500, early_stop_patience=5, verbose=0):\n",
    "    if early_stop_patience:\n",
    "        stop_early = EarlyStopping(patience=early_stop_patience)\n",
    "        callbacks = [stop_early]\n",
    "    else:\n",
    "        callbacks = None\n",
    "    ## Fit the best model\n",
    "    results = model.fit(\n",
    "        x=[X_cam_train, X_telem_train_sc],\n",
    "        y=y_train,\n",
    "        batch_size=BATCH_SIZE, \n",
    "        epochs=epochs, \n",
    "        callbacks=callbacks,\n",
    "        validation_data=((X_cam_test, X_telem_test_sc), y_test),\n",
    "        verbose=verbose\n",
    "    )\n",
    "    return model, results"
   ]
  },
  {
   "cell_type": "code",
   "execution_count": 14,
   "id": "8f5ec6c9-1abf-4bdf-ad31-b631b01db60b",
   "metadata": {},
   "outputs": [],
   "source": [
    "def save_model(model, results, batch_size):\n",
    "    model_index = max(0, model_history.index.max() + 1)\n",
    "    model_path = f'{model_directory}/model_{model_index}.h5'\n",
    "    history_dictionary = {\n",
    "        'model': model_path,\n",
    "        'history': results.history,\n",
    "        'batch_size': batch_size,\n",
    "    }\n",
    "    if dual_outputs:\n",
    "        history_dictionary['mae_score'] = (\n",
    "            results.history['val_steering_outputs_mae'][-1],\n",
    "            results.history['val_throttle_outputs_mae'][-1],\n",
    "        )\n",
    "        history_dictionary['mse_score'] = (\n",
    "            results.history['val_steering_outputs_loss'][-1],\n",
    "            results.history['val_throttle_outputs_loss'][-1]\n",
    "        )\n",
    "        history_dictionary['rmse_score'] = (\n",
    "            results.history['val_steering_outputs_root_mean_squared_error'][-1],\n",
    "            results.history['val_throttle_outputs_root_mean_squared_error'][-1] \n",
    "        )\n",
    "    else:\n",
    "        history_dictionary['mae_score'] = (\n",
    "            results.history['val_mae'][-1],\n",
    "        )\n",
    "        history_dictionary['mse_score'] = (\n",
    "            results.history['val_loss'][-1],\n",
    "        )\n",
    "        history_dictionary['rmse_score'] = (\n",
    "            results.history['val_root_mean_squared_error'][-1],\n",
    "        )\n",
    "    model_history = model_history.append(history_dictionary, ignore_index=True)\n",
    "    ## Saving as h5 for backwards compatibility\n",
    "    model.save(model_path, save_format='h5')\n",
    "    model_history.to_csv(model_history_file)"
   ]
  },
  {
   "cell_type": "code",
   "execution_count": 15,
   "id": "c502c4a3-5004-4338-b21e-7207fabf2d1e",
   "metadata": {},
   "outputs": [],
   "source": [
    "def plot_metrics(results):\n",
    "    fig, ax1, ax2, ax3 = plt.subplots(1, 3, figsize=(10,15))\n",
    "    \n",
    "    ax1.title('Loss (MSE)', size=13)\n",
    "    ax1.plot(results.history['loss'], label = 'MSE')\n",
    "    ax1.plot(results.history['val_loss'], label = 'MSE')\n",
    "    if dual_outputs:\n",
    "        ax1.plot(results.history['val_steering_outputs_loss'], label = 'Val Str MSE')\n",
    "        ax1.plot(results.history['val_throttle_outputs_loss'], label = 'Val Thr MSE')\n",
    "    ax1.legend()\n",
    "    \n",
    "    ax2.title('RMSE', size=13)\n",
    "    if dual_outputs:\n",
    "        ax2.plot(results.history['val_steering_outputs_root_mean_squared_error'], label = 'Val Str RMSE')\n",
    "        ax2.plot(results.history['val_throttle_outputs_root_mean_squared_error'], label = 'Val Thr RMSE')\n",
    "    else:\n",
    "        ax2.plot(results.history['root_mean_squared_error'], label = 'RMSE')\n",
    "        ax2.plot(results.history['val_root_mean_squared_error'], label = 'Val RMSE')\n",
    "    ax2.legend()\n",
    "    \n",
    "    ax3.title('MAE', size=13)\n",
    "    if dual_outputs:\n",
    "        ax3.plot(results.history['val_steering_outputs_mae'], label = 'Val Str MAE')\n",
    "        ax3.plot(results.history['val_throttle_outputs_mae'], label = 'Val Thr MAE')\n",
    "    else:\n",
    "        ax3.plot(results.history['mae'], label = 'MAE')\n",
    "        ax3.plot(results.history['val_mae'], label = 'Val MAE')\n",
    "    ax3.legend()\n",
    "    \n",
    "    plt.tight_layous();"
   ]
  },
  {
   "cell_type": "markdown",
   "id": "b51ada31-38b8-4741-8e56-6c0c8038777b",
   "metadata": {},
   "source": [
    "## Model Loop"
   ]
  },
  {
   "cell_type": "code",
   "execution_count": 16,
   "id": "d757dc5a-dc11-4125-a1c2-a138b4fe3394",
   "metadata": {},
   "outputs": [],
   "source": [
    "if dual_outputs:\n",
    "    y_train = (y_st_train, y_th_train)\n",
    "    y_test = (y_st_test, y_th_test)\n",
    "else:\n",
    "    y_train = y_train\n",
    "    y_test = y_test\n",
    "    # y_train = np.array((y_st_train, y_th_train)).T\n",
    "    # y_test = np.array((y_st_test, y_th_test)).T"
   ]
  },
  {
   "cell_type": "code",
   "execution_count": 17,
   "id": "31497c80-a9f6-4292-9b48-203ca90dd981",
   "metadata": {},
   "outputs": [
    {
     "ename": "SyntaxError",
     "evalue": "f-string: unmatched '(' (2859854858.py, line 4)",
     "output_type": "error",
     "traceback": [
      "\u001b[0;36m  File \u001b[0;32m\"/tmp/ipykernel_14984/2859854858.py\"\u001b[0;36m, line \u001b[0;32m4\u001b[0m\n\u001b[0;31m    print(f'Batch size {batch_size} start: {time.strftime('%H:%m')}')\u001b[0m\n\u001b[0m                                                           ^\u001b[0m\n\u001b[0;31mSyntaxError\u001b[0m\u001b[0;31m:\u001b[0m f-string: unmatched '('\n"
     ]
    }
   ],
   "source": [
    "## Run models for each batch size\n",
    "print('---')\n",
    "for batch_size in batch_sizes:\n",
    "    print(f'Batch size {batch_size} start: {time.strftime(\"%H:%m\")}')\n",
    "    model = create_model(cam_input_shape, telem_input_shape)\n",
    "    model.compile(loss='mse', \n",
    "                  optimizer=Adam(learning_rate=0.00001), \n",
    "                  metrics=['mae', RootMeanSquaredError()])\n",
    "    model, res = run_model(model, batch_size, \n",
    "                           early_stop_patience=early_stop_patience)\n",
    "    save_model(mod, res, batch_size)\n",
    "    # plot_metrics(res)\n",
    "    duration = time.time() - start_time # seconds\n",
    "    print(f'Batch size {batch_size} end: {time.strftime(\"%H:%m\")}')\n",
    "    print('---')\n",
    "model_history.tail(len(batch_sizes))"
   ]
  },
  {
   "cell_type": "markdown",
   "id": "bc85d8f2-d617-48d9-9e2f-1798d41cb750",
   "metadata": {},
   "source": [
    "## Model, Non-loop"
   ]
  },
  {
   "cell_type": "code",
   "execution_count": null,
   "id": "62c3f13a-b143-4304-8f94-ff0bed12d576",
   "metadata": {},
   "outputs": [],
   "source": [
    "model = create_model(cam_input_shape, telem_input_shape)\n",
    "model.compile(loss='mse', optimizer=Adam(learning_rate=0.0001), metrics=['mae', RootMeanSquaredError()])"
   ]
  },
  {
   "cell_type": "markdown",
   "id": "51895fa3-cc0a-4f87-8984-de874d95d90d",
   "metadata": {},
   "source": [
    "### Fit"
   ]
  },
  {
   "cell_type": "code",
   "execution_count": null,
   "id": "522309bd-abc1-49e9-9257-f4d114db1b2c",
   "metadata": {
    "tags": []
   },
   "outputs": [],
   "source": [
    "stop_early = EarlyStopping(patience=5)"
   ]
  },
  {
   "cell_type": "code",
   "execution_count": null,
   "id": "8ec208eb-0b94-4ad9-9c90-a98ec94e4ddc",
   "metadata": {},
   "outputs": [],
   "source": [
    "# # Separate Outputs\n",
    "if dual_outputs:\n",
    "    y_train = (y_st_train, y_th_train)\n",
    "    y_test = (y_st_test, y_th_test)\n",
    "# else:\n",
    "    # y_train = np.array((y_st_train, y_th_train)).T\n",
    "    # y_test = np.array((y_st_test, y_th_test)).T"
   ]
  },
  {
   "cell_type": "code",
   "execution_count": null,
   "id": "02c35f77-a56a-4a8a-beb6-1fbd0ded41f3",
   "metadata": {
    "tags": []
   },
   "outputs": [],
   "source": [
    "## Fit the best model\n",
    "results = model.fit(\n",
    "    x=[X_cam_train, X_telem_train_sc],\n",
    "    y=y_train,\n",
    "    batch_size=BATCH_SIZE, \n",
    "    epochs=500, \n",
    "    # callbacks=[stop_early],\n",
    "    validation_data=((X_cam_test, X_telem_test_sc), y_test),\n",
    "    verbose=0\n",
    ")"
   ]
  },
  {
   "cell_type": "code",
   "execution_count": null,
   "id": "ebc86199-ac89-43d5-bfce-0faa0e42673c",
   "metadata": {},
   "outputs": [],
   "source": [
    "plt.plot(results.history['loss'], label = 'Loss')\n",
    "plt.plot(results.history['val_loss'], label = 'Val Loss')\n",
    "if dual_outputs:\n",
    "    plt.plot(results.history['val_steering_outputs_loss'], label = 'Val Str Loss')\n",
    "    plt.plot(results.history['val_throttle_outputs_loss'], label = 'Val Thr Loss')\n",
    "plt.legend();"
   ]
  },
  {
   "cell_type": "code",
   "execution_count": null,
   "id": "13562b6f-bf20-4c42-aefa-db844ebe6bcd",
   "metadata": {
    "tags": []
   },
   "outputs": [],
   "source": [
    "if dual_outputs:\n",
    "    plt.plot(results.history['val_steering_outputs_mae'], label = 'Val Str MAE')\n",
    "    plt.plot(results.history['val_throttle_outputs_mae'], label = 'Val Thr MAE')\n",
    "else:\n",
    "    plt.plot(results.history['mae'], label = 'MAE')\n",
    "    plt.plot(results.history['val_mae'], label = 'Val MAE')\n",
    "plt.legend();"
   ]
  },
  {
   "cell_type": "code",
   "execution_count": null,
   "id": "81bd0ccd-f74d-45a2-b349-2693c01fd0e1",
   "metadata": {},
   "outputs": [],
   "source": [
    "if dual_outputs:\n",
    "    plt.plot(results.history['val_steering_outputs_root_mean_squared_error'], label = 'Val Str RMSE')\n",
    "    plt.plot(results.history['val_throttle_outputs_root_mean_squared_error'], label = 'Val Thr RMSE')\n",
    "else:\n",
    "    plt.plot(results.history['root_mean_squared_error'], label = 'RMSE')\n",
    "    plt.plot(results.history['val_root_mean_squared_error'], label = 'Val RMSE')\n",
    "plt.legend();"
   ]
  },
  {
   "cell_type": "markdown",
   "id": "1cdcdfbd-a430-4081-8510-99968ab37188",
   "metadata": {},
   "source": [
    "## Save model"
   ]
  },
  {
   "cell_type": "code",
   "execution_count": null,
   "id": "a6467968-7308-4cd8-9829-eda955a678a5",
   "metadata": {},
   "outputs": [],
   "source": [
    "model_index = max(0, model_history.index.max() + 1)\n",
    "model_path = f'{model_directory}/model_{model_index}.h5'\n",
    "\n",
    "history_dictionary = {\n",
    "    'model': model_path,\n",
    "    'history': results.history,\n",
    "}\n",
    "\n",
    "if dual_outputs:\n",
    "    history_dictionary['mae_score'] = (\n",
    "        results.history['val_steering_outputs_mae'][-1],\n",
    "        results.history['val_throttle_outputs_mae'][-1],\n",
    "    )\n",
    "    history_dictionary['mse_score'] = (\n",
    "        results.history['val_steering_outputs_loss'][-1],\n",
    "        results.history['val_throttle_outputs_loss'][-1]\n",
    "    )\n",
    "    history_dictionary['rmse_score'] = (\n",
    "        results.history['val_steering_outputs_root_mean_squared_error'][-1],\n",
    "        results.history['val_throttle_outputs_root_mean_squared_error'][-1] \n",
    "    )\n",
    "else:\n",
    "    history_dictionary['mae_score'] = (\n",
    "        results.history['val_mae'][-1],\n",
    "    )\n",
    "    history_dictionary['mse_score'] = (\n",
    "        results.history['val_loss'][-1],\n",
    "    )\n",
    "    history_dictionary['rmse_score'] = (\n",
    "        results.history['val_root_mean_squared_error'][-1],\n",
    "    )\n",
    "\n",
    "model_history = model_history.append(history_dictionary, ignore_index=True)\n",
    "model_history.tail()"
   ]
  },
  {
   "cell_type": "code",
   "execution_count": null,
   "id": "871c66a1-e8c3-4c1b-bc39-39bb199a5994",
   "metadata": {},
   "outputs": [],
   "source": [
    "## Saving as h5 for backwards compatibility\n",
    "model.save(model_path, save_format='h5')\n",
    "model_history.to_csv(model_history_file)"
   ]
  },
  {
   "cell_type": "code",
   "execution_count": null,
   "id": "d3fa8846-6001-497e-aee4-015991ea671d",
   "metadata": {},
   "outputs": [],
   "source": [
    "model_path"
   ]
  }
 ],
 "metadata": {
  "kernelspec": {
   "display_name": "Python 3 (ipykernel)",
   "language": "python",
   "name": "python3"
  },
  "language_info": {
   "codemirror_mode": {
    "name": "ipython",
    "version": 3
   },
   "file_extension": ".py",
   "mimetype": "text/x-python",
   "name": "python",
   "nbconvert_exporter": "python",
   "pygments_lexer": "ipython3",
   "version": "3.9.7"
  }
 },
 "nbformat": 4,
 "nbformat_minor": 5
}
