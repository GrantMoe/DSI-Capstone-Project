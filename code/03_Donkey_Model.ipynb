{
 "cells": [
  {
   "cell_type": "markdown",
   "id": "1dabfb61-8e59-4b51-a5cb-b02d7f12b240",
   "metadata": {},
   "source": [
    "# Donkey Car Attempt\n",
    "\n",
    "My attempts to build a CNN from scratch are hitting walls. I am going to try out a model suggested on the [Donkey Car Webpage](https://docs.donkeycar.com/dev_guide/model/), to see if it's any better."
   ]
  },
  {
   "cell_type": "code",
   "execution_count": 1,
   "id": "8a186988-1c64-48d0-984a-6c15b299587c",
   "metadata": {},
   "outputs": [
    {
     "name": "stderr",
     "output_type": "stream",
     "text": [
      "2021-11-14 20:19:02.016016: I tensorflow/stream_executor/platform/default/dso_loader.cc:49] Successfully opened dynamic library libcudart.so.10.1\n"
     ]
    }
   ],
   "source": [
    "## Imports\n",
    "import numpy as np\n",
    "import pandas as pd\n",
    "import matplotlib.pyplot as plt\n",
    "import tensorflow as tf\n",
    "import keras_tuner as kt\n",
    "import time\n",
    "\n",
    "import sklearn.metrics as metrics\n",
    "from sklearn.model_selection import train_test_split\n",
    "from keras_tuner import BayesianOptimization, Hyperband, HyperModel\n",
    "\n",
    "from os.path import exists\n",
    "\n",
    "from tensorflow import keras\n",
    "from tensorflow.keras.backend import concatenate\n",
    "from tensorflow.keras.callbacks import EarlyStopping\n",
    "from tensorflow.keras.layers import Input, Conv2D, Dense, Dropout, Flatten, Convolution2D\n",
    "from tensorflow.keras.metrics import MAE, MSE, RootMeanSquaredError\n",
    "from tensorflow.keras.models import Model\n",
    "from tensorflow.keras.optimizers import Adam"
   ]
  },
  {
   "cell_type": "code",
   "execution_count": 2,
   "id": "8953c0bd-f510-43e2-b185-23f500ccf8b2",
   "metadata": {},
   "outputs": [],
   "source": [
    "## Constants\n",
    "working_date = '11_12_2021'\n",
    "working_time = '19_28_18'\n",
    "\n",
    "model_history_file = '../models/model_history.csv'"
   ]
  },
  {
   "cell_type": "code",
   "execution_count": 3,
   "id": "eaf5dca8-b225-4c75-8f3b-a025877ff8f8",
   "metadata": {},
   "outputs": [],
   "source": [
    "## Directories\n",
    "data_directory = f'../data/{working_date}/{working_time}'\n",
    "model_directory = f'../models/{working_date}/{working_time}'\n",
    "\n",
    "## File paths\n",
    "cam_input_dataset_file = f'{data_directory}/X_img.npy'\n",
    "imu_input_dataset_file = f'{data_directory}/X_imu.pkl'\n",
    "scaled_imu_input_dataset_file = f'{data_directory}/X_imu_sc.npy'\n",
    "target_dataset_file = f'{data_directory}/y.npy'"
   ]
  },
  {
   "cell_type": "code",
   "execution_count": 4,
   "id": "cb2e8db4-77b4-4a40-a04f-c3b8c1c77e6a",
   "metadata": {},
   "outputs": [],
   "source": [
    "## Make sure model history exists\n",
    "if not exists(model_history_file):\n",
    "    model_history = pd.DataFrame(columns=['model', 'history', \n",
    "                                          'r2_score', 'mae_score',\n",
    "                                          'mse_score', 'rmse_score'])\n",
    "else:\n",
    "    model_history = pd.read_csv(model_history_file, index_col=0)"
   ]
  },
  {
   "cell_type": "markdown",
   "id": "2395f538-7d20-41bd-ad43-903722c14353",
   "metadata": {},
   "source": [
    "## Data\n",
    "\n",
    "### Load Datasets"
   ]
  },
  {
   "cell_type": "code",
   "execution_count": 5,
   "id": "b8adc2f0-fb4f-47c1-b4da-c38bf4664187",
   "metadata": {},
   "outputs": [],
   "source": [
    "## Load the datasets\n",
    "X_cam = np.load(cam_input_dataset_file)\n",
    "X_imu = pd.read_pickle(imu_input_dataset_file).to_numpy()\n",
    "X_imu_sc = np.load(scaled_imu_input_dataset_file)\n",
    "y = np.load(target_dataset_file)"
   ]
  },
  {
   "cell_type": "code",
   "execution_count": 6,
   "id": "105a808b-e7ca-40d0-a5ee-2cf716c9405c",
   "metadata": {},
   "outputs": [],
   "source": [
    "## Split for dual output\n",
    "y_steering = y[:, 0]\n",
    "y_throttle = y[:, 1]"
   ]
  },
  {
   "cell_type": "code",
   "execution_count": 7,
   "id": "1b9c3112-7066-4737-aa24-93941a4a891a",
   "metadata": {},
   "outputs": [
    {
     "data": {
      "text/plain": [
       "(115052, 9)"
      ]
     },
     "execution_count": 7,
     "metadata": {},
     "output_type": "execute_result"
    }
   ],
   "source": [
    "X_imu_sc.shape"
   ]
  },
  {
   "cell_type": "code",
   "execution_count": 8,
   "id": "ba99877e-6246-4e87-962a-f8ef45de6048",
   "metadata": {},
   "outputs": [
    {
     "data": {
      "text/plain": [
       "(115052, 64, 64, 1)"
      ]
     },
     "execution_count": 8,
     "metadata": {},
     "output_type": "execute_result"
    }
   ],
   "source": [
    "X_cam.shape"
   ]
  },
  {
   "cell_type": "markdown",
   "id": "9024459d-2092-4448-b76b-1163bac9130b",
   "metadata": {},
   "source": [
    "### Train-Test Split"
   ]
  },
  {
   "cell_type": "code",
   "execution_count": 9,
   "id": "30558a03-f187-479b-9fea-eea61290f67f",
   "metadata": {},
   "outputs": [],
   "source": [
    "datasets = train_test_split(X_cam, X_imu_sc, y_steering, y_throttle, test_size=0.1, random_state=0)\n",
    "\n",
    "X_cam_train = datasets[0]\n",
    "X_cam_test = datasets[1]\n",
    "X_imu_train = datasets[2]\n",
    "X_imu_test = datasets[3]\n",
    "y_st_train = datasets[4]\n",
    "y_st_test = datasets[5]\n",
    "y_th_train = datasets[6]\n",
    "y_th_test = datasets[7]"
   ]
  },
  {
   "cell_type": "markdown",
   "id": "b51ada31-38b8-4741-8e56-6c0c8038777b",
   "metadata": {},
   "source": [
    "## Model"
   ]
  },
  {
   "cell_type": "markdown",
   "id": "a93d1a97-d274-44a6-af63-d4a31319598a",
   "metadata": {},
   "source": [
    "### Create Framework"
   ]
  },
  {
   "cell_type": "code",
   "execution_count": 16,
   "id": "eeb2c80e-97f5-4e96-9b3c-e9b799cd2e2d",
   "metadata": {
    "tags": []
   },
   "outputs": [],
   "source": [
    "# https://docs.donkeycar.com/dev_guide/model/\n",
    "# https://github.com/autorope/donkeycar/blob/dev/donkeycar/parts/keras.py\n",
    "\n",
    "def create_model(cam_input_shape):\n",
    "    drop = 0.2\n",
    "    img_in = Input(shape=cam_input_shape, name='img_in') \n",
    "    x = img_in\n",
    "    x = conv2d(24, 5, 2, 1)(x)\n",
    "    x = Dropout(drop)(x)\n",
    "    x = conv2d(32, 5, 2, 2)(x)\n",
    "    x = Dropout(drop)(x)\n",
    "    x = conv2d(64, 5, 2, 3)(x)\n",
    "    x = Dropout(drop)(x)\n",
    "    x = conv2d(64, 3, 1, 4)(x)\n",
    "    x = Dropout(drop)(x)\n",
    "    x = conv2d(64, 3, 1, 5)(x)\n",
    "    x = Dropout(drop)(x)\n",
    "    x = Flatten(name='flattened')(x)\n",
    "    x = Dense(100, activation='relu', name='dense_1')(x)\n",
    "    x = Dropout(drop)(x)\n",
    "    x = Dense(50, activation='relu', name='dense_2')(x)\n",
    "    x = Dropout(drop)(x)\n",
    "    # up to here, this is the standard linear model, now we add the\n",
    "    # sensor data to it\n",
    "    # sensor_in = Input(num_sensors, name='sensor_in')\n",
    "    # y = sensor_in\n",
    "    # z = concatenate([x, y])\n",
    "    # # here we add two more dense layers\n",
    "    # z = Dense(50, activation='relu', name='dense_3')(z)\n",
    "    # z = Dropout(drop)(z)\n",
    "    # z = Dense(50, activation='relu', name='dense_4')(z)\n",
    "    # z = Dropout(drop)(z)\n",
    "    # two outputs for angle and throttle\n",
    "    outputs = [\n",
    "        Dense(1, activation='linear', name='steering_outputs')(x),\n",
    "        Dense(1, activation='linear', name='throttle_outputs')(x)\n",
    "    ]\n",
    "    # combined output\n",
    "    # outputs = Dense(2, activation='linear', name='combined_outputs')(z)\n",
    "\n",
    "    # the model needs to specify the additional input here\n",
    "    model = Model(inputs=img_in, outputs=outputs)\n",
    "    return model\n",
    "\n",
    "\n",
    "def conv2d(filters, kernel, strides, layer_num, activation='relu'):\n",
    "    \"\"\"\n",
    "    Helper function to create a standard valid-padded convolutional layer\n",
    "    with square kernel and strides and unified naming convention\n",
    "    :param filters:     channel dimension of the layer\n",
    "    :param kernel:      creates (kernel, kernel) kernel matrix dimension\n",
    "    :param strides:     creates (strides, strides) stride\n",
    "    :param layer_num:   used in labelling the layer\n",
    "    :param activation:  activation, defaults to relu\n",
    "    :return:            tf.keras Convolution2D layer\n",
    "    \"\"\"\n",
    "    return Convolution2D(filters=filters,\n",
    "                         kernel_size=(kernel, kernel),\n",
    "                         strides=(strides, strides),\n",
    "                         activation=activation,\n",
    "                         name='conv2d_' + str(layer_num))"
   ]
  },
  {
   "cell_type": "code",
   "execution_count": 17,
   "id": "2ff16ad4-2750-4998-afa5-6c6c33ffee41",
   "metadata": {},
   "outputs": [],
   "source": [
    "cam_input_shape = X_cam_train[0].shape\n",
    "num_imu_sensors = X_imu_train.shape[1]"
   ]
  },
  {
   "cell_type": "code",
   "execution_count": 18,
   "id": "932a7a2f-320d-497a-827b-b10a5548aa28",
   "metadata": {},
   "outputs": [
    {
     "data": {
      "text/plain": [
       "(64, 64, 1)"
      ]
     },
     "execution_count": 18,
     "metadata": {},
     "output_type": "execute_result"
    }
   ],
   "source": [
    "cam_input_shape"
   ]
  },
  {
   "cell_type": "code",
   "execution_count": 19,
   "id": "ddb1b029-efb5-4245-992f-12d6db256e8d",
   "metadata": {},
   "outputs": [
    {
     "data": {
      "text/plain": [
       "9"
      ]
     },
     "execution_count": 19,
     "metadata": {},
     "output_type": "execute_result"
    }
   ],
   "source": [
    "num_imu_sensors"
   ]
  },
  {
   "cell_type": "code",
   "execution_count": 20,
   "id": "62c3f13a-b143-4304-8f94-ff0bed12d576",
   "metadata": {},
   "outputs": [],
   "source": [
    "model = create_model(cam_input_shape)\n",
    "model.compile(loss='mse', optimizer='adam', metrics=['mae', RootMeanSquaredError()])"
   ]
  },
  {
   "cell_type": "markdown",
   "id": "51895fa3-cc0a-4f87-8984-de874d95d90d",
   "metadata": {},
   "source": [
    "### Fit"
   ]
  },
  {
   "cell_type": "code",
   "execution_count": 21,
   "id": "522309bd-abc1-49e9-9257-f4d114db1b2c",
   "metadata": {
    "tags": []
   },
   "outputs": [],
   "source": [
    "stop_early = EarlyStopping(patience=5)"
   ]
  },
  {
   "cell_type": "code",
   "execution_count": 22,
   "id": "8ec208eb-0b94-4ad9-9c90-a98ec94e4ddc",
   "metadata": {},
   "outputs": [],
   "source": [
    "# Separate Outputs\n",
    "y_train = (y_st_train, y_th_train)\n",
    "y_test = (y_st_test, y_th_test)"
   ]
  },
  {
   "cell_type": "code",
   "execution_count": 23,
   "id": "bb991c96-c9b2-45e2-b4b0-245f1de89a49",
   "metadata": {},
   "outputs": [],
   "source": [
    "# Put y back together again. Change of plans\n",
    "# y_train = np.array((y_st_train, y_th_train)).T\n",
    "# y_test = np.array((y_st_test, y_th_test)).T"
   ]
  },
  {
   "cell_type": "code",
   "execution_count": 24,
   "id": "02c35f77-a56a-4a8a-beb6-1fbd0ded41f3",
   "metadata": {
    "tags": []
   },
   "outputs": [
    {
     "name": "stderr",
     "output_type": "stream",
     "text": [
      "2021-11-14 20:19:59.184361: W tensorflow/core/framework/cpu_allocator_impl.cc:80] Allocation of 1696497664 exceeds 10% of free system memory.\n",
      "2021-11-14 20:19:59.948414: I tensorflow/compiler/mlir/mlir_graph_optimization_pass.cc:116] None of the MLIR optimization passes are enabled (registered 2)\n",
      "2021-11-14 20:19:59.966088: I tensorflow/core/platform/profile_utils/cpu_utils.cc:112] CPU Frequency: 3405885000 Hz\n"
     ]
    },
    {
     "name": "stdout",
     "output_type": "stream",
     "text": [
      "Epoch 1/500\n"
     ]
    },
    {
     "name": "stderr",
     "output_type": "stream",
     "text": [
      "2021-11-14 20:20:00.648098: I tensorflow/stream_executor/platform/default/dso_loader.cc:49] Successfully opened dynamic library libcublas.so.10\n",
      "2021-11-14 20:20:00.783896: I tensorflow/stream_executor/platform/default/dso_loader.cc:49] Successfully opened dynamic library libcudnn.so.7\n",
      "2021-11-14 20:20:01.337587: W tensorflow/stream_executor/gpu/asm_compiler.cc:63] Running ptxas --version returned 256\n",
      "2021-11-14 20:20:01.404981: W tensorflow/stream_executor/gpu/redzone_allocator.cc:314] Internal: ptxas exited with non-zero error code 256, output: \n",
      "Relying on driver to perform ptx compilation. \n",
      "Modify $PATH to customize ptxas location.\n",
      "This message will be only logged once.\n"
     ]
    },
    {
     "name": "stdout",
     "output_type": "stream",
     "text": [
      "3236/3236 [==============================] - 44s 11ms/step - loss: 0.1661 - steering_outputs_loss: 0.0512 - throttle_outputs_loss: 0.1149 - steering_outputs_mae: 0.1623 - steering_outputs_root_mean_squared_error: 0.2203 - throttle_outputs_mae: 0.2307 - throttle_outputs_root_mean_squared_error: 0.3337 - val_loss: 0.0631 - val_steering_outputs_loss: 0.0137 - val_throttle_outputs_loss: 0.0494 - val_steering_outputs_mae: 0.0790 - val_steering_outputs_root_mean_squared_error: 0.1169 - val_throttle_outputs_mae: 0.0937 - val_throttle_outputs_root_mean_squared_error: 0.2223\n",
      "Epoch 2/500\n",
      "3236/3236 [==============================] - 22s 7ms/step - loss: 0.0789 - steering_outputs_loss: 0.0217 - throttle_outputs_loss: 0.0572 - steering_outputs_mae: 0.1070 - steering_outputs_root_mean_squared_error: 0.1472 - throttle_outputs_mae: 0.1362 - throttle_outputs_root_mean_squared_error: 0.2391 - val_loss: 0.0576 - val_steering_outputs_loss: 0.0131 - val_throttle_outputs_loss: 0.0445 - val_steering_outputs_mae: 0.0759 - val_steering_outputs_root_mean_squared_error: 0.1144 - val_throttle_outputs_mae: 0.0912 - val_throttle_outputs_root_mean_squared_error: 0.2110\n",
      "Epoch 3/500\n",
      "3236/3236 [==============================] - 22s 7ms/step - loss: 0.0697 - steering_outputs_loss: 0.0194 - throttle_outputs_loss: 0.0503 - steering_outputs_mae: 0.0989 - steering_outputs_root_mean_squared_error: 0.1394 - throttle_outputs_mae: 0.1207 - throttle_outputs_root_mean_squared_error: 0.2243 - val_loss: 0.0536 - val_steering_outputs_loss: 0.0132 - val_throttle_outputs_loss: 0.0404 - val_steering_outputs_mae: 0.0785 - val_steering_outputs_root_mean_squared_error: 0.1149 - val_throttle_outputs_mae: 0.0789 - val_throttle_outputs_root_mean_squared_error: 0.2010\n",
      "Epoch 4/500\n",
      "3236/3236 [==============================] - 22s 7ms/step - loss: 0.0664 - steering_outputs_loss: 0.0187 - throttle_outputs_loss: 0.0477 - steering_outputs_mae: 0.0960 - steering_outputs_root_mean_squared_error: 0.1369 - throttle_outputs_mae: 0.1133 - throttle_outputs_root_mean_squared_error: 0.2184 - val_loss: 0.0517 - val_steering_outputs_loss: 0.0125 - val_throttle_outputs_loss: 0.0392 - val_steering_outputs_mae: 0.0746 - val_steering_outputs_root_mean_squared_error: 0.1118 - val_throttle_outputs_mae: 0.0851 - val_throttle_outputs_root_mean_squared_error: 0.1981\n",
      "Epoch 5/500\n",
      "3236/3236 [==============================] - 22s 7ms/step - loss: 0.0651 - steering_outputs_loss: 0.0183 - throttle_outputs_loss: 0.0467 - steering_outputs_mae: 0.0938 - steering_outputs_root_mean_squared_error: 0.1354 - throttle_outputs_mae: 0.1101 - throttle_outputs_root_mean_squared_error: 0.2162 - val_loss: 0.0502 - val_steering_outputs_loss: 0.0122 - val_throttle_outputs_loss: 0.0380 - val_steering_outputs_mae: 0.0730 - val_steering_outputs_root_mean_squared_error: 0.1105 - val_throttle_outputs_mae: 0.0810 - val_throttle_outputs_root_mean_squared_error: 0.1950\n",
      "Epoch 6/500\n",
      "3236/3236 [==============================] - 22s 7ms/step - loss: 0.0631 - steering_outputs_loss: 0.0178 - throttle_outputs_loss: 0.0454 - steering_outputs_mae: 0.0925 - steering_outputs_root_mean_squared_error: 0.1332 - throttle_outputs_mae: 0.1063 - throttle_outputs_root_mean_squared_error: 0.2130 - val_loss: 0.0505 - val_steering_outputs_loss: 0.0121 - val_throttle_outputs_loss: 0.0384 - val_steering_outputs_mae: 0.0691 - val_steering_outputs_root_mean_squared_error: 0.1100 - val_throttle_outputs_mae: 0.0789 - val_throttle_outputs_root_mean_squared_error: 0.1960\n",
      "Epoch 7/500\n",
      "3236/3236 [==============================] - 22s 7ms/step - loss: 0.0626 - steering_outputs_loss: 0.0175 - throttle_outputs_loss: 0.0451 - steering_outputs_mae: 0.0911 - steering_outputs_root_mean_squared_error: 0.1321 - throttle_outputs_mae: 0.1038 - throttle_outputs_root_mean_squared_error: 0.2124 - val_loss: 0.0488 - val_steering_outputs_loss: 0.0125 - val_throttle_outputs_loss: 0.0363 - val_steering_outputs_mae: 0.0703 - val_steering_outputs_root_mean_squared_error: 0.1118 - val_throttle_outputs_mae: 0.0733 - val_throttle_outputs_root_mean_squared_error: 0.1907\n",
      "Epoch 8/500\n",
      "3236/3236 [==============================] - 22s 7ms/step - loss: 0.0619 - steering_outputs_loss: 0.0178 - throttle_outputs_loss: 0.0441 - steering_outputs_mae: 0.0916 - steering_outputs_root_mean_squared_error: 0.1334 - throttle_outputs_mae: 0.1009 - throttle_outputs_root_mean_squared_error: 0.2101 - val_loss: 0.0480 - val_steering_outputs_loss: 0.0125 - val_throttle_outputs_loss: 0.0355 - val_steering_outputs_mae: 0.0702 - val_steering_outputs_root_mean_squared_error: 0.1116 - val_throttle_outputs_mae: 0.0756 - val_throttle_outputs_root_mean_squared_error: 0.1885\n",
      "Epoch 9/500\n",
      "3236/3236 [==============================] - 22s 7ms/step - loss: 0.0609 - steering_outputs_loss: 0.0177 - throttle_outputs_loss: 0.0432 - steering_outputs_mae: 0.0910 - steering_outputs_root_mean_squared_error: 0.1331 - throttle_outputs_mae: 0.0978 - throttle_outputs_root_mean_squared_error: 0.2078 - val_loss: 0.0497 - val_steering_outputs_loss: 0.0123 - val_throttle_outputs_loss: 0.0374 - val_steering_outputs_mae: 0.0731 - val_steering_outputs_root_mean_squared_error: 0.1110 - val_throttle_outputs_mae: 0.0752 - val_throttle_outputs_root_mean_squared_error: 0.1934\n",
      "Epoch 10/500\n",
      "3236/3236 [==============================] - 22s 7ms/step - loss: 0.0604 - steering_outputs_loss: 0.0170 - throttle_outputs_loss: 0.0435 - steering_outputs_mae: 0.0891 - steering_outputs_root_mean_squared_error: 0.1303 - throttle_outputs_mae: 0.0967 - throttle_outputs_root_mean_squared_error: 0.2085 - val_loss: 0.0476 - val_steering_outputs_loss: 0.0119 - val_throttle_outputs_loss: 0.0357 - val_steering_outputs_mae: 0.0685 - val_steering_outputs_root_mean_squared_error: 0.1092 - val_throttle_outputs_mae: 0.0757 - val_throttle_outputs_root_mean_squared_error: 0.1888\n",
      "Epoch 11/500\n",
      "3236/3236 [==============================] - 22s 7ms/step - loss: 0.0599 - steering_outputs_loss: 0.0170 - throttle_outputs_loss: 0.0429 - steering_outputs_mae: 0.0891 - steering_outputs_root_mean_squared_error: 0.1305 - throttle_outputs_mae: 0.0938 - throttle_outputs_root_mean_squared_error: 0.2071 - val_loss: 0.0492 - val_steering_outputs_loss: 0.0124 - val_throttle_outputs_loss: 0.0368 - val_steering_outputs_mae: 0.0703 - val_steering_outputs_root_mean_squared_error: 0.1112 - val_throttle_outputs_mae: 0.0736 - val_throttle_outputs_root_mean_squared_error: 0.1919\n",
      "Epoch 12/500\n",
      "3236/3236 [==============================] - 22s 7ms/step - loss: 0.0588 - steering_outputs_loss: 0.0168 - throttle_outputs_loss: 0.0420 - steering_outputs_mae: 0.0888 - steering_outputs_root_mean_squared_error: 0.1296 - throttle_outputs_mae: 0.0927 - throttle_outputs_root_mean_squared_error: 0.2049 - val_loss: 0.0492 - val_steering_outputs_loss: 0.0119 - val_throttle_outputs_loss: 0.0373 - val_steering_outputs_mae: 0.0658 - val_steering_outputs_root_mean_squared_error: 0.1092 - val_throttle_outputs_mae: 0.0798 - val_throttle_outputs_root_mean_squared_error: 0.1931\n",
      "Epoch 13/500\n",
      "3236/3236 [==============================] - 22s 7ms/step - loss: 0.0593 - steering_outputs_loss: 0.0172 - throttle_outputs_loss: 0.0421 - steering_outputs_mae: 0.0892 - steering_outputs_root_mean_squared_error: 0.1310 - throttle_outputs_mae: 0.0908 - throttle_outputs_root_mean_squared_error: 0.2052 - val_loss: 0.0490 - val_steering_outputs_loss: 0.0130 - val_throttle_outputs_loss: 0.0360 - val_steering_outputs_mae: 0.0703 - val_steering_outputs_root_mean_squared_error: 0.1139 - val_throttle_outputs_mae: 0.0810 - val_throttle_outputs_root_mean_squared_error: 0.1898\n",
      "Epoch 14/500\n",
      "3236/3236 [==============================] - 22s 7ms/step - loss: 0.0605 - steering_outputs_loss: 0.0170 - throttle_outputs_loss: 0.0435 - steering_outputs_mae: 0.0889 - steering_outputs_root_mean_squared_error: 0.1303 - throttle_outputs_mae: 0.0920 - throttle_outputs_root_mean_squared_error: 0.2086 - val_loss: 0.0486 - val_steering_outputs_loss: 0.0127 - val_throttle_outputs_loss: 0.0360 - val_steering_outputs_mae: 0.0741 - val_steering_outputs_root_mean_squared_error: 0.1126 - val_throttle_outputs_mae: 0.0796 - val_throttle_outputs_root_mean_squared_error: 0.1896\n",
      "Epoch 15/500\n",
      "3236/3236 [==============================] - 21s 7ms/step - loss: 0.0595 - steering_outputs_loss: 0.0172 - throttle_outputs_loss: 0.0423 - steering_outputs_mae: 0.0892 - steering_outputs_root_mean_squared_error: 0.1311 - throttle_outputs_mae: 0.0901 - throttle_outputs_root_mean_squared_error: 0.2056 - val_loss: 0.0500 - val_steering_outputs_loss: 0.0129 - val_throttle_outputs_loss: 0.0371 - val_steering_outputs_mae: 0.0734 - val_steering_outputs_root_mean_squared_error: 0.1134 - val_throttle_outputs_mae: 0.0848 - val_throttle_outputs_root_mean_squared_error: 0.1927\n"
     ]
    }
   ],
   "source": [
    "## Fit the best model\n",
    "results = model.fit(\n",
    "    x=X_cam_train,\n",
    "    y=y_train,\n",
    "    batch_size=32, \n",
    "    epochs=500, \n",
    "    callbacks=[stop_early],\n",
    "    validation_data=(X_cam_test, y_test)\n",
    ")"
   ]
  },
  {
   "cell_type": "code",
   "execution_count": 25,
   "id": "96436595-6f98-4827-a0a6-1f8e27590514",
   "metadata": {},
   "outputs": [],
   "source": [
    "# plt.plot(results.history['loss'], label = 'Training Loss')\n",
    "# plt.plot(results.history['val_loss'], label = 'Testing Loss')\n",
    "# plt.legend();"
   ]
  },
  {
   "cell_type": "code",
   "execution_count": 26,
   "id": "ebc86199-ac89-43d5-bfce-0faa0e42673c",
   "metadata": {},
   "outputs": [
    {
     "data": {
      "image/png": "[encoded data removed]",
      "text/plain": [
       "<Figure size 432x288 with 1 Axes>"
      ]
     },
     "metadata": {
      "needs_background": "light"
     },
     "output_type": "display_data"
    }
   ],
   "source": [
    "plt.plot(results.history['loss'], label = 'Loss')\n",
    "plt.plot(results.history['val_loss'], label = 'Val Loss')\n",
    "plt.plot(results.history['val_steering_outputs_loss'], label = 'Val Str Loss')\n",
    "plt.plot(results.history['val_throttle_outputs_loss'], label = 'Val Thr Loss')\n",
    "\n",
    "\n",
    "plt.legend();"
   ]
  },
  {
   "cell_type": "code",
   "execution_count": 27,
   "id": "f6237a5c-e973-4437-8041-4f571898aca1",
   "metadata": {},
   "outputs": [
    {
     "data": {
      "text/plain": [
       "dict_keys(['loss', 'steering_outputs_loss', 'throttle_outputs_loss', 'steering_outputs_mae', 'steering_outputs_root_mean_squared_error', 'throttle_outputs_mae', 'throttle_outputs_root_mean_squared_error', 'val_loss', 'val_steering_outputs_loss', 'val_throttle_outputs_loss', 'val_steering_outputs_mae', 'val_steering_outputs_root_mean_squared_error', 'val_throttle_outputs_mae', 'val_throttle_outputs_root_mean_squared_error'])"
      ]
     },
     "execution_count": 27,
     "metadata": {},
     "output_type": "execute_result"
    }
   ],
   "source": [
    "results.history.keys()"
   ]
  },
  {
   "cell_type": "code",
   "execution_count": 28,
   "id": "13562b6f-bf20-4c42-aefa-db844ebe6bcd",
   "metadata": {},
   "outputs": [
    {
     "data": {
      "image/png": "[encoded data removed]",
      "text/plain": [
       "<Figure size 432x288 with 1 Axes>"
      ]
     },
     "metadata": {
      "needs_background": "light"
     },
     "output_type": "display_data"
    }
   ],
   "source": [
    "# plt.plot(results.history['mae'], label = 'MAE')\n",
    "# plt.plot(results.history['val_mae'], label = 'Val MAE')\n",
    "plt.plot(results.history['val_steering_outputs_mae'], label = 'Val Str MAE')\n",
    "plt.plot(results.history['val_throttle_outputs_mae'], label = 'Val Thr MAE')\n",
    "plt.legend();"
   ]
  },
  {
   "cell_type": "markdown",
   "id": "1cdcdfbd-a430-4081-8510-99968ab37188",
   "metadata": {},
   "source": [
    "## Save model"
   ]
  },
  {
   "cell_type": "code",
   "execution_count": 29,
   "id": "a6467968-7308-4cd8-9829-eda955a678a5",
   "metadata": {},
   "outputs": [
    {
     "data": {
      "text/html": [
       "<div>\n",
       "<style scoped>\n",
       "    .dataframe tbody tr th:only-of-type {\n",
       "        vertical-align: middle;\n",
       "    }\n",
       "\n",
       "    .dataframe tbody tr th {\n",
       "        vertical-align: top;\n",
       "    }\n",
       "\n",
       "    .dataframe thead th {\n",
       "        text-align: right;\n",
       "    }\n",
       "</style>\n",
       "<table border=\"1\" class=\"dataframe\">\n",
       "  <thead>\n",
       "    <tr style=\"text-align: right;\">\n",
       "      <th></th>\n",
       "      <th>model</th>\n",
       "      <th>history</th>\n",
       "      <th>mae_score</th>\n",
       "      <th>mse_score</th>\n",
       "      <th>r2_score</th>\n",
       "      <th>rmse_score</th>\n",
       "      <th>rmae_score</th>\n",
       "    </tr>\n",
       "  </thead>\n",
       "  <tbody>\n",
       "    <tr>\n",
       "      <th>38</th>\n",
       "      <td>../models/11_12_2021/19_28_18/model_38.h5</td>\n",
       "      <td>{'loss': [0.054651323705911636, 0.033318288624...</td>\n",
       "      <td>0.019319569692015648</td>\n",
       "      <td>0.06752386689186096</td>\n",
       "      <td>NaN</td>\n",
       "      <td>NaN</td>\n",
       "      <td>0.1574496477842331</td>\n",
       "    </tr>\n",
       "    <tr>\n",
       "      <th>39</th>\n",
       "      <td>../models/11_12_2021/19_28_18/model_39.h5</td>\n",
       "      <td>{'loss': [0.10519464313983917, 0.0663477778434...</td>\n",
       "      <td>NaN</td>\n",
       "      <td>NaN</td>\n",
       "      <td>NaN</td>\n",
       "      <td>NaN</td>\n",
       "      <td>NaN</td>\n",
       "    </tr>\n",
       "    <tr>\n",
       "      <th>40</th>\n",
       "      <td>../models/11_12_2021/19_28_18/model_40.h5</td>\n",
       "      <td>{'loss': [0.10305038094520569, 0.0693953856825...</td>\n",
       "      <td>NaN</td>\n",
       "      <td>NaN</td>\n",
       "      <td>NaN</td>\n",
       "      <td>NaN</td>\n",
       "      <td>NaN</td>\n",
       "    </tr>\n",
       "    <tr>\n",
       "      <th>41</th>\n",
       "      <td>../models/11_12_2021/19_28_18/model_41.h5</td>\n",
       "      <td>{'loss': [0.10305038094520569, 0.0693953856825...</td>\n",
       "      <td>NaN</td>\n",
       "      <td>NaN</td>\n",
       "      <td>NaN</td>\n",
       "      <td>NaN</td>\n",
       "      <td>NaN</td>\n",
       "    </tr>\n",
       "    <tr>\n",
       "      <th>42</th>\n",
       "      <td>../models/11_12_2021/19_28_18/model_42.h5</td>\n",
       "      <td>{'loss': [0.111346036195755, 0.075226508080959...</td>\n",
       "      <td>NaN</td>\n",
       "      <td>NaN</td>\n",
       "      <td>NaN</td>\n",
       "      <td>NaN</td>\n",
       "      <td>NaN</td>\n",
       "    </tr>\n",
       "  </tbody>\n",
       "</table>\n",
       "</div>"
      ],
      "text/plain": [
       "                                        model  \\\n",
       "38  ../models/11_12_2021/19_28_18/model_38.h5   \n",
       "39  ../models/11_12_2021/19_28_18/model_39.h5   \n",
       "40  ../models/11_12_2021/19_28_18/model_40.h5   \n",
       "41  ../models/11_12_2021/19_28_18/model_41.h5   \n",
       "42  ../models/11_12_2021/19_28_18/model_42.h5   \n",
       "\n",
       "                                              history             mae_score  \\\n",
       "38  {'loss': [0.054651323705911636, 0.033318288624...  0.019319569692015648   \n",
       "39  {'loss': [0.10519464313983917, 0.0663477778434...                   NaN   \n",
       "40  {'loss': [0.10305038094520569, 0.0693953856825...                   NaN   \n",
       "41  {'loss': [0.10305038094520569, 0.0693953856825...                   NaN   \n",
       "42  {'loss': [0.111346036195755, 0.075226508080959...                   NaN   \n",
       "\n",
       "              mse_score  r2_score  rmse_score          rmae_score  \n",
       "38  0.06752386689186096       NaN         NaN  0.1574496477842331  \n",
       "39                  NaN       NaN         NaN                 NaN  \n",
       "40                  NaN       NaN         NaN                 NaN  \n",
       "41                  NaN       NaN         NaN                 NaN  \n",
       "42                  NaN       NaN         NaN                 NaN  "
      ]
     },
     "execution_count": 29,
     "metadata": {},
     "output_type": "execute_result"
    }
   ],
   "source": [
    "model_index = max(0, model_history.index.max() + 1)\n",
    "model_path = f'{model_directory}/model_{model_index}.h5'\n",
    "\n",
    "history_dictionary = {\n",
    "    'model': model_path,\n",
    "    'history': results.history,\n",
    "    # 'r2_score': metrics.r2_score(y_test, preds),\n",
    "    # 'mae_score': metrics.mean_absolute_error(y_test, preds),\n",
    "    # 'mse_score': metrics.mean_squared_error(y_test, preds),\n",
    "    # 'rmse_score': metrics.mean_squared_error(y_test, preds, squared=False),\n",
    "    # 'mae_score': results.history['val_loss'][-1],\n",
    "    # 'mse_score': results.history['val_mae'][-1],\n",
    "    # 'rmae_score': results.history['val_root_mean_squared_error'][1],\n",
    "}\n",
    "\n",
    "model_history = model_history.append(history_dictionary, ignore_index=True)\n",
    "model_history.tail()"
   ]
  },
  {
   "cell_type": "code",
   "execution_count": 30,
   "id": "871c66a1-e8c3-4c1b-bc39-39bb199a5994",
   "metadata": {},
   "outputs": [],
   "source": [
    "## Saving as h5 for backwards compatibility\n",
    "model.save(model_path, save_format='h5')\n",
    "model_history.to_csv(model_history_file)"
   ]
  },
  {
   "cell_type": "code",
   "execution_count": 31,
   "id": "d3fa8846-6001-497e-aee4-015991ea671d",
   "metadata": {},
   "outputs": [
    {
     "data": {
      "text/plain": [
       "'../models/11_12_2021/19_28_18/model_42.h5'"
      ]
     },
     "execution_count": 31,
     "metadata": {},
     "output_type": "execute_result"
    }
   ],
   "source": [
    "model_path"
   ]
  },
  {
   "cell_type": "code",
   "execution_count": null,
   "id": "ce0c0684-8fa6-458f-aa60-8916dac6d92b",
   "metadata": {},
   "outputs": [],
   "source": []
  }
 ],
 "metadata": {
  "kernelspec": {
   "display_name": "Python 3 (ipykernel)",
   "language": "python",
   "name": "python3"
  },
  "language_info": {
   "codemirror_mode": {
    "name": "ipython",
    "version": 3
   },
   "file_extension": ".py",
   "mimetype": "text/x-python",
   "name": "python",
   "nbconvert_exporter": "python",
   "pygments_lexer": "ipython3",
   "version": "3.9.7"
  }
 },
 "nbformat": 4,
 "nbformat_minor": 5
}
