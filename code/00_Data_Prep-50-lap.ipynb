{
 "cells": [
  {
   "cell_type": "markdown",
   "id": "da1de231-e9e8-4f0b-8758-b67011969f80",
   "metadata": {},
   "source": [
    "# Data Prep\n",
    "\n",
    "In this notebook I will import and inspect the image and telemetry data taken from Donkey Sim, and organize it for modeling steps.\n",
    "\n",
    "* Import telemetry .csv\n",
    "* Import image data\n",
    "* Convert image data\n",
    "* Create dataframe with: \n",
    "  * steering inputs, \n",
    "  * throttle inputs\n",
    "  * converted imageds\n",
    "* Save as a pickle format file for modeling"
   ]
  },
  {
   "cell_type": "code",
   "execution_count": 1,
   "id": "ca6f1792-6e54-4a32-9efb-e2052c199a6c",
   "metadata": {},
   "outputs": [
    {
     "name": "stderr",
     "output_type": "stream",
     "text": [
      "2021-11-15 17:22:31.241405: I tensorflow/stream_executor/platform/default/dso_loader.cc:49] Successfully opened dynamic library libcudart.so.10.1\n"
     ]
    }
   ],
   "source": [
    "## Imports\n",
    "import numpy as np\n",
    "import pandas as pd\n",
    "import os\n",
    "import sys\n",
    "import matplotlib.pyplot as plt\n",
    "import seaborn as sns\n",
    "import time\n",
    "import pickle\n",
    "\n",
    "from tensorflow.keras.preprocessing.image import img_to_array, load_img"
   ]
  },
  {
   "cell_type": "markdown",
   "id": "2c4c10aa-3aa2-4767-8af1-42f1ba88016e",
   "metadata": {
    "tags": []
   },
   "source": [
    "## Telemetry Data\n",
    "\n",
    "Steps:\n",
    "* load simulation telemetry data csv\n",
    "* cut unneeded columns\n",
    "* cut incomplete last lap\n",
    "* import images as numpy arrays\n",
    "* create numpy array of image data arrays\n",
    "* save images as input dataset X\n",
    "* save steering angle and throttle data in numpy array as target dataset y\n"
   ]
  },
  {
   "cell_type": "code",
   "execution_count": 2,
   "id": "c47db9fe-e9a3-4a25-a59c-3d8a690e76bc",
   "metadata": {},
   "outputs": [],
   "source": [
    "## Constants\n",
    "working_date = '11_15_2021'\n",
    "working_time = '16_45_55'\n",
    "local_project_path = '/home/grant/projects/donkeysim-client/data'\n",
    "\n",
    "\n",
    "# telemetry_columns = ['speed','pitch', 'yaw', 'roll', 'activeNode'] \n",
    "telemetry_columns = ['accel_x', 'accel_y', 'accel_z', 'gyro_x', 'gyro_y', \n",
    "               'gyro_z', 'vel_x', 'vel_y', 'vel_z',]"
   ]
  },
  {
   "cell_type": "code",
   "execution_count": 3,
   "id": "351de744-92e0-4111-b0a1-dd9f51d309ed",
   "metadata": {},
   "outputs": [],
   "source": [
    "## Directories\n",
    "local_data_directory = f'{local_project_path}/{working_date}/{working_time}'\n",
    "local_image_directory = f'{local_data_directory}/images'\n",
    "working_data_directory = f'../data/{working_date}/{working_time}'\n",
    "\n",
    "## File paths\n",
    "telemetry_csv = f'{local_data_directory}/data.csv'\n",
    "input_image_dataset_file = f'{working_data_directory}/X_img.npy'\n",
    "input_telem_dataset_file = f'{working_data_directory}/X_telem.pkl'\n",
    "target_dataset_file = f'{working_data_directory}/y.npy'"
   ]
  },
  {
   "cell_type": "code",
   "execution_count": 4,
   "id": "986e8118-6a87-4856-9382-9f17297ddf50",
   "metadata": {},
   "outputs": [],
   "source": [
    "## Make sure directoires exist\n",
    "os.makedirs(working_data_directory, exist_ok=True)"
   ]
  },
  {
   "cell_type": "markdown",
   "id": "1234522f-ccb4-4d3a-80b6-ae6c86b7d416",
   "metadata": {},
   "source": [
    "### Load CSV file as DataFrame"
   ]
  },
  {
   "cell_type": "code",
   "execution_count": 5,
   "id": "f8e7a448-e202-4ef7-a2d9-53f1a6f14cc3",
   "metadata": {},
   "outputs": [
    {
     "data": {
      "text/html": [
       "<div>\n",
       "<style scoped>\n",
       "    .dataframe tbody tr th:only-of-type {\n",
       "        vertical-align: middle;\n",
       "    }\n",
       "\n",
       "    .dataframe tbody tr th {\n",
       "        vertical-align: top;\n",
       "    }\n",
       "\n",
       "    .dataframe thead th {\n",
       "        text-align: right;\n",
       "    }\n",
       "</style>\n",
       "<table border=\"1\" class=\"dataframe\">\n",
       "  <thead>\n",
       "    <tr style=\"text-align: right;\">\n",
       "      <th></th>\n",
       "      <th>steering_angle</th>\n",
       "      <th>throttle</th>\n",
       "      <th>speed</th>\n",
       "      <th>image</th>\n",
       "      <th>hit</th>\n",
       "      <th>time</th>\n",
       "      <th>accel_x</th>\n",
       "      <th>accel_y</th>\n",
       "      <th>accel_z</th>\n",
       "      <th>gyro_x</th>\n",
       "      <th>...</th>\n",
       "      <th>totalNodes</th>\n",
       "      <th>pos_x</th>\n",
       "      <th>pos_y</th>\n",
       "      <th>pos_z</th>\n",
       "      <th>vel_x</th>\n",
       "      <th>vel_y</th>\n",
       "      <th>vel_z</th>\n",
       "      <th>on_road</th>\n",
       "      <th>progress_on_shortest_path</th>\n",
       "      <th>lap</th>\n",
       "    </tr>\n",
       "  </thead>\n",
       "  <tbody>\n",
       "    <tr>\n",
       "      <th>0</th>\n",
       "      <td>0.0</td>\n",
       "      <td>0.288367</td>\n",
       "      <td>0.002421</td>\n",
       "      <td>119.3352.PNG</td>\n",
       "      <td>none</td>\n",
       "      <td>119.3352</td>\n",
       "      <td>0.002088</td>\n",
       "      <td>-0.009022</td>\n",
       "      <td>0.016053</td>\n",
       "      <td>-0.000026</td>\n",
       "      <td>...</td>\n",
       "      <td>307</td>\n",
       "      <td>14.04008</td>\n",
       "      <td>0.565460</td>\n",
       "      <td>-68.18536</td>\n",
       "      <td>0.000146</td>\n",
       "      <td>-0.001962</td>\n",
       "      <td>0.001410</td>\n",
       "      <td>0</td>\n",
       "      <td>0</td>\n",
       "      <td>0</td>\n",
       "    </tr>\n",
       "    <tr>\n",
       "      <th>1</th>\n",
       "      <td>0.0</td>\n",
       "      <td>0.321603</td>\n",
       "      <td>0.046481</td>\n",
       "      <td>119.3851.PNG</td>\n",
       "      <td>none</td>\n",
       "      <td>119.3851</td>\n",
       "      <td>-0.006086</td>\n",
       "      <td>0.002063</td>\n",
       "      <td>1.279279</td>\n",
       "      <td>0.000396</td>\n",
       "      <td>...</td>\n",
       "      <td>307</td>\n",
       "      <td>14.03885</td>\n",
       "      <td>0.565202</td>\n",
       "      <td>-68.18661</td>\n",
       "      <td>0.000089</td>\n",
       "      <td>-0.002076</td>\n",
       "      <td>0.046434</td>\n",
       "      <td>0</td>\n",
       "      <td>0</td>\n",
       "      <td>0</td>\n",
       "    </tr>\n",
       "    <tr>\n",
       "      <th>2</th>\n",
       "      <td>0.0</td>\n",
       "      <td>0.351906</td>\n",
       "      <td>0.107482</td>\n",
       "      <td>119.4351.PNG</td>\n",
       "      <td>none</td>\n",
       "      <td>119.4351</td>\n",
       "      <td>-0.003280</td>\n",
       "      <td>0.017245</td>\n",
       "      <td>1.729377</td>\n",
       "      <td>0.000724</td>\n",
       "      <td>...</td>\n",
       "      <td>307</td>\n",
       "      <td>14.03514</td>\n",
       "      <td>0.564731</td>\n",
       "      <td>-68.19048</td>\n",
       "      <td>0.000083</td>\n",
       "      <td>-0.001152</td>\n",
       "      <td>0.107476</td>\n",
       "      <td>0</td>\n",
       "      <td>0</td>\n",
       "      <td>0</td>\n",
       "    </tr>\n",
       "    <tr>\n",
       "      <th>3</th>\n",
       "      <td>0.0</td>\n",
       "      <td>0.353861</td>\n",
       "      <td>0.135307</td>\n",
       "      <td>119.4847.PNG</td>\n",
       "      <td>none</td>\n",
       "      <td>119.4847</td>\n",
       "      <td>-0.016222</td>\n",
       "      <td>0.033200</td>\n",
       "      <td>0.805473</td>\n",
       "      <td>0.000624</td>\n",
       "      <td>...</td>\n",
       "      <td>307</td>\n",
       "      <td>14.03131</td>\n",
       "      <td>0.564488</td>\n",
       "      <td>-68.19459</td>\n",
       "      <td>-0.000178</td>\n",
       "      <td>0.000132</td>\n",
       "      <td>0.135306</td>\n",
       "      <td>0</td>\n",
       "      <td>0</td>\n",
       "      <td>0</td>\n",
       "    </tr>\n",
       "    <tr>\n",
       "      <th>4</th>\n",
       "      <td>0.0</td>\n",
       "      <td>0.376344</td>\n",
       "      <td>0.185702</td>\n",
       "      <td>119.5351.PNG</td>\n",
       "      <td>none</td>\n",
       "      <td>119.5351</td>\n",
       "      <td>0.028342</td>\n",
       "      <td>0.048648</td>\n",
       "      <td>-0.053816</td>\n",
       "      <td>0.000329</td>\n",
       "      <td>...</td>\n",
       "      <td>307</td>\n",
       "      <td>14.02357</td>\n",
       "      <td>0.564441</td>\n",
       "      <td>-68.20283</td>\n",
       "      <td>0.000049</td>\n",
       "      <td>0.002027</td>\n",
       "      <td>0.185691</td>\n",
       "      <td>0</td>\n",
       "      <td>0</td>\n",
       "      <td>0</td>\n",
       "    </tr>\n",
       "  </tbody>\n",
       "</table>\n",
       "<p>5 rows × 28 columns</p>\n",
       "</div>"
      ],
      "text/plain": [
       "   steering_angle  throttle     speed         image   hit      time   accel_x  \\\n",
       "0             0.0  0.288367  0.002421  119.3352.PNG  none  119.3352  0.002088   \n",
       "1             0.0  0.321603  0.046481  119.3851.PNG  none  119.3851 -0.006086   \n",
       "2             0.0  0.351906  0.107482  119.4351.PNG  none  119.4351 -0.003280   \n",
       "3             0.0  0.353861  0.135307  119.4847.PNG  none  119.4847 -0.016222   \n",
       "4             0.0  0.376344  0.185702  119.5351.PNG  none  119.5351  0.028342   \n",
       "\n",
       "    accel_y   accel_z    gyro_x  ...  totalNodes     pos_x     pos_y  \\\n",
       "0 -0.009022  0.016053 -0.000026  ...         307  14.04008  0.565460   \n",
       "1  0.002063  1.279279  0.000396  ...         307  14.03885  0.565202   \n",
       "2  0.017245  1.729377  0.000724  ...         307  14.03514  0.564731   \n",
       "3  0.033200  0.805473  0.000624  ...         307  14.03131  0.564488   \n",
       "4  0.048648 -0.053816  0.000329  ...         307  14.02357  0.564441   \n",
       "\n",
       "      pos_z     vel_x     vel_y     vel_z  on_road  progress_on_shortest_path  \\\n",
       "0 -68.18536  0.000146 -0.001962  0.001410        0                          0   \n",
       "1 -68.18661  0.000089 -0.002076  0.046434        0                          0   \n",
       "2 -68.19048  0.000083 -0.001152  0.107476        0                          0   \n",
       "3 -68.19459 -0.000178  0.000132  0.135306        0                          0   \n",
       "4 -68.20283  0.000049  0.002027  0.185691        0                          0   \n",
       "\n",
       "   lap  \n",
       "0    0  \n",
       "1    0  \n",
       "2    0  \n",
       "3    0  \n",
       "4    0  \n",
       "\n",
       "[5 rows x 28 columns]"
      ]
     },
     "execution_count": 5,
     "metadata": {},
     "output_type": "execute_result"
    }
   ],
   "source": [
    "df = pd.read_csv(telemetry_csv)\n",
    "df.head()"
   ]
  },
  {
   "cell_type": "markdown",
   "id": "6902fd35-c662-4204-871f-c9b3af51c25d",
   "metadata": {
    "tags": []
   },
   "source": [
    "### Rename Steering Column to Match Throttle"
   ]
  },
  {
   "cell_type": "code",
   "execution_count": 6,
   "id": "b091a90e-7ae1-417c-ac8f-68781bb70c19",
   "metadata": {
    "tags": []
   },
   "outputs": [
    {
     "data": {
      "text/plain": [
       "Index(['steering', 'throttle', 'speed', 'image', 'hit', 'time', 'accel_x',\n",
       "       'accel_y', 'accel_z', 'gyro_x', 'gyro_y', 'gyro_z', 'gyro_w', 'pitch',\n",
       "       'yaw', 'roll', 'cte', 'activeNode', 'totalNodes', 'pos_x', 'pos_y',\n",
       "       'pos_z', 'vel_x', 'vel_y', 'vel_z', 'on_road',\n",
       "       'progress_on_shortest_path', 'lap'],\n",
       "      dtype='object')"
      ]
     },
     "execution_count": 6,
     "metadata": {},
     "output_type": "execute_result"
    }
   ],
   "source": [
    "df.columns = ['steering' if col=='steering_angle' else col for col in df.columns]\n",
    "df.columns"
   ]
  },
  {
   "cell_type": "code",
   "execution_count": 7,
   "id": "a190b9d4-e6c4-4a54-89f2-0c5868fdabf1",
   "metadata": {},
   "outputs": [],
   "source": [
    "## drop message label column\n",
    "# df.reset_index(drop=True, inplace=True)"
   ]
  },
  {
   "cell_type": "code",
   "execution_count": 8,
   "id": "ddb46dff-dfe1-4585-a415-8fcf64effea8",
   "metadata": {},
   "outputs": [
    {
     "name": "stdout",
     "output_type": "stream",
     "text": [
      "<class 'pandas.core.frame.DataFrame'>\n",
      "RangeIndex: 41883 entries, 0 to 41882\n",
      "Data columns (total 28 columns):\n",
      " #   Column                     Non-Null Count  Dtype  \n",
      "---  ------                     --------------  -----  \n",
      " 0   steering                   41883 non-null  float64\n",
      " 1   throttle                   41883 non-null  float64\n",
      " 2   speed                      41883 non-null  float64\n",
      " 3   image                      41883 non-null  object \n",
      " 4   hit                        41883 non-null  object \n",
      " 5   time                       41883 non-null  float64\n",
      " 6   accel_x                    41883 non-null  float64\n",
      " 7   accel_y                    41883 non-null  float64\n",
      " 8   accel_z                    41883 non-null  float64\n",
      " 9   gyro_x                     41883 non-null  float64\n",
      " 10  gyro_y                     41883 non-null  float64\n",
      " 11  gyro_z                     41883 non-null  float64\n",
      " 12  gyro_w                     41883 non-null  float64\n",
      " 13  pitch                      41883 non-null  float64\n",
      " 14  yaw                        41883 non-null  float64\n",
      " 15  roll                       41883 non-null  float64\n",
      " 16  cte                        41883 non-null  float64\n",
      " 17  activeNode                 41883 non-null  int64  \n",
      " 18  totalNodes                 41883 non-null  int64  \n",
      " 19  pos_x                      41883 non-null  float64\n",
      " 20  pos_y                      41883 non-null  float64\n",
      " 21  pos_z                      41883 non-null  float64\n",
      " 22  vel_x                      41883 non-null  float64\n",
      " 23  vel_y                      41883 non-null  float64\n",
      " 24  vel_z                      41883 non-null  float64\n",
      " 25  on_road                    41883 non-null  int64  \n",
      " 26  progress_on_shortest_path  41883 non-null  int64  \n",
      " 27  lap                        41883 non-null  int64  \n",
      "dtypes: float64(21), int64(5), object(2)\n",
      "memory usage: 8.9+ MB\n"
     ]
    }
   ],
   "source": [
    "df.info()"
   ]
  },
  {
   "cell_type": "code",
   "execution_count": 9,
   "id": "d424d8fc-285e-4dc9-941c-c9d943c62d9b",
   "metadata": {},
   "outputs": [
    {
     "data": {
      "text/plain": [
       "Index(['steering', 'throttle', 'speed', 'image', 'hit', 'time', 'accel_x',\n",
       "       'accel_y', 'accel_z', 'gyro_x', 'gyro_y', 'gyro_z', 'gyro_w', 'pitch',\n",
       "       'yaw', 'roll', 'cte', 'activeNode', 'totalNodes', 'pos_x', 'pos_y',\n",
       "       'pos_z', 'vel_x', 'vel_y', 'vel_z', 'on_road',\n",
       "       'progress_on_shortest_path', 'lap'],\n",
       "      dtype='object')"
      ]
     },
     "execution_count": 9,
     "metadata": {},
     "output_type": "execute_result"
    }
   ],
   "source": [
    "df.columns"
   ]
  },
  {
   "cell_type": "markdown",
   "id": "e10bedf8-01b0-42c0-86b1-72d00ec8d371",
   "metadata": {},
   "source": [
    "### Pare Useless Columns"
   ]
  },
  {
   "cell_type": "code",
   "execution_count": 10,
   "id": "88a93822-88f8-426b-a26b-38c39dafac57",
   "metadata": {},
   "outputs": [],
   "source": [
    "drop_columns = ['hit', 'time', 'gyro_w', 'pitch', 'yaw', 'roll', \n",
    "                'totalNodes', 'pos_x', 'pos_y', 'pos_z', 'on_road',\n",
    "                'progress_on_shortest_path']"
   ]
  },
  {
   "cell_type": "code",
   "execution_count": 11,
   "id": "1c049d71-8c7e-4f62-95d3-9a8221b5c405",
   "metadata": {},
   "outputs": [
    {
     "data": {
      "text/plain": [
       "array([ 0,  1,  2,  3,  4,  5,  6,  7,  8,  9, 10, 11, 12, 13, 14, 15, 16,\n",
       "       17, 18, 19, 20, 21, 22, 23, 24, 25, 26, 27, 28, 29, 30, 31, 32, 33,\n",
       "       34, 35, 36, 37, 38, 39, 40, 41, 42, 43, 44, 45, 46, 47, 48, 49, 50,\n",
       "       51])"
      ]
     },
     "execution_count": 11,
     "metadata": {},
     "output_type": "execute_result"
    }
   ],
   "source": [
    "df['lap'].unique()"
   ]
  },
  {
   "cell_type": "code",
   "execution_count": 12,
   "id": "79615c87-732a-4000-aa7f-8bec981d7238",
   "metadata": {},
   "outputs": [
    {
     "data": {
      "text/plain": [
       "14149637"
      ]
     },
     "execution_count": 12,
     "metadata": {},
     "output_type": "execute_result"
    }
   ],
   "source": [
    "sys.getsizeof(df)"
   ]
  },
  {
   "cell_type": "code",
   "execution_count": 13,
   "id": "5879b58e-2502-468c-bdd4-453db9176e63",
   "metadata": {
    "tags": []
   },
   "outputs": [
    {
     "data": {
      "text/plain": [
       "steering                     float64\n",
       "throttle                     float64\n",
       "speed                        float64\n",
       "image                         object\n",
       "hit                           object\n",
       "time                         float64\n",
       "accel_x                      float64\n",
       "accel_y                      float64\n",
       "accel_z                      float64\n",
       "gyro_x                       float64\n",
       "gyro_y                       float64\n",
       "gyro_z                       float64\n",
       "gyro_w                       float64\n",
       "pitch                        float64\n",
       "yaw                          float64\n",
       "roll                         float64\n",
       "cte                          float64\n",
       "activeNode                     int64\n",
       "totalNodes                     int64\n",
       "pos_x                        float64\n",
       "pos_y                        float64\n",
       "pos_z                        float64\n",
       "vel_x                        float64\n",
       "vel_y                        float64\n",
       "vel_z                        float64\n",
       "on_road                        int64\n",
       "progress_on_shortest_path      int64\n",
       "lap                            int64\n",
       "dtype: object"
      ]
     },
     "execution_count": 13,
     "metadata": {},
     "output_type": "execute_result"
    }
   ],
   "source": [
    "df.dtypes"
   ]
  },
  {
   "cell_type": "markdown",
   "id": "ed8f74da-ad72-498a-a051-bd54725e010c",
   "metadata": {},
   "source": [
    "### Convert datatypes (?)"
   ]
  },
  {
   "cell_type": "code",
   "execution_count": 14,
   "id": "32467124-892c-4697-8c07-8579327c36ef",
   "metadata": {},
   "outputs": [],
   "source": [
    "for col in df.columns:\n",
    "    if df[col].dtype == 'float':\n",
    "        df[col] = pd.to_numeric(df[col], downcast='float')"
   ]
  },
  {
   "cell_type": "code",
   "execution_count": 15,
   "id": "323b5f66-7a65-4893-a5e1-552391c04e21",
   "metadata": {},
   "outputs": [
    {
     "data": {
      "text/plain": [
       "10631465"
      ]
     },
     "execution_count": 15,
     "metadata": {},
     "output_type": "execute_result"
    }
   ],
   "source": [
    "sys.getsizeof(df)"
   ]
  },
  {
   "cell_type": "markdown",
   "id": "c85a27b4-ab12-45a7-ada9-19e4a834fff5",
   "metadata": {},
   "source": [
    "### Remove \"Extra\" Laps"
   ]
  },
  {
   "cell_type": "code",
   "execution_count": 16,
   "id": "4778fa13-4c2c-4a3b-a7a8-acba2b3dc462",
   "metadata": {},
   "outputs": [
    {
     "data": {
      "text/plain": [
       "array([ 1,  2,  3,  4,  5,  6,  7,  8,  9, 10, 11, 12, 13, 14, 15, 16, 17,\n",
       "       18, 19, 20, 21, 22, 23, 24, 25, 26, 27, 28, 29, 30, 31, 32, 33, 34,\n",
       "       35, 36, 37, 38, 39, 40, 41, 42, 43, 44, 45, 46, 47, 48, 49, 50])"
      ]
     },
     "execution_count": 16,
     "metadata": {},
     "output_type": "execute_result"
    }
   ],
   "source": [
    "## Cut off the little bit after the end of the training session\n",
    "df = df.loc[(df['lap'] > 0) & (df['lap'] < df['lap'].max()), :] #.drop(columns='lap')\n",
    "df['lap'].unique()"
   ]
  },
  {
   "cell_type": "markdown",
   "id": "bafcd95f-8cd1-44a4-93ef-38c43063ac68",
   "metadata": {},
   "source": [
    "### Convert lap to category"
   ]
  },
  {
   "cell_type": "code",
   "execution_count": 17,
   "id": "215dd1d3-ad92-4ac9-b055-9f51d77a1cdb",
   "metadata": {},
   "outputs": [],
   "source": [
    "df.loc[:, 'lap'] = df.loc[:, 'lap'].astype('category')"
   ]
  },
  {
   "cell_type": "code",
   "execution_count": 18,
   "id": "1a66b318-2d12-4fda-a171-deee4c130284",
   "metadata": {},
   "outputs": [
    {
     "data": {
      "text/plain": [
       "10632889"
      ]
     },
     "execution_count": 18,
     "metadata": {},
     "output_type": "execute_result"
    }
   ],
   "source": [
    "sys.getsizeof(df)"
   ]
  },
  {
   "cell_type": "markdown",
   "id": "0329f4a7-96cd-43dc-ae4b-4d31ed11eb2e",
   "metadata": {},
   "source": [
    "### Create lap time df"
   ]
  },
  {
   "cell_type": "code",
   "execution_count": 19,
   "id": "075b1743-b4ea-4080-915f-4b48d9a5c16f",
   "metadata": {},
   "outputs": [
    {
     "data": {
      "text/html": [
       "<div>\n",
       "<style scoped>\n",
       "    .dataframe tbody tr th:only-of-type {\n",
       "        vertical-align: middle;\n",
       "    }\n",
       "\n",
       "    .dataframe tbody tr th {\n",
       "        vertical-align: top;\n",
       "    }\n",
       "\n",
       "    .dataframe thead th {\n",
       "        text-align: right;\n",
       "    }\n",
       "</style>\n",
       "<table border=\"1\" class=\"dataframe\">\n",
       "  <thead>\n",
       "    <tr style=\"text-align: right;\">\n",
       "      <th></th>\n",
       "      <th>max</th>\n",
       "      <th>min</th>\n",
       "    </tr>\n",
       "    <tr>\n",
       "      <th>lap</th>\n",
       "      <th></th>\n",
       "      <th></th>\n",
       "    </tr>\n",
       "  </thead>\n",
       "  <tbody>\n",
       "    <tr>\n",
       "      <th>1</th>\n",
       "      <td>167.090805</td>\n",
       "      <td>121.135399</td>\n",
       "    </tr>\n",
       "    <tr>\n",
       "      <th>2</th>\n",
       "      <td>208.794800</td>\n",
       "      <td>167.140594</td>\n",
       "    </tr>\n",
       "    <tr>\n",
       "      <th>3</th>\n",
       "      <td>250.900101</td>\n",
       "      <td>208.844696</td>\n",
       "    </tr>\n",
       "    <tr>\n",
       "      <th>4</th>\n",
       "      <td>293.141602</td>\n",
       "      <td>250.950897</td>\n",
       "    </tr>\n",
       "    <tr>\n",
       "      <th>5</th>\n",
       "      <td>335.045807</td>\n",
       "      <td>293.192108</td>\n",
       "    </tr>\n",
       "  </tbody>\n",
       "</table>\n",
       "</div>"
      ],
      "text/plain": [
       "            max         min\n",
       "lap                        \n",
       "1    167.090805  121.135399\n",
       "2    208.794800  167.140594\n",
       "3    250.900101  208.844696\n",
       "4    293.141602  250.950897\n",
       "5    335.045807  293.192108"
      ]
     },
     "execution_count": 19,
     "metadata": {},
     "output_type": "execute_result"
    }
   ],
   "source": [
    "laps = pd.DataFrame(df.groupby(by='lap')['time'].describe()[['max', 'min']])\n",
    "laps.head()"
   ]
  },
  {
   "cell_type": "code",
   "execution_count": 20,
   "id": "62e97abe-0e14-488c-8078-0ea7e456bffd",
   "metadata": {},
   "outputs": [
    {
     "data": {
      "text/plain": [
       "count    50.000000\n",
       "mean     41.664898\n",
       "std       0.985650\n",
       "min      40.453003\n",
       "25%      41.162933\n",
       "50%      41.580505\n",
       "75%      41.906487\n",
       "max      45.955406\n",
       "Name: lap_time, dtype: float64"
      ]
     },
     "execution_count": 20,
     "metadata": {},
     "output_type": "execute_result"
    }
   ],
   "source": [
    "laps['lap_time'] = laps['max'] - laps['min']\n",
    "laps['lap_time'].describe()"
   ]
  },
  {
   "cell_type": "code",
   "execution_count": 21,
   "id": "cadc2c77-cea6-4b5c-9b42-d1795b26df65",
   "metadata": {},
   "outputs": [
    {
     "data": {
      "image/png": "[encoded data removed]",
      "text/plain": [
       "<Figure size 720x720 with 2 Axes>"
      ]
     },
     "metadata": {
      "needs_background": "light"
     },
     "output_type": "display_data"
    }
   ],
   "source": [
    "fig, ax = plt.subplots(2, 1, figsize=(10,10))\n",
    "plt.suptitle('Distribution of Lap Times in Seconds', size=15)\n",
    "ax[0] = sns.histplot(x='lap_time', data=laps, bins=50, ax=ax[0])\n",
    "ax[0].set_xlabel('Lap Time (Seconds)', size=12)\n",
    "ax[1] = sns.boxplot(x='lap_time', data=laps, ax=ax[1])\n",
    "ax[1].set_xlabel('Lap Time (Seconds)', size=12)\n",
    "plt.tight_layout();"
   ]
  },
  {
   "cell_type": "code",
   "execution_count": 22,
   "id": "7e5f22ea-0cee-43b3-a0ca-8bd19fbe7aaa",
   "metadata": {},
   "outputs": [
    {
     "data": {
      "text/plain": [
       "2"
      ]
     },
     "execution_count": 22,
     "metadata": {},
     "output_type": "execute_result"
    }
   ],
   "source": [
    "len(laps[laps['lap_time']>43])"
   ]
  },
  {
   "cell_type": "markdown",
   "id": "39c227af-d0fa-477e-bde8-db67b96604e7",
   "metadata": {},
   "source": [
    "### Add lap times to df to make sorting easier"
   ]
  },
  {
   "cell_type": "code",
   "execution_count": 23,
   "id": "ee53e9ef-758e-41f5-8457-501845068272",
   "metadata": {},
   "outputs": [],
   "source": [
    "df = pd.merge(left=df, right=laps['lap_time'], left_on='lap', right_index=True).copy()"
   ]
  },
  {
   "cell_type": "markdown",
   "id": "521fb563-8080-4179-bf97-ca89f096cfcd",
   "metadata": {
    "tags": []
   },
   "source": [
    "### Cut laps longer than 43 seconds"
   ]
  },
  {
   "cell_type": "code",
   "execution_count": 24,
   "id": "451d371a-efbc-446e-b187-9a4fa25207de",
   "metadata": {},
   "outputs": [
    {
     "data": {
      "text/plain": [
       "(39880, 27)"
      ]
     },
     "execution_count": 24,
     "metadata": {},
     "output_type": "execute_result"
    }
   ],
   "source": [
    "df = df.loc[df['lap_time'] < 43, :].copy()\n",
    "df.drop(columns=['lap', 'time'], inplace=True)\n",
    "df.shape"
   ]
  },
  {
   "cell_type": "code",
   "execution_count": 25,
   "id": "f4186d04-64b6-4a1c-a0e2-a70128d1b17c",
   "metadata": {},
   "outputs": [
    {
     "data": {
      "image/png": "[encoded data removed]",
      "text/plain": [
       "<Figure size 720x720 with 2 Axes>"
      ]
     },
     "metadata": {
      "needs_background": "light"
     },
     "output_type": "display_data"
    }
   ],
   "source": [
    "fig, ax = plt.subplots(2, 1, figsize=(10,10))\n",
    "plt.suptitle('Distribution of Lap Times in Seconds', size=15)\n",
    "ax[0] = sns.histplot(x='lap_time', data=laps.loc[laps['lap_time'] < 43], bins=50, ax=ax[0])\n",
    "ax[0].set_xlabel('Lap Time (Seconds)', size=12)\n",
    "ax[1] = sns.boxplot(x='lap_time', data=laps.loc[laps['lap_time'] < 43], ax=ax[1])\n",
    "ax[1].set_xlabel('Lap Time (Seconds)', size=12)\n",
    "plt.tight_layout();"
   ]
  },
  {
   "cell_type": "code",
   "execution_count": 26,
   "id": "b7e3df23-e03d-4c6b-a14b-00995419822f",
   "metadata": {},
   "outputs": [],
   "source": [
    "laps = laps.loc[laps['lap_time'] < 43]"
   ]
  },
  {
   "cell_type": "code",
   "execution_count": 27,
   "id": "4dca7a55-9e41-43b4-a4c6-5652b87d879a",
   "metadata": {},
   "outputs": [
    {
     "data": {
      "text/plain": [
       "count    48.000000\n",
       "mean     41.491364\n",
       "std       0.493268\n",
       "min      40.453003\n",
       "25%      41.150848\n",
       "50%      41.504456\n",
       "75%      41.866501\n",
       "max      42.444885\n",
       "Name: lap_time, dtype: float64"
      ]
     },
     "execution_count": 27,
     "metadata": {},
     "output_type": "execute_result"
    }
   ],
   "source": [
    "laps['lap_time'].describe()"
   ]
  },
  {
   "cell_type": "markdown",
   "id": "999f2a80-ccf2-4f07-8c75-b5e966f735fd",
   "metadata": {},
   "source": [
    "### Save Telemetry Data\n",
    "\n",
    "Doing so after cutting laps."
   ]
  },
  {
   "cell_type": "code",
   "execution_count": 28,
   "id": "9aa184d7-4647-417b-8352-d875bcd99e35",
   "metadata": {},
   "outputs": [
    {
     "data": {
      "text/html": [
       "<div>\n",
       "<style scoped>\n",
       "    .dataframe tbody tr th:only-of-type {\n",
       "        vertical-align: middle;\n",
       "    }\n",
       "\n",
       "    .dataframe tbody tr th {\n",
       "        vertical-align: top;\n",
       "    }\n",
       "\n",
       "    .dataframe thead th {\n",
       "        text-align: right;\n",
       "    }\n",
       "</style>\n",
       "<table border=\"1\" class=\"dataframe\">\n",
       "  <thead>\n",
       "    <tr style=\"text-align: right;\">\n",
       "      <th></th>\n",
       "      <th>accel_x</th>\n",
       "      <th>accel_y</th>\n",
       "      <th>accel_z</th>\n",
       "      <th>gyro_x</th>\n",
       "      <th>gyro_y</th>\n",
       "      <th>gyro_z</th>\n",
       "      <th>vel_x</th>\n",
       "      <th>vel_y</th>\n",
       "      <th>vel_z</th>\n",
       "    </tr>\n",
       "  </thead>\n",
       "  <tbody>\n",
       "    <tr>\n",
       "      <th>count</th>\n",
       "      <td>39880.000000</td>\n",
       "      <td>39880.000000</td>\n",
       "      <td>39880.000000</td>\n",
       "      <td>39880.000000</td>\n",
       "      <td>39880.000000</td>\n",
       "      <td>39880.000000</td>\n",
       "      <td>39880.000000</td>\n",
       "      <td>39880.000000</td>\n",
       "      <td>39880.000000</td>\n",
       "    </tr>\n",
       "    <tr>\n",
       "      <th>mean</th>\n",
       "      <td>-0.000634</td>\n",
       "      <td>-0.001540</td>\n",
       "      <td>-0.002991</td>\n",
       "      <td>0.000011</td>\n",
       "      <td>0.001513</td>\n",
       "      <td>-0.000020</td>\n",
       "      <td>-0.320478</td>\n",
       "      <td>-0.122737</td>\n",
       "      <td>12.591679</td>\n",
       "    </tr>\n",
       "    <tr>\n",
       "      <th>std</th>\n",
       "      <td>1.978954</td>\n",
       "      <td>1.383843</td>\n",
       "      <td>4.338062</td>\n",
       "      <td>0.001205</td>\n",
       "      <td>0.005157</td>\n",
       "      <td>0.001305</td>\n",
       "      <td>0.693201</td>\n",
       "      <td>0.233046</td>\n",
       "      <td>2.431565</td>\n",
       "    </tr>\n",
       "    <tr>\n",
       "      <th>min</th>\n",
       "      <td>-26.138760</td>\n",
       "      <td>-6.612081</td>\n",
       "      <td>-12.642620</td>\n",
       "      <td>-0.012155</td>\n",
       "      <td>-0.021971</td>\n",
       "      <td>-0.010486</td>\n",
       "      <td>-2.875154</td>\n",
       "      <td>-0.731579</td>\n",
       "      <td>6.597733</td>\n",
       "    </tr>\n",
       "    <tr>\n",
       "      <th>25%</th>\n",
       "      <td>-1.111047</td>\n",
       "      <td>-0.952832</td>\n",
       "      <td>-2.693641</td>\n",
       "      <td>-0.000644</td>\n",
       "      <td>-0.000689</td>\n",
       "      <td>-0.000739</td>\n",
       "      <td>-0.863517</td>\n",
       "      <td>-0.346454</td>\n",
       "      <td>10.783140</td>\n",
       "    </tr>\n",
       "    <tr>\n",
       "      <th>50%</th>\n",
       "      <td>0.018060</td>\n",
       "      <td>-0.048896</td>\n",
       "      <td>0.418270</td>\n",
       "      <td>0.000011</td>\n",
       "      <td>0.001672</td>\n",
       "      <td>-0.000001</td>\n",
       "      <td>-0.249171</td>\n",
       "      <td>-0.025066</td>\n",
       "      <td>12.839550</td>\n",
       "    </tr>\n",
       "    <tr>\n",
       "      <th>75%</th>\n",
       "      <td>1.118016</td>\n",
       "      <td>0.913248</td>\n",
       "      <td>3.320777</td>\n",
       "      <td>0.000671</td>\n",
       "      <td>0.005569</td>\n",
       "      <td>0.000699</td>\n",
       "      <td>0.023851</td>\n",
       "      <td>0.060093</td>\n",
       "      <td>14.237900</td>\n",
       "    </tr>\n",
       "    <tr>\n",
       "      <th>max</th>\n",
       "      <td>12.198070</td>\n",
       "      <td>9.264986</td>\n",
       "      <td>10.112000</td>\n",
       "      <td>0.011035</td>\n",
       "      <td>0.014801</td>\n",
       "      <td>0.008177</td>\n",
       "      <td>3.895848</td>\n",
       "      <td>0.737818</td>\n",
       "      <td>18.286360</td>\n",
       "    </tr>\n",
       "  </tbody>\n",
       "</table>\n",
       "</div>"
      ],
      "text/plain": [
       "            accel_x       accel_y       accel_z        gyro_x        gyro_y  \\\n",
       "count  39880.000000  39880.000000  39880.000000  39880.000000  39880.000000   \n",
       "mean      -0.000634     -0.001540     -0.002991      0.000011      0.001513   \n",
       "std        1.978954      1.383843      4.338062      0.001205      0.005157   \n",
       "min      -26.138760     -6.612081    -12.642620     -0.012155     -0.021971   \n",
       "25%       -1.111047     -0.952832     -2.693641     -0.000644     -0.000689   \n",
       "50%        0.018060     -0.048896      0.418270      0.000011      0.001672   \n",
       "75%        1.118016      0.913248      3.320777      0.000671      0.005569   \n",
       "max       12.198070      9.264986     10.112000      0.011035      0.014801   \n",
       "\n",
       "             gyro_z         vel_x         vel_y         vel_z  \n",
       "count  39880.000000  39880.000000  39880.000000  39880.000000  \n",
       "mean      -0.000020     -0.320478     -0.122737     12.591679  \n",
       "std        0.001305      0.693201      0.233046      2.431565  \n",
       "min       -0.010486     -2.875154     -0.731579      6.597733  \n",
       "25%       -0.000739     -0.863517     -0.346454     10.783140  \n",
       "50%       -0.000001     -0.249171     -0.025066     12.839550  \n",
       "75%        0.000699      0.023851      0.060093     14.237900  \n",
       "max        0.008177      3.895848      0.737818     18.286360  "
      ]
     },
     "execution_count": 28,
     "metadata": {},
     "output_type": "execute_result"
    }
   ],
   "source": [
    "X_telem = df[telemetry_columns]\n",
    "X_telem.describe()"
   ]
  },
  {
   "cell_type": "code",
   "execution_count": 29,
   "id": "fe83d2a6-c735-4c18-a828-10fab5a412f0",
   "metadata": {},
   "outputs": [],
   "source": [
    "## Save as pickle\n",
    "X_telem.to_pickle(input_telem_dataset_file)"
   ]
  },
  {
   "cell_type": "markdown",
   "id": "58c7f1e7-6fba-4dd2-a05d-cbb011c9c123",
   "metadata": {},
   "source": [
    "## Image Data"
   ]
  },
  {
   "cell_type": "code",
   "execution_count": 30,
   "id": "ec8520e0-50ad-4cd7-b7f1-3ba0002f7a9c",
   "metadata": {},
   "outputs": [],
   "source": [
    "df = df[['steering', 'throttle', 'image', ]]"
   ]
  },
  {
   "cell_type": "markdown",
   "id": "0f0fbca1-3f08-426e-9d1e-09d740aea3b0",
   "metadata": {},
   "source": [
    "### Verify Files"
   ]
  },
  {
   "cell_type": "code",
   "execution_count": 31,
   "id": "5d5e6efd-727f-4d33-9f2f-eb2a6ccc9bbc",
   "metadata": {},
   "outputs": [
    {
     "data": {
      "text/plain": [
       "['728.8884.PNG',\n",
       " '707.2343.PNG',\n",
       " '2182.287.PNG',\n",
       " '1997.448.PNG',\n",
       " '687.8996.PNG']"
      ]
     },
     "execution_count": 31,
     "metadata": {},
     "output_type": "execute_result"
    }
   ],
   "source": [
    "## Verify Files\n",
    "os.listdir(local_image_directory)[:5]"
   ]
  },
  {
   "cell_type": "markdown",
   "id": "e76833b4-bd2f-42b3-b6d1-113ad4be16ed",
   "metadata": {},
   "source": [
    "## Create Image Array"
   ]
  },
  {
   "cell_type": "code",
   "execution_count": 32,
   "id": "51150f73-c1ab-4b99-8fcc-a49b780d94dc",
   "metadata": {},
   "outputs": [],
   "source": [
    "## Using keras, load images as list, adding to a list\n",
    "img_array_list = []\n",
    "for img in df['image']:\n",
    "    img_array_list.append(img_to_array(load_img(f\"{local_image_directory}/{img}\", \n",
    "                                                color_mode='grayscale',))) \n",
    "                                                # target_size=(60, 80))))"
   ]
  },
  {
   "cell_type": "code",
   "execution_count": 33,
   "id": "017ec015-2676-4596-a8bd-a22e5eba096b",
   "metadata": {},
   "outputs": [],
   "source": [
    "## convert list of arrays into a numpy array (of arrays())\n",
    "X_img = np.array(img_array_list)"
   ]
  },
  {
   "cell_type": "markdown",
   "id": "93aa01b0-c708-4e33-ade8-9a4e5a46df08",
   "metadata": {},
   "source": [
    "### Scale Image Data"
   ]
  },
  {
   "cell_type": "code",
   "execution_count": 34,
   "id": "7625abad-29d6-4be5-bc98-7af219827ed6",
   "metadata": {},
   "outputs": [],
   "source": [
    "X_img /= 255"
   ]
  },
  {
   "cell_type": "markdown",
   "id": "a3b9c6dc-97b5-4118-b27c-ef73d1f107e7",
   "metadata": {},
   "source": [
    "## Create Datasets"
   ]
  },
  {
   "cell_type": "markdown",
   "id": "c962648f-409c-427a-8034-6faa9e086edb",
   "metadata": {},
   "source": [
    "### Create Targets"
   ]
  },
  {
   "cell_type": "code",
   "execution_count": 35,
   "id": "7fa02d0b-5894-4417-820c-9506d8c748b7",
   "metadata": {},
   "outputs": [
    {
     "name": "stdout",
     "output_type": "stream",
     "text": [
      "X.shape: (39880, 64, 64, 1)\n",
      "y.shape: (39880, 2)\n"
     ]
    }
   ],
   "source": [
    "## Target: throttle and steering data\n",
    "# y = df.drop(columns=['image']).to_numpy().copy()\n",
    "y = df.loc[:, ['steering', 'throttle']].to_numpy().copy()\n",
    "\n",
    "## Verify size\n",
    "print(f'X.shape: {X_img.shape}')\n",
    "print(f'y.shape: {y.shape}')"
   ]
  },
  {
   "cell_type": "markdown",
   "id": "ce504a00-93ee-45d7-85d4-1b7e07f83f98",
   "metadata": {},
   "source": [
    "### Save Datasets"
   ]
  },
  {
   "cell_type": "code",
   "execution_count": 36,
   "id": "92c3dde5-8447-42b0-a246-f2d2b384dd93",
   "metadata": {},
   "outputs": [],
   "source": [
    "## Save as binary NumPy .npy format\n",
    "with open(input_image_dataset_file, 'wb') as X_out:\n",
    "    np.save(file=X_out, arr=X_img)\n",
    "with open(target_dataset_file, 'wb') as y_out:\n",
    "    np.save(file=y_out, arr=y)"
   ]
  }
 ],
 "metadata": {
  "kernelspec": {
   "display_name": "Python 3 (ipykernel)",
   "language": "python",
   "name": "python3"
  },
  "language_info": {
   "codemirror_mode": {
    "name": "ipython",
    "version": 3
   },
   "file_extension": ".py",
   "mimetype": "text/x-python",
   "name": "python",
   "nbconvert_exporter": "python",
   "pygments_lexer": "ipython3",
   "version": "3.9.7"
  }
 },
 "nbformat": 4,
 "nbformat_minor": 5
}
